{
  "nbformat": 4,
  "nbformat_minor": 0,
  "metadata": {
    "kernelspec": {
      "display_name": "Python 3",
      "language": "python",
      "name": "python3"
    },
    "language_info": {
      "codemirror_mode": {
        "name": "ipython",
        "version": 3
      },
      "file_extension": ".py",
      "mimetype": "text/x-python",
      "name": "python",
      "nbconvert_exporter": "python",
      "pygments_lexer": "ipython3",
      "version": "3.7.7"
    },
    "colab": {
      "name": "example_one_bundesland.ipynb",
      "provenance": []
    }
  },
  "cells": [
    {
      "cell_type": "code",
      "metadata": {
        "id": "3i2oAWg57bTg",
        "colab_type": "code",
        "colab": {}
      },
      "source": [
        ""
      ],
      "execution_count": null,
      "outputs": []
    },
    {
      "cell_type": "code",
      "metadata": {
        "id": "NP_n0_Mfdlsm",
        "colab_type": "code",
        "colab": {}
      },
      "source": [
        ""
      ],
      "execution_count": 2,
      "outputs": []
    },
    {
      "cell_type": "markdown",
      "metadata": {
        "id": "9bCy-f_xa_Cv",
        "colab_type": "text"
      },
      "source": [
        "[![Open In Colab](https://colab.research.google.com/assets/colab-badge.svg)](https://colab.research.google.com/github/Priesemann-Group/covid19_inference/blob/model_cleanup/scripts/interactive/example_one_bundesland.ipynb)"
      ]
    },
    {
      "cell_type": "code",
      "metadata": {
        "id": "eQw7UNXua_C0",
        "colab_type": "code",
        "colab": {
          "base_uri": "https://localhost:8080/",
          "height": 458
        },
        "outputId": "27c5a6ad-97f6-43a9-a0a9-5ababa799b0a"
      },
      "source": [
        "!pip install git+https://github.com/Priesemann-Group/covid19_inference.git"
      ],
      "execution_count": 13,
      "outputs": [
        {
          "output_type": "stream",
          "text": [
            "Collecting git+https://github.com/Priesemann-Group/covid19_inference.git\n",
            "  Cloning https://github.com/Priesemann-Group/covid19_inference.git to /tmp/pip-req-build-2z244o2f\n",
            "  Running command git clone -q https://github.com/Priesemann-Group/covid19_inference.git /tmp/pip-req-build-2z244o2f\n",
            "Requirement already satisfied (use --upgrade to upgrade): covid19-inference==0.1.8a0 from git+https://github.com/Priesemann-Group/covid19_inference.git in /usr/local/lib/python3.6/dist-packages\n",
            "Requirement already satisfied: pymc3 in /usr/local/lib/python3.6/dist-packages (from covid19-inference==0.1.8a0) (3.7)\n",
            "Requirement already satisfied: matplotlib in /usr/local/lib/python3.6/dist-packages (from covid19-inference==0.1.8a0) (3.2.2)\n",
            "Requirement already satisfied: numpy in /usr/local/lib/python3.6/dist-packages (from covid19-inference==0.1.8a0) (1.18.5)\n",
            "Requirement already satisfied: pandas in /usr/local/lib/python3.6/dist-packages (from covid19-inference==0.1.8a0) (1.0.5)\n",
            "Requirement already satisfied: theano in /usr/local/lib/python3.6/dist-packages (from covid19-inference==0.1.8a0) (1.0.5)\n",
            "Requirement already satisfied: patsy>=0.4.0 in /usr/local/lib/python3.6/dist-packages (from pymc3->covid19-inference==0.1.8a0) (0.5.1)\n",
            "Requirement already satisfied: tqdm>=4.8.4 in /usr/local/lib/python3.6/dist-packages (from pymc3->covid19-inference==0.1.8a0) (4.41.1)\n",
            "Requirement already satisfied: scipy>=0.18.1 in /usr/local/lib/python3.6/dist-packages (from pymc3->covid19-inference==0.1.8a0) (1.4.1)\n",
            "Requirement already satisfied: h5py>=2.7.0 in /usr/local/lib/python3.6/dist-packages (from pymc3->covid19-inference==0.1.8a0) (2.10.0)\n",
            "Requirement already satisfied: cycler>=0.10 in /usr/local/lib/python3.6/dist-packages (from matplotlib->covid19-inference==0.1.8a0) (0.10.0)\n",
            "Requirement already satisfied: pyparsing!=2.0.4,!=2.1.2,!=2.1.6,>=2.0.1 in /usr/local/lib/python3.6/dist-packages (from matplotlib->covid19-inference==0.1.8a0) (2.4.7)\n",
            "Requirement already satisfied: python-dateutil>=2.1 in /usr/local/lib/python3.6/dist-packages (from matplotlib->covid19-inference==0.1.8a0) (2.8.1)\n",
            "Requirement already satisfied: kiwisolver>=1.0.1 in /usr/local/lib/python3.6/dist-packages (from matplotlib->covid19-inference==0.1.8a0) (1.2.0)\n",
            "Requirement already satisfied: pytz>=2017.2 in /usr/local/lib/python3.6/dist-packages (from pandas->covid19-inference==0.1.8a0) (2018.9)\n",
            "Requirement already satisfied: six>=1.9.0 in /usr/local/lib/python3.6/dist-packages (from theano->covid19-inference==0.1.8a0) (1.15.0)\n",
            "Building wheels for collected packages: covid19-inference\n",
            "  Building wheel for covid19-inference (setup.py) ... \u001b[?25l\u001b[?25hdone\n",
            "  Created wheel for covid19-inference: filename=covid19_inference-0.1.8a0-cp36-none-any.whl size=103637 sha256=07b282553da9a3a84d741f893c5f45e463351ab1c514e432f87c2345fa363d29\n",
            "  Stored in directory: /tmp/pip-ephem-wheel-cache-rg4g4h5f/wheels/da/f1/e7/da56ba4fe019b70927b4bb10088f02f672b31b69fd54a6e613\n",
            "Successfully built covid19-inference\n"
          ],
          "name": "stdout"
        }
      ]
    },
    {
      "cell_type": "markdown",
      "metadata": {
        "id": "aaw_BB3ea_DI",
        "colab_type": "text"
      },
      "source": [
        "\n",
        "<!-- \n",
        "1.   List item\n",
        "2.   List item -->\n",
        "\n",
        "\n",
        "\n",
        "# Bayesian Inference of Ghana Covid 19 Data\n",
        "Non-hierarchical model using jhu data.\n",
        "\n",
        "Runtime ~ 15 min\n",
        "\n",
        "The first thing we need to do is import some essential stuff. Theses have to be installed and are prerequisites.\n"
      ]
    },
    {
      "cell_type": "code",
      "metadata": {
        "id": "Cbbt4TKGa_DQ",
        "colab_type": "code",
        "colab": {}
      },
      "source": [
        "import datetime\n",
        "import time as time_module\n",
        "import sys\n",
        "import pandas as pd\n",
        "import numpy as np\n",
        "import matplotlib as mpl\n",
        "import matplotlib.pyplot as plt\n",
        "import scipy.stats\n",
        "import theano\n",
        "import theano.tensor as tt\n",
        "import pymc3 as pm"
      ],
      "execution_count": 14,
      "outputs": []
    },
    {
      "cell_type": "code",
      "metadata": {
        "id": "JIaH42DFa_Df",
        "colab_type": "code",
        "colab": {}
      },
      "source": [
        "# Now to the fun stuff, we import our module!\n",
        "try:\n",
        "    import covid19_inference as cov19\n",
        "except ModuleNotFoundError:\n",
        "    sys.path.append(\"../../\")\n",
        "    import covid19_inference as cov19"
      ],
      "execution_count": 15,
      "outputs": []
    },
    {
      "cell_type": "markdown",
      "metadata": {
        "id": "5V4Oi8moa_Dt",
        "colab_type": "text"
      },
      "source": [
        "\n",
        "## Data retrieval\n",
        "\n",
        "The next thing we want to do is load a dataset from somewhere.\n",
        "There are multiple download sources which can be found [here](https://covid19-inference.readthedocs.io/en/latest/doc/data_retrieval.html).\n",
        "In this example we will use the RKI dataset.\n"
      ]
    },
    {
      "cell_type": "code",
      "metadata": {
        "id": "DGzUmNpna_Dv",
        "colab_type": "code",
        "colab": {}
      },
      "source": [
        "# rki = cov19.data_retrieval.RKI()  # It is important to download the dataset!\n",
        "# rki.download_all_available_data()\n",
        "# # One could also parse True to the constructor of the class to force an auto download"
      ],
      "execution_count": 16,
      "outputs": []
    },
    {
      "cell_type": "code",
      "metadata": {
        "id": "0AZjUAqZbfM-",
        "colab_type": "code",
        "colab": {}
      },
      "source": [
        "### Use John Hopkins Database"
      ],
      "execution_count": 17,
      "outputs": []
    },
    {
      "cell_type": "code",
      "metadata": {
        "id": "wMUxa0F4bXY0",
        "colab_type": "code",
        "colab": {
          "base_uri": "https://localhost:8080/",
          "height": 35
        },
        "outputId": "baa14031-09b2-469f-8c22-1cb222267dda"
      },
      "source": [
        "jhu = cov19.data_retrieval.JHU()  # It is important to download the dataset!\n",
        "jhu.download_all_available_data()\n",
        "# One could also parse True to the constructor of the class to force an auto download"
      ],
      "execution_count": 18,
      "outputs": [
        {
          "output_type": "stream",
          "text": [
            "INFO     [covid19_inference.data_retrieval._JHU] Successfully loaded data from local\n"
          ],
          "name": "stderr"
        }
      ]
    },
    {
      "cell_type": "markdown",
      "metadata": {
        "id": "PUF6K5HKa_D9",
        "colab_type": "text"
      },
      "source": [
        "\n",
        "\n",
        "We can now access this downloaded data by the attribute\n",
        "```\n",
        "rki.data\n",
        "```\n",
        "but normally one would use the build in filter methods,\n",
        "these can be found [here](https://covid19-inference.readthedocs.io/en/latest/doc/data_retrieval.html#covid19_inference.data_retrieval.JHU.get_new).\n",
        "\n",
        "Next we retrieve the filtered data from our source in this example we will get all new cases and the total (cumulative) cases for the bundesland \"Sachsen\".\n"
      ]
    },
    {
      "cell_type": "markdown",
      "metadata": {
        "id": "tMHDX_wy3eYP",
        "colab_type": "text"
      },
      "source": [
        "Get total confirmed case for Ghana"
      ]
    },
    {
      "cell_type": "code",
      "metadata": {
        "id": "XCUYG9lYSd-k",
        "colab_type": "code",
        "colab": {}
      },
      "source": [
        "bd = datetime.datetime(2020, 3, 14)  # For the date filter\n",
        "ed = datetime.datetime.now() "
      ],
      "execution_count": 19,
      "outputs": []
    },
    {
      "cell_type": "code",
      "metadata": {
        "id": "pgkprrj6b3oa",
        "colab_type": "code",
        "colab": {}
      },
      "source": [
        "ghana_covid_record = jhu.get_total_confirmed_deaths_recovered(country='Ghana', begin_date= bd, end_date=ed)"
      ],
      "execution_count": 20,
      "outputs": []
    },
    {
      "cell_type": "markdown",
      "metadata": {
        "id": "V44zFA523kf0",
        "colab_type": "text"
      },
      "source": [
        "Get new cases for Ghana"
      ]
    },
    {
      "cell_type": "code",
      "metadata": {
        "id": "xT76JLzA4Iem",
        "colab_type": "code",
        "colab": {}
      },
      "source": [
        "ghana_covid_new_cases = jhu.get_new(country = \"Ghana\", data_begin= bd, data_end=ed)"
      ],
      "execution_count": 21,
      "outputs": []
    },
    {
      "cell_type": "markdown",
      "metadata": {
        "id": "ZlvzIFyebBiE",
        "colab_type": "text"
      },
      "source": [
        "## Preprocess the data"
      ]
    },
    {
      "cell_type": "code",
      "metadata": {
        "id": "CkfgT4Bj1j8t",
        "colab_type": "code",
        "colab": {}
      },
      "source": [
        "ghana_covid_100_above_record = ghana_covid_record[ghana_covid_record.confirmed >=100]['confirmed']"
      ],
      "execution_count": 25,
      "outputs": []
    },
    {
      "cell_type": "code",
      "metadata": {
        "id": "8kNrXcBc3OjY",
        "colab_type": "code",
        "colab": {
          "base_uri": "https://localhost:8080/",
          "height": 256
        },
        "outputId": "2b211e55-0569-4d3f-c04c-daa800d52ade"
      },
      "source": [
        "ghana_covid_100_above_record"
      ],
      "execution_count": 26,
      "outputs": [
        {
          "output_type": "execute_result",
          "data": {
            "text/plain": [
              "date\n",
              "2020-03-26      132\n",
              "2020-03-27      137\n",
              "2020-03-28      141\n",
              "2020-03-29      152\n",
              "2020-03-30      152\n",
              "              ...  \n",
              "2020-08-01    37014\n",
              "2020-08-02    37014\n",
              "2020-08-03    37812\n",
              "2020-08-04    37812\n",
              "2020-08-05    39075\n",
              "Name: confirmed, Length: 133, dtype: int64"
            ]
          },
          "metadata": {
            "tags": []
          },
          "execution_count": 26
        }
      ]
    },
    {
      "cell_type": "code",
      "metadata": {
        "id": "mm7IxUiLNW1K",
        "colab_type": "code",
        "colab": {
          "base_uri": "https://localhost:8080/",
          "height": 146
        },
        "outputId": "fe828cb4-3421-4e31-a9fc-e7d7ee959e95"
      },
      "source": [
        "ghana_covid_new_cases.head(5)"
      ],
      "execution_count": 27,
      "outputs": [
        {
          "output_type": "execute_result",
          "data": {
            "text/plain": [
              "date\n",
              "2020-03-14    3\n",
              "2020-03-15    3\n",
              "2020-03-16    0\n",
              "2020-03-17    1\n",
              "2020-03-18    0\n",
              "Name: confirmed, dtype: int64"
            ]
          },
          "metadata": {
            "tags": []
          },
          "execution_count": 27
        }
      ]
    },
    {
      "cell_type": "markdown",
      "metadata": {
        "id": "f7SAKSU1aU5X",
        "colab_type": "text"
      },
      "source": [
        "- Check for dates with NAN values in dates\n",
        "\n",
        "<!-- > Indented block -->\n",
        "\n"
      ]
    },
    {
      "cell_type": "code",
      "metadata": {
        "id": "RyZohvdbcAxy",
        "colab_type": "code",
        "colab": {
          "base_uri": "https://localhost:8080/",
          "height": 35
        },
        "outputId": "9b8a8fed-310b-4349-c8fd-a060c7467276"
      },
      "source": [
        "ghana_covid_100_above_record.index.isnull().any()"
      ],
      "execution_count": 28,
      "outputs": [
        {
          "output_type": "execute_result",
          "data": {
            "text/plain": [
              "False"
            ]
          },
          "metadata": {
            "tags": []
          },
          "execution_count": 28
        }
      ]
    },
    {
      "cell_type": "code",
      "metadata": {
        "id": "p4HLX1jgcY_V",
        "colab_type": "code",
        "colab": {
          "base_uri": "https://localhost:8080/",
          "height": 35
        },
        "outputId": "9d97af75-2b13-4689-bbf4-c65ff4705b41"
      },
      "source": [
        "ghana_covid_100_above_record.index.isnull().any()"
      ],
      "execution_count": 29,
      "outputs": [
        {
          "output_type": "execute_result",
          "data": {
            "text/plain": [
              "False"
            ]
          },
          "metadata": {
            "tags": []
          },
          "execution_count": 29
        }
      ]
    },
    {
      "cell_type": "markdown",
      "metadata": {
        "id": "voOXYaJ-dog8",
        "colab_type": "text"
      },
      "source": [
        "There are no missing dates"
      ]
    },
    {
      "cell_type": "markdown",
      "metadata": {
        "id": "MyTLVJ1QdtkC",
        "colab_type": "text"
      },
      "source": [
        "## Split data into train and validate sets\n",
        "\n",
        "> Train set\n",
        "\n"
      ]
    },
    {
      "cell_type": "code",
      "metadata": {
        "id": "hXXA5UsedzUO",
        "colab_type": "code",
        "colab": {
          "base_uri": "https://localhost:8080/",
          "height": 256
        },
        "outputId": "bb350c68-0e0e-4f44-8a1e-d2ca5b46a323"
      },
      "source": [
        "july_25 = ghana_covid_100_above_record[ghana_covid_100_above_record.index == \"2020-07-25\"].index[0]\n",
        "start = ghana_covid_100_above_record.head(1).index[0]\n",
        "train_ghana = ghana_covid_100_above_record.loc[start:july_25]\n",
        "train_ghana"
      ],
      "execution_count": 30,
      "outputs": [
        {
          "output_type": "execute_result",
          "data": {
            "text/plain": [
              "date\n",
              "2020-03-26      132\n",
              "2020-03-27      137\n",
              "2020-03-28      141\n",
              "2020-03-29      152\n",
              "2020-03-30      152\n",
              "              ...  \n",
              "2020-07-21    28989\n",
              "2020-07-22    29672\n",
              "2020-07-23    29672\n",
              "2020-07-24    31057\n",
              "2020-07-25    31851\n",
              "Name: confirmed, Length: 122, dtype: int64"
            ]
          },
          "metadata": {
            "tags": []
          },
          "execution_count": 30
        }
      ]
    },
    {
      "cell_type": "markdown",
      "metadata": {
        "id": "i8oxEsTFfIRE",
        "colab_type": "text"
      },
      "source": [
        "> Validate Set"
      ]
    },
    {
      "cell_type": "code",
      "metadata": {
        "id": "dqFeR1FAd0bG",
        "colab_type": "code",
        "colab": {
          "base_uri": "https://localhost:8080/",
          "height": 274
        },
        "outputId": "40bc1241-a967-4e46-dd85-953adabda19f"
      },
      "source": [
        "validate_ghana = ghana_covid_100_above_record.loc[july_25:]\n",
        "validate_ghana"
      ],
      "execution_count": 31,
      "outputs": [
        {
          "output_type": "execute_result",
          "data": {
            "text/plain": [
              "date\n",
              "2020-07-25    31851\n",
              "2020-07-26    32969\n",
              "2020-07-27    33624\n",
              "2020-07-28    34406\n",
              "2020-07-29    35142\n",
              "2020-07-30    35142\n",
              "2020-07-31    35501\n",
              "2020-08-01    37014\n",
              "2020-08-02    37014\n",
              "2020-08-03    37812\n",
              "2020-08-04    37812\n",
              "2020-08-05    39075\n",
              "Name: confirmed, dtype: int64"
            ]
          },
          "metadata": {
            "tags": []
          },
          "execution_count": 31
        }
      ]
    },
    {
      "cell_type": "markdown",
      "metadata": {
        "id": "tazdbY5if-PK",
        "colab_type": "text"
      },
      "source": [
        "### Plot training data"
      ]
    },
    {
      "cell_type": "code",
      "metadata": {
        "id": "LM3hDGY6iO7x",
        "colab_type": "code",
        "colab": {
          "base_uri": "https://localhost:8080/",
          "height": 526
        },
        "outputId": "d2271c4d-53cd-41e1-ed5d-414f9311c8f9"
      },
      "source": [
        "train_ghana.plot(figsize=(15,8));"
      ],
      "execution_count": 32,
      "outputs": [
        {
          "output_type": "stream",
          "text": [
            "INFO     [numexpr.utils] NumExpr defaulting to 2 threads.\n"
          ],
          "name": "stderr"
        },
        {
          "output_type": "display_data",
          "data": {
            "image/png": "[encoded data removed]",
            "text/plain": [
              "<Figure size 1080x576 with 1 Axes>"
            ]
          },
          "metadata": {
            "tags": [],
            "needs_background": "light"
          }
        }
      ]
    },
    {
      "cell_type": "code",
      "metadata": {
        "id": "5hdIH2owit_6",
        "colab_type": "code",
        "colab": {
          "base_uri": "https://localhost:8080/",
          "height": 520
        },
        "outputId": "d9c7930a-3d22-43ce-98ca-654700850f52"
      },
      "source": [
        "validate_ghana.plot(figsize=(16,8));"
      ],
      "execution_count": 33,
      "outputs": [
        {
          "output_type": "display_data",
          "data": {
            "image/png": "[encoded data removed]",
            "text/plain": [
              "<Figure size 1152x576 with 1 Axes>"
            ]
          },
          "metadata": {
            "tags": [],
            "needs_background": "light"
          }
        }
      ]
    },
    {
      "cell_type": "markdown",
      "metadata": {
        "id": "Eybfi6k4a_EZ",
        "colab_type": "text"
      },
      "source": [
        "\n",
        "\n",
        "## Create the model\n",
        "\n",
        "First we need to set the priors for the change points and other configs.\n"
      ]
    },
    {
      "cell_type": "markdown",
      "metadata": {
        "id": "hkL8Nn3-PH0A",
        "colab_type": "text"
      },
      "source": [
        "### Changepoints\n",
        "\n",
        " - Fisrst covid record\n",
        ">> Begin Date(bd) - March 14, 2020\n",
        "\n",
        "- prior data before mild social distancing began\n",
        ">> Ban major Gatherings — March 15, 2020 \n",
        "\n",
        "-  prior data before strong social distancing began\n",
        ">>  Travel Restrictions — March 17 2020\n",
        "\n",
        "- prior data before contact ban begin\n",
        ">> Partial Lockdown — March 30, 2020-Second Model ( Task 2 g to j) Dates.\n",
        "\n",
        ">>Mask Wearing Mandatory — June 15, \n",
        "2020\n",
        "\n",
        ">>Relaxing the Previous Rules — July 26,  2020\n"
      ]
    },
    {
      "cell_type": "code",
      "metadata": {
        "id": "fTd0eueWa_Ea",
        "colab_type": "code",
        "colab": {}
      },
      "source": [
        "diff_data_sim = 16  # should be significantly larger than the expected delay, in\n",
        "# order to always fit the same number of data points.\n",
        "num_days_forecast = 10"
      ],
      "execution_count": 34,
      "outputs": []
    },
    {
      "cell_type": "code",
      "metadata": {
        "id": "3gyA1t4Ja_Ek",
        "colab_type": "code",
        "colab": {}
      },
      "source": [
        "# We set the priors for the changepoints here\n",
        "prior_date_mild_dist_begin = datetime.datetime(2020, 3, 15)\n",
        "prior_date_strong_dist_begin = datetime.datetime(2020, 3, 17)\n",
        "prior_date_contact_ban_begin = datetime.datetime(2020, 3, 30)"
      ],
      "execution_count": 35,
      "outputs": []
    },
    {
      "cell_type": "code",
      "metadata": {
        "id": "8rsyB8TGa_Eu",
        "colab_type": "code",
        "colab": {}
      },
      "source": [
        "change_points = [\n",
        "    dict(\n",
        "        pr_mean_date_transient=prior_date_mild_dist_begin,\n",
        "        pr_sigma_date_transient=3,\n",
        "        pr_median_lambda=0.2,\n",
        "        pr_sigma_lambda=1,\n",
        "    ),\n",
        "    dict(\n",
        "        pr_mean_date_transient=prior_date_strong_dist_begin,\n",
        "        pr_sigma_date_transient=1.5,\n",
        "        pr_median_lambda=1 / 8,\n",
        "        pr_sigma_lambda=1,\n",
        "    ),\n",
        "    dict(\n",
        "        pr_mean_date_transient=prior_date_contact_ban_begin,\n",
        "        pr_sigma_date_transient=1.5,\n",
        "        pr_median_lambda=1 / 8 / 2,\n",
        "        pr_sigma_lambda=1,\n",
        "    ),\n",
        "]"
      ],
      "execution_count": 36,
      "outputs": []
    },
    {
      "cell_type": "markdown",
      "metadata": {
        "id": "kdW1vk6Fa_E4",
        "colab_type": "text"
      },
      "source": [
        "\n",
        "\n",
        "Next, we create the model! There are default values for most of the function arguments,\n",
        "but we will try to explicitly set all kwargs for the sake of this example.\n"
      ]
    },
    {
      "cell_type": "code",
      "metadata": {
        "id": "-zQajue6a_E6",
        "colab_type": "code",
        "colab": {}
      },
      "source": [
        "params_model = dict(\n",
        "    new_cases_obs=ghana_covid_new_cases[:],\n",
        "    data_begin=bd,\n",
        "    fcast_len=num_days_forecast,\n",
        "    diff_data_sim=diff_data_sim,\n",
        "    N_population=4e6,\n",
        ")\n",
        "# Median of the prior for the delay in case reporting, we assume 10 days\n",
        "pr_delay = 10"
      ],
      "execution_count": 37,
      "outputs": []
    },
    {
      "cell_type": "markdown",
      "metadata": {
        "id": "Ge4wQYlKa_FF",
        "colab_type": "text"
      },
      "source": [
        "\n",
        "\n",
        "The model is specified in a context. Each function in this context\n",
        "has access to the model parameters set.\n"
      ]
    },
    {
      "cell_type": "code",
      "metadata": {
        "id": "x7pkSIpra_FH",
        "colab_type": "code",
        "colab": {
          "base_uri": "https://localhost:8080/",
          "height": 329
        },
        "outputId": "1ef87fe3-d33c-4915-b384-77528a34293f"
      },
      "source": [
        "with cov19.model.Cov19Model(**params_model) as this_model:\n",
        "    # Create the an array of the time dependent infection rate lambda\n",
        "    lambda_t_log = cov19.model.lambda_t_with_sigmoids(\n",
        "        pr_median_lambda_0=0.4,\n",
        "        pr_sigma_lambda_0=0.5,\n",
        "        change_points_list=change_points,  # The change point priors we constructed earlier\n",
        "        name_lambda_t=\"lambda_t\",  # Name for the variable in the trace (see later)\n",
        "    )\n",
        "\n",
        "    # set prior distribution for the recovery rate\n",
        "    mu = pm.Lognormal(name=\"mu\", mu=np.log(1 / 8), sigma=0.2)\n",
        "\n",
        "    # This builds a decorrelated prior for I_begin for faster inference.\n",
        "    # It is not necessary to use it, one can simply remove it and use the default argument\n",
        "    # for pr_I_begin in cov19.SIR\n",
        "    prior_I = cov19.model.uncorrelated_prior_I(\n",
        "        lambda_t_log=lambda_t_log,\n",
        "        mu=mu,\n",
        "        pr_median_delay=pr_delay,\n",
        "        name_I_begin=\"I_begin\",\n",
        "        name_I_begin_ratio_log=\"I_begin_ratio_log\",\n",
        "        pr_sigma_I_begin=2,\n",
        "        n_data_points_used=5,\n",
        "    )\n",
        "\n",
        "    # Use lambda_t_log and mu to run the SIR model\n",
        "    new_cases = cov19.model.SIR(\n",
        "        lambda_t_log=lambda_t_log,\n",
        "        mu=mu,\n",
        "        name_new_I_t=\"new_I_t\",\n",
        "        name_I_t=\"I_t\",\n",
        "        name_I_begin=\"I_begin\",\n",
        "        pr_I_begin=prior_I,\n",
        "    )\n",
        "\n",
        "    # Delay the cases by a lognormal reporting delay\n",
        "    new_cases = cov19.model.delay_cases(\n",
        "        cases=new_cases,\n",
        "        name_cases=\"delayed_cases\",\n",
        "        name_delay=\"delay\",\n",
        "        name_width=\"delay-width\",\n",
        "        pr_mean_of_median=pr_delay,\n",
        "        pr_sigma_of_median=0.2,\n",
        "        pr_median_of_width=0.3,\n",
        "    )\n",
        "\n",
        "    # Modulate the inferred cases by a abs(sin(x)) function, to account for weekend effects\n",
        "    # Also adds the \"new_cases\" variable to the trace that has all model features.\n",
        "    new_cases = cov19.model.week_modulation(\n",
        "        cases=new_cases,\n",
        "        name_cases=\"new_cases\",\n",
        "        name_weekend_factor=\"weekend_factor\",\n",
        "        name_offset_modulation=\"offset_modulation\",\n",
        "        week_modulation_type=\"abs_sine\",\n",
        "        pr_mean_weekend_factor=0.3,\n",
        "        pr_sigma_weekend_factor=0.5,\n",
        "        weekend_days=(6, 7),\n",
        "    )\n",
        "\n",
        "    # Define the likelihood, uses the new_cases_obs set as model parameter\n",
        "    cov19.model.student_t_likelihood(new_cases)"
      ],
      "execution_count": 38,
      "outputs": [
        {
          "output_type": "stream",
          "text": [
            "INFO     [covid19_inference.model.spreading_rate] Lambda_t with sigmoids\n",
            "INFO     [covid19_inference.model.model] pr_median_transient_len was set to default value 4\n",
            "INFO     [covid19_inference.model.model] pr_sigma_transient_len was set to default value 0.5\n",
            "INFO     [covid19_inference.model.model] relative_to_previous was set to default value False\n",
            "INFO     [covid19_inference.model.model] pr_factor_to_previous was set to default value 1\n",
            "INFO     [covid19_inference.model.model] pr_median_transient_len was set to default value 4\n",
            "INFO     [covid19_inference.model.model] pr_sigma_transient_len was set to default value 0.5\n",
            "INFO     [covid19_inference.model.model] relative_to_previous was set to default value False\n",
            "INFO     [covid19_inference.model.model] pr_factor_to_previous was set to default value 1\n",
            "INFO     [covid19_inference.model.model] pr_median_transient_len was set to default value 4\n",
            "INFO     [covid19_inference.model.model] pr_sigma_transient_len was set to default value 0.5\n",
            "INFO     [covid19_inference.model.model] relative_to_previous was set to default value False\n",
            "INFO     [covid19_inference.model.model] pr_factor_to_previous was set to default value 1\n",
            "INFO     [covid19_inference.model.compartmental_models] Uncorrelated prior_I\n",
            "INFO     [covid19_inference.model.compartmental_models] SIR\n",
            "INFO     [covid19_inference.model.delay] Delaying cases\n",
            "INFO     [covid19_inference.model.week_modulation] Week modulation\n"
          ],
          "name": "stderr"
        }
      ]
    },
    {
      "cell_type": "markdown",
      "metadata": {
        "id": "31NlwA3La_FT",
        "colab_type": "text"
      },
      "source": [
        "\n",
        "## MCMC sampling\n",
        "\n",
        "After the model is built, it is sampled using an MCMC sampler.\n",
        "The number of parallel runs can be set with the argument `cores=`.\n",
        "In particular, due to a bug in Theano, Windows users should set `cores=1`.\n",
        "The sampling can take a long time.\n"
      ]
    },
    {
      "cell_type": "code",
      "metadata": {
        "id": "D0-jA2fba_FW",
        "colab_type": "code",
        "colab": {
          "base_uri": "https://localhost:8080/",
          "height": 174
        },
        "outputId": "7ab140a0-8872-479b-9256-bdf661bc0b9c"
      },
      "source": [
        "trace = pm.sample(model=this_model, cores=4, tune=259, draws=500, init=\"advi+adapt_diag\")"
      ],
      "execution_count": 1,
      "outputs": [
        {
          "output_type": "error",
          "ename": "NameError",
          "evalue": "ignored",
          "traceback": [
            "\u001b[0;31m---------------------------------------------------------------------------\u001b[0m",
            "\u001b[0;31mNameError\u001b[0m                                 Traceback (most recent call last)",
            "\u001b[0;32m<ipython-input-1-df0c2f049d46>\u001b[0m in \u001b[0;36m<module>\u001b[0;34m()\u001b[0m\n\u001b[0;32m----> 1\u001b[0;31m \u001b[0mtrace\u001b[0m \u001b[0;34m=\u001b[0m \u001b[0mpm\u001b[0m\u001b[0;34m.\u001b[0m\u001b[0msample\u001b[0m\u001b[0;34m(\u001b[0m\u001b[0mmodel\u001b[0m\u001b[0;34m=\u001b[0m\u001b[0mthis_model\u001b[0m\u001b[0;34m,\u001b[0m \u001b[0mcores\u001b[0m\u001b[0;34m=\u001b[0m\u001b[0;36m4\u001b[0m\u001b[0;34m,\u001b[0m \u001b[0mtune\u001b[0m\u001b[0;34m=\u001b[0m\u001b[0;36m259\u001b[0m\u001b[0;34m,\u001b[0m \u001b[0mdraws\u001b[0m\u001b[0;34m=\u001b[0m\u001b[0;36m500\u001b[0m\u001b[0;34m,\u001b[0m \u001b[0minit\u001b[0m\u001b[0;34m=\u001b[0m\u001b[0;34m\"advi+adapt_diag\"\u001b[0m\u001b[0;34m)\u001b[0m\u001b[0;34m\u001b[0m\u001b[0;34m\u001b[0m\u001b[0m\n\u001b[0m",
            "\u001b[0;31mNameError\u001b[0m: name 'pm' is not defined"
          ]
        }
      ]
    },
    {
      "cell_type": "markdown",
      "metadata": {
        "id": "TY2iq3-0a_Ff",
        "colab_type": "text"
      },
      "source": [
        "\n",
        "## Plotting\n",
        "Plotting tools are rudimentary right now. But one can always write custom plotting function\n",
        "by accessing the samples stored in the trace.\n",
        "\n",
        "### Distributions\n"
      ]
    },
    {
      "cell_type": "code",
      "metadata": {
        "id": "Sb0oAKG77f2Q",
        "colab_type": "code",
        "colab": {
          "base_uri": "https://localhost:8080/",
          "height": 35
        },
        "outputId": "cda1c686-f7ea-41d4-ea49-382c7d2b3e07"
      },
      "source": [
        "trace"
      ],
      "execution_count": 46,
      "outputs": [
        {
          "output_type": "execute_result",
          "data": {
            "text/plain": [
              "<MultiTrace: 8 chains, 60 iterations, 36 variables>"
            ]
          },
          "metadata": {
            "tags": []
          },
          "execution_count": 46
        }
      ]
    },
    {
      "cell_type": "code",
      "metadata": {
        "scrolled": true,
        "id": "mj23HiF4a_Fh",
        "colab_type": "code",
        "colab": {
          "base_uri": "https://localhost:8080/",
          "height": 457
        },
        "outputId": "769f795a-cf12-491b-998a-dbe2ae060c36"
      },
      "source": [
        "fig, axes = plt.subplots(6, 3, figsize=(6, 6.4))\n",
        "varnames = this_model.untransformed_freeRVs\n",
        "print(\"Possible varnames are :\")\n",
        "print(varnames)"
      ],
      "execution_count": 47,
      "outputs": [
        {
          "output_type": "stream",
          "text": [
            "Possible varnames are :\n",
            "['lambda_0_log_', 'lambda_1_log_', 'lambda_2_log_', 'lambda_3_log_', 'transient_day_1', 'transient_day_2', 'transient_day_3', 'transient_len_1_log_', 'transient_len_2_log_', 'transient_len_3_log_', 'mu', 'I_begin_ratio_log', 'delay_log', 'weekend_factor_log', 'offset_modulation_rad_circular__', 'sigma_obs']\n"
          ],
          "name": "stdout"
        },
        {
          "output_type": "display_data",
          "data": {
            "image/png": "[encoded data removed]",
            "text/plain": [
              "<Figure size 432x460.8 with 18 Axes>"
            ]
          },
          "metadata": {
            "tags": [],
            "needs_background": "light"
          }
        }
      ]
    },
    {
      "cell_type": "code",
      "metadata": {
        "id": "LKrVbXhva_Fs",
        "colab_type": "code",
        "colab": {}
      },
      "source": [
        "for i, key in enumerate(\n",
        "    # left column\n",
        "    [\"weekend_factor\", \"mu\", \"lambda_0\", \"lambda_1\", \"lambda_2\", \"lambda_3\"]\n",
        "):\n",
        "    cov19.plot._distribution(this_model, trace, key, ax=axes[i, 0])"
      ],
      "execution_count": 48,
      "outputs": []
    },
    {
      "cell_type": "code",
      "metadata": {
        "id": "d7GFVnqMa_F2",
        "colab_type": "code",
        "colab": {}
      },
      "source": [
        "for i, key in enumerate(\n",
        "    # mid column\n",
        "    [\n",
        "        \"offset_modulation\",\n",
        "        \"sigma_obs\",\n",
        "        \"I_begin\",\n",
        "        \"transient_day_1\",\n",
        "        \"transient_day_2\",\n",
        "        \"transient_day_3\",\n",
        "    ]\n",
        "):\n",
        "    cov19.plot._distribution(this_model, trace, key, ax=axes[i, 1])"
      ],
      "execution_count": 49,
      "outputs": []
    },
    {
      "cell_type": "code",
      "metadata": {
        "id": "eQqIB4Jka_F-",
        "colab_type": "code",
        "colab": {}
      },
      "source": [
        "for i, key in enumerate(\n",
        "    # right column\n",
        "    [\"delay\", \"transient_len_1\", \"transient_len_2\", \"transient_len_3\",]\n",
        "):\n",
        "    cov19.plot._distribution(this_model, trace, key, ax=axes[i + 2, 2])"
      ],
      "execution_count": 50,
      "outputs": []
    },
    {
      "cell_type": "code",
      "metadata": {
        "id": "Qhm9L4Epa_GK",
        "colab_type": "code",
        "colab": {
          "base_uri": "https://localhost:8080/",
          "height": 470
        },
        "outputId": "de2917b4-03d0-4b48-fa1e-0567db5ab762"
      },
      "source": [
        "fig.tight_layout()\n",
        "fig #To print in jupyter notebook"
      ],
      "execution_count": 52,
      "outputs": [
        {
          "output_type": "execute_result",
          "data": {
            "image/png": "[encoded data removed]",
            "text/plain": [
              "<Figure size 432x460.8 with 18 Axes>"
            ]
          },
          "metadata": {
            "tags": []
          },
          "execution_count": 52
        }
      ]
    },
    {
      "cell_type": "markdown",
      "metadata": {
        "id": "EcQ8kJPAa_GU",
        "colab_type": "text"
      },
      "source": [
        "\n",
        "### Timeseries\n",
        "timeseries overview, for now needs an offset variable to get cumulative cases\n"
      ]
    },
    {
      "cell_type": "code",
      "metadata": {
        "id": "uXmFQzr3a_GW",
        "colab_type": "code",
        "colab": {},
        "outputId": "14212248-0be4-4e11-e5d0-e4a76763e54b"
      },
      "source": [
        "fig, axes = cov19.plot.timeseries_overview(this_model, trace, offset=-3000)"
      ],
      "execution_count": null,
      "outputs": [
        {
          "output_type": "display_data",
          "data": {
            "image/png": "[encoded data removed]",
            "text/plain": [
              "<Figure size 432x432 with 3 Axes>"
            ]
          },
          "metadata": {
            "tags": [],
            "needs_background": "light"
          }
        }
      ]
    },
    {
      "cell_type": "code",
      "metadata": {
        "id": "4lLMjSjSa_Gd",
        "colab_type": "code",
        "colab": {}
      },
      "source": [
        ""
      ],
      "execution_count": null,
      "outputs": []
    },
    {
      "cell_type": "code",
      "metadata": {
        "id": "MI8CXGW0byx_",
        "colab_type": "code",
        "colab": {}
      },
      "source": [
        ""
      ],
      "execution_count": null,
      "outputs": []
    },
    {
      "cell_type": "code",
      "metadata": {
        "id": "Dp4tkIJ_1g08",
        "colab_type": "code",
        "colab": {}
      },
      "source": [
        ""
      ],
      "execution_count": null,
      "outputs": []
    },
    {
      "cell_type": "code",
      "metadata": {
        "id": "yWWAOFuDaRTz",
        "colab_type": "code",
        "colab": {}
      },
      "source": [
        ""
      ],
      "execution_count": null,
      "outputs": []
    },
    {
      "cell_type": "code",
      "metadata": {
        "id": "rhBr341wb7kf",
        "colab_type": "code",
        "colab": {}
      },
      "source": [
        ""
      ],
      "execution_count": null,
      "outputs": []
    }
  ]
}