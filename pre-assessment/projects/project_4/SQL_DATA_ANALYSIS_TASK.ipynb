{
 "cells": [
  {
   "cell_type": "markdown",
   "metadata": {},
   "source": [
    "# SQL DATA ANALYSIS TASK"
   ]
  },
  {
   "cell_type": "markdown",
   "metadata": {},
   "source": [
    "# Context\n",
    "Fenix is a company that is in renewable energy. To this end, it sells solar kits to populations who are in need. Customers have the option of paying for the kit in cash or on credit. If the customer chooses to buy on credit, he can choose between one year (360 days) or two years (720). He is then asked to pay an amount per day (daily_rate), this amount depending on the duration of the loan and the type of kit he has chosen and corresponds to a day of light. So every time he pays that amount, he has a day of light. After 24 hours the system hangs and it has to make another payment to take advantage of the light. He can decide to pay for more than one day of light. The day number is then the whole part of the amount / daily rate ratio. After this number of days, the system still locks. When a customer spends more than 30 days without light, he is considered inactive. Paid vs Expected (PvE) means the ratio between the total amount paid by the client and the amount he should have paid up to date. It allows to appreciate the recovery."
   ]
  },
  {
   "cell_type": "markdown",
   "metadata": {},
   "source": [
    "Let's consider the following tables\n",
    "\n",
    "Loan_current_daitails\n",
    "\n",
    "loan_id\t|customer_id|daily_rate|days_elapsed|Days_til_lock_out|Total_paid\n",
    "--------|-----------|----------|------------|-----------------|----------\n",
    "loan_id_1|customer_id_1|daily_rate_1|days_elapsed_1|Days_til_lock_out_1|Total_paid_1\n",
    "loan_id_2|customer_id_2|daily_rate_2|days_elapsed_2|Days_til_lock_out_2|Total_paid_2\n",
    ".........|.............|............|..............|...................|............\n",
    "loan_id_n|customer_id_n\t|daily_rate_n|days_elapsed_n|Days_til_lock_out_n|Total_paid_n\n",
    "\n",
    "\n",
    "Person_democraphic\n",
    "\n",
    "customer_id\t|country|\tregion|\tprofession\n",
    "------------|-------|---------|-----------\n",
    "customer_id_1|\tCountry_1\t|Region_1\t|profession_1\n",
    ".............|\t............|..........\t|............\n",
    "customer_id_j|\tCountry_j|\tRegion_j\t|profession_j\n",
    "\n",
    "\n",
    "Sales_details\n",
    "\n",
    "loan_id\t|Product_type\t|Date_fullfiled\t|loan_duration\n",
    "--------|----------------|--------------|-------------\n",
    "loan_id_1\t|Product_type_1\t|Date_fullfiled_1\t|loan_duration_1\n",
    "...|\t...\t|...\t|...\n",
    "loan_id_n|\tProduct_type_n|\tDate_fullfiled_n|\tloan_duration_n"
   ]
  },
  {
   "cell_type": "markdown",
   "metadata": {},
   "source": [
    "### Tables description\n",
    "\n",
    "* **Loan_id:** unique loan identifier\n",
    "\n",
    "* **Customer_id:** unique customer identifier\n",
    "\n",
    "* **Days_elapsed:** the number of days the client spends with us\n",
    "\n",
    "* **Daily_rate:** expected amount from customer per day\n",
    "\n",
    "* **Days_til_lock_out:** If positive, then corresponds to the number of days of light remaining before the system hangs. If negative, corresponds to the number of days since the system was blocked (the client has been without light since this number of days)\n",
    "\n",
    "* **Total_paid:** total amount to be paid by the customer\n",
    "\n",
    "* **Country:** Customer's country\n",
    "\n",
    "* **Region:** customer department\n",
    "\n",
    "* **Profession:** client's profession\n",
    "\n",
    "* **Product_type:** the type of kit purchased by the customer\n",
    "\n",
    "* **Loan_duration:** the duration of the customer's loan (360 or 720 days)\n",
    "\n",
    "* **Date_fullfiled:** the date of the sale"
   ]
  },
  {
   "cell_type": "markdown",
   "metadata": {},
   "source": [
    "### The datasets\n",
    "The datasets exist in csv formats and can be downloaded and saved on disk"
   ]
  },
  {
   "cell_type": "code",
   "execution_count": 52,
   "metadata": {},
   "outputs": [
    {
     "name": "stdout",
     "output_type": "stream",
     "text": [
      "The sql extension is already loaded. To reload it, use:\n",
      "  %reload_ext sql\n"
     ]
    },
    {
     "data": {
      "text/plain": [
       "'Connected: @testdb.sqlite'"
      ]
     },
     "execution_count": 52,
     "metadata": {},
     "output_type": "execute_result"
    }
   ],
   "source": [
    "%load_ext sql\n",
    "%sql sqlite:///testdb.sqlite"
   ]
  },
  {
   "cell_type": "code",
   "execution_count": 53,
   "metadata": {},
   "outputs": [],
   "source": [
    "%reload_ext sql"
   ]
  },
  {
   "cell_type": "code",
   "execution_count": 54,
   "metadata": {},
   "outputs": [
    {
     "name": "stdout",
     "output_type": "stream",
     "text": [
      " * sqlite:///testdb.sqlite\n",
      "Done.\n",
      "Done.\n",
      "Done.\n"
     ]
    },
    {
     "data": {
      "text/plain": [
       "[]"
      ]
     },
     "execution_count": 54,
     "metadata": {},
     "output_type": "execute_result"
    }
   ],
   "source": [
    "%%sql\n",
    "DROP TABLE IF EXISTS Loan_current_daitails;\n",
    "DROP TABLE IF EXISTS Person_democraphic;\n",
    "DROP TABLE IF EXISTS Sales_details;"
   ]
  },
  {
   "cell_type": "code",
   "execution_count": 55,
   "metadata": {},
   "outputs": [],
   "source": [
    "import pandas as pd\n",
    "import sqlite3\n",
    "\n",
    "conn = sqlite3.connect(\"testdb.sqlite\")\n",
    "cur = conn.cursor()\n",
    "# print(conn.)\n",
    "customers = pd.read_csv('./data/Loan_current_details.csv')\n",
    "orders = pd.read_csv('./data/Person_democraphic.csv')\n",
    "salesman = pd.read_csv('./data/Sales_details.csv')"
   ]
  },
  {
   "cell_type": "code",
   "execution_count": 57,
   "metadata": {},
   "outputs": [
    {
     "data": {
      "text/plain": [
       "<sqlite3.Cursor at 0x7feb2c083960>"
      ]
     },
     "execution_count": 57,
     "metadata": {},
     "output_type": "execute_result"
    }
   ],
   "source": [
    "cur.execute('DROP TABLE IF EXISTS Loan_current_daitails')\n",
    "cur.execute('DROP TABLE IF EXISTS Person_democraphic')\n",
    "cur.execute('DROP TABLE IF EXISTS Sales_details')"
   ]
  },
  {
   "cell_type": "code",
   "execution_count": 58,
   "metadata": {},
   "outputs": [
    {
     "name": "stderr",
     "output_type": "stream",
     "text": [
      "/home/patrick/.local/lib/python3.6/site-packages/pandas/core/generic.py:2663: UserWarning: The spaces in these column names will not be changed. In pandas versions < 0.14, spaces were converted to underscores.\n",
      "  method=method,\n"
     ]
    }
   ],
   "source": [
    "customers.to_sql(\"Loan_current_details\", conn, index=False, if_exists=\"replace\")\n",
    "orders.to_sql(\"Person_democraphic\", conn, index=False, if_exists=\"replace\")\n",
    "salesman.to_sql(\"Sales_details\", conn, index=False, if_exists=\"replace\")"
   ]
  },
  {
   "cell_type": "markdown",
   "metadata": {},
   "source": [
    "> View SQL Tables"
   ]
  },
  {
   "cell_type": "code",
   "execution_count": 60,
   "metadata": {},
   "outputs": [
    {
     "name": "stdout",
     "output_type": "stream",
     "text": [
      " * sqlite:///testdb.sqlite\n",
      "Done.\n"
     ]
    },
    {
     "data": {
      "text/html": [
       "<table>\n",
       "    <tr>\n",
       "        <th>loan_id</th>\n",
       "        <th>product_type</th>\n",
       "        <th>date_fulfilled_utc</th>\n",
       "        <th>Unnamed: 3</th>\n",
       "        <th>Unnamed: 4</th>\n",
       "        <th>Unnamed: 5</th>\n",
       "        <th>Unnamed: 6</th>\n",
       "    </tr>\n",
       "    <tr>\n",
       "        <td>589556</td>\n",
       "        <td>Fenix 3</td>\n",
       "        <td>6/5/19 10:45</td>\n",
       "        <td>None</td>\n",
       "        <td>None</td>\n",
       "        <td>None</td>\n",
       "        <td>None</td>\n",
       "    </tr>\n",
       "</table>"
      ],
      "text/plain": [
       "[(589556, 'Fenix 3', '6/5/19 10:45', None, None, None, None)]"
      ]
     },
     "execution_count": 60,
     "metadata": {},
     "output_type": "execute_result"
    }
   ],
   "source": [
    "%%sql\n",
    "SELECT * FROM Sales_details LIMIT 1"
   ]
  },
  {
   "cell_type": "code",
   "execution_count": 61,
   "metadata": {},
   "outputs": [
    {
     "name": "stdout",
     "output_type": "stream",
     "text": [
      " * sqlite:///testdb.sqlite\n",
      "Done.\n"
     ]
    },
    {
     "data": {
      "text/html": [
       "<table>\n",
       "    <tr>\n",
       "        <th>customer_id</th>\n",
       "        <th>country</th>\n",
       "        <th>region</th>\n",
       "        <th>Profession </th>\n",
       "        <th>Unnamed: 4</th>\n",
       "        <th>Unnamed: 5</th>\n",
       "        <th>Unnamed: 6</th>\n",
       "        <th>Unnamed: 7</th>\n",
       "    </tr>\n",
       "    <tr>\n",
       "        <td>1351176</td>\n",
       "        <td>Benin</td>\n",
       "        <td>Oueme</td>\n",
       "        <td>Tehnician</td>\n",
       "        <td>None</td>\n",
       "        <td>None</td>\n",
       "        <td>None</td>\n",
       "        <td>None</td>\n",
       "    </tr>\n",
       "</table>"
      ],
      "text/plain": [
       "[(1351176, 'Benin', 'Oueme', 'Tehnician', None, None, None, None)]"
      ]
     },
     "execution_count": 61,
     "metadata": {},
     "output_type": "execute_result"
    }
   ],
   "source": [
    "%%sql\n",
    "SELECT * FROM Person_democraphic LIMIT 1"
   ]
  },
  {
   "cell_type": "code",
   "execution_count": 62,
   "metadata": {},
   "outputs": [
    {
     "name": "stdout",
     "output_type": "stream",
     "text": [
      " * sqlite:///testdb.sqlite\n",
      "Done.\n"
     ]
    },
    {
     "data": {
      "text/html": [
       "<table>\n",
       "    <tr>\n",
       "        <th>loan_id</th>\n",
       "        <th>customer_id</th>\n",
       "        <th>daily_rate</th>\n",
       "        <th>days_elapsed</th>\n",
       "        <th>days_til_lockout</th>\n",
       "        <th>total_paid</th>\n",
       "    </tr>\n",
       "    <tr>\n",
       "        <td>589556</td>\n",
       "        <td>1351176</td>\n",
       "        <td>270</td>\n",
       "        <td>265</td>\n",
       "        <td>-13</td>\n",
       "        <td>52355</td>\n",
       "    </tr>\n",
       "</table>"
      ],
      "text/plain": [
       "[(589556, 1351176, 270, 265, -13, 52355)]"
      ]
     },
     "execution_count": 62,
     "metadata": {},
     "output_type": "execute_result"
    }
   ],
   "source": [
    "%%sql\n",
    "SELECT * FROM Loan_current_details LIMIT 1"
   ]
  },
  {
   "cell_type": "markdown",
   "metadata": {},
   "source": [
    "### Write a SQL code to determine the total number of loans on the one hand and the total number of customers on the other"
   ]
  },
  {
   "cell_type": "code",
   "execution_count": 9,
   "metadata": {},
   "outputs": [
    {
     "name": "stdout",
     "output_type": "stream",
     "text": [
      " * sqlite:///testdb.sqlite\n",
      "Done.\n"
     ]
    },
    {
     "data": {
      "text/html": [
       "<table>\n",
       "    <tr>\n",
       "        <th>COUNT(loan_id)</th>\n",
       "    </tr>\n",
       "    <tr>\n",
       "        <td>5000</td>\n",
       "    </tr>\n",
       "</table>"
      ],
      "text/plain": [
       "[(5000,)]"
      ]
     },
     "execution_count": 9,
     "metadata": {},
     "output_type": "execute_result"
    }
   ],
   "source": [
    "%%sql\n",
    "SELECT COUNT(loan_id) FROM Loan_current_details"
   ]
  },
  {
   "cell_type": "markdown",
   "metadata": {},
   "source": [
    "> `5000 Loans` have been underwritten"
   ]
  },
  {
   "cell_type": "code",
   "execution_count": 66,
   "metadata": {},
   "outputs": [
    {
     "name": "stdout",
     "output_type": "stream",
     "text": [
      " * sqlite:///testdb.sqlite\n",
      "Done.\n"
     ]
    },
    {
     "data": {
      "text/html": [
       "<table>\n",
       "    <tr>\n",
       "        <th>COUNT(DISTINCT(customer_id))</th>\n",
       "    </tr>\n",
       "    <tr>\n",
       "        <td>4979</td>\n",
       "    </tr>\n",
       "</table>"
      ],
      "text/plain": [
       "[(4979,)]"
      ]
     },
     "execution_count": 66,
     "metadata": {},
     "output_type": "execute_result"
    }
   ],
   "source": [
    "%%sql\n",
    "SELECT COUNT(DISTINCT(customer_id)) FROM Person_democraphic"
   ]
  },
  {
   "cell_type": "markdown",
   "metadata": {},
   "source": [
    "> There are `4979 customers`"
   ]
  },
  {
   "cell_type": "markdown",
   "metadata": {},
   "source": [
    "### Write a SQL code to determine the total number of loans by type of kit"
   ]
  },
  {
   "cell_type": "code",
   "execution_count": 68,
   "metadata": {},
   "outputs": [
    {
     "name": "stdout",
     "output_type": "stream",
     "text": [
      " * sqlite:///testdb.sqlite\n",
      "Done.\n"
     ]
    },
    {
     "data": {
      "text/html": [
       "<table>\n",
       "    <tr>\n",
       "        <th>kit_type</th>\n",
       "        <th>loan_count</th>\n",
       "    </tr>\n",
       "    <tr>\n",
       "        <td>Fenix 2</td>\n",
       "        <td>841</td>\n",
       "    </tr>\n",
       "    <tr>\n",
       "        <td>Fenix 3</td>\n",
       "        <td>974</td>\n",
       "    </tr>\n",
       "    <tr>\n",
       "        <td>Fenix Power 2+ Tondeuse</td>\n",
       "        <td>18</td>\n",
       "    </tr>\n",
       "    <tr>\n",
       "        <td>Fenix Power 4 + Woofer BJ</td>\n",
       "        <td>35</td>\n",
       "    </tr>\n",
       "    <tr>\n",
       "        <td>Fenix Power TV 19in FTA BJ</td>\n",
       "        <td>14</td>\n",
       "    </tr>\n",
       "    <tr>\n",
       "        <td>Fenix Power TV 19in FTA Upgrade, BJ</td>\n",
       "        <td>28</td>\n",
       "    </tr>\n",
       "    <tr>\n",
       "        <td>Fenix Power TV 24in FTA BJ</td>\n",
       "        <td>634</td>\n",
       "    </tr>\n",
       "    <tr>\n",
       "        <td>Fenix Power TV 24in FTA Upgrade, BJ</td>\n",
       "        <td>177</td>\n",
       "    </tr>\n",
       "    <tr>\n",
       "        <td>Fenix Radio +3</td>\n",
       "        <td>1791</td>\n",
       "    </tr>\n",
       "    <tr>\n",
       "        <td>Fenix Radio +5</td>\n",
       "        <td>422</td>\n",
       "    </tr>\n",
       "    <tr>\n",
       "        <td>Fenix Woofer +3</td>\n",
       "        <td>32</td>\n",
       "    </tr>\n",
       "    <tr>\n",
       "        <td>Fenix Woofer +3 (NEW)</td>\n",
       "        <td>8</td>\n",
       "    </tr>\n",
       "    <tr>\n",
       "        <td>Hors Garantie BJ</td>\n",
       "        <td>14</td>\n",
       "    </tr>\n",
       "    <tr>\n",
       "        <td>Out-of-warranty swap - SmartLife</td>\n",
       "        <td>2</td>\n",
       "    </tr>\n",
       "    <tr>\n",
       "        <td>Upgrade Fenix Boost 2 + Tondeuse</td>\n",
       "        <td>2</td>\n",
       "    </tr>\n",
       "    <tr>\n",
       "        <td>Upgrade Fenix Radio +3</td>\n",
       "        <td>5</td>\n",
       "    </tr>\n",
       "    <tr>\n",
       "        <td>Upgrade Fenix Woofer +1</td>\n",
       "        <td>1</td>\n",
       "    </tr>\n",
       "    <tr>\n",
       "        <td>Upgrade Fenix Woofer+2 BJ</td>\n",
       "        <td>2</td>\n",
       "    </tr>\n",
       "</table>"
      ],
      "text/plain": [
       "[('Fenix 2', 841),\n",
       " ('Fenix 3', 974),\n",
       " ('Fenix Power 2+ Tondeuse', 18),\n",
       " ('Fenix Power 4 + Woofer BJ', 35),\n",
       " ('Fenix Power TV 19in FTA BJ', 14),\n",
       " ('Fenix Power TV 19in FTA Upgrade, BJ', 28),\n",
       " ('Fenix Power TV 24in FTA BJ', 634),\n",
       " ('Fenix Power TV 24in FTA Upgrade, BJ', 177),\n",
       " ('Fenix Radio +3', 1791),\n",
       " ('Fenix Radio +5', 422),\n",
       " ('Fenix Woofer +3', 32),\n",
       " ('Fenix Woofer +3 (NEW)', 8),\n",
       " ('Hors Garantie BJ', 14),\n",
       " ('Out-of-warranty swap - SmartLife', 2),\n",
       " ('Upgrade Fenix Boost 2 + Tondeuse', 2),\n",
       " ('Upgrade Fenix Radio +3', 5),\n",
       " ('Upgrade Fenix Woofer +1', 1),\n",
       " ('Upgrade Fenix Woofer+2 BJ', 2)]"
      ]
     },
     "execution_count": 68,
     "metadata": {},
     "output_type": "execute_result"
    }
   ],
   "source": [
    "%%sql\n",
    "SELECT  product_type kit_type, COUNT(DISTINCT(loan_id)) loan_count\n",
    "FROM Sales_details\n",
    "GROUP BY product_type"
   ]
  },
  {
   "cell_type": "markdown",
   "metadata": {},
   "source": [
    "### Write SQL code to determine the number of inactive loans"
   ]
  },
  {
   "cell_type": "code",
   "execution_count": 69,
   "metadata": {},
   "outputs": [
    {
     "name": "stdout",
     "output_type": "stream",
     "text": [
      " * sqlite:///testdb.sqlite\n",
      "Done.\n"
     ]
    },
    {
     "data": {
      "text/html": [
       "<table>\n",
       "    <tr>\n",
       "        <th>no_of_inactive_loans</th>\n",
       "    </tr>\n",
       "    <tr>\n",
       "        <td>1294</td>\n",
       "    </tr>\n",
       "</table>"
      ],
      "text/plain": [
       "[(1294,)]"
      ]
     },
     "execution_count": 69,
     "metadata": {},
     "output_type": "execute_result"
    }
   ],
   "source": [
    "%%sql\n",
    "SELECT COUNT(days_til_lockout) no_of_inactive_loans FROM Loan_current_details\n",
    "WHERE days_til_lockout < 0"
   ]
  },
  {
   "cell_type": "markdown",
   "metadata": {},
   "source": [
    "### Write a SQL code to determine the regions where the total amount of payments exceeds 1,000,000"
   ]
  },
  {
   "cell_type": "code",
   "execution_count": 74,
   "metadata": {},
   "outputs": [
    {
     "name": "stdout",
     "output_type": "stream",
     "text": [
      " * sqlite:///testdb.sqlite\n",
      "Done.\n"
     ]
    },
    {
     "data": {
      "text/html": [
       "<table>\n",
       "    <tr>\n",
       "        <th>region</th>\n",
       "        <th>amounts</th>\n",
       "    </tr>\n",
       "    <tr>\n",
       "        <td>Alibori</td>\n",
       "        <td>8559985</td>\n",
       "    </tr>\n",
       "    <tr>\n",
       "        <td>Atacora</td>\n",
       "        <td>7802685</td>\n",
       "    </tr>\n",
       "    <tr>\n",
       "        <td>Atlantique</td>\n",
       "        <td>51293780</td>\n",
       "    </tr>\n",
       "    <tr>\n",
       "        <td>Borgou</td>\n",
       "        <td>18947292</td>\n",
       "    </tr>\n",
       "    <tr>\n",
       "        <td>Collines</td>\n",
       "        <td>11904427</td>\n",
       "    </tr>\n",
       "    <tr>\n",
       "        <td>Couffo</td>\n",
       "        <td>4812070</td>\n",
       "    </tr>\n",
       "    <tr>\n",
       "        <td>Donga</td>\n",
       "        <td>9936982</td>\n",
       "    </tr>\n",
       "    <tr>\n",
       "        <td>Littoral</td>\n",
       "        <td>3980519</td>\n",
       "    </tr>\n",
       "    <tr>\n",
       "        <td>Mono</td>\n",
       "        <td>11621621</td>\n",
       "    </tr>\n",
       "    <tr>\n",
       "        <td>Oueme</td>\n",
       "        <td>30027194</td>\n",
       "    </tr>\n",
       "    <tr>\n",
       "        <td>Plateau</td>\n",
       "        <td>9691206</td>\n",
       "    </tr>\n",
       "    <tr>\n",
       "        <td>Zou</td>\n",
       "        <td>9540211</td>\n",
       "    </tr>\n",
       "</table>"
      ],
      "text/plain": [
       "[('Alibori', 8559985),\n",
       " ('Atacora', 7802685),\n",
       " ('Atlantique', 51293780),\n",
       " ('Borgou', 18947292),\n",
       " ('Collines', 11904427),\n",
       " ('Couffo', 4812070),\n",
       " ('Donga', 9936982),\n",
       " ('Littoral', 3980519),\n",
       " ('Mono', 11621621),\n",
       " ('Oueme', 30027194),\n",
       " ('Plateau', 9691206),\n",
       " ('Zou', 9540211)]"
      ]
     },
     "execution_count": 74,
     "metadata": {},
     "output_type": "execute_result"
    }
   ],
   "source": [
    "%%sql\n",
    "SELECT pd.region, SUM(lcd.total_paid) amounts\n",
    "FROM Person_democraphic pd\n",
    "JOIN Loan_current_details lcd \n",
    "    ON  lcd.customer_id =pd.customer_id\n",
    "GROUP BY region\n",
    "HAVING amounts > 1000000"
   ]
  },
  {
   "cell_type": "markdown",
   "metadata": {},
   "source": [
    "### Write a SQL code to classify by region and in ascending order, the loans according to the total amount paid"
   ]
  },
  {
   "cell_type": "code",
   "execution_count": 75,
   "metadata": {},
   "outputs": [
    {
     "name": "stdout",
     "output_type": "stream",
     "text": [
      " * sqlite:///testdb.sqlite\n",
      "Done.\n"
     ]
    },
    {
     "data": {
      "text/html": [
       "<table>\n",
       "    <tr>\n",
       "        <th>region</th>\n",
       "        <th>loans</th>\n",
       "    </tr>\n",
       "    <tr>\n",
       "        <td>Alibori</td>\n",
       "        <td>8559985</td>\n",
       "    </tr>\n",
       "    <tr>\n",
       "        <td>Atacora</td>\n",
       "        <td>7802685</td>\n",
       "    </tr>\n",
       "    <tr>\n",
       "        <td>Atlantique</td>\n",
       "        <td>51293780</td>\n",
       "    </tr>\n",
       "    <tr>\n",
       "        <td>Borgou</td>\n",
       "        <td>18947292</td>\n",
       "    </tr>\n",
       "    <tr>\n",
       "        <td>Collines</td>\n",
       "        <td>11904427</td>\n",
       "    </tr>\n",
       "    <tr>\n",
       "        <td>Couffo</td>\n",
       "        <td>4812070</td>\n",
       "    </tr>\n",
       "    <tr>\n",
       "        <td>Donga</td>\n",
       "        <td>9936982</td>\n",
       "    </tr>\n",
       "    <tr>\n",
       "        <td>Littoral</td>\n",
       "        <td>3980519</td>\n",
       "    </tr>\n",
       "    <tr>\n",
       "        <td>Mono</td>\n",
       "        <td>11621621</td>\n",
       "    </tr>\n",
       "    <tr>\n",
       "        <td>Oueme</td>\n",
       "        <td>30027194</td>\n",
       "    </tr>\n",
       "    <tr>\n",
       "        <td>Plateau</td>\n",
       "        <td>9691206</td>\n",
       "    </tr>\n",
       "    <tr>\n",
       "        <td>Zou</td>\n",
       "        <td>9540211</td>\n",
       "    </tr>\n",
       "</table>"
      ],
      "text/plain": [
       "[('Alibori', 8559985),\n",
       " ('Atacora', 7802685),\n",
       " ('Atlantique', 51293780),\n",
       " ('Borgou', 18947292),\n",
       " ('Collines', 11904427),\n",
       " ('Couffo', 4812070),\n",
       " ('Donga', 9936982),\n",
       " ('Littoral', 3980519),\n",
       " ('Mono', 11621621),\n",
       " ('Oueme', 30027194),\n",
       " ('Plateau', 9691206),\n",
       " ('Zou', 9540211)]"
      ]
     },
     "execution_count": 75,
     "metadata": {},
     "output_type": "execute_result"
    }
   ],
   "source": [
    "%%sql\n",
    "SELECT pd.region, SUM(lcd.total_paid) loans\n",
    "FROM Person_democraphic pd\n",
    "JOIN Loan_current_details lcd ON  lcd.customer_id =pd.customer_id\n",
    "GROUP BY pd.region\n",
    "ORDER BY pd.region ASC"
   ]
  },
  {
   "cell_type": "markdown",
   "metadata": {},
   "source": [
    "\n",
    "### Write a SQL code to determine the top 10 occupations by region with the highest total amount of payments"
   ]
  },
  {
   "cell_type": "code",
   "execution_count": 80,
   "metadata": {},
   "outputs": [
    {
     "name": "stdout",
     "output_type": "stream",
     "text": [
      " * sqlite:///testdb.sqlite\n",
      "Done.\n"
     ]
    },
    {
     "data": {
      "text/html": [
       "<table>\n",
       "    <tr>\n",
       "        <th>region</th>\n",
       "        <th>occupation</th>\n",
       "        <th>amounts</th>\n",
       "    </tr>\n",
       "    <tr>\n",
       "        <td>Zou</td>\n",
       "        <td>Cmmercial</td>\n",
       "        <td>287850</td>\n",
       "    </tr>\n",
       "    <tr>\n",
       "        <td>Atacora</td>\n",
       "        <td>Nurse</td>\n",
       "        <td>280000</td>\n",
       "    </tr>\n",
       "    <tr>\n",
       "        <td>Atlantique</td>\n",
       "        <td>Teacher</td>\n",
       "        <td>280000</td>\n",
       "    </tr>\n",
       "    <tr>\n",
       "        <td>Littoral</td>\n",
       "        <td>Nurse</td>\n",
       "        <td>280000</td>\n",
       "    </tr>\n",
       "    <tr>\n",
       "        <td>Donga</td>\n",
       "        <td>Statistian</td>\n",
       "        <td>252900</td>\n",
       "    </tr>\n",
       "    <tr>\n",
       "        <td>Borgou</td>\n",
       "        <td>Farmer</td>\n",
       "        <td>220000</td>\n",
       "    </tr>\n",
       "    <tr>\n",
       "        <td>Couffo</td>\n",
       "        <td>Nurse</td>\n",
       "        <td>212000</td>\n",
       "    </tr>\n",
       "    <tr>\n",
       "        <td>Plateau</td>\n",
       "        <td>Tehnician</td>\n",
       "        <td>212000</td>\n",
       "    </tr>\n",
       "    <tr>\n",
       "        <td>Atacora</td>\n",
       "        <td>Cmmercial</td>\n",
       "        <td>209300</td>\n",
       "    </tr>\n",
       "    <tr>\n",
       "        <td>Atlantique</td>\n",
       "        <td>Security agent</td>\n",
       "        <td>194500</td>\n",
       "    </tr>\n",
       "</table>"
      ],
      "text/plain": [
       "[('Zou', 'Cmmercial', 287850),\n",
       " ('Atacora', 'Nurse', 280000),\n",
       " ('Atlantique', 'Teacher', 280000),\n",
       " ('Littoral', 'Nurse', 280000),\n",
       " ('Donga', 'Statistian', 252900),\n",
       " ('Borgou', 'Farmer', 220000),\n",
       " ('Couffo', 'Nurse', 212000),\n",
       " ('Plateau', 'Tehnician', 212000),\n",
       " ('Atacora', 'Cmmercial', 209300),\n",
       " ('Atlantique', 'Security agent', 194500)]"
      ]
     },
     "execution_count": 80,
     "metadata": {},
     "output_type": "execute_result"
    }
   ],
   "source": [
    "%%sql\n",
    "SELECT pd.region, pd.'Profession ' AS occupation, lcd.total_paid AS amounts\n",
    "FROM Person_democraphic pd\n",
    "JOIN Loan_current_details lcd ON  lcd.customer_id = pd.customer_id\n",
    "GROUP BY pd.region, lcd.total_paid\n",
    "ORDER BY lcd.total_paid DESC\n",
    "LIMIT 10"
   ]
  },
  {
   "cell_type": "code",
   "execution_count": null,
   "metadata": {},
   "outputs": [],
   "source": []
  },
  {
   "cell_type": "code",
   "execution_count": null,
   "metadata": {},
   "outputs": [],
   "source": []
  }
 ],
 "metadata": {
  "kernelspec": {
   "display_name": "Python 3",
   "language": "python",
   "name": "python3"
  },
  "language_info": {
   "codemirror_mode": {
    "name": "ipython",
    "version": 3
   },
   "file_extension": ".py",
   "mimetype": "text/x-python",
   "name": "python",
   "nbconvert_exporter": "python",
   "pygments_lexer": "ipython3",
   "version": "3.6.9"
  }
 },
 "nbformat": 4,
 "nbformat_minor": 4
}
