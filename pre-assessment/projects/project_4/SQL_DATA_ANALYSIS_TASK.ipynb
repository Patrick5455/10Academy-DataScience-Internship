{
 "cells": [
  {
   "cell_type": "markdown",
   "metadata": {},
   "source": [
    "# SQL DATA ANALYSIS TASK"
   ]
  },
  {
   "cell_type": "markdown",
   "metadata": {},
   "source": [
    "# Context\n",
    "Fenix is a company that is in renewable energy. To this end, it sells solar kits to populations who are in need. Customers have the option of paying for the kit in cash or on credit. If the customer chooses to buy on credit, he can choose between one year (360 days) or two years (720). He is then asked to pay an amount per day (daily_rate), this amount depending on the duration of the loan and the type of kit he has chosen and corresponds to a day of light. So every time he pays that amount, he has a day of light. After 24 hours the system hangs and it has to make another payment to take advantage of the light. He can decide to pay for more than one day of light. The day number is then the whole part of the amount / daily rate ratio. After this number of days, the system still locks. When a customer spends more than 30 days without light, he is considered inactive. Paid vs Expected (PvE) means the ratio between the total amount paid by the client and the amount he should have paid up to date. It allows to appreciate the recovery."
   ]
  },
  {
   "cell_type": "markdown",
   "metadata": {},
   "source": [
    "Let's consider the following tables\n",
    "\n",
    "Loan_current_daitails\n",
    "\n",
    "loan_id\t|customer_id|daily_rate|days_elapsed|Days_til_lock_out|Total_paid\n",
    "--------|-----------|----------|------------|-----------------|----------\n",
    "loan_id_1|customer_id_1|daily_rate_1|days_elapsed_1|Days_til_lock_out_1|Total_paid_1\n",
    "loan_id_2|customer_id_2|daily_rate_2|days_elapsed_2|Days_til_lock_out_2|Total_paid_2\n",
    ".........|.............|............|..............|...................|............\n",
    "loan_id_n|customer_id_n\t|daily_rate_n|days_elapsed_n|Days_til_lock_out_n|Total_paid_n\n",
    "\n",
    "\n",
    "Person_democraphic\n",
    "\n",
    "customer_id\t|country|\tregion|\tprofession\n",
    "------------|-------|---------|-----------\n",
    "customer_id_1|\tCountry_1\t|Region_1\t|profession_1\n",
    ".............|\t............|..........\t|............\n",
    "customer_id_j|\tCountry_j|\tRegion_j\t|profession_j\n",
    "\n",
    "\n",
    "Sales_details\n",
    "\n",
    "loan_id\t|Product_type\t|Date_fullfiled\t|loan_duration\n",
    "--------|----------------|--------------|-------------\n",
    "loan_id_1\t|Product_type_1\t|Date_fullfiled_1\t|loan_duration_1\n",
    "...|\t...\t|...\t|...\n",
    "loan_id_n|\tProduct_type_n|\tDate_fullfiled_n|\tloan_duration_n"
   ]
  },
  {
   "cell_type": "markdown",
   "metadata": {},
   "source": [
    "### Tables description\n",
    "\n",
    "* **Loan_id:** unique loan identifier\n",
    "\n",
    "* **Customer_id:** unique customer identifier\n",
    "\n",
    "* **Days_elapsed:** the number of days the client spends with us\n",
    "\n",
    "* **Daily_rate:** expected amount from customer per day\n",
    "\n",
    "* **Days_til_lock_out:** If positive, then corresponds to the number of days of light remaining before the system hangs. If negative, corresponds to the number of days since the system was blocked (the client has been without light since this number of days)\n",
    "\n",
    "* **Total_paid:** total amount to be paid by the customer\n",
    "\n",
    "* **Country:** Customer's country\n",
    "\n",
    "* **Region:** customer department\n",
    "\n",
    "* **Profession:** client's profession\n",
    "\n",
    "* **Product_type:** the type of kit purchased by the customer\n",
    "\n",
    "* **Loan_duration:** the duration of the customer's loan (360 or 720 days)\n",
    "\n",
    "* **Date_fullfiled:** the date of the sale"
   ]
  },
  {
   "cell_type": "markdown",
   "metadata": {},
   "source": [
    "### The datasets\n",
    "The datasets exist in csv formats and can be downloaded and saved on disk"
   ]
  },
  {
   "cell_type": "code",
   "execution_count": null,
   "metadata": {},
   "outputs": [],
   "source": [
    "%load_ext sql\n",
    "%sql sqlite:///testdb.sqlite"
   ]
  },
  {
   "cell_type": "code",
   "execution_count": null,
   "metadata": {},
   "outputs": [],
   "source": [
    "%%sql\n",
    "DROP TABLE IF EXISTS Loan_current_daitails;\n",
    "DROP TABLE IF EXISTS Person_democraphic;\n",
    "DROP TABLE IF EXISTS Sales_details;"
   ]
  },
  {
   "cell_type": "code",
   "execution_count": null,
   "metadata": {},
   "outputs": [],
   "source": [
    "import pandas as pd\n",
    "import sqlite3\n",
    "\n",
    "conn = sqlite3.connect(\"testdb.sqlite\")\n",
    "customers = pd.read_csv('/data/Loan_current_daitails.csv')\n",
    "orders = pd.read_csv('/data/Person_democraphic.csv')\n",
    "salesman = pd.read_csv('/data/Sales_details.csv')\n",
    "\n",
    "customers.to_sql(\"Loan_current_daitails\", conn, index=False, if_exists=\"replace\")\n",
    "orders.to_sql(\"Person_democraphic\", conn, index=False, if_exists=\"replace\")\n",
    "salesman.to_sql(\"Sales_details\", conn, index=False, if_exists=\"replace\")"
   ]
  },
  {
   "cell_type": "markdown",
   "metadata": {},
   "source": [
    "### Write a SQL code to determine the total number of loans on the one hand and the total number of customers on the other"
   ]
  },
  {
   "cell_type": "code",
   "execution_count": null,
   "metadata": {},
   "outputs": [],
   "source": [
    "%%sql\n",
    "-# write here"
   ]
  },
  {
   "cell_type": "markdown",
   "metadata": {},
   "source": [
    "### Write a SQL code to determine the total number of loans by type of kit"
   ]
  },
  {
   "cell_type": "code",
   "execution_count": null,
   "metadata": {},
   "outputs": [],
   "source": [
    "%%sql\n",
    "-# write here"
   ]
  },
  {
   "cell_type": "markdown",
   "metadata": {},
   "source": [
    "### Write SQL code to determine the number of inactive loans"
   ]
  },
  {
   "cell_type": "code",
   "execution_count": null,
   "metadata": {},
   "outputs": [],
   "source": [
    "%%sql\n",
    "-# write here"
   ]
  },
  {
   "cell_type": "markdown",
   "metadata": {},
   "source": [
    "### Write a SQL code to determine the regions where the total amount of payments exceeds 1,000,000"
   ]
  },
  {
   "cell_type": "code",
   "execution_count": null,
   "metadata": {},
   "outputs": [],
   "source": [
    "%%sql\n",
    "-# write here"
   ]
  },
  {
   "cell_type": "markdown",
   "metadata": {},
   "source": [
    "### Write a SQL code to classify by region and in ascending order, the loans according to the total amount paid"
   ]
  },
  {
   "cell_type": "code",
   "execution_count": null,
   "metadata": {},
   "outputs": [],
   "source": [
    "%%sql\n",
    "-# write here"
   ]
  },
  {
   "cell_type": "markdown",
   "metadata": {},
   "source": [
    "\n",
    "### Write a SQL code to determine the top 10 occupations by region with the highest total amount of payments"
   ]
  },
  {
   "cell_type": "code",
   "execution_count": null,
   "metadata": {},
   "outputs": [],
   "source": [
    "%%sql\n",
    "-# write here"
   ]
  }
 ],
 "metadata": {
  "kernelspec": {
   "display_name": "Python 3",
   "language": "python",
   "name": "python3"
  },
  "language_info": {
   "codemirror_mode": {
    "name": "ipython",
    "version": 3
   },
   "file_extension": ".py",
   "mimetype": "text/x-python",
   "name": "python",
   "nbconvert_exporter": "python",
   "pygments_lexer": "ipython3",
   "version": "3.6.9"
  }
 },
 "nbformat": 4,
 "nbformat_minor": 4
}
