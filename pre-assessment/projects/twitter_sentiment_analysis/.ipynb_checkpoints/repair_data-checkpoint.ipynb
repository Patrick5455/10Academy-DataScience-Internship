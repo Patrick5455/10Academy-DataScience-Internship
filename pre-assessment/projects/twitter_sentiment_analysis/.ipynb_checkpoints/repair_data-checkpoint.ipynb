{
 "cells": [
  {
   "cell_type": "markdown",
   "metadata": {},
   "source": [
    "> import libraries"
   ]
  },
  {
   "cell_type": "code",
   "execution_count": 11,
   "metadata": {},
   "outputs": [],
   "source": [
    "import pandas as pd\n",
    "import json as j"
   ]
  },
  {
   "cell_type": "markdown",
   "metadata": {},
   "source": [
    "> Parse data to Dataframe with lines set as Trur to avoid data trailing"
   ]
  },
  {
   "cell_type": "code",
   "execution_count": 14,
   "metadata": {},
   "outputs": [],
   "source": [
    "file = 'data/covid19_23june2020.json'\n",
    "df_covid = pd.read_json(file, lines=True)"
   ]
  },
  {
   "cell_type": "markdown",
   "metadata": {},
   "source": [
    "> View json parsed data"
   ]
  },
  {
   "cell_type": "code",
   "execution_count": 6,
   "metadata": {},
   "outputs": [
    {
     "data": {
      "text/html": [
       "<div>\n",
       "<style scoped>\n",
       "    .dataframe tbody tr th:only-of-type {\n",
       "        vertical-align: middle;\n",
       "    }\n",
       "\n",
       "    .dataframe tbody tr th {\n",
       "        vertical-align: top;\n",
       "    }\n",
       "\n",
       "    .dataframe thead th {\n",
       "        text-align: right;\n",
       "    }\n",
       "</style>\n",
       "<table border=\"1\" class=\"dataframe\">\n",
       "  <thead>\n",
       "    <tr style=\"text-align: right;\">\n",
       "      <th></th>\n",
       "      <th>created_at</th>\n",
       "      <th>id</th>\n",
       "      <th>id_str</th>\n",
       "      <th>text</th>\n",
       "      <th>source</th>\n",
       "      <th>truncated</th>\n",
       "      <th>in_reply_to_status_id</th>\n",
       "      <th>in_reply_to_status_id_str</th>\n",
       "      <th>in_reply_to_user_id</th>\n",
       "      <th>in_reply_to_user_id_str</th>\n",
       "      <th>...</th>\n",
       "      <th>lang</th>\n",
       "      <th>timestamp_ms</th>\n",
       "      <th>retweeted_status</th>\n",
       "      <th>quoted_status_id</th>\n",
       "      <th>quoted_status_id_str</th>\n",
       "      <th>quoted_status</th>\n",
       "      <th>quoted_status_permalink</th>\n",
       "      <th>display_text_range</th>\n",
       "      <th>extended_tweet</th>\n",
       "      <th>extended_entities</th>\n",
       "    </tr>\n",
       "  </thead>\n",
       "  <tbody>\n",
       "    <tr>\n",
       "      <th>0</th>\n",
       "      <td>2020-06-29 12:51:06+00:00</td>\n",
       "      <td>1277585384340365312</td>\n",
       "      <td>1277585384340365312</td>\n",
       "      <td>The latest Financial Technology News Report! h...</td>\n",
       "      <td>&lt;a href=\"https://paper.li\" rel=\"nofollow\"&gt;Pape...</td>\n",
       "      <td>False</td>\n",
       "      <td>NaN</td>\n",
       "      <td>NaN</td>\n",
       "      <td>NaN</td>\n",
       "      <td>NaN</td>\n",
       "      <td>...</td>\n",
       "      <td>en</td>\n",
       "      <td>2020-06-29 12:51:06.672</td>\n",
       "      <td>NaN</td>\n",
       "      <td>NaN</td>\n",
       "      <td>NaN</td>\n",
       "      <td>NaN</td>\n",
       "      <td>NaN</td>\n",
       "      <td>NaN</td>\n",
       "      <td>NaN</td>\n",
       "      <td>NaN</td>\n",
       "    </tr>\n",
       "    <tr>\n",
       "      <th>1</th>\n",
       "      <td>2020-06-29 12:51:06+00:00</td>\n",
       "      <td>1277585384680161285</td>\n",
       "      <td>1277585384680161280</td>\n",
       "      <td>RT @Loi_1901: [#Loi1901] #Covid19 : Le point s...</td>\n",
       "      <td>&lt;a href=\"https://mobile.twitter.com\" rel=\"nofo...</td>\n",
       "      <td>False</td>\n",
       "      <td>NaN</td>\n",
       "      <td>NaN</td>\n",
       "      <td>NaN</td>\n",
       "      <td>NaN</td>\n",
       "      <td>...</td>\n",
       "      <td>fr</td>\n",
       "      <td>2020-06-29 12:51:06.753</td>\n",
       "      <td>{'created_at': 'Mon Jun 29 12:51:02 +0000 2020...</td>\n",
       "      <td>NaN</td>\n",
       "      <td>NaN</td>\n",
       "      <td>NaN</td>\n",
       "      <td>NaN</td>\n",
       "      <td>NaN</td>\n",
       "      <td>NaN</td>\n",
       "      <td>NaN</td>\n",
       "    </tr>\n",
       "    <tr>\n",
       "      <th>2</th>\n",
       "      <td>2020-06-29 12:51:06+00:00</td>\n",
       "      <td>1277585384805855233</td>\n",
       "      <td>1277585384805855232</td>\n",
       "      <td>RT @UNDP: This #TropicsDay, visit Monpura isla...</td>\n",
       "      <td>&lt;a href=\"http://twitter.com/download/android\" ...</td>\n",
       "      <td>False</td>\n",
       "      <td>NaN</td>\n",
       "      <td>NaN</td>\n",
       "      <td>NaN</td>\n",
       "      <td>NaN</td>\n",
       "      <td>...</td>\n",
       "      <td>en</td>\n",
       "      <td>2020-06-29 12:51:06.783</td>\n",
       "      <td>{'created_at': 'Mon Jun 29 05:00:00 +0000 2020...</td>\n",
       "      <td>NaN</td>\n",
       "      <td>NaN</td>\n",
       "      <td>NaN</td>\n",
       "      <td>NaN</td>\n",
       "      <td>NaN</td>\n",
       "      <td>NaN</td>\n",
       "      <td>NaN</td>\n",
       "    </tr>\n",
       "  </tbody>\n",
       "</table>\n",
       "<p>3 rows × 36 columns</p>\n",
       "</div>"
      ],
      "text/plain": [
       "                 created_at                   id               id_str  \\\n",
       "0 2020-06-29 12:51:06+00:00  1277585384340365312  1277585384340365312   \n",
       "1 2020-06-29 12:51:06+00:00  1277585384680161285  1277585384680161280   \n",
       "2 2020-06-29 12:51:06+00:00  1277585384805855233  1277585384805855232   \n",
       "\n",
       "                                                text  \\\n",
       "0  The latest Financial Technology News Report! h...   \n",
       "1  RT @Loi_1901: [#Loi1901] #Covid19 : Le point s...   \n",
       "2  RT @UNDP: This #TropicsDay, visit Monpura isla...   \n",
       "\n",
       "                                              source  truncated  \\\n",
       "0  <a href=\"https://paper.li\" rel=\"nofollow\">Pape...      False   \n",
       "1  <a href=\"https://mobile.twitter.com\" rel=\"nofo...      False   \n",
       "2  <a href=\"http://twitter.com/download/android\" ...      False   \n",
       "\n",
       "   in_reply_to_status_id  in_reply_to_status_id_str  in_reply_to_user_id  \\\n",
       "0                    NaN                        NaN                  NaN   \n",
       "1                    NaN                        NaN                  NaN   \n",
       "2                    NaN                        NaN                  NaN   \n",
       "\n",
       "   in_reply_to_user_id_str  ... lang            timestamp_ms  \\\n",
       "0                      NaN  ...   en 2020-06-29 12:51:06.672   \n",
       "1                      NaN  ...   fr 2020-06-29 12:51:06.753   \n",
       "2                      NaN  ...   en 2020-06-29 12:51:06.783   \n",
       "\n",
       "                                    retweeted_status  quoted_status_id  \\\n",
       "0                                                NaN               NaN   \n",
       "1  {'created_at': 'Mon Jun 29 12:51:02 +0000 2020...               NaN   \n",
       "2  {'created_at': 'Mon Jun 29 05:00:00 +0000 2020...               NaN   \n",
       "\n",
       "  quoted_status_id_str  quoted_status  quoted_status_permalink  \\\n",
       "0                  NaN            NaN                      NaN   \n",
       "1                  NaN            NaN                      NaN   \n",
       "2                  NaN            NaN                      NaN   \n",
       "\n",
       "   display_text_range  extended_tweet  extended_entities  \n",
       "0                 NaN             NaN                NaN  \n",
       "1                 NaN             NaN                NaN  \n",
       "2                 NaN             NaN                NaN  \n",
       "\n",
       "[3 rows x 36 columns]"
      ]
     },
     "execution_count": 6,
     "metadata": {},
     "output_type": "execute_result"
    }
   ],
   "source": [
    "df_covid.head(3)"
   ]
  },
  {
   "cell_type": "markdown",
   "metadata": {},
   "source": [
    "> save data back to json"
   ]
  },
  {
   "cell_type": "code",
   "execution_count": 20,
   "metadata": {},
   "outputs": [],
   "source": [
    "covid_19_data = df_covid.to_json('data/covid_19data.json')"
   ]
  },
  {
   "cell_type": "code",
   "execution_count": null,
   "metadata": {},
   "outputs": [],
   "source": []
  }
 ],
 "metadata": {
  "kernelspec": {
   "display_name": "Python 3",
   "language": "python",
   "name": "python3"
  },
  "language_info": {
   "codemirror_mode": {
    "name": "ipython",
    "version": 3
   },
   "file_extension": ".py",
   "mimetype": "text/x-python",
   "name": "python",
   "nbconvert_exporter": "python",
   "pygments_lexer": "ipython3",
   "version": "3.6.9"
  }
 },
 "nbformat": 4,
 "nbformat_minor": 4
}
