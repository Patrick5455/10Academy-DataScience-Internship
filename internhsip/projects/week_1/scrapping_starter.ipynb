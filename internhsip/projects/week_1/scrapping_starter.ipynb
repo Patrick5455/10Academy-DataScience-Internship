{
 "cells": [
  {
   "cell_type": "markdown",
   "metadata": {},
   "source": [
    "## Web scrapping using python\n",
    "\n",
    "#### References\n",
    "1. [Practical Introduction to Web Scraping in Python](https://realpython.com/python-web-scraping-practical-introduction/)\n",
    "2. [Web Scraping using Python](https://www.datacamp.com/community/tutorials/web-scraping-using-python)"
   ]
  },
  {
   "cell_type": "markdown",
   "metadata": {},
   "source": [
    "> Import libraries"
   ]
  },
  {
   "cell_type": "code",
   "execution_count": 66,
   "metadata": {},
   "outputs": [],
   "source": [
    "from requests import get\n",
    "from requests.exceptions import RequestException\n",
    "from contextlib import closing\n",
    "from bs4 import BeautifulSoup\n",
    "import pandas as pd\n",
    "import os, sys\n",
    "import re\n",
    "# import fire"
   ]
  },
  {
   "cell_type": "markdown",
   "metadata": {},
   "source": [
    "### Gather Data"
   ]
  },
  {
   "cell_type": "code",
   "execution_count": 67,
   "metadata": {},
   "outputs": [],
   "source": [
    "#%%writefile ../pyscrap_url.py\n",
    "\n",
    "def simple_get(url):\n",
    "    \"\"\"\n",
    "    Attempts to get the content at `url` by making an HTTP GET request.\n",
    "    If the content-type of response is some kind of HTML/XML, return the\n",
    "    text content, otherwise return None.\n",
    "    \"\"\"\n",
    "    try:\n",
    "        with closing(get(url, stream=True)) as resp:\n",
    "            if is_good_response(resp):\n",
    "                return resp.content  #.encode(BeautifulSoup.original_encoding)\n",
    "            else:\n",
    "                return None\n",
    "\n",
    "    except RequestException as e:\n",
    "        log_error('Error during requests to {0} : {1}'.format(url, str(e)))\n",
    "        return None\n",
    "\n",
    "\n",
    "def is_good_response(resp):\n",
    "    \"\"\"\n",
    "    Returns True if the response seems to be HTML, False otherwise.\n",
    "    \"\"\"\n",
    "    content_type = resp.headers['Content-Type'].lower()\n",
    "    return (resp.status_code == 200 \n",
    "            and content_type is not None \n",
    "            and content_type.find('html') > -1)\n",
    "\n",
    "\n",
    "def log_error(e):\n",
    "    \"\"\"\n",
    "    It is always a good idea to log errors. \n",
    "    This function just prints them, but you can\n",
    "    make it do anything.\n",
    "    \"\"\"\n",
    "    print(e)\n",
    "    \n",
    "def get_elements(url, tag='',search={}, fname=None):\n",
    "    \"\"\"\n",
    "    Downloads a page specified by the url parameter\n",
    "    and returns a list of strings, one per tag element\n",
    "    \"\"\"\n",
    "    \n",
    "    if isinstance(url,str):\n",
    "        response = simple_get(url)\n",
    "    else:\n",
    "        #if already it is a loaded html page\n",
    "        response = url\n",
    "\n",
    "    if response is not None:\n",
    "        html = BeautifulSoup(response, 'html.parser')\n",
    "        \n",
    "        res = []\n",
    "        if tag:    \n",
    "            for li in html.select(tag):\n",
    "                for name in li.text.split('\\n'):\n",
    "                    if len(name) > 0:\n",
    "                        res.append(name.strip())\n",
    "                       \n",
    "                \n",
    "        if search:\n",
    "            soup = html            \n",
    "            \n",
    "            \n",
    "            r = ''\n",
    "            if 'find' in search.keys():\n",
    "                print('finding',search['find'])\n",
    "                soup = soup.find(**search['find'])\n",
    "                r = soup\n",
    "\n",
    "                \n",
    "            if 'find_all' in search.keys():\n",
    "                print('findaing all of',search['find_all'])\n",
    "                r = soup.find_all(**search['find_all'])\n",
    "   \n",
    "            if r:\n",
    "                for x in list(r):\n",
    "                    if len(x) > 0:\n",
    "                        res.extend(x)\n",
    "            \n",
    "        return res\n",
    "\n",
    "    # Raise an exception if we failed to get any data from the url\n",
    "    raise Exception('Error retrieving contents at {}'.format(url))    \n",
    "    \n",
    "    \n",
    "if get_ipython().__class__.__name__ == '__main__':\n",
    "    fire(get_tag_elements)"
   ]
  },
  {
   "cell_type": "markdown",
   "metadata": {},
   "source": [
    "> Scrape data from [africafreak.com](https://africafreak.com/100-most-influential-twitter-users-in-africa)"
   ]
  },
  {
   "cell_type": "code",
   "execution_count": 37,
   "metadata": {},
   "outputs": [],
   "source": [
    "res = get_elements('https://africafreak.com/100-most-influential-twitter-users-in-africa', tag='h2')"
   ]
  },
  {
   "cell_type": "code",
   "execution_count": 38,
   "metadata": {},
   "outputs": [],
   "source": [
    "non_govt_influencers = res"
   ]
  },
  {
   "cell_type": "code",
   "execution_count": 39,
   "metadata": {},
   "outputs": [],
   "source": [
    "non_govt_influencers = pd.Series(non_govt_influencers)"
   ]
  },
  {
   "cell_type": "code",
   "execution_count": 40,
   "metadata": {},
   "outputs": [],
   "source": [
    "afriq_users_handle = [i.split('(')[-1].strip(')') for i in non_govt_influencers]\n",
    "afriq_users_handle=afriq_users_handle[:100]"
   ]
  },
  {
   "cell_type": "markdown",
   "metadata": {},
   "source": [
    "> correct incorrect tweets"
   ]
  },
  {
   "cell_type": "code",
   "execution_count": 41,
   "metadata": {},
   "outputs": [],
   "source": [
    "afriq_users_handle[12] = '@beyondsafari'"
   ]
  },
  {
   "cell_type": "markdown",
   "metadata": {},
   "source": [
    "> parse to DataFrame"
   ]
  },
  {
   "cell_type": "code",
   "execution_count": 68,
   "metadata": {},
   "outputs": [],
   "source": [
    "df_afriq_users_handle = pd.DataFrame(afriq_users_handle, columns=['handles'])"
   ]
  },
  {
   "cell_type": "code",
   "execution_count": 69,
   "metadata": {},
   "outputs": [
    {
     "data": {
      "text/html": [
       "<div>\n",
       "<style scoped>\n",
       "    .dataframe tbody tr th:only-of-type {\n",
       "        vertical-align: middle;\n",
       "    }\n",
       "\n",
       "    .dataframe tbody tr th {\n",
       "        vertical-align: top;\n",
       "    }\n",
       "\n",
       "    .dataframe thead th {\n",
       "        text-align: right;\n",
       "    }\n",
       "</style>\n",
       "<table border=\"1\" class=\"dataframe\">\n",
       "  <thead>\n",
       "    <tr style=\"text-align: right;\">\n",
       "      <th></th>\n",
       "      <th>handles</th>\n",
       "    </tr>\n",
       "  </thead>\n",
       "  <tbody>\n",
       "    <tr>\n",
       "      <th>0</th>\n",
       "      <td>@gettleman</td>\n",
       "    </tr>\n",
       "    <tr>\n",
       "      <th>1</th>\n",
       "      <td>@a24media</td>\n",
       "    </tr>\n",
       "    <tr>\n",
       "      <th>2</th>\n",
       "      <td>@andiMakinana</td>\n",
       "    </tr>\n",
       "    <tr>\n",
       "      <th>3</th>\n",
       "      <td>@AfricaCheck</td>\n",
       "    </tr>\n",
       "    <tr>\n",
       "      <th>4</th>\n",
       "      <td>@JamesCopnall</td>\n",
       "    </tr>\n",
       "    <tr>\n",
       "      <th>...</th>\n",
       "      <td>...</td>\n",
       "    </tr>\n",
       "    <tr>\n",
       "      <th>95</th>\n",
       "      <td>@Julius_S_Malema</td>\n",
       "    </tr>\n",
       "    <tr>\n",
       "      <th>96</th>\n",
       "      <td>@News24</td>\n",
       "    </tr>\n",
       "    <tr>\n",
       "      <th>97</th>\n",
       "      <td>@SAPresident</td>\n",
       "    </tr>\n",
       "    <tr>\n",
       "      <th>98</th>\n",
       "      <td>@GarethCliff</td>\n",
       "    </tr>\n",
       "    <tr>\n",
       "      <th>99</th>\n",
       "      <td>@Trevornoah</td>\n",
       "    </tr>\n",
       "  </tbody>\n",
       "</table>\n",
       "<p>100 rows × 1 columns</p>\n",
       "</div>"
      ],
      "text/plain": [
       "             handles\n",
       "0         @gettleman\n",
       "1          @a24media\n",
       "2      @andiMakinana\n",
       "3       @AfricaCheck\n",
       "4      @JamesCopnall\n",
       "..               ...\n",
       "95  @Julius_S_Malema\n",
       "96           @News24\n",
       "97      @SAPresident\n",
       "98      @GarethCliff\n",
       "99       @Trevornoah\n",
       "\n",
       "[100 rows x 1 columns]"
      ]
     },
     "execution_count": 69,
     "metadata": {},
     "output_type": "execute_result"
    }
   ],
   "source": [
    "df_afriq_users_handle"
   ]
  },
  {
   "cell_type": "code",
   "execution_count": 44,
   "metadata": {},
   "outputs": [],
   "source": [
    "df_afriq_users_handle.to_csv('scraped_handles/top_100_influencers.csv')"
   ]
  },
  {
   "cell_type": "markdown",
   "metadata": {},
   "source": [
    "> Data for Interim Submision"
   ]
  },
  {
   "cell_type": "code",
   "execution_count": 45,
   "metadata": {},
   "outputs": [],
   "source": [
    "tenx_afriq_users = df_afriq_users_handle[:10]"
   ]
  },
  {
   "cell_type": "code",
   "execution_count": 46,
   "metadata": {},
   "outputs": [],
   "source": [
    "tenx_afriq_users.to_csv('interim_submission/ten_Influencers.csv')"
   ]
  },
  {
   "cell_type": "markdown",
   "metadata": {},
   "source": [
    "> Scrape data from [atlanticcouncil.org](https://www.atlanticcouncil.org/blogs/africasource/african-leaders-respond-to-coronavirus-on-twitter/#east-africa)"
   ]
  },
  {
   "cell_type": "code",
   "execution_count": 47,
   "metadata": {},
   "outputs": [
    {
     "data": {
      "text/plain": [
       "[\"The Deputy Prime Minister Themba Masuku has today met representatives of the private sector and employees' unions to map a collaborative effort in the fight against #COVID19. pic.twitter.com/EIYNGOEKRN— Eswatini Government (@EswatiniGovern1) March 20, 2020\",\n",
       " 'GUIDELINES FOR SCHOOLS IN #MALAWI ON THE PREVENTION AND MANAGEMENT OF #COVID19 #CORONAVIRUS pic.twitter.com/PL9R4XvGV3— Malawi Government (@MalawiGovt) March 18, 2020']"
      ]
     },
     "execution_count": 47,
     "metadata": {},
     "output_type": "execute_result"
    }
   ],
   "source": [
    "url= 'https://www.atlanticcouncil.org/blogs/africasource/african-leaders-respond-to-coronavirus-on-twitter/#east-africa'\n",
    "response = get(url).content\n",
    "res = get_elements(response, tag='blockquote')\n",
    "res[:2]"
   ]
  },
  {
   "cell_type": "code",
   "execution_count": 48,
   "metadata": {},
   "outputs": [],
   "source": [
    "afriq_govt = []\n",
    "afriq_govt_handle = []\n",
    "for r in res:\n",
    "    split_data = r.split('— ',maxsplit=1)[1].rsplit('(',maxsplit=1)\n",
    "    name = split_data[0].split(',')[0].strip()\n",
    "    handle =  split_data[1].rsplit(')',maxsplit=1)[0]\n",
    "    user = str(name), str(handle)\n",
    "    afriq_govt.append(user)\n",
    "    afriq_govt_handle.append(handle)"
   ]
  },
  {
   "cell_type": "code",
   "execution_count": 54,
   "metadata": {},
   "outputs": [
    {
     "name": "stdout",
     "output_type": "stream",
     "text": [
      "findaing all of {'class_': 'wp-block-embed__wrapper'}\n"
     ]
    }
   ],
   "source": [
    "res_ = simple_get(url)\n",
    "res = get_elements(res_, search={'find_all':{'class_':'wp-block-embed__wrapper'}})"
   ]
  },
  {
   "cell_type": "code",
   "execution_count": 55,
   "metadata": {},
   "outputs": [],
   "source": [
    "x= pd.DataFrame({'names':res})\n",
    "x['names'] = x[x['names'].apply(lambda x: \"twitter.com\" in x)]\n",
    "x.dropna(inplace=True)\n",
    "links = x.names.values"
   ]
  },
  {
   "cell_type": "code",
   "execution_count": 56,
   "metadata": {},
   "outputs": [],
   "source": [
    "for link in links:\n",
    "    name = link.split('/')[3]\n",
    "    handle = '@'+name\n",
    "    user= str(name), str(handle)\n",
    "    afriq_govt.append(user)\n",
    "    afriq_govt_handle.append(handle)"
   ]
  },
  {
   "cell_type": "code",
   "execution_count": 57,
   "metadata": {},
   "outputs": [
    {
     "data": {
      "text/plain": [
       "['@EswatiniGovern1']"
      ]
     },
     "execution_count": 57,
     "metadata": {},
     "output_type": "execute_result"
    }
   ],
   "source": [
    "afriq_govt_handle[:1]"
   ]
  },
  {
   "cell_type": "code",
   "execution_count": 58,
   "metadata": {},
   "outputs": [],
   "source": [
    "df_afriq_govt_handle = pd.DataFrame(afriq_govt_handle, columns=['handles'])"
   ]
  },
  {
   "cell_type": "code",
   "execution_count": 59,
   "metadata": {},
   "outputs": [],
   "source": [
    "df_afriq_govt_handle.to_csv('scraped_handles/africa_govt_covid_resp.csv')"
   ]
  },
  {
   "cell_type": "markdown",
   "metadata": {},
   "source": [
    "> Interim Submision"
   ]
  },
  {
   "cell_type": "code",
   "execution_count": 60,
   "metadata": {},
   "outputs": [],
   "source": [
    "tenx_afriq_govt = df_afriq_govt_handle[:10]"
   ]
  },
  {
   "cell_type": "code",
   "execution_count": 61,
   "metadata": {},
   "outputs": [],
   "source": [
    "tenx_afriq_govt.to_csv('interim_submission/ten_africaGovt.csv')"
   ]
  },
  {
   "cell_type": "markdown",
   "metadata": {},
   "source": [
    "#### Get Data From Twitter"
   ]
  },
  {
   "cell_type": "markdown",
   "metadata": {},
   "source": [
    "> Importing libraies & preparing api-keys"
   ]
  },
  {
   "cell_type": "code",
   "execution_count": 62,
   "metadata": {},
   "outputs": [],
   "source": [
    "import tweepy\n",
    "from tweepy import OAuthHandler\n",
    "from tweepy import API\n",
    "from tweepy import Cursor\n",
    "from datetime import datetime, date, time, timedelta\n",
    "from collections import Counter\n",
    "import sys\n",
    "import csv"
   ]
  },
  {
   "cell_type": "code",
   "execution_count": 25,
   "metadata": {},
   "outputs": [
    {
     "name": "stdout",
     "output_type": "stream",
     "text": [
      "API_key API_secret_key Access_token Access_token_secret\n"
     ]
    }
   ],
   "source": [
    "API_key=\"API_key\"\n",
    "API_secret_key=\"API_secret_key\"\n",
    "Access_token=\"Access_token\"\n",
    "Access_token_secret=\"Access_token_secret\"\n",
    "print(API_key, API_secret_key, Access_token, Access_token_secret)"
   ]
  },
  {
   "cell_type": "code",
   "execution_count": 26,
   "metadata": {},
   "outputs": [],
   "source": [
    "API_key = os.environ.get(API_key)\n",
    "API_secret_key = os.environ.get(API_secret_key)\n",
    "Access_token = os.environ.get(Access_token)\n",
    "Access_token_secret=os.environ.get(Access_token_secret)"
   ]
  },
  {
   "cell_type": "code",
   "execution_count": 27,
   "metadata": {},
   "outputs": [],
   "source": [
    "auth = OAuthHandler(API_key, API_secret_key)\n",
    "auth.set_access_token(Access_token, Access_token_secret)\n",
    "api = tweepy.API(auth, wait_on_rate_limit=True)\n",
    "auth_api = API(auth)"
   ]
  },
  {
   "cell_type": "markdown",
   "metadata": {},
   "source": [
    "> Testing Api"
   ]
  },
  {
   "cell_type": "code",
   "execution_count": 63,
   "metadata": {},
   "outputs": [],
   "source": [
    "search_words = \"#wildfires\"\n",
    "date_since= \"2018-11-16\""
   ]
  },
  {
   "cell_type": "code",
   "execution_count": 1,
   "metadata": {},
   "outputs": [],
   "source": [
    "# # Collect tweets\n",
    "# tweets = tweepy.Cursor(api.search,\n",
    "#               q=search_words,\n",
    "#               lang=\"en\",\n",
    "#               since=date_since).items(2)\n",
    "# # Iterate and print tweets\n",
    "# for tweet in tweets:\n",
    "#     print(tweet.text) "
   ]
  },
  {
   "cell_type": "markdown",
   "metadata": {},
   "source": [
    "> influential African Twitter Data"
   ]
  },
  {
   "cell_type": "markdown",
   "metadata": {},
   "source": [
    ">> Define functions"
   ]
  },
  {
   "cell_type": "code",
   "execution_count": 151,
   "metadata": {},
   "outputs": [],
   "source": [
    "def get_tweets(handles):\n",
    "    \n",
    "    cols = ['id', 'name', 'screen_name', 'description', \n",
    "            'statuses_count', 'friends_count', 'followers_count', \n",
    "            'account_age_days', 'avg_daily_tweets', 'hashtags',\n",
    "            'user_mentions','favorite_count', 'retweet_count',]\n",
    "    \n",
    "    # dataframe that would be returned at the end\n",
    "    df = pd.DataFrame(columns=cols)\n",
    "    #print(df)\n",
    "    handle_data = []\n",
    "    off_users = []\n",
    "            \n",
    "    if len(handles) > 0: \n",
    "        for handle in handles:\n",
    "            value_list = []\n",
    "            print(\"Getting data for \" + handle)\n",
    "            # this helps avoid Tweepy errors like suspended users or user not ound errors\n",
    "            try:\n",
    "                item = auth_api.get_user(handle)\n",
    "            except tweepy.TweepError as e:\n",
    "                continue\n",
    "            value_list+= item.id_str, item.name, item.screen_name,\\\n",
    "            item.description, item.statuses_count, item.friends_count, item.followers_count\n",
    "            \n",
    "            #get average daily tweets\n",
    "            \n",
    "            no_tweets = item.statuses_count\n",
    "            account_created_date = item.created_at\n",
    "            delta = datetime.utcnow() - account_created_date\n",
    "            account_age_days = delta.days\n",
    "            value_list.append(str(account_age_days))\n",
    "            #print(str(account_age_days))\n",
    "            if account_age_days > 0:\n",
    "                   value_list.append(int(float(no_tweets)/float(account_age_days)))\n",
    "                    \n",
    "                    \n",
    "                    \n",
    "            hashtags = []\n",
    "            mentions = []\n",
    "            favorite_count =[]\n",
    "            retweet_count=[]\n",
    "            tweet_count = 0\n",
    "            end_date = datetime.utcnow() - timedelta(days=30)\n",
    "            \n",
    "\n",
    "            for status in Cursor(auth_api.user_timeline, id=handle).items():\n",
    "                tweet_count+= 1\n",
    "                if hasattr(status, \"entities\"):\n",
    "                    entities = status.entities\n",
    "\n",
    "                # get hashtags\n",
    "                if \"hashtags\" in entities:\n",
    "                    for ent in entities[\"hashtags\"]:\n",
    "                        if ent is not None:\n",
    "                            if \"text\" in ent:\n",
    "                                hashtag = ent[\"text\"]\n",
    "                                if hashtag is not None:\n",
    "                                    hashtags.append(hashtag)\n",
    "                # get usermentions\n",
    "                if \"user_mentions\" in entities:\n",
    "                    for ent in entities[\"user_mentions\"]:\n",
    "                        if ent is not None:\n",
    "                            if \"screen_name\" in ent:\n",
    "                                name = ent[\"screen_name\"]\n",
    "                                if name is not None:\n",
    "                                    mentions.append(name)\n",
    "\n",
    "                # get retweets    \n",
    "                if hasattr(status, \"retweet_count\"):\n",
    "                    retweets = status.retweet_count\n",
    "                    if retweets is not None:\n",
    "                        retweet_count.append(retweets)\n",
    "                        \n",
    "                # favorite count     \n",
    "                if hasattr(status, \"favorite_count\"):\n",
    "                    likes = status.favorite_count \n",
    "                    if likes is not None:\n",
    "                        favorite_count.append(likes)\n",
    "                if status.created_at < end_date:\n",
    "                    break\n",
    "                    \n",
    "            \n",
    "            value_list.append(len(hashtags))\n",
    "            value_list.append(len(mentions))\n",
    "            value_list.append(sum(favorite_count))\n",
    "            value_list.append(sum(retweet_count))\n",
    "            handle_data.append(value_list)\n",
    "            #print(handle_data)\n",
    "            #break\n",
    "    #ls = {}\n",
    "            #df_1 = pd.DataFrame([handle_data], columns=cols)\n",
    "            #print(handle_data)\n",
    "            #complete_df = pd.concat(df, df_1)\n",
    "            df = df.append(pd.DataFrame([value_list], columns=cols))\n",
    "            #print(df)\n",
    "    return df"
   ]
  },
  {
   "cell_type": "code",
   "execution_count": 128,
   "metadata": {
    "jupyter": {
     "source_hidden": true
    }
   },
   "outputs": [],
   "source": [
    "# if len(account_list) > 0:\n",
    "#   for target in account_list:\n",
    "#     print(\"Getting data for \" + target)\n",
    "#     item = auth_api.get_user(target)\n",
    "#     print(\"name: \" + item.name)\n",
    "#     print(\"screen_name: \" + item.screen_name)\n",
    "#     print(\"description: \" + item.description)\n",
    "#     print(\"statuses_count: \" + str(item.statuses_count))\n",
    "#     print(\"friends_count: \" + str(item.friends_count))\n",
    "#     print(\"followers_count: \" + str(item.followers_count))\n",
    "    \n",
    "    \n",
    "# tweets = item.statuses_count\n",
    "# account_created_date = item.created_at\n",
    "# delta = datetime.utcnow() - account_created_date\n",
    "# account_age_days = delta.days\n",
    "# print(\"Account age (in days): \" + str(account_age_days))\n",
    "# if account_age_days > 0:\n",
    "# print(\"Average tweets per day: \" + \"%.2f\"%(float(tweets)/float(account_age_days)))\n",
    "    \n",
    "# hashtags = []\n",
    "# mentions = []\n",
    "# favorite_count =[]\n",
    "# retweet_count=[]\n",
    "# tweet_count = 0\n",
    "# end_date = datetime.utcnow() - timedelta(days=30)\n",
    "\n",
    "#     for status in Cursor(auth_api.user_timeline, id=target).items():\n",
    "#         tweet_count += 1\n",
    "#         if hasattr(status, \"entities\"):\n",
    "#         entities = status.entities\n",
    "        \n",
    "#         # get hashtags\n",
    "#         if \"hashtags\" in entities:\n",
    "#             for ent in entities[\"hashtags\"]:\n",
    "#             if ent is not None:\n",
    "#                 if \"text\" in ent:\n",
    "#                     hashtag = ent[\"text\"]\n",
    "#                 if hashtag is not None:\n",
    "#                     hashtags.append(hashtag)\n",
    "#         value_list+=len(hashtags)\n",
    "#         # get usermentions\n",
    "#         if \"user_mentions\" in entities:\n",
    "#             for ent in entities[\"user_mentions\"]:\n",
    "#                 if ent is not None:\n",
    "#                     if \"screen_name\" in ent:\n",
    "#                         name = ent[\"screen_name\"]\n",
    "#                         if name is not None:\n",
    "#                             mentions.append(name)\n",
    "#         value_list+=len(mentions)\n",
    "                                              \n",
    "#         # get retweets    \n",
    "#         if hasattr(status, \"retweet_count\"):\n",
    "#             retweets = status.retweet_count\n",
    "#             if retweets is not None:\n",
    "#                 retweet_count.append(retweets)\n",
    "#         value_list+=sum(retweet_count)\n",
    "\n",
    "#         # favorite count     \n",
    "#         if hasattr(status, \"favorite_count\"):\n",
    "#             likes = status.favorite_count \n",
    "#             if likes is not None:\n",
    "#                 favorite_count.append(likes)\n",
    "#         value_list+=sum(retweet_count)\n",
    "#         if status.created_at < end_date:\n",
    "#         break"
   ]
  },
  {
   "cell_type": "code",
   "execution_count": null,
   "metadata": {},
   "outputs": [],
   "source": []
  },
  {
   "cell_type": "code",
   "execution_count": 161,
   "metadata": {},
   "outputs": [
    {
     "name": "stdout",
     "output_type": "stream",
     "text": [
      "Getting data for @gettleman\n",
      "Getting data for @a24media\n",
      "Getting data for @andiMakinana\n",
      "Getting data for @AfricaCheck\n",
      "Getting data for @JamesCopnall\n",
      "Getting data for @oafrica\n",
      "Getting data for @PatrickNgowi\n",
      "Getting data for @StateAfrica\n",
      "Getting data for @Moadow\n",
      "Getting data for @BrendanSAfrica\n",
      "Getting data for @CityTshwane\n",
      "Getting data for @VISI_Mag\n",
      "Getting data for @beyondsafari\n",
      "Getting data for @ThisIsAfricaTIA\n",
      "Getting data for @sarzss\n",
      "Getting data for @TheEIU_Africa\n",
      "Getting data for @InvestInAfrica\n",
      "Getting data for @malonebarry\n",
      "Getting data for @artsouthafrica\n",
      "Getting data for @KahnMorbee\n",
      "Getting data for @JamalMOsman\n",
      "Getting data for @iamsuede\n",
      "Getting data for @mikestopforth\n",
      "Getting data for @equal_education\n",
      "Getting data for @t_mcconnell\n",
      "Getting data for @forbeesta\n",
      "Getting data for @hurricanevaness\n",
      "Getting data for @BBCKarenAllen\n",
      "Getting data for @jaxpanik\n",
      "Getting data for @thisisafrica\n",
      "Getting data for @audisouthafrica\n",
      "Getting data for @ONEinAfrica\n",
      "Getting data for @Hamza_Africa\n",
      "Getting data for @drewfhinshaw\n",
      "Getting data for @africatechie\n",
      "Getting data for @cx73\n",
      "Getting data for @ayittey\n",
      "Getting data for @MercedesBenz_SA\n",
      "Getting data for @africagathering\n",
      "Getting data for @okayafrica\n",
      "Getting data for @mary_harper\n",
      "Getting data for @savetherhino\n",
      "Getting data for @africamedia_CPJ\n",
      "Getting data for @TechCentral\n",
      "Getting data for @GautengProvince\n",
      "Getting data for @Aynte\n",
      "Getting data for @daniel_howden\n",
      "Getting data for @rangerdiaries\n",
      "Getting data for @TheStar_news\n",
      "Getting data for @schneiderhome\n",
      "Getting data for @Afrinnovator\n",
      "Getting data for @theafricareport\n",
      "Getting data for @CityofJoburgZA\n",
      "Getting data for @ThinkAfricaFeed\n",
      "Getting data for @AfricaGoodNews\n",
      "Getting data for @willintune\n",
      "Getting data for @cnbcafrica\n",
      "Getting data for @MadeItInAfrica\n",
      "Getting data for @AfricaResearch\n",
      "Getting data for @FoodBlogCT\n",
      "Getting data for @MbuyiseniNdlozi\n",
      "Getting data for @africaprogress\n",
      "Getting data for @IFCAfrica\n",
      "Getting data for @HenleyAfrica\n",
      "Getting data for @The_New_Age\n",
      "Getting data for @geoffreyyork\n",
      "Getting data for @Entrepreneur_SA\n",
      "Getting data for @forbesafrica\n",
      "Getting data for @IECSouthAfrica\n",
      "Getting data for @art2gee\n",
      "Getting data for @JendayiFrazer\n",
      "Getting data for @PeterGreste\n",
      "Getting data for @NDOCKenya\n",
      "Getting data for @Mo_IbrahimFdn\n",
      "Getting data for @ParliamentofRSA\n",
      "Getting data for @SandtonCity\n",
      "Getting data for @_AfricanUnion\n",
      "Getting data for @gertjohan\n",
      "Getting data for @SmithInAfrica\n",
      "Getting data for @hartleyr\n",
      "Getting data for @liveamp\n",
      "Getting data for @SamsungSA\n",
      "Getting data for @BobSkinstad\n",
      "Getting data for @Camfed\n",
      "Getting data for @BBCAndrewH\n",
      "Getting data for @euphonik\n",
      "Getting data for @UlrichJvV\n",
      "Getting data for @702JohnRobbie\n",
      "Getting data for @OfficialCSA\n",
      "Getting data for @MTVbaseAfrica\n",
      "Getting data for @Computicket\n",
      "Getting data for @loyisogola\n",
      "Getting data for @5FM\n",
      "Getting data for @mailandguardian\n",
      "Getting data for @helenzille\n",
      "Getting data for @Julius_S_Malema\n",
      "Getting data for @News24\n",
      "Getting data for @SAPresident\n",
      "Getting data for @GarethCliff\n",
      "Getting data for @Trevornoah\n"
     ]
    }
   ],
   "source": [
    "df_inf = get_tweets(afriq_users_handle)"
   ]
  },
  {
   "cell_type": "code",
   "execution_count": 162,
   "metadata": {},
   "outputs": [
    {
     "data": {
      "text/html": [
       "<div>\n",
       "<style scoped>\n",
       "    .dataframe tbody tr th:only-of-type {\n",
       "        vertical-align: middle;\n",
       "    }\n",
       "\n",
       "    .dataframe tbody tr th {\n",
       "        vertical-align: top;\n",
       "    }\n",
       "\n",
       "    .dataframe thead th {\n",
       "        text-align: right;\n",
       "    }\n",
       "</style>\n",
       "<table border=\"1\" class=\"dataframe\">\n",
       "  <thead>\n",
       "    <tr style=\"text-align: right;\">\n",
       "      <th></th>\n",
       "      <th>id</th>\n",
       "      <th>name</th>\n",
       "      <th>screen_name</th>\n",
       "      <th>description</th>\n",
       "      <th>statuses_count</th>\n",
       "      <th>friends_count</th>\n",
       "      <th>followers_count</th>\n",
       "      <th>account_age_days</th>\n",
       "      <th>avg_daily_tweets</th>\n",
       "      <th>hashtags</th>\n",
       "      <th>user_mentions</th>\n",
       "      <th>favorite_count</th>\n",
       "      <th>retweet_count</th>\n",
       "    </tr>\n",
       "  </thead>\n",
       "  <tbody>\n",
       "    <tr>\n",
       "      <th>0</th>\n",
       "      <td>305125998</td>\n",
       "      <td>Jeffrey Gettleman</td>\n",
       "      <td>gettleman</td>\n",
       "      <td>South Asia bureau chief for the New York Times...</td>\n",
       "      <td>3769</td>\n",
       "      <td>37</td>\n",
       "      <td>25691</td>\n",
       "      <td>3340</td>\n",
       "      <td>1</td>\n",
       "      <td>5</td>\n",
       "      <td>39</td>\n",
       "      <td>262</td>\n",
       "      <td>111589</td>\n",
       "    </tr>\n",
       "    <tr>\n",
       "      <th>0</th>\n",
       "      <td>26475943</td>\n",
       "      <td>A24 Media</td>\n",
       "      <td>a24media</td>\n",
       "      <td>Africa 24 produces compelling content that mak...</td>\n",
       "      <td>16858</td>\n",
       "      <td>3059</td>\n",
       "      <td>31287</td>\n",
       "      <td>4131</td>\n",
       "      <td>4</td>\n",
       "      <td>28</td>\n",
       "      <td>45</td>\n",
       "      <td>105</td>\n",
       "      <td>180</td>\n",
       "    </tr>\n",
       "    <tr>\n",
       "      <th>0</th>\n",
       "      <td>72013267</td>\n",
       "      <td>Scapegoat</td>\n",
       "      <td>AndiMakinana</td>\n",
       "      <td>In pursuit of scoops. I do not write headlines...</td>\n",
       "      <td>142218</td>\n",
       "      <td>2840</td>\n",
       "      <td>101226</td>\n",
       "      <td>3966</td>\n",
       "      <td>35</td>\n",
       "      <td>38</td>\n",
       "      <td>628</td>\n",
       "      <td>19132</td>\n",
       "      <td>395510</td>\n",
       "    </tr>\n",
       "    <tr>\n",
       "      <th>0</th>\n",
       "      <td>625489039</td>\n",
       "      <td>Africa Check</td>\n",
       "      <td>AfricaCheck</td>\n",
       "      <td>Africa's first independent fact-checking websi...</td>\n",
       "      <td>27310</td>\n",
       "      <td>4590</td>\n",
       "      <td>68047</td>\n",
       "      <td>2935</td>\n",
       "      <td>9</td>\n",
       "      <td>152</td>\n",
       "      <td>210</td>\n",
       "      <td>1535</td>\n",
       "      <td>1491</td>\n",
       "    </tr>\n",
       "    <tr>\n",
       "      <th>0</th>\n",
       "      <td>401520924</td>\n",
       "      <td>James Copnall</td>\n",
       "      <td>JamesCopnall</td>\n",
       "      <td>BBC reporter + presenter. Author A Poisonous T...</td>\n",
       "      <td>19434</td>\n",
       "      <td>5045</td>\n",
       "      <td>21960</td>\n",
       "      <td>3182</td>\n",
       "      <td>6</td>\n",
       "      <td>21</td>\n",
       "      <td>83</td>\n",
       "      <td>139</td>\n",
       "      <td>47609</td>\n",
       "    </tr>\n",
       "    <tr>\n",
       "      <th>...</th>\n",
       "      <td>...</td>\n",
       "      <td>...</td>\n",
       "      <td>...</td>\n",
       "      <td>...</td>\n",
       "      <td>...</td>\n",
       "      <td>...</td>\n",
       "      <td>...</td>\n",
       "      <td>...</td>\n",
       "      <td>...</td>\n",
       "      <td>...</td>\n",
       "      <td>...</td>\n",
       "      <td>...</td>\n",
       "      <td>...</td>\n",
       "    </tr>\n",
       "    <tr>\n",
       "      <th>0</th>\n",
       "      <td>117102398</td>\n",
       "      <td>Julius Sello Malema</td>\n",
       "      <td>Julius_S_Malema</td>\n",
       "      <td>Commander in Chief of Economic Freedom Fighter...</td>\n",
       "      <td>37190</td>\n",
       "      <td>652</td>\n",
       "      <td>3125484</td>\n",
       "      <td>3795</td>\n",
       "      <td>9</td>\n",
       "      <td>75</td>\n",
       "      <td>549</td>\n",
       "      <td>175191</td>\n",
       "      <td>292263</td>\n",
       "    </tr>\n",
       "    <tr>\n",
       "      <th>0</th>\n",
       "      <td>14697575</td>\n",
       "      <td>News24</td>\n",
       "      <td>News24</td>\n",
       "      <td>South Africa's premier online news resource. F...</td>\n",
       "      <td>322578</td>\n",
       "      <td>632</td>\n",
       "      <td>3574869</td>\n",
       "      <td>4452</td>\n",
       "      <td>72</td>\n",
       "      <td>228</td>\n",
       "      <td>1015</td>\n",
       "      <td>206020</td>\n",
       "      <td>91137</td>\n",
       "    </tr>\n",
       "    <tr>\n",
       "      <th>0</th>\n",
       "      <td>1102508781781557248</td>\n",
       "      <td>jdwtweet</td>\n",
       "      <td>SAPresident</td>\n",
       "      <td></td>\n",
       "      <td>19</td>\n",
       "      <td>14</td>\n",
       "      <td>18</td>\n",
       "      <td>500</td>\n",
       "      <td>0</td>\n",
       "      <td>0</td>\n",
       "      <td>1</td>\n",
       "      <td>0</td>\n",
       "      <td>38</td>\n",
       "    </tr>\n",
       "    <tr>\n",
       "      <th>0</th>\n",
       "      <td>17962204</td>\n",
       "      <td>Gareth Cliff</td>\n",
       "      <td>GarethCliff</td>\n",
       "      <td>President of https://t.co/scMZ7lsVKF ⚜. Enquir...</td>\n",
       "      <td>31623</td>\n",
       "      <td>356</td>\n",
       "      <td>1974435</td>\n",
       "      <td>4238</td>\n",
       "      <td>7</td>\n",
       "      <td>41</td>\n",
       "      <td>165</td>\n",
       "      <td>4217</td>\n",
       "      <td>1791</td>\n",
       "    </tr>\n",
       "    <tr>\n",
       "      <th>0</th>\n",
       "      <td>46335511</td>\n",
       "      <td>Trevor Noah</td>\n",
       "      <td>Trevornoah</td>\n",
       "      <td>Comedian from South Africa. I was in the crowd...</td>\n",
       "      <td>11185</td>\n",
       "      <td>325</td>\n",
       "      <td>10802136</td>\n",
       "      <td>4053</td>\n",
       "      <td>2</td>\n",
       "      <td>0</td>\n",
       "      <td>13</td>\n",
       "      <td>136176</td>\n",
       "      <td>592655</td>\n",
       "    </tr>\n",
       "  </tbody>\n",
       "</table>\n",
       "<p>93 rows × 13 columns</p>\n",
       "</div>"
      ],
      "text/plain": [
       "                     id                 name      screen_name  \\\n",
       "0             305125998    Jeffrey Gettleman        gettleman   \n",
       "0              26475943            A24 Media         a24media   \n",
       "0              72013267            Scapegoat     AndiMakinana   \n",
       "0             625489039         Africa Check      AfricaCheck   \n",
       "0             401520924        James Copnall     JamesCopnall   \n",
       "..                  ...                  ...              ...   \n",
       "0             117102398  Julius Sello Malema  Julius_S_Malema   \n",
       "0              14697575               News24           News24   \n",
       "0   1102508781781557248             jdwtweet      SAPresident   \n",
       "0              17962204         Gareth Cliff      GarethCliff   \n",
       "0              46335511          Trevor Noah       Trevornoah   \n",
       "\n",
       "                                          description statuses_count  \\\n",
       "0   South Asia bureau chief for the New York Times...           3769   \n",
       "0   Africa 24 produces compelling content that mak...          16858   \n",
       "0   In pursuit of scoops. I do not write headlines...         142218   \n",
       "0   Africa's first independent fact-checking websi...          27310   \n",
       "0   BBC reporter + presenter. Author A Poisonous T...          19434   \n",
       "..                                                ...            ...   \n",
       "0   Commander in Chief of Economic Freedom Fighter...          37190   \n",
       "0   South Africa's premier online news resource. F...         322578   \n",
       "0                                                                 19   \n",
       "0   President of https://t.co/scMZ7lsVKF ⚜. Enquir...          31623   \n",
       "0   Comedian from South Africa. I was in the crowd...          11185   \n",
       "\n",
       "   friends_count followers_count account_age_days avg_daily_tweets hashtags  \\\n",
       "0             37           25691             3340                1        5   \n",
       "0           3059           31287             4131                4       28   \n",
       "0           2840          101226             3966               35       38   \n",
       "0           4590           68047             2935                9      152   \n",
       "0           5045           21960             3182                6       21   \n",
       "..           ...             ...              ...              ...      ...   \n",
       "0            652         3125484             3795                9       75   \n",
       "0            632         3574869             4452               72      228   \n",
       "0             14              18              500                0        0   \n",
       "0            356         1974435             4238                7       41   \n",
       "0            325        10802136             4053                2        0   \n",
       "\n",
       "   user_mentions favorite_count retweet_count  \n",
       "0             39            262        111589  \n",
       "0             45            105           180  \n",
       "0            628          19132        395510  \n",
       "0            210           1535          1491  \n",
       "0             83            139         47609  \n",
       "..           ...            ...           ...  \n",
       "0            549         175191        292263  \n",
       "0           1015         206020         91137  \n",
       "0              1              0            38  \n",
       "0            165           4217          1791  \n",
       "0             13         136176        592655  \n",
       "\n",
       "[93 rows x 13 columns]"
      ]
     },
     "execution_count": 162,
     "metadata": {},
     "output_type": "execute_result"
    }
   ],
   "source": [
    "df_inf"
   ]
  },
  {
   "cell_type": "markdown",
   "metadata": {},
   "source": [
    "> Save Gathered Twitter Data of Top African Influencers to csv file"
   ]
  },
  {
   "cell_type": "code",
   "execution_count": 2,
   "metadata": {},
   "outputs": [],
   "source": [
    "# df_inf.to_csv('twitter_datasets/acct_info/afriqTopInfluencers,csv', sep=',')"
   ]
  },
  {
   "cell_type": "markdown",
   "metadata": {},
   "source": [
    "> ."
   ]
  },
  {
   "cell_type": "code",
   "execution_count": 152,
   "metadata": {},
   "outputs": [
    {
     "name": "stdout",
     "output_type": "stream",
     "text": [
      "Getting data for @EswatiniGovern1\n",
      "Getting data for @MalawiGovt\n",
      "Getting data for @hagegeingob\n",
      "Getting data for @FinanceSC\n",
      "Getting data for @PresidencyZA\n",
      "Getting data for @mohzambia\n",
      "Getting data for @edmnangagwa\n",
      "Getting data for @MinSantedj\n",
      "Getting data for @hawelti\n",
      "Getting data for @StateHouseKenya\n",
      "Getting data for @PaulKagame\n",
      "Getting data for @M_Farmaajo\n",
      "Getting data for @SouthSudanGov\n",
      "Getting data for @SudanPMHamdok\n",
      "Getting data for @TZSpokesperson\n",
      "Getting data for @KagutaMuseveni\n",
      "Getting data for @angola_Mirex\n",
      "Getting data for @willynyamitwe\n",
      "Getting data for @Cherif_MZ\n",
      "Getting data for @Presidence_RDC\n",
      "Getting data for @PresidentABO\n",
      "Getting data for @PresidenceBenin\n",
      "Getting data for @rochkaborepf\n",
      "Getting data for @PresidenciaCV\n",
      "Getting data for @AOuattara_PRCI\n",
      "Getting data for @Presidency_GMB\n",
      "Getting data for @NAkufoAddo\n",
      "Getting data for @President_GN\n",
      "Getting data for @USEmbalo\n",
      "Getting data for @PresidenceMali\n",
      "Getting data for @CheikhGhazouani\n",
      "Getting data for @IssoufouMhm\n",
      "Getting data for @MBuhari\n",
      "Getting data for @Macky_Sall\n",
      "Getting data for @PresidentBio\n",
      "Getting data for @MSPS_Togo\n",
      "Getting data for @TsholetsaDomi\n",
      "Getting data for @Azali_officiel\n",
      "Getting data for @SE_Rajoelina\n",
      "Getting data for @PKJugnauth\n",
      "Getting data for @AbiyAhmedAli\n",
      "Getting data for @PR_Paul_BIYA\n",
      "Getting data for @MinistereComCG\n"
     ]
    }
   ],
   "source": [
    "df_gov = get_tweets(afriq_govt_handle)"
   ]
  },
  {
   "cell_type": "code",
   "execution_count": 3,
   "metadata": {},
   "outputs": [
    {
     "ename": "NameError",
     "evalue": "name 'df_gov' is not defined",
     "output_type": "error",
     "traceback": [
      "\u001b[0;31m---------------------------------------------------------------------------\u001b[0m",
      "\u001b[0;31mNameError\u001b[0m                                 Traceback (most recent call last)",
      "\u001b[0;32m<ipython-input-3-7e31d6552c0e>\u001b[0m in \u001b[0;36m<module>\u001b[0;34m\u001b[0m\n\u001b[0;32m----> 1\u001b[0;31m \u001b[0mdf_gov\u001b[0m\u001b[0;34m\u001b[0m\u001b[0;34m\u001b[0m\u001b[0m\n\u001b[0m",
      "\u001b[0;31mNameError\u001b[0m: name 'df_gov' is not defined"
     ]
    }
   ],
   "source": [
    "df_gov"
   ]
  },
  {
   "cell_type": "markdown",
   "metadata": {},
   "source": [
    "> Save Gathered Tweetn Data of Africa Governmentleaders to CSV File"
   ]
  },
  {
   "cell_type": "code",
   "execution_count": 157,
   "metadata": {},
   "outputs": [],
   "source": [
    "df_gov.to_csv('twitter_datasets/afriqGovCovid19Resp.csv', sep=',')"
   ]
  },
  {
   "cell_type": "markdown",
   "metadata": {},
   "source": [
    "> Gather Twitter Hashtags of Influencers and Africa Govt. Covid19 Responders"
   ]
  },
  {
   "cell_type": "code",
   "execution_count": 167,
   "metadata": {},
   "outputs": [],
   "source": [
    "def get_hashtags(handles):\n",
    "    \n",
    "    cols = ['id', 'name', 'screen_name', 'hashtags',' hashtag_counts']\n",
    "    \n",
    "    # dataframe that would be returned at the end\n",
    "    df = pd.DataFrame(columns=cols)\n",
    "    #print(df)\n",
    "    handle_data = []\n",
    "            \n",
    "    if len(handles) > 0: \n",
    "        for handle in handles:\n",
    "            value_list = {}\n",
    "            print(\"Getting data for \" + handle)\n",
    "            # this helps avoid Tweepy errors like suspended users or user not ound errors\n",
    "            try:\n",
    "                item = auth_api.get_user(handle)\n",
    "            except tweepy.TweepError as e:\n",
    "                continue\n",
    "            #value_list+= item.id_str, item.name, item.screen_name,\n",
    "            value_list['id'] = item.id_str\n",
    "            value_list['name'] = item.name\n",
    "            value_list['screen_name'] = item.screen_name\n",
    "            value_list['hashtags'] = []\n",
    "            \n",
    "            #get average daily tweets\n",
    "            no_tweets = item.statuses_count\n",
    "            account_created_date = item.created_at\n",
    "            delta = datetime.utcnow() - account_created_date\n",
    "            account_age_days = delta.days\n",
    "           \n",
    "            hashtags = []\n",
    "            tweet_count = 0\n",
    "            end_date = datetime.utcnow() - timedelta(days=30)\n",
    "            \n",
    "\n",
    "            for status in Cursor(auth_api.user_timeline, id=handle).items():\n",
    "                tweet_count+= 1\n",
    "                if hasattr(status, \"entities\"):\n",
    "                    entities = status.entities\n",
    "\n",
    "                # get hashtags\n",
    "                if \"hashtags\" in entities:\n",
    "                    for ent in entities[\"hashtags\"]:\n",
    "                        if ent is not None:\n",
    "                            if \"text\" in ent:\n",
    "                                hashtag = ent[\"text\"]\n",
    "                                if hashtag is not None:\n",
    "                                    hashtags.append(hashtag)\n",
    "                value_list['hashtags'].append(hashtags)\n",
    "                value_list['hashtag_counts'] = len(hashtags)\n",
    "        \n",
    "        df = df.append(pd.DataFrame(value_list))"
   ]
  },
  {
   "cell_type": "code",
   "execution_count": 169,
   "metadata": {},
   "outputs": [],
   "source": [
    "# df_gov_hashtags = get_hashtags(afriq_govt_handle)"
   ]
  },
  {
   "cell_type": "code",
   "execution_count": null,
   "metadata": {},
   "outputs": [],
   "source": []
  }
 ],
 "metadata": {
  "kernelspec": {
   "display_name": "Python 3",
   "language": "python",
   "name": "python3"
  },
  "language_info": {
   "codemirror_mode": {
    "name": "ipython",
    "version": 3
   },
   "file_extension": ".py",
   "mimetype": "text/x-python",
   "name": "python",
   "nbconvert_exporter": "python",
   "pygments_lexer": "ipython3",
   "version": "3.6.9"
  }
 },
 "nbformat": 4,
 "nbformat_minor": 4
}
