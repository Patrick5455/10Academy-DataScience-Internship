{
 "cells": [
  {
   "cell_type": "code",
   "execution_count": 33,
   "metadata": {},
   "outputs": [],
   "source": [
    "import pandas as pd\n",
    "import tweepy\n",
    "from tweepy import OAuthHandler\n",
    "from tweepy import API\n",
    "from tweepy import Cursor\n",
    "from datetime import datetime, date, time, timedelta\n",
    "from collections import Counter\n",
    "import os, sys\n",
    "import csv"
   ]
  },
  {
   "cell_type": "code",
   "execution_count": 34,
   "metadata": {},
   "outputs": [
    {
     "data": {
      "text/plain": [
       "True"
      ]
     },
     "execution_count": 34,
     "metadata": {},
     "output_type": "execute_result"
    }
   ],
   "source": [
    "from dotenv import load_dotenv\n",
    "load_dotenv()"
   ]
  },
  {
   "cell_type": "code",
   "execution_count": 35,
   "metadata": {},
   "outputs": [
    {
     "name": "stdout",
     "output_type": "stream",
     "text": [
      "API_key API_secret_key Access_token Access_token_secret\n"
     ]
    }
   ],
   "source": [
    "API_key=\"API_key\"\n",
    "API_secret_key=\"API_secret_key\"\n",
    "Access_token=\"Access_token\"\n",
    "Access_token_secret=\"Access_token_secret\"\n",
    "print(API_key, API_secret_key, Access_token, Access_token_secret)"
   ]
  },
  {
   "cell_type": "code",
   "execution_count": 36,
   "metadata": {},
   "outputs": [],
   "source": [
    "API_key = os.environ.get(API_key)\n",
    "API_secret_key = os.environ.get(API_secret_key)\n",
    "Access_token = os.environ.get(Access_token)\n",
    "Access_token_secret=os.environ.get(Access_token_secret)"
   ]
  },
  {
   "cell_type": "code",
   "execution_count": 44,
   "metadata": {},
   "outputs": [],
   "source": [
    "auth = OAuthHandler(API_key, API_secret_key)\n",
    "auth.set_access_token(Access_token, Access_token_secret)\n",
    "api = tweepy.API(auth, wait_on_rate_limit=True)\n",
    "auth_api = API(auth)"
   ]
  },
  {
   "cell_type": "markdown",
   "metadata": {},
   "source": [
    "> Testing Api"
   ]
  },
  {
   "cell_type": "code",
   "execution_count": 45,
   "metadata": {},
   "outputs": [
    {
     "name": "stdout",
     "output_type": "stream",
     "text": [
      "ARCTIC WILDFIRES: 5 REASONS WHY “ALARM BELLS SHOULD BE RINGING\"\n",
      "\n",
      "1. #Carbonemissions\n",
      "2. #Permafrost loss\n",
      "3. The suf… https://t.co/pqR8iEfrds\n",
      "RT @TDEM: #DYK since July 1, @TXForestService &amp; local fire departments have responded to 155 wildfires that burned 27,889 acres across the…\n"
     ]
    }
   ],
   "source": [
    "search_words = \"#wildfires\"\n",
    "date_since= \"2018-11-16\"\n",
    "# Collect tweets\n",
    "tweets = tweepy.Cursor(api.search,\n",
    "              q=search_words,\n",
    "              lang=\"en\",\n",
    "              since=date_since).items(2)\n",
    "# Iterate and print tweets\n",
    "for tweet in tweets:\n",
    "    print(tweet.text) "
   ]
  },
  {
   "cell_type": "markdown",
   "metadata": {},
   "source": [
    ">> Define function to get tweets"
   ]
  },
  {
   "cell_type": "code",
   "execution_count": 46,
   "metadata": {},
   "outputs": [],
   "source": [
    "def get_tweets(handles):\n",
    "    \n",
    "    cols = ['id', 'name', 'screen_name', 'description', \n",
    "            'statuses_count', 'friends_count', 'followers_count', \n",
    "            'account_age_days', 'avg_daily_tweets', 'hashtags',\n",
    "            'user_mentions','favorite_count', 'retweet_count',]\n",
    "    \n",
    "    # dataframe that would be returned at the end\n",
    "    df = pd.DataFrame(columns=cols)\n",
    "    #print(df)\n",
    "    handle_data = []\n",
    "    off_users = []\n",
    "            \n",
    "    if len(handles) > 0: \n",
    "        for handle in handles:\n",
    "            value_list = []\n",
    "            print(\"Getting data for \" + handle)\n",
    "            # this helps avoid Tweepy errors like suspended users or user not ound errors\n",
    "            try:\n",
    "                item = auth_api.get_user(handle)\n",
    "            except tweepy.TweepError as e:\n",
    "                continue\n",
    "            value_list+= item.id_str, item.name, item.screen_name,\\\n",
    "            item.description, item.statuses_count, item.friends_count, item.followers_count\n",
    "            \n",
    "            #get average daily tweets\n",
    "            \n",
    "            no_tweets = item.statuses_count\n",
    "            account_created_date = item.created_at\n",
    "            delta = datetime.utcnow() - account_created_date\n",
    "            account_age_days = delta.days\n",
    "            value_list.append(str(account_age_days))\n",
    "            #print(str(account_age_days))\n",
    "            if account_age_days > 0:\n",
    "                   value_list.append(int(float(no_tweets)/float(account_age_days)))\n",
    "                    \n",
    "                    \n",
    "                    \n",
    "            hashtags = []\n",
    "            mentions = []\n",
    "            favorite_count =[]\n",
    "            retweet_count=[]\n",
    "            tweet_count = 0\n",
    "            end_date = datetime.utcnow() - timedelta(days=30)\n",
    "            \n",
    "\n",
    "            for status in Cursor(auth_api.user_timeline, id=handle).items():\n",
    "                tweet_count+= 1\n",
    "                if hasattr(status, \"entities\"):\n",
    "                    entities = status.entities\n",
    "\n",
    "                # get hashtags\n",
    "                if \"hashtags\" in entities:\n",
    "                    for ent in entities[\"hashtags\"]:\n",
    "                        if ent is not None:\n",
    "                            if \"text\" in ent:\n",
    "                                hashtag = ent[\"text\"]\n",
    "                                if hashtag is not None:\n",
    "                                    hashtags.append(hashtag)\n",
    "                # get usermentions\n",
    "                if \"user_mentions\" in entities:\n",
    "                    for ent in entities[\"user_mentions\"]:\n",
    "                        if ent is not None:\n",
    "                            if \"screen_name\" in ent:\n",
    "                                name = ent[\"screen_name\"]\n",
    "                                if name is not None:\n",
    "                                    mentions.append(name)\n",
    "\n",
    "                # get retweets    \n",
    "                if hasattr(status, \"retweet_count\"):\n",
    "                    retweets = status.retweet_count\n",
    "                    if retweets is not None:\n",
    "                        retweet_count.append(retweets)\n",
    "                        \n",
    "                # favorite count     \n",
    "                if hasattr(status, \"favorite_count\"):\n",
    "                    likes = status.favorite_count \n",
    "                    if likes is not None:\n",
    "                        favorite_count.append(likes)\n",
    "                if status.created_at < end_date:\n",
    "                    break\n",
    "                    \n",
    "            \n",
    "            value_list.append(len(hashtags))\n",
    "            value_list.append(len(mentions))\n",
    "            value_list.append(sum(favorite_count))\n",
    "            value_list.append(sum(retweet_count))\n",
    "            handle_data.append(value_list)\n",
    "            #print(handle_data)\n",
    "            #break\n",
    "    #ls = {}\n",
    "            #df_1 = pd.DataFrame([handle_data], columns=cols)\n",
    "            #print(handle_data)\n",
    "            #complete_df = pd.concat(df, df_1)\n",
    "            df = df.append(pd.DataFrame([value_list], columns=cols))\n",
    "            #print(df)\n",
    "    return df"
   ]
  },
  {
   "cell_type": "markdown",
   "metadata": {},
   "source": [
    ">> Load Handles into pandas "
   ]
  },
  {
   "cell_type": "code",
   "execution_count": 47,
   "metadata": {},
   "outputs": [],
   "source": [
    "afriq_users_handle = pd.read_csv('scraped_handles/top_100_influencers.csv')\n",
    "afriq_users_handle = afriq_users_handle.handles.tolist()"
   ]
  },
  {
   "cell_type": "code",
   "execution_count": 48,
   "metadata": {},
   "outputs": [
    {
     "data": {
      "text/plain": [
       "['@gettleman', '@a24media', '@andiMakinana', '@AfricaCheck']"
      ]
     },
     "execution_count": 48,
     "metadata": {},
     "output_type": "execute_result"
    }
   ],
   "source": [
    "afriq_users_handle[:4]"
   ]
  },
  {
   "cell_type": "code",
   "execution_count": null,
   "metadata": {},
   "outputs": [
    {
     "name": "stdout",
     "output_type": "stream",
     "text": [
      "Getting data for @gettleman\n"
     ]
    }
   ],
   "source": [
    "df_inf = get_tweets(afriq_users_handle)"
   ]
  },
  {
   "cell_type": "code",
   "execution_count": null,
   "metadata": {},
   "outputs": [],
   "source": [
    "# df_inf"
   ]
  },
  {
   "cell_type": "code",
   "execution_count": null,
   "metadata": {},
   "outputs": [],
   "source": []
  }
 ],
 "metadata": {
  "kernelspec": {
   "display_name": "Python 3",
   "language": "python",
   "name": "python3"
  },
  "language_info": {
   "codemirror_mode": {
    "name": "ipython",
    "version": 3
   },
   "file_extension": ".py",
   "mimetype": "text/x-python",
   "name": "python",
   "nbconvert_exporter": "python",
   "pygments_lexer": "ipython3",
   "version": "3.6.9"
  }
 },
 "nbformat": 4,
 "nbformat_minor": 4
}
