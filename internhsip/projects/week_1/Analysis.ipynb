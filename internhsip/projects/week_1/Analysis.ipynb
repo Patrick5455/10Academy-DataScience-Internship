{
 "cells": [
  {
   "cell_type": "markdown",
   "metadata": {},
   "source": [
    "## Exploratory Data Analysis of African Influencers\n",
    "<!--  for Nike Inc Proposed Social Media Marketing Campaign-->\n",
    "- #### Twitter users segmentation"
   ]
  },
  {
   "cell_type": "markdown",
   "metadata": {},
   "source": [
    "   "
   ]
  },
  {
   "cell_type": "markdown",
   "metadata": {},
   "source": [
    "#### Table of Content"
   ]
  },
  {
   "cell_type": "markdown",
   "metadata": {},
   "source": [
    "<html>\n",
    "    \n",
    "<ul> \n",
    " <li> <a href=\"#abs\">Abstract</a></li>\n",
    " <li> <a href= \"#obj\">Objective</a> </li>\n",
    " <li> <a href =\"#rq\">Research Questions </a> </li>\n",
    " <li> <a href=\"#dw\">Data Wrangling</a> </li>\n",
    " <li> <a href=\"#ana\">Analysis</a></li>\n",
    "    <ol>\n",
    "        <li><a href = \"#r1\">Research Question 1</a></li>\n",
    "        <li><a href = \"#r2\">Research Question 2</a></li>\n",
    "        <li><a href = \"#r3\">Research Question 3</a></li>\n",
    "    </ol>\n",
    " <li> <a href = \"#gi\">General Insights</a></li>   \n",
    " <li> <a href = \"#rc\">Recommendations & Conclusion</a></li>\n",
    " <li> <a href = \"#lim\">Limitations</a></li>\n",
    " <li> <a href= \"#ref\">References</a> </li>\n",
    "</ul>\n",
    "    <a id=\"top\"></a>\n",
    "</html>"
   ]
  },
  {
   "cell_type": "markdown",
   "metadata": {},
   "source": [
    " "
   ]
  },
  {
   "cell_type": "markdown",
   "metadata": {},
   "source": [
    "<a id=\"abs\"></a>\n",
    "\n",
    "### Abstract"
   ]
  },
  {
   "cell_type": "code",
   "execution_count": null,
   "metadata": {},
   "outputs": [],
   "source": []
  },
  {
   "cell_type": "code",
   "execution_count": null,
   "metadata": {},
   "outputs": [],
   "source": []
  },
  {
   "cell_type": "markdown",
   "metadata": {},
   "source": [
    "<a id=\"obj\"></a>\n",
    "### Objective"
   ]
  },
  {
   "cell_type": "code",
   "execution_count": null,
   "metadata": {},
   "outputs": [],
   "source": []
  },
  {
   "cell_type": "markdown",
   "metadata": {},
   "source": [
    " "
   ]
  },
  {
   "cell_type": "markdown",
   "metadata": {},
   "source": [
    "<a id=\"rq\"></a>\n",
    "### Research Questions"
   ]
  },
  {
   "cell_type": "markdown",
   "metadata": {},
   "source": [
    "#### The Reserach Question are formed in reference to the objective of this Analytic effort: \n",
    "####  `Nike Expanding to Africa` "
   ]
  },
  {
   "cell_type": "markdown",
   "metadata": {},
   "source": [
    "- Reserch Question 1:\n",
    "        \n",
    "    >  Who are the Top Influencers & what are thier  Attributes:\n",
    "    \n",
    "     > a. Who are the top 10 non-governmental Influencers ?\n",
    "        \n",
    "     > b. What african government have more influence (top 10) ? \n",
    "     \n",
    "     > c. Among the top influencers, is there a corellation between:\n",
    "     \n",
    "  -         reach and relevance \n",
    "  -         reach and populairty\n",
    "  -         popularity and relevance\n",
    "     \n",
    "    \n",
    "- Research Question 2:\n",
    "\n",
    "    > Popular narratives among theses influencers (governmental & non-governmental) :\n",
    "    \n",
    "    > a. What are the top 10 retweets of these influecers ?\n",
    "    \n",
    "    > b. What are the top 5 (most popular) hahstags used in these retweets ?\n",
    "     \n",
    "    \n",
    "- Research Question 3:\n",
    "\n",
    "    > Spatial & Temporal setting of influencers:\n",
    "    \n",
    "    > a. What profession/domain is most popular among the non-government influencers\n",
    "    \n",
    "    > b. What is the average age of these influencers account? \n",
    "    \n",
    "    > c. Is there a corellation between account age and popularity score, reach score amd relevance score\n",
    "    \n",
    " \n",
    " "
   ]
  },
  {
   "cell_type": "markdown",
   "metadata": {},
   "source": [
    " "
   ]
  },
  {
   "cell_type": "markdown",
   "metadata": {},
   "source": [
    "<a id=\"dw\"></a>\n",
    "### Data Wrangling"
   ]
  },
  {
   "cell_type": "markdown",
   "metadata": {},
   "source": [
    "> Import Libraries"
   ]
  },
  {
   "cell_type": "code",
   "execution_count": 416,
   "metadata": {},
   "outputs": [],
   "source": [
    "import pandas as pd\n",
    "import numpy as np\n",
    "import seaborn as sns\n",
    "import matplotlib.pyplot as plt\n",
    "from scipy.stats import spearmanr, rankdata\n",
    "%matplotlib inline"
   ]
  },
  {
   "cell_type": "markdown",
   "metadata": {},
   "source": [
    "#### Gather Data\n",
    "> Load Datasets"
   ]
  },
  {
   "cell_type": "markdown",
   "metadata": {},
   "source": [
    ">> Tweet Info"
   ]
  },
  {
   "cell_type": "markdown",
   "metadata": {},
   "source": [
    ">>> Africa Govt. Covid19 Response Tweet Info"
   ]
  },
  {
   "cell_type": "code",
   "execution_count": 417,
   "metadata": {},
   "outputs": [],
   "source": [
    "govtRes = pd.read_csv('twitter_datasets/acct_info/afriqGovCovid19Resp.csv')"
   ]
  },
  {
   "cell_type": "markdown",
   "metadata": {},
   "source": [
    ">>> Africa Influencers Tweet Info"
   ]
  },
  {
   "cell_type": "code",
   "execution_count": 418,
   "metadata": {},
   "outputs": [],
   "source": [
    "afriqInf = pd.read_csv('twitter_datasets/acct_info/afriqTopInfluencers.csv')"
   ]
  },
  {
   "cell_type": "markdown",
   "metadata": {},
   "source": [
    ">> Hashtags Info"
   ]
  },
  {
   "cell_type": "markdown",
   "metadata": {},
   "source": [
    ">>> Africa Govt. Covid19 Response Hashtags"
   ]
  },
  {
   "cell_type": "code",
   "execution_count": 419,
   "metadata": {},
   "outputs": [],
   "source": [
    "govtResHash = pd.read_csv('twitter_datasets/acct_hashtags/govtHashtags.csv')"
   ]
  },
  {
   "cell_type": "markdown",
   "metadata": {},
   "source": [
    ">>> Africa Influencers Hashtags"
   ]
  },
  {
   "cell_type": "code",
   "execution_count": 420,
   "metadata": {},
   "outputs": [],
   "source": [
    "afriqInfHash = pd.read_csv('twitter_datasets/acct_hashtags/afriqInfHashtags.csv')"
   ]
  },
  {
   "cell_type": "markdown",
   "metadata": {},
   "source": [
    " "
   ]
  },
  {
   "cell_type": "markdown",
   "metadata": {},
   "source": [
    "#### Assessment & Cleaning"
   ]
  },
  {
   "cell_type": "markdown",
   "metadata": {},
   "source": [
    "> Assess data for quality and structural issues"
   ]
  },
  {
   "cell_type": "markdown",
   "metadata": {},
   "source": [
    ">> Tweet Info datasets"
   ]
  },
  {
   "cell_type": "code",
   "execution_count": 421,
   "metadata": {},
   "outputs": [],
   "source": [
    "govtResCopy = govtRes.copy()"
   ]
  },
  {
   "cell_type": "code",
   "execution_count": 422,
   "metadata": {},
   "outputs": [
    {
     "data": {
      "text/html": [
       "<div>\n",
       "<style scoped>\n",
       "    .dataframe tbody tr th:only-of-type {\n",
       "        vertical-align: middle;\n",
       "    }\n",
       "\n",
       "    .dataframe tbody tr th {\n",
       "        vertical-align: top;\n",
       "    }\n",
       "\n",
       "    .dataframe thead th {\n",
       "        text-align: right;\n",
       "    }\n",
       "</style>\n",
       "<table border=\"1\" class=\"dataframe\">\n",
       "  <thead>\n",
       "    <tr style=\"text-align: right;\">\n",
       "      <th></th>\n",
       "      <th>Unnamed: 0</th>\n",
       "      <th>id</th>\n",
       "      <th>name</th>\n",
       "      <th>screen_name</th>\n",
       "      <th>description</th>\n",
       "      <th>statuses_count</th>\n",
       "      <th>friends_count</th>\n",
       "      <th>followers_count</th>\n",
       "      <th>account_age_days</th>\n",
       "      <th>avg_daily_tweets</th>\n",
       "      <th>hashtags</th>\n",
       "      <th>user_mentions</th>\n",
       "      <th>favorite_count</th>\n",
       "      <th>retweet_count</th>\n",
       "    </tr>\n",
       "  </thead>\n",
       "  <tbody>\n",
       "    <tr>\n",
       "      <th>0</th>\n",
       "      <td>0</td>\n",
       "      <td>1181832897508065280</td>\n",
       "      <td>Eswatini Government</td>\n",
       "      <td>EswatiniGovern1</td>\n",
       "      <td>This is the official twitter account of the Go...</td>\n",
       "      <td>1672</td>\n",
       "      <td>82</td>\n",
       "      <td>11284</td>\n",
       "      <td>282</td>\n",
       "      <td>5</td>\n",
       "      <td>78</td>\n",
       "      <td>13</td>\n",
       "      <td>5600</td>\n",
       "      <td>1655</td>\n",
       "    </tr>\n",
       "    <tr>\n",
       "      <th>1</th>\n",
       "      <td>0</td>\n",
       "      <td>2189970192</td>\n",
       "      <td>Malawi Government</td>\n",
       "      <td>MalawiGovt</td>\n",
       "      <td>#Malawi Government Twitter Feed | https://t.co...</td>\n",
       "      <td>4030</td>\n",
       "      <td>26</td>\n",
       "      <td>39182</td>\n",
       "      <td>2439</td>\n",
       "      <td>1</td>\n",
       "      <td>85</td>\n",
       "      <td>49</td>\n",
       "      <td>8404</td>\n",
       "      <td>4503</td>\n",
       "    </tr>\n",
       "    <tr>\n",
       "      <th>2</th>\n",
       "      <td>0</td>\n",
       "      <td>2515899612</td>\n",
       "      <td>Hage G. Geingob</td>\n",
       "      <td>hagegeingob</td>\n",
       "      <td>President of the Republic of Namibia</td>\n",
       "      <td>1085</td>\n",
       "      <td>55</td>\n",
       "      <td>192187</td>\n",
       "      <td>2247</td>\n",
       "      <td>0</td>\n",
       "      <td>3</td>\n",
       "      <td>1</td>\n",
       "      <td>13081</td>\n",
       "      <td>1641</td>\n",
       "    </tr>\n",
       "    <tr>\n",
       "      <th>3</th>\n",
       "      <td>0</td>\n",
       "      <td>1239872615248015361</td>\n",
       "      <td>Seychelles Ministry of Finance</td>\n",
       "      <td>FinanceSC</td>\n",
       "      <td>Ministry of Finance, Trade, Investment and Eco...</td>\n",
       "      <td>124</td>\n",
       "      <td>224</td>\n",
       "      <td>126</td>\n",
       "      <td>122</td>\n",
       "      <td>1</td>\n",
       "      <td>0</td>\n",
       "      <td>0</td>\n",
       "      <td>10</td>\n",
       "      <td>1</td>\n",
       "    </tr>\n",
       "    <tr>\n",
       "      <th>4</th>\n",
       "      <td>0</td>\n",
       "      <td>40839292</td>\n",
       "      <td>Presidency | South Africa 🇿🇦</td>\n",
       "      <td>PresidencyZA</td>\n",
       "      <td>This is the official Twitter page of The Presi...</td>\n",
       "      <td>18848</td>\n",
       "      <td>14</td>\n",
       "      <td>1597660</td>\n",
       "      <td>4078</td>\n",
       "      <td>4</td>\n",
       "      <td>73</td>\n",
       "      <td>123</td>\n",
       "      <td>25153</td>\n",
       "      <td>11990</td>\n",
       "    </tr>\n",
       "  </tbody>\n",
       "</table>\n",
       "</div>"
      ],
      "text/plain": [
       "   Unnamed: 0                   id                            name  \\\n",
       "0           0  1181832897508065280             Eswatini Government   \n",
       "1           0           2189970192               Malawi Government   \n",
       "2           0           2515899612                 Hage G. Geingob   \n",
       "3           0  1239872615248015361  Seychelles Ministry of Finance   \n",
       "4           0             40839292    Presidency | South Africa 🇿🇦   \n",
       "\n",
       "       screen_name                                        description  \\\n",
       "0  EswatiniGovern1  This is the official twitter account of the Go...   \n",
       "1       MalawiGovt  #Malawi Government Twitter Feed | https://t.co...   \n",
       "2      hagegeingob               President of the Republic of Namibia   \n",
       "3        FinanceSC  Ministry of Finance, Trade, Investment and Eco...   \n",
       "4     PresidencyZA  This is the official Twitter page of The Presi...   \n",
       "\n",
       "   statuses_count  friends_count  followers_count  account_age_days  \\\n",
       "0            1672             82            11284               282   \n",
       "1            4030             26            39182              2439   \n",
       "2            1085             55           192187              2247   \n",
       "3             124            224              126               122   \n",
       "4           18848             14          1597660              4078   \n",
       "\n",
       "   avg_daily_tweets  hashtags  user_mentions  favorite_count  retweet_count  \n",
       "0                 5        78             13            5600           1655  \n",
       "1                 1        85             49            8404           4503  \n",
       "2                 0         3              1           13081           1641  \n",
       "3                 1         0              0              10              1  \n",
       "4                 4        73            123           25153          11990  "
      ]
     },
     "execution_count": 422,
     "metadata": {},
     "output_type": "execute_result"
    }
   ],
   "source": [
    "govtResCopy.head()"
   ]
  },
  {
   "cell_type": "code",
   "execution_count": 423,
   "metadata": {},
   "outputs": [
    {
     "name": "stdout",
     "output_type": "stream",
     "text": [
      "<class 'pandas.core.frame.DataFrame'>\n",
      "RangeIndex: 42 entries, 0 to 41\n",
      "Data columns (total 14 columns):\n",
      " #   Column            Non-Null Count  Dtype \n",
      "---  ------            --------------  ----- \n",
      " 0   Unnamed: 0        42 non-null     int64 \n",
      " 1   id                42 non-null     int64 \n",
      " 2   name              42 non-null     object\n",
      " 3   screen_name       42 non-null     object\n",
      " 4   description       40 non-null     object\n",
      " 5   statuses_count    42 non-null     int64 \n",
      " 6   friends_count     42 non-null     int64 \n",
      " 7   followers_count   42 non-null     int64 \n",
      " 8   account_age_days  42 non-null     int64 \n",
      " 9   avg_daily_tweets  42 non-null     int64 \n",
      " 10  hashtags          42 non-null     int64 \n",
      " 11  user_mentions     42 non-null     int64 \n",
      " 12  favorite_count    42 non-null     int64 \n",
      " 13  retweet_count     42 non-null     int64 \n",
      "dtypes: int64(11), object(3)\n",
      "memory usage: 4.7+ KB\n"
     ]
    }
   ],
   "source": [
    "govtResCopy.info()"
   ]
  },
  {
   "cell_type": "markdown",
   "metadata": {},
   "source": [
    ">> Drop column `unnamed`"
   ]
  },
  {
   "cell_type": "code",
   "execution_count": 424,
   "metadata": {},
   "outputs": [],
   "source": [
    "govtResCopy.drop(columns='Unnamed: 0', axis=1, inplace=True)"
   ]
  },
  {
   "cell_type": "code",
   "execution_count": 425,
   "metadata": {},
   "outputs": [
    {
     "data": {
      "text/html": [
       "<div>\n",
       "<style scoped>\n",
       "    .dataframe tbody tr th:only-of-type {\n",
       "        vertical-align: middle;\n",
       "    }\n",
       "\n",
       "    .dataframe tbody tr th {\n",
       "        vertical-align: top;\n",
       "    }\n",
       "\n",
       "    .dataframe thead th {\n",
       "        text-align: right;\n",
       "    }\n",
       "</style>\n",
       "<table border=\"1\" class=\"dataframe\">\n",
       "  <thead>\n",
       "    <tr style=\"text-align: right;\">\n",
       "      <th></th>\n",
       "      <th>id</th>\n",
       "      <th>name</th>\n",
       "      <th>screen_name</th>\n",
       "      <th>description</th>\n",
       "      <th>statuses_count</th>\n",
       "      <th>friends_count</th>\n",
       "      <th>followers_count</th>\n",
       "      <th>account_age_days</th>\n",
       "      <th>avg_daily_tweets</th>\n",
       "      <th>hashtags</th>\n",
       "      <th>user_mentions</th>\n",
       "      <th>favorite_count</th>\n",
       "      <th>retweet_count</th>\n",
       "    </tr>\n",
       "  </thead>\n",
       "  <tbody>\n",
       "    <tr>\n",
       "      <th>0</th>\n",
       "      <td>1181832897508065280</td>\n",
       "      <td>Eswatini Government</td>\n",
       "      <td>EswatiniGovern1</td>\n",
       "      <td>This is the official twitter account of the Go...</td>\n",
       "      <td>1672</td>\n",
       "      <td>82</td>\n",
       "      <td>11284</td>\n",
       "      <td>282</td>\n",
       "      <td>5</td>\n",
       "      <td>78</td>\n",
       "      <td>13</td>\n",
       "      <td>5600</td>\n",
       "      <td>1655</td>\n",
       "    </tr>\n",
       "    <tr>\n",
       "      <th>1</th>\n",
       "      <td>2189970192</td>\n",
       "      <td>Malawi Government</td>\n",
       "      <td>MalawiGovt</td>\n",
       "      <td>#Malawi Government Twitter Feed | https://t.co...</td>\n",
       "      <td>4030</td>\n",
       "      <td>26</td>\n",
       "      <td>39182</td>\n",
       "      <td>2439</td>\n",
       "      <td>1</td>\n",
       "      <td>85</td>\n",
       "      <td>49</td>\n",
       "      <td>8404</td>\n",
       "      <td>4503</td>\n",
       "    </tr>\n",
       "    <tr>\n",
       "      <th>2</th>\n",
       "      <td>2515899612</td>\n",
       "      <td>Hage G. Geingob</td>\n",
       "      <td>hagegeingob</td>\n",
       "      <td>President of the Republic of Namibia</td>\n",
       "      <td>1085</td>\n",
       "      <td>55</td>\n",
       "      <td>192187</td>\n",
       "      <td>2247</td>\n",
       "      <td>0</td>\n",
       "      <td>3</td>\n",
       "      <td>1</td>\n",
       "      <td>13081</td>\n",
       "      <td>1641</td>\n",
       "    </tr>\n",
       "    <tr>\n",
       "      <th>3</th>\n",
       "      <td>1239872615248015361</td>\n",
       "      <td>Seychelles Ministry of Finance</td>\n",
       "      <td>FinanceSC</td>\n",
       "      <td>Ministry of Finance, Trade, Investment and Eco...</td>\n",
       "      <td>124</td>\n",
       "      <td>224</td>\n",
       "      <td>126</td>\n",
       "      <td>122</td>\n",
       "      <td>1</td>\n",
       "      <td>0</td>\n",
       "      <td>0</td>\n",
       "      <td>10</td>\n",
       "      <td>1</td>\n",
       "    </tr>\n",
       "    <tr>\n",
       "      <th>4</th>\n",
       "      <td>40839292</td>\n",
       "      <td>Presidency | South Africa 🇿🇦</td>\n",
       "      <td>PresidencyZA</td>\n",
       "      <td>This is the official Twitter page of The Presi...</td>\n",
       "      <td>18848</td>\n",
       "      <td>14</td>\n",
       "      <td>1597660</td>\n",
       "      <td>4078</td>\n",
       "      <td>4</td>\n",
       "      <td>73</td>\n",
       "      <td>123</td>\n",
       "      <td>25153</td>\n",
       "      <td>11990</td>\n",
       "    </tr>\n",
       "  </tbody>\n",
       "</table>\n",
       "</div>"
      ],
      "text/plain": [
       "                    id                            name      screen_name  \\\n",
       "0  1181832897508065280             Eswatini Government  EswatiniGovern1   \n",
       "1           2189970192               Malawi Government       MalawiGovt   \n",
       "2           2515899612                 Hage G. Geingob      hagegeingob   \n",
       "3  1239872615248015361  Seychelles Ministry of Finance        FinanceSC   \n",
       "4             40839292    Presidency | South Africa 🇿🇦     PresidencyZA   \n",
       "\n",
       "                                         description  statuses_count  \\\n",
       "0  This is the official twitter account of the Go...            1672   \n",
       "1  #Malawi Government Twitter Feed | https://t.co...            4030   \n",
       "2               President of the Republic of Namibia            1085   \n",
       "3  Ministry of Finance, Trade, Investment and Eco...             124   \n",
       "4  This is the official Twitter page of The Presi...           18848   \n",
       "\n",
       "   friends_count  followers_count  account_age_days  avg_daily_tweets  \\\n",
       "0             82            11284               282                 5   \n",
       "1             26            39182              2439                 1   \n",
       "2             55           192187              2247                 0   \n",
       "3            224              126               122                 1   \n",
       "4             14          1597660              4078                 4   \n",
       "\n",
       "   hashtags  user_mentions  favorite_count  retweet_count  \n",
       "0        78             13            5600           1655  \n",
       "1        85             49            8404           4503  \n",
       "2         3              1           13081           1641  \n",
       "3         0              0              10              1  \n",
       "4        73            123           25153          11990  "
      ]
     },
     "execution_count": 425,
     "metadata": {},
     "output_type": "execute_result"
    }
   ],
   "source": [
    "govtResCopy.head()"
   ]
  },
  {
   "cell_type": "markdown",
   "metadata": {},
   "source": [
    "> Check for duplicates"
   ]
  },
  {
   "cell_type": "code",
   "execution_count": 426,
   "metadata": {},
   "outputs": [
    {
     "data": {
      "text/plain": [
       "False"
      ]
     },
     "execution_count": 426,
     "metadata": {},
     "output_type": "execute_result"
    }
   ],
   "source": [
    "govtResCopy.duplicated().any()"
   ]
  },
  {
   "cell_type": "markdown",
   "metadata": {},
   "source": [
    "> There are no duplicate rows"
   ]
  },
  {
   "cell_type": "markdown",
   "metadata": {},
   "source": [
    "> THe data is clean and fit for analysis"
   ]
  },
  {
   "cell_type": "code",
   "execution_count": 427,
   "metadata": {},
   "outputs": [],
   "source": [
    "afriqInfCopy = afriqInf.copy()"
   ]
  },
  {
   "cell_type": "code",
   "execution_count": 428,
   "metadata": {},
   "outputs": [
    {
     "data": {
      "text/html": [
       "<div>\n",
       "<style scoped>\n",
       "    .dataframe tbody tr th:only-of-type {\n",
       "        vertical-align: middle;\n",
       "    }\n",
       "\n",
       "    .dataframe tbody tr th {\n",
       "        vertical-align: top;\n",
       "    }\n",
       "\n",
       "    .dataframe thead th {\n",
       "        text-align: right;\n",
       "    }\n",
       "</style>\n",
       "<table border=\"1\" class=\"dataframe\">\n",
       "  <thead>\n",
       "    <tr style=\"text-align: right;\">\n",
       "      <th></th>\n",
       "      <th>Unnamed: 0</th>\n",
       "      <th>id</th>\n",
       "      <th>name</th>\n",
       "      <th>screen_name</th>\n",
       "      <th>description</th>\n",
       "      <th>statuses_count</th>\n",
       "      <th>friends_count</th>\n",
       "      <th>followers_count</th>\n",
       "      <th>account_age_days</th>\n",
       "      <th>avg_daily_tweets</th>\n",
       "      <th>hashtags</th>\n",
       "      <th>user_mentions</th>\n",
       "      <th>favorite_count</th>\n",
       "      <th>retweet_count</th>\n",
       "    </tr>\n",
       "  </thead>\n",
       "  <tbody>\n",
       "    <tr>\n",
       "      <th>0</th>\n",
       "      <td>0</td>\n",
       "      <td>305125998</td>\n",
       "      <td>Jeffrey Gettleman</td>\n",
       "      <td>gettleman</td>\n",
       "      <td>South Asia bureau chief for the New York Times...</td>\n",
       "      <td>3770</td>\n",
       "      <td>37</td>\n",
       "      <td>25700</td>\n",
       "      <td>3340</td>\n",
       "      <td>1</td>\n",
       "      <td>5</td>\n",
       "      <td>38</td>\n",
       "      <td>268</td>\n",
       "      <td>111152</td>\n",
       "    </tr>\n",
       "    <tr>\n",
       "      <th>1</th>\n",
       "      <td>0</td>\n",
       "      <td>26475943</td>\n",
       "      <td>A24 Media</td>\n",
       "      <td>a24media</td>\n",
       "      <td>Africa 24 produces compelling content that mak...</td>\n",
       "      <td>16869</td>\n",
       "      <td>3059</td>\n",
       "      <td>31285</td>\n",
       "      <td>4132</td>\n",
       "      <td>4</td>\n",
       "      <td>32</td>\n",
       "      <td>52</td>\n",
       "      <td>96</td>\n",
       "      <td>190</td>\n",
       "    </tr>\n",
       "    <tr>\n",
       "      <th>2</th>\n",
       "      <td>0</td>\n",
       "      <td>72013267</td>\n",
       "      <td>Scapegoat</td>\n",
       "      <td>AndiMakinana</td>\n",
       "      <td>In pursuit of scoops. I do not write headlines...</td>\n",
       "      <td>142223</td>\n",
       "      <td>2839</td>\n",
       "      <td>101246</td>\n",
       "      <td>3967</td>\n",
       "      <td>35</td>\n",
       "      <td>39</td>\n",
       "      <td>626</td>\n",
       "      <td>19466</td>\n",
       "      <td>398095</td>\n",
       "    </tr>\n",
       "    <tr>\n",
       "      <th>3</th>\n",
       "      <td>0</td>\n",
       "      <td>625489039</td>\n",
       "      <td>Africa Check</td>\n",
       "      <td>AfricaCheck</td>\n",
       "      <td>Africa's first independent fact-checking websi...</td>\n",
       "      <td>27317</td>\n",
       "      <td>4590</td>\n",
       "      <td>68061</td>\n",
       "      <td>2936</td>\n",
       "      <td>9</td>\n",
       "      <td>156</td>\n",
       "      <td>205</td>\n",
       "      <td>1353</td>\n",
       "      <td>1398</td>\n",
       "    </tr>\n",
       "    <tr>\n",
       "      <th>4</th>\n",
       "      <td>0</td>\n",
       "      <td>401520924</td>\n",
       "      <td>James Copnall</td>\n",
       "      <td>JamesCopnall</td>\n",
       "      <td>BBC reporter + presenter. Author A Poisonous T...</td>\n",
       "      <td>19434</td>\n",
       "      <td>5046</td>\n",
       "      <td>21958</td>\n",
       "      <td>3182</td>\n",
       "      <td>6</td>\n",
       "      <td>19</td>\n",
       "      <td>82</td>\n",
       "      <td>139</td>\n",
       "      <td>47608</td>\n",
       "    </tr>\n",
       "  </tbody>\n",
       "</table>\n",
       "</div>"
      ],
      "text/plain": [
       "   Unnamed: 0         id               name   screen_name  \\\n",
       "0           0  305125998  Jeffrey Gettleman     gettleman   \n",
       "1           0   26475943          A24 Media      a24media   \n",
       "2           0   72013267          Scapegoat  AndiMakinana   \n",
       "3           0  625489039       Africa Check   AfricaCheck   \n",
       "4           0  401520924      James Copnall  JamesCopnall   \n",
       "\n",
       "                                         description  statuses_count  \\\n",
       "0  South Asia bureau chief for the New York Times...            3770   \n",
       "1  Africa 24 produces compelling content that mak...           16869   \n",
       "2  In pursuit of scoops. I do not write headlines...          142223   \n",
       "3  Africa's first independent fact-checking websi...           27317   \n",
       "4  BBC reporter + presenter. Author A Poisonous T...           19434   \n",
       "\n",
       "   friends_count  followers_count  account_age_days  avg_daily_tweets  \\\n",
       "0             37            25700              3340                 1   \n",
       "1           3059            31285              4132                 4   \n",
       "2           2839           101246              3967                35   \n",
       "3           4590            68061              2936                 9   \n",
       "4           5046            21958              3182                 6   \n",
       "\n",
       "   hashtags  user_mentions  favorite_count  retweet_count  \n",
       "0         5             38             268         111152  \n",
       "1        32             52              96            190  \n",
       "2        39            626           19466         398095  \n",
       "3       156            205            1353           1398  \n",
       "4        19             82             139          47608  "
      ]
     },
     "execution_count": 428,
     "metadata": {},
     "output_type": "execute_result"
    }
   ],
   "source": [
    "afriqInfCopy.head()"
   ]
  },
  {
   "cell_type": "code",
   "execution_count": 429,
   "metadata": {},
   "outputs": [
    {
     "name": "stdout",
     "output_type": "stream",
     "text": [
      "<class 'pandas.core.frame.DataFrame'>\n",
      "RangeIndex: 93 entries, 0 to 92\n",
      "Data columns (total 14 columns):\n",
      " #   Column            Non-Null Count  Dtype \n",
      "---  ------            --------------  ----- \n",
      " 0   Unnamed: 0        93 non-null     int64 \n",
      " 1   id                93 non-null     int64 \n",
      " 2   name              93 non-null     object\n",
      " 3   screen_name       93 non-null     object\n",
      " 4   description       89 non-null     object\n",
      " 5   statuses_count    93 non-null     int64 \n",
      " 6   friends_count     93 non-null     int64 \n",
      " 7   followers_count   93 non-null     int64 \n",
      " 8   account_age_days  93 non-null     int64 \n",
      " 9   avg_daily_tweets  93 non-null     int64 \n",
      " 10  hashtags          93 non-null     int64 \n",
      " 11  user_mentions     93 non-null     int64 \n",
      " 12  favorite_count    93 non-null     int64 \n",
      " 13  retweet_count     93 non-null     int64 \n",
      "dtypes: int64(11), object(3)\n",
      "memory usage: 10.3+ KB\n"
     ]
    }
   ],
   "source": [
    "afriqInfCopy.info()"
   ]
  },
  {
   "cell_type": "markdown",
   "metadata": {},
   "source": [
    "> drop column `Unnamed: 0`"
   ]
  },
  {
   "cell_type": "code",
   "execution_count": 430,
   "metadata": {},
   "outputs": [],
   "source": [
    "afriqInfCopy.drop(columns='Unnamed: 0', axis=1, inplace=True)"
   ]
  },
  {
   "cell_type": "code",
   "execution_count": 431,
   "metadata": {},
   "outputs": [
    {
     "data": {
      "text/html": [
       "<div>\n",
       "<style scoped>\n",
       "    .dataframe tbody tr th:only-of-type {\n",
       "        vertical-align: middle;\n",
       "    }\n",
       "\n",
       "    .dataframe tbody tr th {\n",
       "        vertical-align: top;\n",
       "    }\n",
       "\n",
       "    .dataframe thead th {\n",
       "        text-align: right;\n",
       "    }\n",
       "</style>\n",
       "<table border=\"1\" class=\"dataframe\">\n",
       "  <thead>\n",
       "    <tr style=\"text-align: right;\">\n",
       "      <th></th>\n",
       "      <th>id</th>\n",
       "      <th>name</th>\n",
       "      <th>screen_name</th>\n",
       "      <th>description</th>\n",
       "      <th>statuses_count</th>\n",
       "      <th>friends_count</th>\n",
       "      <th>followers_count</th>\n",
       "      <th>account_age_days</th>\n",
       "      <th>avg_daily_tweets</th>\n",
       "      <th>hashtags</th>\n",
       "      <th>user_mentions</th>\n",
       "      <th>favorite_count</th>\n",
       "      <th>retweet_count</th>\n",
       "    </tr>\n",
       "  </thead>\n",
       "  <tbody>\n",
       "    <tr>\n",
       "      <th>0</th>\n",
       "      <td>305125998</td>\n",
       "      <td>Jeffrey Gettleman</td>\n",
       "      <td>gettleman</td>\n",
       "      <td>South Asia bureau chief for the New York Times...</td>\n",
       "      <td>3770</td>\n",
       "      <td>37</td>\n",
       "      <td>25700</td>\n",
       "      <td>3340</td>\n",
       "      <td>1</td>\n",
       "      <td>5</td>\n",
       "      <td>38</td>\n",
       "      <td>268</td>\n",
       "      <td>111152</td>\n",
       "    </tr>\n",
       "    <tr>\n",
       "      <th>1</th>\n",
       "      <td>26475943</td>\n",
       "      <td>A24 Media</td>\n",
       "      <td>a24media</td>\n",
       "      <td>Africa 24 produces compelling content that mak...</td>\n",
       "      <td>16869</td>\n",
       "      <td>3059</td>\n",
       "      <td>31285</td>\n",
       "      <td>4132</td>\n",
       "      <td>4</td>\n",
       "      <td>32</td>\n",
       "      <td>52</td>\n",
       "      <td>96</td>\n",
       "      <td>190</td>\n",
       "    </tr>\n",
       "    <tr>\n",
       "      <th>2</th>\n",
       "      <td>72013267</td>\n",
       "      <td>Scapegoat</td>\n",
       "      <td>AndiMakinana</td>\n",
       "      <td>In pursuit of scoops. I do not write headlines...</td>\n",
       "      <td>142223</td>\n",
       "      <td>2839</td>\n",
       "      <td>101246</td>\n",
       "      <td>3967</td>\n",
       "      <td>35</td>\n",
       "      <td>39</td>\n",
       "      <td>626</td>\n",
       "      <td>19466</td>\n",
       "      <td>398095</td>\n",
       "    </tr>\n",
       "    <tr>\n",
       "      <th>3</th>\n",
       "      <td>625489039</td>\n",
       "      <td>Africa Check</td>\n",
       "      <td>AfricaCheck</td>\n",
       "      <td>Africa's first independent fact-checking websi...</td>\n",
       "      <td>27317</td>\n",
       "      <td>4590</td>\n",
       "      <td>68061</td>\n",
       "      <td>2936</td>\n",
       "      <td>9</td>\n",
       "      <td>156</td>\n",
       "      <td>205</td>\n",
       "      <td>1353</td>\n",
       "      <td>1398</td>\n",
       "    </tr>\n",
       "    <tr>\n",
       "      <th>4</th>\n",
       "      <td>401520924</td>\n",
       "      <td>James Copnall</td>\n",
       "      <td>JamesCopnall</td>\n",
       "      <td>BBC reporter + presenter. Author A Poisonous T...</td>\n",
       "      <td>19434</td>\n",
       "      <td>5046</td>\n",
       "      <td>21958</td>\n",
       "      <td>3182</td>\n",
       "      <td>6</td>\n",
       "      <td>19</td>\n",
       "      <td>82</td>\n",
       "      <td>139</td>\n",
       "      <td>47608</td>\n",
       "    </tr>\n",
       "  </tbody>\n",
       "</table>\n",
       "</div>"
      ],
      "text/plain": [
       "          id               name   screen_name  \\\n",
       "0  305125998  Jeffrey Gettleman     gettleman   \n",
       "1   26475943          A24 Media      a24media   \n",
       "2   72013267          Scapegoat  AndiMakinana   \n",
       "3  625489039       Africa Check   AfricaCheck   \n",
       "4  401520924      James Copnall  JamesCopnall   \n",
       "\n",
       "                                         description  statuses_count  \\\n",
       "0  South Asia bureau chief for the New York Times...            3770   \n",
       "1  Africa 24 produces compelling content that mak...           16869   \n",
       "2  In pursuit of scoops. I do not write headlines...          142223   \n",
       "3  Africa's first independent fact-checking websi...           27317   \n",
       "4  BBC reporter + presenter. Author A Poisonous T...           19434   \n",
       "\n",
       "   friends_count  followers_count  account_age_days  avg_daily_tweets  \\\n",
       "0             37            25700              3340                 1   \n",
       "1           3059            31285              4132                 4   \n",
       "2           2839           101246              3967                35   \n",
       "3           4590            68061              2936                 9   \n",
       "4           5046            21958              3182                 6   \n",
       "\n",
       "   hashtags  user_mentions  favorite_count  retweet_count  \n",
       "0         5             38             268         111152  \n",
       "1        32             52              96            190  \n",
       "2        39            626           19466         398095  \n",
       "3       156            205            1353           1398  \n",
       "4        19             82             139          47608  "
      ]
     },
     "execution_count": 431,
     "metadata": {},
     "output_type": "execute_result"
    }
   ],
   "source": [
    "afriqInfCopy.head()"
   ]
  },
  {
   "cell_type": "code",
   "execution_count": 432,
   "metadata": {},
   "outputs": [
    {
     "data": {
      "text/plain": [
       "False"
      ]
     },
     "execution_count": 432,
     "metadata": {},
     "output_type": "execute_result"
    }
   ],
   "source": [
    "afriqInfCopy.duplicated().any()"
   ]
  },
  {
   "cell_type": "markdown",
   "metadata": {},
   "source": [
    "> There are no duplicates"
   ]
  },
  {
   "cell_type": "markdown",
   "metadata": {},
   "source": [
    "> The data is clean and fir for analysis"
   ]
  },
  {
   "cell_type": "markdown",
   "metadata": {},
   "source": [
    "#### Load Hahstag Info Datasets"
   ]
  },
  {
   "cell_type": "code",
   "execution_count": 433,
   "metadata": {},
   "outputs": [],
   "source": [
    "govtResHashCopy = govtResHash.copy()"
   ]
  },
  {
   "cell_type": "code",
   "execution_count": 434,
   "metadata": {},
   "outputs": [
    {
     "data": {
      "text/html": [
       "<div>\n",
       "<style scoped>\n",
       "    .dataframe tbody tr th:only-of-type {\n",
       "        vertical-align: middle;\n",
       "    }\n",
       "\n",
       "    .dataframe tbody tr th {\n",
       "        vertical-align: top;\n",
       "    }\n",
       "\n",
       "    .dataframe thead th {\n",
       "        text-align: right;\n",
       "    }\n",
       "</style>\n",
       "<table border=\"1\" class=\"dataframe\">\n",
       "  <thead>\n",
       "    <tr style=\"text-align: right;\">\n",
       "      <th></th>\n",
       "      <th>Unnamed: 0</th>\n",
       "      <th>hashtags</th>\n",
       "      <th>id</th>\n",
       "      <th>name</th>\n",
       "      <th>screen_name</th>\n",
       "      <th>hashtags_count</th>\n",
       "    </tr>\n",
       "  </thead>\n",
       "  <tbody>\n",
       "    <tr>\n",
       "      <th>0</th>\n",
       "      <td>0</td>\n",
       "      <td>52YearsOfFriendship</td>\n",
       "      <td>1181832897508065280</td>\n",
       "      <td>Eswatini Government</td>\n",
       "      <td>EswatiniGovern1</td>\n",
       "      <td>3</td>\n",
       "    </tr>\n",
       "    <tr>\n",
       "      <th>1</th>\n",
       "      <td>1</td>\n",
       "      <td>AdventureTime</td>\n",
       "      <td>1181832897508065280</td>\n",
       "      <td>Eswatini Government</td>\n",
       "      <td>EswatiniGovern1</td>\n",
       "      <td>1</td>\n",
       "    </tr>\n",
       "    <tr>\n",
       "      <th>2</th>\n",
       "      <td>2</td>\n",
       "      <td>AfricaDay</td>\n",
       "      <td>1181832897508065280</td>\n",
       "      <td>Eswatini Government</td>\n",
       "      <td>EswatiniGovern1</td>\n",
       "      <td>1</td>\n",
       "    </tr>\n",
       "    <tr>\n",
       "      <th>3</th>\n",
       "      <td>3</td>\n",
       "      <td>AllHandsOnDeck</td>\n",
       "      <td>1181832897508065280</td>\n",
       "      <td>Eswatini Government</td>\n",
       "      <td>EswatiniGovern1</td>\n",
       "      <td>1</td>\n",
       "    </tr>\n",
       "    <tr>\n",
       "      <th>4</th>\n",
       "      <td>4</td>\n",
       "      <td>BottomLineSABC</td>\n",
       "      <td>1181832897508065280</td>\n",
       "      <td>Eswatini Government</td>\n",
       "      <td>EswatiniGovern1</td>\n",
       "      <td>1</td>\n",
       "    </tr>\n",
       "  </tbody>\n",
       "</table>\n",
       "</div>"
      ],
      "text/plain": [
       "   Unnamed: 0             hashtags                   id                 name  \\\n",
       "0           0  52YearsOfFriendship  1181832897508065280  Eswatini Government   \n",
       "1           1        AdventureTime  1181832897508065280  Eswatini Government   \n",
       "2           2            AfricaDay  1181832897508065280  Eswatini Government   \n",
       "3           3       AllHandsOnDeck  1181832897508065280  Eswatini Government   \n",
       "4           4       BottomLineSABC  1181832897508065280  Eswatini Government   \n",
       "\n",
       "       screen_name  hashtags_count  \n",
       "0  EswatiniGovern1               3  \n",
       "1  EswatiniGovern1               1  \n",
       "2  EswatiniGovern1               1  \n",
       "3  EswatiniGovern1               1  \n",
       "4  EswatiniGovern1               1  "
      ]
     },
     "execution_count": 434,
     "metadata": {},
     "output_type": "execute_result"
    }
   ],
   "source": [
    "govtResHashCopy.head()"
   ]
  },
  {
   "cell_type": "code",
   "execution_count": 435,
   "metadata": {},
   "outputs": [
    {
     "name": "stdout",
     "output_type": "stream",
     "text": [
      "<class 'pandas.core.frame.DataFrame'>\n",
      "RangeIndex: 8092 entries, 0 to 8091\n",
      "Data columns (total 6 columns):\n",
      " #   Column          Non-Null Count  Dtype \n",
      "---  ------          --------------  ----- \n",
      " 0   Unnamed: 0      8092 non-null   int64 \n",
      " 1   hashtags        8092 non-null   object\n",
      " 2   id              8092 non-null   int64 \n",
      " 3   name            8092 non-null   object\n",
      " 4   screen_name     8092 non-null   object\n",
      " 5   hashtags_count  8092 non-null   int64 \n",
      "dtypes: int64(3), object(3)\n",
      "memory usage: 379.4+ KB\n"
     ]
    }
   ],
   "source": [
    "govtResHashCopy.info()"
   ]
  },
  {
   "cell_type": "markdown",
   "metadata": {},
   "source": [
    "> Drop `Unnamed: 0` column"
   ]
  },
  {
   "cell_type": "code",
   "execution_count": 436,
   "metadata": {},
   "outputs": [],
   "source": [
    "govtResHashCopy.drop(columns='Unnamed: 0', axis=1, inplace=True)"
   ]
  },
  {
   "cell_type": "code",
   "execution_count": 437,
   "metadata": {},
   "outputs": [
    {
     "data": {
      "text/html": [
       "<div>\n",
       "<style scoped>\n",
       "    .dataframe tbody tr th:only-of-type {\n",
       "        vertical-align: middle;\n",
       "    }\n",
       "\n",
       "    .dataframe tbody tr th {\n",
       "        vertical-align: top;\n",
       "    }\n",
       "\n",
       "    .dataframe thead th {\n",
       "        text-align: right;\n",
       "    }\n",
       "</style>\n",
       "<table border=\"1\" class=\"dataframe\">\n",
       "  <thead>\n",
       "    <tr style=\"text-align: right;\">\n",
       "      <th></th>\n",
       "      <th>hashtags</th>\n",
       "      <th>id</th>\n",
       "      <th>name</th>\n",
       "      <th>screen_name</th>\n",
       "      <th>hashtags_count</th>\n",
       "    </tr>\n",
       "  </thead>\n",
       "  <tbody>\n",
       "    <tr>\n",
       "      <th>0</th>\n",
       "      <td>52YearsOfFriendship</td>\n",
       "      <td>1181832897508065280</td>\n",
       "      <td>Eswatini Government</td>\n",
       "      <td>EswatiniGovern1</td>\n",
       "      <td>3</td>\n",
       "    </tr>\n",
       "    <tr>\n",
       "      <th>1</th>\n",
       "      <td>AdventureTime</td>\n",
       "      <td>1181832897508065280</td>\n",
       "      <td>Eswatini Government</td>\n",
       "      <td>EswatiniGovern1</td>\n",
       "      <td>1</td>\n",
       "    </tr>\n",
       "    <tr>\n",
       "      <th>2</th>\n",
       "      <td>AfricaDay</td>\n",
       "      <td>1181832897508065280</td>\n",
       "      <td>Eswatini Government</td>\n",
       "      <td>EswatiniGovern1</td>\n",
       "      <td>1</td>\n",
       "    </tr>\n",
       "    <tr>\n",
       "      <th>3</th>\n",
       "      <td>AllHandsOnDeck</td>\n",
       "      <td>1181832897508065280</td>\n",
       "      <td>Eswatini Government</td>\n",
       "      <td>EswatiniGovern1</td>\n",
       "      <td>1</td>\n",
       "    </tr>\n",
       "    <tr>\n",
       "      <th>4</th>\n",
       "      <td>BottomLineSABC</td>\n",
       "      <td>1181832897508065280</td>\n",
       "      <td>Eswatini Government</td>\n",
       "      <td>EswatiniGovern1</td>\n",
       "      <td>1</td>\n",
       "    </tr>\n",
       "    <tr>\n",
       "      <th>...</th>\n",
       "      <td>...</td>\n",
       "      <td>...</td>\n",
       "      <td>...</td>\n",
       "      <td>...</td>\n",
       "      <td>...</td>\n",
       "    </tr>\n",
       "    <tr>\n",
       "      <th>8087</th>\n",
       "      <td>nomination</td>\n",
       "      <td>1095703543045083136</td>\n",
       "      <td>Ministère de la Communication &amp; Médias - CG🇨🇬</td>\n",
       "      <td>MinistereComCG</td>\n",
       "      <td>1</td>\n",
       "    </tr>\n",
       "    <tr>\n",
       "      <th>8088</th>\n",
       "      <td>parlement</td>\n",
       "      <td>1095703543045083136</td>\n",
       "      <td>Ministère de la Communication &amp; Médias - CG🇨🇬</td>\n",
       "      <td>MinistereComCG</td>\n",
       "      <td>1</td>\n",
       "    </tr>\n",
       "    <tr>\n",
       "      <th>8089</th>\n",
       "      <td>sacrifice</td>\n",
       "      <td>1095703543045083136</td>\n",
       "      <td>Ministère de la Communication &amp; Médias - CG🇨🇬</td>\n",
       "      <td>MinistereComCG</td>\n",
       "      <td>1</td>\n",
       "    </tr>\n",
       "    <tr>\n",
       "      <th>8090</th>\n",
       "      <td>vœux</td>\n",
       "      <td>1095703543045083136</td>\n",
       "      <td>Ministère de la Communication &amp; Médias - CG🇨🇬</td>\n",
       "      <td>MinistereComCG</td>\n",
       "      <td>1</td>\n",
       "    </tr>\n",
       "    <tr>\n",
       "      <th>8091</th>\n",
       "      <td>écologie</td>\n",
       "      <td>1095703543045083136</td>\n",
       "      <td>Ministère de la Communication &amp; Médias - CG🇨🇬</td>\n",
       "      <td>MinistereComCG</td>\n",
       "      <td>1</td>\n",
       "    </tr>\n",
       "  </tbody>\n",
       "</table>\n",
       "<p>8092 rows × 5 columns</p>\n",
       "</div>"
      ],
      "text/plain": [
       "                 hashtags                   id  \\\n",
       "0     52YearsOfFriendship  1181832897508065280   \n",
       "1           AdventureTime  1181832897508065280   \n",
       "2               AfricaDay  1181832897508065280   \n",
       "3          AllHandsOnDeck  1181832897508065280   \n",
       "4          BottomLineSABC  1181832897508065280   \n",
       "...                   ...                  ...   \n",
       "8087           nomination  1095703543045083136   \n",
       "8088            parlement  1095703543045083136   \n",
       "8089            sacrifice  1095703543045083136   \n",
       "8090                 vœux  1095703543045083136   \n",
       "8091             écologie  1095703543045083136   \n",
       "\n",
       "                                               name      screen_name  \\\n",
       "0                               Eswatini Government  EswatiniGovern1   \n",
       "1                               Eswatini Government  EswatiniGovern1   \n",
       "2                               Eswatini Government  EswatiniGovern1   \n",
       "3                               Eswatini Government  EswatiniGovern1   \n",
       "4                               Eswatini Government  EswatiniGovern1   \n",
       "...                                             ...              ...   \n",
       "8087  Ministère de la Communication & Médias - CG🇨🇬   MinistereComCG   \n",
       "8088  Ministère de la Communication & Médias - CG🇨🇬   MinistereComCG   \n",
       "8089  Ministère de la Communication & Médias - CG🇨🇬   MinistereComCG   \n",
       "8090  Ministère de la Communication & Médias - CG🇨🇬   MinistereComCG   \n",
       "8091  Ministère de la Communication & Médias - CG🇨🇬   MinistereComCG   \n",
       "\n",
       "      hashtags_count  \n",
       "0                  3  \n",
       "1                  1  \n",
       "2                  1  \n",
       "3                  1  \n",
       "4                  1  \n",
       "...              ...  \n",
       "8087               1  \n",
       "8088               1  \n",
       "8089               1  \n",
       "8090               1  \n",
       "8091               1  \n",
       "\n",
       "[8092 rows x 5 columns]"
      ]
     },
     "execution_count": 437,
     "metadata": {},
     "output_type": "execute_result"
    }
   ],
   "source": [
    "govtResHashCopy"
   ]
  },
  {
   "cell_type": "code",
   "execution_count": 438,
   "metadata": {},
   "outputs": [
    {
     "data": {
      "text/plain": [
       "False"
      ]
     },
     "execution_count": 438,
     "metadata": {},
     "output_type": "execute_result"
    }
   ],
   "source": [
    "govtResHashCopy.duplicated().any()"
   ]
  },
  {
   "cell_type": "markdown",
   "metadata": {},
   "source": [
    "> There are no duplicates"
   ]
  },
  {
   "cell_type": "markdown",
   "metadata": {},
   "source": [
    "<!-- > To make the tables more normalised, we need to join the info tables to thier respective hashtag tables -->"
   ]
  },
  {
   "cell_type": "code",
   "execution_count": 439,
   "metadata": {},
   "outputs": [],
   "source": [
    "afriqInfHashCopy = afriqInfHash.copy()"
   ]
  },
  {
   "cell_type": "code",
   "execution_count": 440,
   "metadata": {},
   "outputs": [
    {
     "data": {
      "text/html": [
       "<div>\n",
       "<style scoped>\n",
       "    .dataframe tbody tr th:only-of-type {\n",
       "        vertical-align: middle;\n",
       "    }\n",
       "\n",
       "    .dataframe tbody tr th {\n",
       "        vertical-align: top;\n",
       "    }\n",
       "\n",
       "    .dataframe thead th {\n",
       "        text-align: right;\n",
       "    }\n",
       "</style>\n",
       "<table border=\"1\" class=\"dataframe\">\n",
       "  <thead>\n",
       "    <tr style=\"text-align: right;\">\n",
       "      <th></th>\n",
       "      <th>Unnamed: 0</th>\n",
       "      <th>hashtags</th>\n",
       "      <th>id</th>\n",
       "      <th>name</th>\n",
       "      <th>screen_name</th>\n",
       "      <th>hashtags_count</th>\n",
       "    </tr>\n",
       "  </thead>\n",
       "  <tbody>\n",
       "    <tr>\n",
       "      <th>0</th>\n",
       "      <td>0</td>\n",
       "      <td>2015NepalBlockade</td>\n",
       "      <td>305125998</td>\n",
       "      <td>Jeffrey Gettleman</td>\n",
       "      <td>gettleman</td>\n",
       "      <td>1</td>\n",
       "    </tr>\n",
       "    <tr>\n",
       "      <th>1</th>\n",
       "      <td>1</td>\n",
       "      <td>6PM</td>\n",
       "      <td>305125998</td>\n",
       "      <td>Jeffrey Gettleman</td>\n",
       "      <td>gettleman</td>\n",
       "      <td>1</td>\n",
       "    </tr>\n",
       "    <tr>\n",
       "      <th>2</th>\n",
       "      <td>2</td>\n",
       "      <td>ARYNews</td>\n",
       "      <td>305125998</td>\n",
       "      <td>Jeffrey Gettleman</td>\n",
       "      <td>gettleman</td>\n",
       "      <td>1</td>\n",
       "    </tr>\n",
       "    <tr>\n",
       "      <th>3</th>\n",
       "      <td>3</td>\n",
       "      <td>Abhinandan</td>\n",
       "      <td>305125998</td>\n",
       "      <td>Jeffrey Gettleman</td>\n",
       "      <td>gettleman</td>\n",
       "      <td>1</td>\n",
       "    </tr>\n",
       "    <tr>\n",
       "      <th>4</th>\n",
       "      <td>4</td>\n",
       "      <td>Adani</td>\n",
       "      <td>305125998</td>\n",
       "      <td>Jeffrey Gettleman</td>\n",
       "      <td>gettleman</td>\n",
       "      <td>1</td>\n",
       "    </tr>\n",
       "  </tbody>\n",
       "</table>\n",
       "</div>"
      ],
      "text/plain": [
       "   Unnamed: 0           hashtags         id               name screen_name  \\\n",
       "0           0  2015NepalBlockade  305125998  Jeffrey Gettleman   gettleman   \n",
       "1           1                6PM  305125998  Jeffrey Gettleman   gettleman   \n",
       "2           2            ARYNews  305125998  Jeffrey Gettleman   gettleman   \n",
       "3           3         Abhinandan  305125998  Jeffrey Gettleman   gettleman   \n",
       "4           4              Adani  305125998  Jeffrey Gettleman   gettleman   \n",
       "\n",
       "   hashtags_count  \n",
       "0               1  \n",
       "1               1  \n",
       "2               1  \n",
       "3               1  \n",
       "4               1  "
      ]
     },
     "execution_count": 440,
     "metadata": {},
     "output_type": "execute_result"
    }
   ],
   "source": [
    "afriqInfHashCopy.head()"
   ]
  },
  {
   "cell_type": "code",
   "execution_count": 441,
   "metadata": {},
   "outputs": [
    {
     "name": "stdout",
     "output_type": "stream",
     "text": [
      "<class 'pandas.core.frame.DataFrame'>\n",
      "RangeIndex: 25372 entries, 0 to 25371\n",
      "Data columns (total 6 columns):\n",
      " #   Column          Non-Null Count  Dtype \n",
      "---  ------          --------------  ----- \n",
      " 0   Unnamed: 0      25372 non-null  int64 \n",
      " 1   hashtags        25372 non-null  object\n",
      " 2   id              25372 non-null  int64 \n",
      " 3   name            25372 non-null  object\n",
      " 4   screen_name     25372 non-null  object\n",
      " 5   hashtags_count  25372 non-null  int64 \n",
      "dtypes: int64(3), object(3)\n",
      "memory usage: 1.2+ MB\n"
     ]
    }
   ],
   "source": [
    "afriqInfHashCopy.info()"
   ]
  },
  {
   "cell_type": "markdown",
   "metadata": {},
   "source": [
    "> drop column `Unnamed: 0`"
   ]
  },
  {
   "cell_type": "code",
   "execution_count": 442,
   "metadata": {},
   "outputs": [],
   "source": [
    "afriqInfHashCopy.drop(columns='Unnamed: 0', axis=1, inplace=True)"
   ]
  },
  {
   "cell_type": "code",
   "execution_count": 443,
   "metadata": {},
   "outputs": [
    {
     "data": {
      "text/html": [
       "<div>\n",
       "<style scoped>\n",
       "    .dataframe tbody tr th:only-of-type {\n",
       "        vertical-align: middle;\n",
       "    }\n",
       "\n",
       "    .dataframe tbody tr th {\n",
       "        vertical-align: top;\n",
       "    }\n",
       "\n",
       "    .dataframe thead th {\n",
       "        text-align: right;\n",
       "    }\n",
       "</style>\n",
       "<table border=\"1\" class=\"dataframe\">\n",
       "  <thead>\n",
       "    <tr style=\"text-align: right;\">\n",
       "      <th></th>\n",
       "      <th>hashtags</th>\n",
       "      <th>id</th>\n",
       "      <th>name</th>\n",
       "      <th>screen_name</th>\n",
       "      <th>hashtags_count</th>\n",
       "    </tr>\n",
       "  </thead>\n",
       "  <tbody>\n",
       "    <tr>\n",
       "      <th>0</th>\n",
       "      <td>2015NepalBlockade</td>\n",
       "      <td>305125998</td>\n",
       "      <td>Jeffrey Gettleman</td>\n",
       "      <td>gettleman</td>\n",
       "      <td>1</td>\n",
       "    </tr>\n",
       "    <tr>\n",
       "      <th>1</th>\n",
       "      <td>6PM</td>\n",
       "      <td>305125998</td>\n",
       "      <td>Jeffrey Gettleman</td>\n",
       "      <td>gettleman</td>\n",
       "      <td>1</td>\n",
       "    </tr>\n",
       "    <tr>\n",
       "      <th>2</th>\n",
       "      <td>ARYNews</td>\n",
       "      <td>305125998</td>\n",
       "      <td>Jeffrey Gettleman</td>\n",
       "      <td>gettleman</td>\n",
       "      <td>1</td>\n",
       "    </tr>\n",
       "    <tr>\n",
       "      <th>3</th>\n",
       "      <td>Abhinandan</td>\n",
       "      <td>305125998</td>\n",
       "      <td>Jeffrey Gettleman</td>\n",
       "      <td>gettleman</td>\n",
       "      <td>1</td>\n",
       "    </tr>\n",
       "    <tr>\n",
       "      <th>4</th>\n",
       "      <td>Adani</td>\n",
       "      <td>305125998</td>\n",
       "      <td>Jeffrey Gettleman</td>\n",
       "      <td>gettleman</td>\n",
       "      <td>1</td>\n",
       "    </tr>\n",
       "  </tbody>\n",
       "</table>\n",
       "</div>"
      ],
      "text/plain": [
       "            hashtags         id               name screen_name  hashtags_count\n",
       "0  2015NepalBlockade  305125998  Jeffrey Gettleman   gettleman               1\n",
       "1                6PM  305125998  Jeffrey Gettleman   gettleman               1\n",
       "2            ARYNews  305125998  Jeffrey Gettleman   gettleman               1\n",
       "3         Abhinandan  305125998  Jeffrey Gettleman   gettleman               1\n",
       "4              Adani  305125998  Jeffrey Gettleman   gettleman               1"
      ]
     },
     "execution_count": 443,
     "metadata": {},
     "output_type": "execute_result"
    }
   ],
   "source": [
    "afriqInfHashCopy.head()"
   ]
  },
  {
   "cell_type": "code",
   "execution_count": 444,
   "metadata": {},
   "outputs": [
    {
     "data": {
      "text/plain": [
       "False"
      ]
     },
     "execution_count": 444,
     "metadata": {},
     "output_type": "execute_result"
    }
   ],
   "source": [
    "afriqInfHashCopy.duplicated().any()"
   ]
  },
  {
   "cell_type": "markdown",
   "metadata": {},
   "source": [
    "<a id=\"ana\"></a>\n",
    "\n",
    "### Analysis"
   ]
  },
  {
   "cell_type": "code",
   "execution_count": null,
   "metadata": {},
   "outputs": [],
   "source": []
  },
  {
   "cell_type": "markdown",
   "metadata": {},
   "source": [
    "<a id=\"r1\"></a>\n",
    "\n",
    "#### Research Question 1: \n",
    "\n",
    "\n",
    "\n",
    "> Who are the Top Influencers & what are thier  Attributes:\n",
    "\n",
    ">   a. Who are the top 10 non-governmental Influencers ?\n",
    "\n",
    ">    b. What african government have more influence (top 10) ?\n",
    "\n",
    ">    c. Among the top influencers, is there a corellation between:\n",
    "\n",
    " -        reach and relevance \n",
    " -        reach and populairty\n",
    " -        popularity and relevance\n",
    "     "
   ]
  },
  {
   "cell_type": "markdown",
   "metadata": {},
   "source": [
    "  "
   ]
  },
  {
   "cell_type": "markdown",
   "metadata": {},
   "source": [
    "- In determing influence across board, these metrics have to be calcuated:\n",
    "\n",
    "1. Popularity = likes + retweets\n",
    "\n",
    "2. Reach = followers - foollowing\n",
    "\n",
    "3. Relevance = number of mentions"
   ]
  },
  {
   "cell_type": "markdown",
   "metadata": {},
   "source": [
    "`NB:` We would give more emphasis to Popularity and Relevance metric to avoid the million follower fallacy\n",
    "    \n",
    "<a href=\"http://twitter.mpi-sws.org/icwsm2010_fallacy.pdf\">million follower fallacy<a/>"
   ]
  },
  {
   "cell_type": "markdown",
   "metadata": {},
   "source": [
    "> First we need to drop inactive accounts, with tweets less than 5\n",
    "\n",
    ">> tweet count in our dataset is statuses_count"
   ]
  },
  {
   "cell_type": "markdown",
   "metadata": {},
   "source": [
    "> Govt Accunt data"
   ]
  },
  {
   "cell_type": "code",
   "execution_count": 445,
   "metadata": {},
   "outputs": [
    {
     "data": {
      "text/html": [
       "<div>\n",
       "<style scoped>\n",
       "    .dataframe tbody tr th:only-of-type {\n",
       "        vertical-align: middle;\n",
       "    }\n",
       "\n",
       "    .dataframe tbody tr th {\n",
       "        vertical-align: top;\n",
       "    }\n",
       "\n",
       "    .dataframe thead th {\n",
       "        text-align: right;\n",
       "    }\n",
       "</style>\n",
       "<table border=\"1\" class=\"dataframe\">\n",
       "  <thead>\n",
       "    <tr style=\"text-align: right;\">\n",
       "      <th></th>\n",
       "      <th>id</th>\n",
       "      <th>name</th>\n",
       "      <th>screen_name</th>\n",
       "      <th>description</th>\n",
       "      <th>statuses_count</th>\n",
       "      <th>friends_count</th>\n",
       "      <th>followers_count</th>\n",
       "      <th>account_age_days</th>\n",
       "      <th>avg_daily_tweets</th>\n",
       "      <th>hashtags</th>\n",
       "      <th>user_mentions</th>\n",
       "      <th>favorite_count</th>\n",
       "      <th>retweet_count</th>\n",
       "    </tr>\n",
       "  </thead>\n",
       "  <tbody>\n",
       "  </tbody>\n",
       "</table>\n",
       "</div>"
      ],
      "text/plain": [
       "Empty DataFrame\n",
       "Columns: [id, name, screen_name, description, statuses_count, friends_count, followers_count, account_age_days, avg_daily_tweets, hashtags, user_mentions, favorite_count, retweet_count]\n",
       "Index: []"
      ]
     },
     "execution_count": 445,
     "metadata": {},
     "output_type": "execute_result"
    }
   ],
   "source": [
    "govtResCopy.query('statuses_count < 5')"
   ]
  },
  {
   "cell_type": "markdown",
   "metadata": {},
   "source": [
    "> The datasets for African government has no inactive users"
   ]
  },
  {
   "cell_type": "markdown",
   "metadata": {},
   "source": [
    "> Influencers Account data"
   ]
  },
  {
   "cell_type": "code",
   "execution_count": 446,
   "metadata": {},
   "outputs": [
    {
     "data": {
      "text/html": [
       "<div>\n",
       "<style scoped>\n",
       "    .dataframe tbody tr th:only-of-type {\n",
       "        vertical-align: middle;\n",
       "    }\n",
       "\n",
       "    .dataframe tbody tr th {\n",
       "        vertical-align: top;\n",
       "    }\n",
       "\n",
       "    .dataframe thead th {\n",
       "        text-align: right;\n",
       "    }\n",
       "</style>\n",
       "<table border=\"1\" class=\"dataframe\">\n",
       "  <thead>\n",
       "    <tr style=\"text-align: right;\">\n",
       "      <th></th>\n",
       "      <th>id</th>\n",
       "      <th>name</th>\n",
       "      <th>screen_name</th>\n",
       "      <th>description</th>\n",
       "      <th>statuses_count</th>\n",
       "      <th>friends_count</th>\n",
       "      <th>followers_count</th>\n",
       "      <th>account_age_days</th>\n",
       "      <th>avg_daily_tweets</th>\n",
       "      <th>hashtags</th>\n",
       "      <th>user_mentions</th>\n",
       "      <th>favorite_count</th>\n",
       "      <th>retweet_count</th>\n",
       "    </tr>\n",
       "  </thead>\n",
       "  <tbody>\n",
       "    <tr>\n",
       "      <th>7</th>\n",
       "      <td>874203101108023296</td>\n",
       "      <td>SEO Expert Vancouver</td>\n",
       "      <td>stateafrica</td>\n",
       "      <td>NaN</td>\n",
       "      <td>1</td>\n",
       "      <td>0</td>\n",
       "      <td>8</td>\n",
       "      <td>1131</td>\n",
       "      <td>0</td>\n",
       "      <td>0</td>\n",
       "      <td>0</td>\n",
       "      <td>1</td>\n",
       "      <td>0</td>\n",
       "    </tr>\n",
       "    <tr>\n",
       "      <th>26</th>\n",
       "      <td>1124706854628671490</td>\n",
       "      <td>T.I.A</td>\n",
       "      <td>ThisisAfrica</td>\n",
       "      <td>T.I.A</td>\n",
       "      <td>0</td>\n",
       "      <td>0</td>\n",
       "      <td>6</td>\n",
       "      <td>439</td>\n",
       "      <td>0</td>\n",
       "      <td>0</td>\n",
       "      <td>0</td>\n",
       "      <td>0</td>\n",
       "      <td>0</td>\n",
       "    </tr>\n",
       "    <tr>\n",
       "      <th>72</th>\n",
       "      <td>3997935917</td>\n",
       "      <td>SmithInAfrica</td>\n",
       "      <td>SmithInAfrica</td>\n",
       "      <td>NaN</td>\n",
       "      <td>1</td>\n",
       "      <td>0</td>\n",
       "      <td>69</td>\n",
       "      <td>1732</td>\n",
       "      <td>0</td>\n",
       "      <td>0</td>\n",
       "      <td>2</td>\n",
       "      <td>0</td>\n",
       "      <td>1</td>\n",
       "    </tr>\n",
       "  </tbody>\n",
       "</table>\n",
       "</div>"
      ],
      "text/plain": [
       "                     id                  name    screen_name description  \\\n",
       "7    874203101108023296  SEO Expert Vancouver    stateafrica         NaN   \n",
       "26  1124706854628671490                 T.I.A   ThisisAfrica       T.I.A   \n",
       "72           3997935917         SmithInAfrica  SmithInAfrica         NaN   \n",
       "\n",
       "    statuses_count  friends_count  followers_count  account_age_days  \\\n",
       "7                1              0                8              1131   \n",
       "26               0              0                6               439   \n",
       "72               1              0               69              1732   \n",
       "\n",
       "    avg_daily_tweets  hashtags  user_mentions  favorite_count  retweet_count  \n",
       "7                  0         0              0               1              0  \n",
       "26                 0         0              0               0              0  \n",
       "72                 0         0              2               0              1  "
      ]
     },
     "execution_count": 446,
     "metadata": {},
     "output_type": "execute_result"
    }
   ],
   "source": [
    "afriqInfCopy.query('statuses_count < 5')"
   ]
  },
  {
   "cell_type": "markdown",
   "metadata": {},
   "source": [
    "> In our influencers dataset, we have some accounts with tweets less than 5.\n",
    "> Hence they would be dropped"
   ]
  },
  {
   "cell_type": "code",
   "execution_count": 447,
   "metadata": {},
   "outputs": [],
   "source": [
    "inactiveInf = afriqInfCopy.query('statuses_count < 5')"
   ]
  },
  {
   "cell_type": "code",
   "execution_count": 448,
   "metadata": {},
   "outputs": [],
   "source": [
    "afriqInfCopy.drop(inactiveInf.index, axis=0, inplace=True)"
   ]
  },
  {
   "cell_type": "markdown",
   "metadata": {},
   "source": [
    "> Let's confirm they were  dropped"
   ]
  },
  {
   "cell_type": "code",
   "execution_count": 449,
   "metadata": {},
   "outputs": [
    {
     "data": {
      "text/html": [
       "<div>\n",
       "<style scoped>\n",
       "    .dataframe tbody tr th:only-of-type {\n",
       "        vertical-align: middle;\n",
       "    }\n",
       "\n",
       "    .dataframe tbody tr th {\n",
       "        vertical-align: top;\n",
       "    }\n",
       "\n",
       "    .dataframe thead th {\n",
       "        text-align: right;\n",
       "    }\n",
       "</style>\n",
       "<table border=\"1\" class=\"dataframe\">\n",
       "  <thead>\n",
       "    <tr style=\"text-align: right;\">\n",
       "      <th></th>\n",
       "      <th>id</th>\n",
       "      <th>name</th>\n",
       "      <th>screen_name</th>\n",
       "      <th>description</th>\n",
       "      <th>statuses_count</th>\n",
       "      <th>friends_count</th>\n",
       "      <th>followers_count</th>\n",
       "      <th>account_age_days</th>\n",
       "      <th>avg_daily_tweets</th>\n",
       "      <th>hashtags</th>\n",
       "      <th>user_mentions</th>\n",
       "      <th>favorite_count</th>\n",
       "      <th>retweet_count</th>\n",
       "    </tr>\n",
       "  </thead>\n",
       "  <tbody>\n",
       "  </tbody>\n",
       "</table>\n",
       "</div>"
      ],
      "text/plain": [
       "Empty DataFrame\n",
       "Columns: [id, name, screen_name, description, statuses_count, friends_count, followers_count, account_age_days, avg_daily_tweets, hashtags, user_mentions, favorite_count, retweet_count]\n",
       "Index: []"
      ]
     },
     "execution_count": 449,
     "metadata": {},
     "output_type": "execute_result"
    }
   ],
   "source": [
    "afriqInfCopy.query('statuses_count < 5')"
   ]
  },
  {
   "cell_type": "markdown",
   "metadata": {},
   "source": [
    "> THey were dropped"
   ]
  },
  {
   "cell_type": "markdown",
   "metadata": {},
   "source": [
    "> We also have to drop these users in our influencers hashtag table"
   ]
  },
  {
   "cell_type": "code",
   "execution_count": 450,
   "metadata": {},
   "outputs": [
    {
     "data": {
      "text/plain": [
       "['SEO Expert Vancouver', 'T.I.A', 'SmithInAfrica']"
      ]
     },
     "execution_count": 450,
     "metadata": {},
     "output_type": "execute_result"
    }
   ],
   "source": [
    "users_to_drop = inactiveInf.name.to_list()\n",
    "users_to_drop"
   ]
  },
  {
   "cell_type": "code",
   "execution_count": 451,
   "metadata": {},
   "outputs": [
    {
     "data": {
      "text/html": [
       "<div>\n",
       "<style scoped>\n",
       "    .dataframe tbody tr th:only-of-type {\n",
       "        vertical-align: middle;\n",
       "    }\n",
       "\n",
       "    .dataframe tbody tr th {\n",
       "        vertical-align: top;\n",
       "    }\n",
       "\n",
       "    .dataframe thead th {\n",
       "        text-align: right;\n",
       "    }\n",
       "</style>\n",
       "<table border=\"1\" class=\"dataframe\">\n",
       "  <thead>\n",
       "    <tr style=\"text-align: right;\">\n",
       "      <th></th>\n",
       "      <th>hashtags</th>\n",
       "      <th>id</th>\n",
       "      <th>name</th>\n",
       "      <th>screen_name</th>\n",
       "      <th>hashtags_count</th>\n",
       "    </tr>\n",
       "  </thead>\n",
       "  <tbody>\n",
       "  </tbody>\n",
       "</table>\n",
       "</div>"
      ],
      "text/plain": [
       "Empty DataFrame\n",
       "Columns: [hashtags, id, name, screen_name, hashtags_count]\n",
       "Index: []"
      ]
     },
     "execution_count": 451,
     "metadata": {},
     "output_type": "execute_result"
    }
   ],
   "source": [
    "afriqInfHashCopy[afriqInfHashCopy.name.str.contains('SEO Expert Vancouver | T.I.A | SmithInAfrica')]"
   ]
  },
  {
   "cell_type": "code",
   "execution_count": 452,
   "metadata": {},
   "outputs": [],
   "source": [
    "users_to_drop=afriqInfHashCopy[afriqInfHashCopy.name.str.contains('SEO Expert Vancouver | T.I.A | SmithInAfrica')].index"
   ]
  },
  {
   "cell_type": "code",
   "execution_count": 453,
   "metadata": {},
   "outputs": [],
   "source": [
    "afriqInfHashCopy.drop(users_to_drop, axis=0, inplace=True)"
   ]
  },
  {
   "cell_type": "code",
   "execution_count": 454,
   "metadata": {},
   "outputs": [
    {
     "data": {
      "text/html": [
       "<div>\n",
       "<style scoped>\n",
       "    .dataframe tbody tr th:only-of-type {\n",
       "        vertical-align: middle;\n",
       "    }\n",
       "\n",
       "    .dataframe tbody tr th {\n",
       "        vertical-align: top;\n",
       "    }\n",
       "\n",
       "    .dataframe thead th {\n",
       "        text-align: right;\n",
       "    }\n",
       "</style>\n",
       "<table border=\"1\" class=\"dataframe\">\n",
       "  <thead>\n",
       "    <tr style=\"text-align: right;\">\n",
       "      <th></th>\n",
       "      <th>hashtags</th>\n",
       "      <th>id</th>\n",
       "      <th>name</th>\n",
       "      <th>screen_name</th>\n",
       "      <th>hashtags_count</th>\n",
       "    </tr>\n",
       "  </thead>\n",
       "  <tbody>\n",
       "    <tr>\n",
       "      <th>0</th>\n",
       "      <td>2015NepalBlockade</td>\n",
       "      <td>305125998</td>\n",
       "      <td>Jeffrey Gettleman</td>\n",
       "      <td>gettleman</td>\n",
       "      <td>1</td>\n",
       "    </tr>\n",
       "    <tr>\n",
       "      <th>1</th>\n",
       "      <td>6PM</td>\n",
       "      <td>305125998</td>\n",
       "      <td>Jeffrey Gettleman</td>\n",
       "      <td>gettleman</td>\n",
       "      <td>1</td>\n",
       "    </tr>\n",
       "    <tr>\n",
       "      <th>2</th>\n",
       "      <td>ARYNews</td>\n",
       "      <td>305125998</td>\n",
       "      <td>Jeffrey Gettleman</td>\n",
       "      <td>gettleman</td>\n",
       "      <td>1</td>\n",
       "    </tr>\n",
       "    <tr>\n",
       "      <th>3</th>\n",
       "      <td>Abhinandan</td>\n",
       "      <td>305125998</td>\n",
       "      <td>Jeffrey Gettleman</td>\n",
       "      <td>gettleman</td>\n",
       "      <td>1</td>\n",
       "    </tr>\n",
       "    <tr>\n",
       "      <th>4</th>\n",
       "      <td>Adani</td>\n",
       "      <td>305125998</td>\n",
       "      <td>Jeffrey Gettleman</td>\n",
       "      <td>gettleman</td>\n",
       "      <td>1</td>\n",
       "    </tr>\n",
       "    <tr>\n",
       "      <th>...</th>\n",
       "      <td>...</td>\n",
       "      <td>...</td>\n",
       "      <td>...</td>\n",
       "      <td>...</td>\n",
       "      <td>...</td>\n",
       "    </tr>\n",
       "    <tr>\n",
       "      <th>25367</th>\n",
       "      <td>youthemployment</td>\n",
       "      <td>140003488</td>\n",
       "      <td>IFC Africa</td>\n",
       "      <td>IFCAfrica</td>\n",
       "      <td>1</td>\n",
       "    </tr>\n",
       "    <tr>\n",
       "      <th>25368</th>\n",
       "      <td>zambia</td>\n",
       "      <td>140003488</td>\n",
       "      <td>IFC Africa</td>\n",
       "      <td>IFCAfrica</td>\n",
       "      <td>1</td>\n",
       "    </tr>\n",
       "    <tr>\n",
       "      <th>25369</th>\n",
       "      <td>économie</td>\n",
       "      <td>140003488</td>\n",
       "      <td>IFC Africa</td>\n",
       "      <td>IFCAfrica</td>\n",
       "      <td>16</td>\n",
       "    </tr>\n",
       "    <tr>\n",
       "      <th>25370</th>\n",
       "      <td>électrique</td>\n",
       "      <td>140003488</td>\n",
       "      <td>IFC Africa</td>\n",
       "      <td>IFCAfrica</td>\n",
       "      <td>1</td>\n",
       "    </tr>\n",
       "    <tr>\n",
       "      <th>25371</th>\n",
       "      <td>énergiesrenouvelables</td>\n",
       "      <td>140003488</td>\n",
       "      <td>IFC Africa</td>\n",
       "      <td>IFCAfrica</td>\n",
       "      <td>3</td>\n",
       "    </tr>\n",
       "  </tbody>\n",
       "</table>\n",
       "<p>25372 rows × 5 columns</p>\n",
       "</div>"
      ],
      "text/plain": [
       "                    hashtags         id               name screen_name  \\\n",
       "0          2015NepalBlockade  305125998  Jeffrey Gettleman   gettleman   \n",
       "1                        6PM  305125998  Jeffrey Gettleman   gettleman   \n",
       "2                    ARYNews  305125998  Jeffrey Gettleman   gettleman   \n",
       "3                 Abhinandan  305125998  Jeffrey Gettleman   gettleman   \n",
       "4                      Adani  305125998  Jeffrey Gettleman   gettleman   \n",
       "...                      ...        ...                ...         ...   \n",
       "25367        youthemployment  140003488         IFC Africa   IFCAfrica   \n",
       "25368                 zambia  140003488         IFC Africa   IFCAfrica   \n",
       "25369               économie  140003488         IFC Africa   IFCAfrica   \n",
       "25370             électrique  140003488         IFC Africa   IFCAfrica   \n",
       "25371  énergiesrenouvelables  140003488         IFC Africa   IFCAfrica   \n",
       "\n",
       "       hashtags_count  \n",
       "0                   1  \n",
       "1                   1  \n",
       "2                   1  \n",
       "3                   1  \n",
       "4                   1  \n",
       "...               ...  \n",
       "25367               1  \n",
       "25368               1  \n",
       "25369              16  \n",
       "25370               1  \n",
       "25371               3  \n",
       "\n",
       "[25372 rows x 5 columns]"
      ]
     },
     "execution_count": 454,
     "metadata": {},
     "output_type": "execute_result"
    }
   ],
   "source": [
    "afriqInfHashCopy"
   ]
  },
  {
   "cell_type": "markdown",
   "metadata": {},
   "source": [
    "#### Measuring Influence across african government handles"
   ]
  },
  {
   "cell_type": "code",
   "execution_count": 455,
   "metadata": {},
   "outputs": [
    {
     "data": {
      "text/html": [
       "<div>\n",
       "<style scoped>\n",
       "    .dataframe tbody tr th:only-of-type {\n",
       "        vertical-align: middle;\n",
       "    }\n",
       "\n",
       "    .dataframe tbody tr th {\n",
       "        vertical-align: top;\n",
       "    }\n",
       "\n",
       "    .dataframe thead th {\n",
       "        text-align: right;\n",
       "    }\n",
       "</style>\n",
       "<table border=\"1\" class=\"dataframe\">\n",
       "  <thead>\n",
       "    <tr style=\"text-align: right;\">\n",
       "      <th></th>\n",
       "      <th>id</th>\n",
       "      <th>name</th>\n",
       "      <th>screen_name</th>\n",
       "      <th>description</th>\n",
       "      <th>statuses_count</th>\n",
       "      <th>friends_count</th>\n",
       "      <th>followers_count</th>\n",
       "      <th>account_age_days</th>\n",
       "      <th>avg_daily_tweets</th>\n",
       "      <th>hashtags</th>\n",
       "      <th>user_mentions</th>\n",
       "      <th>favorite_count</th>\n",
       "      <th>retweet_count</th>\n",
       "    </tr>\n",
       "  </thead>\n",
       "  <tbody>\n",
       "    <tr>\n",
       "      <th>0</th>\n",
       "      <td>1181832897508065280</td>\n",
       "      <td>Eswatini Government</td>\n",
       "      <td>EswatiniGovern1</td>\n",
       "      <td>This is the official twitter account of the Go...</td>\n",
       "      <td>1672</td>\n",
       "      <td>82</td>\n",
       "      <td>11284</td>\n",
       "      <td>282</td>\n",
       "      <td>5</td>\n",
       "      <td>78</td>\n",
       "      <td>13</td>\n",
       "      <td>5600</td>\n",
       "      <td>1655</td>\n",
       "    </tr>\n",
       "    <tr>\n",
       "      <th>1</th>\n",
       "      <td>2189970192</td>\n",
       "      <td>Malawi Government</td>\n",
       "      <td>MalawiGovt</td>\n",
       "      <td>#Malawi Government Twitter Feed | https://t.co...</td>\n",
       "      <td>4030</td>\n",
       "      <td>26</td>\n",
       "      <td>39182</td>\n",
       "      <td>2439</td>\n",
       "      <td>1</td>\n",
       "      <td>85</td>\n",
       "      <td>49</td>\n",
       "      <td>8404</td>\n",
       "      <td>4503</td>\n",
       "    </tr>\n",
       "  </tbody>\n",
       "</table>\n",
       "</div>"
      ],
      "text/plain": [
       "                    id                 name      screen_name  \\\n",
       "0  1181832897508065280  Eswatini Government  EswatiniGovern1   \n",
       "1           2189970192    Malawi Government       MalawiGovt   \n",
       "\n",
       "                                         description  statuses_count  \\\n",
       "0  This is the official twitter account of the Go...            1672   \n",
       "1  #Malawi Government Twitter Feed | https://t.co...            4030   \n",
       "\n",
       "   friends_count  followers_count  account_age_days  avg_daily_tweets  \\\n",
       "0             82            11284               282                 5   \n",
       "1             26            39182              2439                 1   \n",
       "\n",
       "   hashtags  user_mentions  favorite_count  retweet_count  \n",
       "0        78             13            5600           1655  \n",
       "1        85             49            8404           4503  "
      ]
     },
     "execution_count": 455,
     "metadata": {},
     "output_type": "execute_result"
    }
   ],
   "source": [
    "govtResCopy.head(2)"
   ]
  },
  {
   "cell_type": "markdown",
   "metadata": {},
   "source": [
    "#### Popularity Score"
   ]
  },
  {
   "cell_type": "markdown",
   "metadata": {},
   "source": [
    "> To get populairty score, we have to do #retweets + #likes(favorites)"
   ]
  },
  {
   "cell_type": "code",
   "execution_count": 456,
   "metadata": {},
   "outputs": [],
   "source": [
    "govtResCopy['popularity'] = govtResCopy.favorite_count + govtResCopy.retweet_count "
   ]
  },
  {
   "cell_type": "markdown",
   "metadata": {},
   "source": [
    "#### Reach Score"
   ]
  },
  {
   "cell_type": "markdown",
   "metadata": {},
   "source": [
    "> To get reach score, we have to do #followers - #following"
   ]
  },
  {
   "cell_type": "code",
   "execution_count": 457,
   "metadata": {},
   "outputs": [],
   "source": [
    "govtResCopy['reach'] = govtResCopy.followers_count - govtResCopy.friends_count"
   ]
  },
  {
   "cell_type": "markdown",
   "metadata": {},
   "source": [
    "#### Relevance Score "
   ]
  },
  {
   "cell_type": "markdown",
   "metadata": {},
   "source": [
    "> To get relevance score, we have to do #comments (reply counts) + #mentions\n",
    "\n",
    "- `NB:` getting reply counts is limited to premium accounts. \n",
    "\n",
    "- Hence we would be using retweet_count `as proxy`. It suits best for the purpose"
   ]
  },
  {
   "cell_type": "code",
   "execution_count": 458,
   "metadata": {},
   "outputs": [],
   "source": [
    "govtResCopy['relevance'] = govtResCopy.user_mentions + govtResCopy.retweet_count"
   ]
  },
  {
   "cell_type": "markdown",
   "metadata": {},
   "source": [
    "> View the dataset"
   ]
  },
  {
   "cell_type": "code",
   "execution_count": 459,
   "metadata": {},
   "outputs": [
    {
     "data": {
      "text/html": [
       "<div>\n",
       "<style scoped>\n",
       "    .dataframe tbody tr th:only-of-type {\n",
       "        vertical-align: middle;\n",
       "    }\n",
       "\n",
       "    .dataframe tbody tr th {\n",
       "        vertical-align: top;\n",
       "    }\n",
       "\n",
       "    .dataframe thead th {\n",
       "        text-align: right;\n",
       "    }\n",
       "</style>\n",
       "<table border=\"1\" class=\"dataframe\">\n",
       "  <thead>\n",
       "    <tr style=\"text-align: right;\">\n",
       "      <th></th>\n",
       "      <th>id</th>\n",
       "      <th>name</th>\n",
       "      <th>screen_name</th>\n",
       "      <th>description</th>\n",
       "      <th>statuses_count</th>\n",
       "      <th>friends_count</th>\n",
       "      <th>followers_count</th>\n",
       "      <th>account_age_days</th>\n",
       "      <th>avg_daily_tweets</th>\n",
       "      <th>hashtags</th>\n",
       "      <th>user_mentions</th>\n",
       "      <th>favorite_count</th>\n",
       "      <th>retweet_count</th>\n",
       "      <th>popularity</th>\n",
       "      <th>reach</th>\n",
       "      <th>relevance</th>\n",
       "    </tr>\n",
       "  </thead>\n",
       "  <tbody>\n",
       "    <tr>\n",
       "      <th>0</th>\n",
       "      <td>1181832897508065280</td>\n",
       "      <td>Eswatini Government</td>\n",
       "      <td>EswatiniGovern1</td>\n",
       "      <td>This is the official twitter account of the Go...</td>\n",
       "      <td>1672</td>\n",
       "      <td>82</td>\n",
       "      <td>11284</td>\n",
       "      <td>282</td>\n",
       "      <td>5</td>\n",
       "      <td>78</td>\n",
       "      <td>13</td>\n",
       "      <td>5600</td>\n",
       "      <td>1655</td>\n",
       "      <td>7255</td>\n",
       "      <td>11202</td>\n",
       "      <td>1668</td>\n",
       "    </tr>\n",
       "    <tr>\n",
       "      <th>1</th>\n",
       "      <td>2189970192</td>\n",
       "      <td>Malawi Government</td>\n",
       "      <td>MalawiGovt</td>\n",
       "      <td>#Malawi Government Twitter Feed | https://t.co...</td>\n",
       "      <td>4030</td>\n",
       "      <td>26</td>\n",
       "      <td>39182</td>\n",
       "      <td>2439</td>\n",
       "      <td>1</td>\n",
       "      <td>85</td>\n",
       "      <td>49</td>\n",
       "      <td>8404</td>\n",
       "      <td>4503</td>\n",
       "      <td>12907</td>\n",
       "      <td>39156</td>\n",
       "      <td>4552</td>\n",
       "    </tr>\n",
       "  </tbody>\n",
       "</table>\n",
       "</div>"
      ],
      "text/plain": [
       "                    id                 name      screen_name  \\\n",
       "0  1181832897508065280  Eswatini Government  EswatiniGovern1   \n",
       "1           2189970192    Malawi Government       MalawiGovt   \n",
       "\n",
       "                                         description  statuses_count  \\\n",
       "0  This is the official twitter account of the Go...            1672   \n",
       "1  #Malawi Government Twitter Feed | https://t.co...            4030   \n",
       "\n",
       "   friends_count  followers_count  account_age_days  avg_daily_tweets  \\\n",
       "0             82            11284               282                 5   \n",
       "1             26            39182              2439                 1   \n",
       "\n",
       "   hashtags  user_mentions  favorite_count  retweet_count  popularity  reach  \\\n",
       "0        78             13            5600           1655        7255  11202   \n",
       "1        85             49            8404           4503       12907  39156   \n",
       "\n",
       "   relevance  \n",
       "0       1668  \n",
       "1       4552  "
      ]
     },
     "execution_count": 459,
     "metadata": {},
     "output_type": "execute_result"
    }
   ],
   "source": [
    "govtResCopy.head(2)"
   ]
  },
  {
   "cell_type": "markdown",
   "metadata": {},
   "source": [
    " "
   ]
  },
  {
   "cell_type": "markdown",
   "metadata": {},
   "source": [
    "#### Measuring Influence across african influencers handles"
   ]
  },
  {
   "cell_type": "code",
   "execution_count": 460,
   "metadata": {},
   "outputs": [
    {
     "data": {
      "text/html": [
       "<div>\n",
       "<style scoped>\n",
       "    .dataframe tbody tr th:only-of-type {\n",
       "        vertical-align: middle;\n",
       "    }\n",
       "\n",
       "    .dataframe tbody tr th {\n",
       "        vertical-align: top;\n",
       "    }\n",
       "\n",
       "    .dataframe thead th {\n",
       "        text-align: right;\n",
       "    }\n",
       "</style>\n",
       "<table border=\"1\" class=\"dataframe\">\n",
       "  <thead>\n",
       "    <tr style=\"text-align: right;\">\n",
       "      <th></th>\n",
       "      <th>id</th>\n",
       "      <th>name</th>\n",
       "      <th>screen_name</th>\n",
       "      <th>description</th>\n",
       "      <th>statuses_count</th>\n",
       "      <th>friends_count</th>\n",
       "      <th>followers_count</th>\n",
       "      <th>account_age_days</th>\n",
       "      <th>avg_daily_tweets</th>\n",
       "      <th>hashtags</th>\n",
       "      <th>user_mentions</th>\n",
       "      <th>favorite_count</th>\n",
       "      <th>retweet_count</th>\n",
       "    </tr>\n",
       "  </thead>\n",
       "  <tbody>\n",
       "    <tr>\n",
       "      <th>0</th>\n",
       "      <td>305125998</td>\n",
       "      <td>Jeffrey Gettleman</td>\n",
       "      <td>gettleman</td>\n",
       "      <td>South Asia bureau chief for the New York Times...</td>\n",
       "      <td>3770</td>\n",
       "      <td>37</td>\n",
       "      <td>25700</td>\n",
       "      <td>3340</td>\n",
       "      <td>1</td>\n",
       "      <td>5</td>\n",
       "      <td>38</td>\n",
       "      <td>268</td>\n",
       "      <td>111152</td>\n",
       "    </tr>\n",
       "    <tr>\n",
       "      <th>1</th>\n",
       "      <td>26475943</td>\n",
       "      <td>A24 Media</td>\n",
       "      <td>a24media</td>\n",
       "      <td>Africa 24 produces compelling content that mak...</td>\n",
       "      <td>16869</td>\n",
       "      <td>3059</td>\n",
       "      <td>31285</td>\n",
       "      <td>4132</td>\n",
       "      <td>4</td>\n",
       "      <td>32</td>\n",
       "      <td>52</td>\n",
       "      <td>96</td>\n",
       "      <td>190</td>\n",
       "    </tr>\n",
       "  </tbody>\n",
       "</table>\n",
       "</div>"
      ],
      "text/plain": [
       "          id               name screen_name  \\\n",
       "0  305125998  Jeffrey Gettleman   gettleman   \n",
       "1   26475943          A24 Media    a24media   \n",
       "\n",
       "                                         description  statuses_count  \\\n",
       "0  South Asia bureau chief for the New York Times...            3770   \n",
       "1  Africa 24 produces compelling content that mak...           16869   \n",
       "\n",
       "   friends_count  followers_count  account_age_days  avg_daily_tweets  \\\n",
       "0             37            25700              3340                 1   \n",
       "1           3059            31285              4132                 4   \n",
       "\n",
       "   hashtags  user_mentions  favorite_count  retweet_count  \n",
       "0         5             38             268         111152  \n",
       "1        32             52              96            190  "
      ]
     },
     "execution_count": 460,
     "metadata": {},
     "output_type": "execute_result"
    }
   ],
   "source": [
    "afriqInfCopy.head(2)"
   ]
  },
  {
   "cell_type": "markdown",
   "metadata": {},
   "source": [
    "#### Popularity Score "
   ]
  },
  {
   "cell_type": "code",
   "execution_count": 461,
   "metadata": {},
   "outputs": [],
   "source": [
    "afriqInfCopy['popularity'] = afriqInfCopy.favorite_count + afriqInfCopy.retweet_count"
   ]
  },
  {
   "cell_type": "markdown",
   "metadata": {},
   "source": [
    "#### Reach Score "
   ]
  },
  {
   "cell_type": "code",
   "execution_count": 462,
   "metadata": {},
   "outputs": [],
   "source": [
    "afriqInfCopy['reach'] = afriqInfCopy.followers_count - afriqInfCopy.friends_count"
   ]
  },
  {
   "cell_type": "markdown",
   "metadata": {},
   "source": [
    "#### Relevance Score\n",
    "\n",
    "- `NB:` getting reply counts is limited to premium accounts. \n",
    "\n",
    "- Hence we would be using retweet_count `as proxy`. It suits best for the purpose"
   ]
  },
  {
   "cell_type": "code",
   "execution_count": 463,
   "metadata": {},
   "outputs": [],
   "source": [
    "afriqInfCopy['relevance'] = afriqInfCopy.user_mentions + afriqInfCopy.retweet_count"
   ]
  },
  {
   "cell_type": "markdown",
   "metadata": {},
   "source": [
    "> View the dataset"
   ]
  },
  {
   "cell_type": "code",
   "execution_count": 577,
   "metadata": {},
   "outputs": [
    {
     "data": {
      "text/html": [
       "<div>\n",
       "<style scoped>\n",
       "    .dataframe tbody tr th:only-of-type {\n",
       "        vertical-align: middle;\n",
       "    }\n",
       "\n",
       "    .dataframe tbody tr th {\n",
       "        vertical-align: top;\n",
       "    }\n",
       "\n",
       "    .dataframe thead th {\n",
       "        text-align: right;\n",
       "    }\n",
       "</style>\n",
       "<table border=\"1\" class=\"dataframe\">\n",
       "  <thead>\n",
       "    <tr style=\"text-align: right;\">\n",
       "      <th></th>\n",
       "      <th>id</th>\n",
       "      <th>name</th>\n",
       "      <th>screen_name</th>\n",
       "      <th>description</th>\n",
       "      <th>statuses_count</th>\n",
       "      <th>friends_count</th>\n",
       "      <th>followers_count</th>\n",
       "      <th>account_age_days</th>\n",
       "      <th>avg_daily_tweets</th>\n",
       "      <th>hashtags</th>\n",
       "      <th>user_mentions</th>\n",
       "      <th>favorite_count</th>\n",
       "      <th>retweet_count</th>\n",
       "      <th>popularity</th>\n",
       "      <th>reach</th>\n",
       "      <th>relevance</th>\n",
       "    </tr>\n",
       "  </thead>\n",
       "  <tbody>\n",
       "    <tr>\n",
       "      <th>0</th>\n",
       "      <td>305125998</td>\n",
       "      <td>Jeffrey Gettleman</td>\n",
       "      <td>gettleman</td>\n",
       "      <td>South Asia bureau chief for the New York Times...</td>\n",
       "      <td>3770</td>\n",
       "      <td>37</td>\n",
       "      <td>25700</td>\n",
       "      <td>3340</td>\n",
       "      <td>1</td>\n",
       "      <td>5</td>\n",
       "      <td>38</td>\n",
       "      <td>268</td>\n",
       "      <td>111152</td>\n",
       "      <td>111420</td>\n",
       "      <td>25663</td>\n",
       "      <td>111190</td>\n",
       "    </tr>\n",
       "    <tr>\n",
       "      <th>1</th>\n",
       "      <td>26475943</td>\n",
       "      <td>A24 Media</td>\n",
       "      <td>a24media</td>\n",
       "      <td>Africa 24 produces compelling content that mak...</td>\n",
       "      <td>16869</td>\n",
       "      <td>3059</td>\n",
       "      <td>31285</td>\n",
       "      <td>4132</td>\n",
       "      <td>4</td>\n",
       "      <td>32</td>\n",
       "      <td>52</td>\n",
       "      <td>96</td>\n",
       "      <td>190</td>\n",
       "      <td>286</td>\n",
       "      <td>28226</td>\n",
       "      <td>242</td>\n",
       "    </tr>\n",
       "  </tbody>\n",
       "</table>\n",
       "</div>"
      ],
      "text/plain": [
       "          id               name screen_name  \\\n",
       "0  305125998  Jeffrey Gettleman   gettleman   \n",
       "1   26475943          A24 Media    a24media   \n",
       "\n",
       "                                         description  statuses_count  \\\n",
       "0  South Asia bureau chief for the New York Times...            3770   \n",
       "1  Africa 24 produces compelling content that mak...           16869   \n",
       "\n",
       "   friends_count  followers_count  account_age_days  avg_daily_tweets  \\\n",
       "0             37            25700              3340                 1   \n",
       "1           3059            31285              4132                 4   \n",
       "\n",
       "   hashtags  user_mentions  favorite_count  retweet_count  popularity  reach  \\\n",
       "0         5             38             268         111152      111420  25663   \n",
       "1        32             52              96            190         286  28226   \n",
       "\n",
       "   relevance  \n",
       "0     111190  \n",
       "1        242  "
      ]
     },
     "execution_count": 577,
     "metadata": {},
     "output_type": "execute_result"
    }
   ],
   "source": [
    "afriqInfCopy.head(2)"
   ]
  },
  {
   "cell_type": "markdown",
   "metadata": {},
   "source": [
    " "
   ]
  },
  {
   "cell_type": "markdown",
   "metadata": {},
   "source": [
    "#### Find Correlation between theses measures of influence among African government"
   ]
  },
  {
   "cell_type": "markdown",
   "metadata": {},
   "source": [
    "##### To perform statistical inferences like correlation, we need a gaussian data,\n",
    "##### however, we can do the ffg in case of a non-gaussain data\n",
    "\n",
    "> Sort govtResponse by:\n",
    "\n",
    ">> Influential govt by popularity\n",
    "\n",
    ">> Influential govt by reach\n",
    "\n",
    ">> Influential govt by relevance\n",
    "\n",
    "> Rank users : \n",
    ">> so that the rank of 1 indicates  the  most  influential  user  and  increasing  rank  indicates a less influential user.\n",
    ">> Users with the same influence value receive the average of the rank amongst the"
   ]
  },
  {
   "cell_type": "markdown",
   "metadata": {},
   "source": [
    "- Sort Values by each measure of Influence"
   ]
  },
  {
   "cell_type": "code",
   "execution_count": 465,
   "metadata": {},
   "outputs": [],
   "source": [
    "govtPop = govtResCopy.sort_values(by='popularity', axis=0, ascending=False)"
   ]
  },
  {
   "cell_type": "code",
   "execution_count": 466,
   "metadata": {},
   "outputs": [],
   "source": [
    "govtReach = govtResCopy.sort_values(by='reach', axis=0, ascending=False)"
   ]
  },
  {
   "cell_type": "code",
   "execution_count": 467,
   "metadata": {},
   "outputs": [],
   "source": [
    "govtRelevance = govtResCopy.sort_values(by='relevance', axis=0, ascending=False)"
   ]
  },
  {
   "cell_type": "markdown",
   "metadata": {},
   "source": [
    " "
   ]
  },
  {
   "cell_type": "markdown",
   "metadata": {},
   "source": [
    "- Rank users"
   ]
  },
  {
   "cell_type": "markdown",
   "metadata": {},
   "source": [
    ">> Before ranking, let's plot the distribution of each sorted data to observe whther there is a normal distribution (gaussian) or not"
   ]
  },
  {
   "cell_type": "code",
   "execution_count": 468,
   "metadata": {},
   "outputs": [
    {
     "data": {
      "image/png": "[encoded data removed]",
      "text/plain": [
       "<Figure size 576x288 with 1 Axes>"
      ]
     },
     "metadata": {
      "needs_background": "light"
     },
     "output_type": "display_data"
    }
   ],
   "source": [
    "plt.subplots(figsize=(8, 4))\n",
    "plt.hist(govtPop.popularity);\n",
    "plt.title('Popularity');"
   ]
  },
  {
   "cell_type": "code",
   "execution_count": 469,
   "metadata": {},
   "outputs": [
    {
     "data": {
      "image/png": "[encoded data removed]",
      "text/plain": [
       "<Figure size 576x288 with 1 Axes>"
      ]
     },
     "metadata": {
      "needs_background": "light"
     },
     "output_type": "display_data"
    }
   ],
   "source": [
    "plt.subplots(figsize=(8, 4))\n",
    "plt.hist(govtReach.reach);\n",
    "plt.title('Reach');"
   ]
  },
  {
   "cell_type": "code",
   "execution_count": 470,
   "metadata": {},
   "outputs": [
    {
     "data": {
      "image/png": "[encoded data removed]",
      "text/plain": [
       "<Figure size 576x288 with 1 Axes>"
      ]
     },
     "metadata": {
      "needs_background": "light"
     },
     "output_type": "display_data"
    }
   ],
   "source": [
    "plt.subplots(figsize=(8, 4))\n",
    "plt.hist(govtRelevance.relevance);\n",
    "plt.title('Relevance');"
   ]
  },
  {
   "cell_type": "markdown",
   "metadata": {},
   "source": [
    ">> From the above, there is no normal distribution.. \n",
    "\n",
    ">> hence we cannot just find the if there is a correlation among them (_pearon correlation works for normally ditributed data_), "
   ]
  },
  {
   "cell_type": "markdown",
   "metadata": {},
   "source": [
    "> To calcualte the correlation between these (sorted) data points:, \n",
    "- we have to make them ordinal by assigning rank to them \n",
    "- then use spearman correlation  to find the correlation coefficient between them "
   ]
  },
  {
   "cell_type": "code",
   "execution_count": 471,
   "metadata": {},
   "outputs": [
    {
     "data": {
      "text/html": [
       "<div>\n",
       "<style scoped>\n",
       "    .dataframe tbody tr th:only-of-type {\n",
       "        vertical-align: middle;\n",
       "    }\n",
       "\n",
       "    .dataframe tbody tr th {\n",
       "        vertical-align: top;\n",
       "    }\n",
       "\n",
       "    .dataframe thead th {\n",
       "        text-align: right;\n",
       "    }\n",
       "</style>\n",
       "<table border=\"1\" class=\"dataframe\">\n",
       "  <thead>\n",
       "    <tr style=\"text-align: right;\">\n",
       "      <th></th>\n",
       "      <th>id</th>\n",
       "      <th>name</th>\n",
       "      <th>screen_name</th>\n",
       "      <th>description</th>\n",
       "      <th>statuses_count</th>\n",
       "      <th>friends_count</th>\n",
       "      <th>followers_count</th>\n",
       "      <th>account_age_days</th>\n",
       "      <th>avg_daily_tweets</th>\n",
       "      <th>hashtags</th>\n",
       "      <th>user_mentions</th>\n",
       "      <th>favorite_count</th>\n",
       "      <th>retweet_count</th>\n",
       "      <th>popularity</th>\n",
       "      <th>reach</th>\n",
       "      <th>relevance</th>\n",
       "    </tr>\n",
       "  </thead>\n",
       "  <tbody>\n",
       "    <tr>\n",
       "      <th>26</th>\n",
       "      <td>247217109</td>\n",
       "      <td>Nana Akufo-Addo</td>\n",
       "      <td>NAkufoAddo</td>\n",
       "      <td>Official Twitter account of Nana Addo Dankwa A...</td>\n",
       "      <td>7090</td>\n",
       "      <td>352</td>\n",
       "      <td>1505330</td>\n",
       "      <td>3451</td>\n",
       "      <td>2</td>\n",
       "      <td>24</td>\n",
       "      <td>21</td>\n",
       "      <td>106152</td>\n",
       "      <td>15905</td>\n",
       "      <td>122057</td>\n",
       "      <td>1504978</td>\n",
       "      <td>15926</td>\n",
       "    </tr>\n",
       "    <tr>\n",
       "      <th>13</th>\n",
       "      <td>1164801318742982656</td>\n",
       "      <td>Abdalla Hamdok</td>\n",
       "      <td>SudanPMHamdok</td>\n",
       "      <td>The official account of the Prime Minister of ...</td>\n",
       "      <td>652</td>\n",
       "      <td>115</td>\n",
       "      <td>369867</td>\n",
       "      <td>329</td>\n",
       "      <td>1</td>\n",
       "      <td>1</td>\n",
       "      <td>7</td>\n",
       "      <td>102936</td>\n",
       "      <td>17078</td>\n",
       "      <td>120014</td>\n",
       "      <td>369752</td>\n",
       "      <td>17085</td>\n",
       "    </tr>\n",
       "  </tbody>\n",
       "</table>\n",
       "</div>"
      ],
      "text/plain": [
       "                     id             name    screen_name  \\\n",
       "26            247217109  Nana Akufo-Addo     NAkufoAddo   \n",
       "13  1164801318742982656   Abdalla Hamdok  SudanPMHamdok   \n",
       "\n",
       "                                          description  statuses_count  \\\n",
       "26  Official Twitter account of Nana Addo Dankwa A...            7090   \n",
       "13  The official account of the Prime Minister of ...             652   \n",
       "\n",
       "    friends_count  followers_count  account_age_days  avg_daily_tweets  \\\n",
       "26            352          1505330              3451                 2   \n",
       "13            115           369867               329                 1   \n",
       "\n",
       "    hashtags  user_mentions  favorite_count  retweet_count  popularity  \\\n",
       "26        24             21          106152          15905      122057   \n",
       "13         1              7          102936          17078      120014   \n",
       "\n",
       "      reach  relevance  \n",
       "26  1504978      15926  \n",
       "13   369752      17085  "
      ]
     },
     "execution_count": 471,
     "metadata": {},
     "output_type": "execute_result"
    }
   ],
   "source": [
    "govtPop.head(2)"
   ]
  },
  {
   "cell_type": "code",
   "execution_count": 472,
   "metadata": {},
   "outputs": [
    {
     "data": {
      "text/html": [
       "<div>\n",
       "<style scoped>\n",
       "    .dataframe tbody tr th:only-of-type {\n",
       "        vertical-align: middle;\n",
       "    }\n",
       "\n",
       "    .dataframe tbody tr th {\n",
       "        vertical-align: top;\n",
       "    }\n",
       "\n",
       "    .dataframe thead th {\n",
       "        text-align: right;\n",
       "    }\n",
       "</style>\n",
       "<table border=\"1\" class=\"dataframe\">\n",
       "  <thead>\n",
       "    <tr style=\"text-align: right;\">\n",
       "      <th></th>\n",
       "      <th>id</th>\n",
       "      <th>name</th>\n",
       "      <th>screen_name</th>\n",
       "      <th>description</th>\n",
       "      <th>statuses_count</th>\n",
       "      <th>friends_count</th>\n",
       "      <th>followers_count</th>\n",
       "      <th>account_age_days</th>\n",
       "      <th>avg_daily_tweets</th>\n",
       "      <th>hashtags</th>\n",
       "      <th>user_mentions</th>\n",
       "      <th>favorite_count</th>\n",
       "      <th>retweet_count</th>\n",
       "      <th>popularity</th>\n",
       "      <th>reach</th>\n",
       "      <th>relevance</th>\n",
       "      <th>ranking</th>\n",
       "    </tr>\n",
       "  </thead>\n",
       "  <tbody>\n",
       "    <tr>\n",
       "      <th>26</th>\n",
       "      <td>247217109</td>\n",
       "      <td>Nana Akufo-Addo</td>\n",
       "      <td>NAkufoAddo</td>\n",
       "      <td>Official Twitter account of Nana Addo Dankwa A...</td>\n",
       "      <td>7090</td>\n",
       "      <td>352</td>\n",
       "      <td>1505330</td>\n",
       "      <td>3451</td>\n",
       "      <td>2</td>\n",
       "      <td>24</td>\n",
       "      <td>21</td>\n",
       "      <td>106152</td>\n",
       "      <td>15905</td>\n",
       "      <td>122057</td>\n",
       "      <td>1504978</td>\n",
       "      <td>15926</td>\n",
       "      <td>1</td>\n",
       "    </tr>\n",
       "  </tbody>\n",
       "</table>\n",
       "</div>"
      ],
      "text/plain": [
       "           id             name screen_name  \\\n",
       "26  247217109  Nana Akufo-Addo  NAkufoAddo   \n",
       "\n",
       "                                          description  statuses_count  \\\n",
       "26  Official Twitter account of Nana Addo Dankwa A...            7090   \n",
       "\n",
       "    friends_count  followers_count  account_age_days  avg_daily_tweets  \\\n",
       "26            352          1505330              3451                 2   \n",
       "\n",
       "    hashtags  user_mentions  favorite_count  retweet_count  popularity  \\\n",
       "26        24             21          106152          15905      122057   \n",
       "\n",
       "      reach  relevance  ranking  \n",
       "26  1504978      15926        1  "
      ]
     },
     "execution_count": 472,
     "metadata": {},
     "output_type": "execute_result"
    }
   ],
   "source": [
    "govtPop['ranking'] = [i+1 for i in range(len(govtPop.index))]\n",
    "govtPop.head(1)"
   ]
  },
  {
   "cell_type": "code",
   "execution_count": 473,
   "metadata": {},
   "outputs": [],
   "source": [
    "govtReach['ranking'] = [i+1 for i in range(len(govtReach.index))]"
   ]
  },
  {
   "cell_type": "code",
   "execution_count": 474,
   "metadata": {},
   "outputs": [
    {
     "data": {
      "text/html": [
       "<div>\n",
       "<style scoped>\n",
       "    .dataframe tbody tr th:only-of-type {\n",
       "        vertical-align: middle;\n",
       "    }\n",
       "\n",
       "    .dataframe tbody tr th {\n",
       "        vertical-align: top;\n",
       "    }\n",
       "\n",
       "    .dataframe thead th {\n",
       "        text-align: right;\n",
       "    }\n",
       "</style>\n",
       "<table border=\"1\" class=\"dataframe\">\n",
       "  <thead>\n",
       "    <tr style=\"text-align: right;\">\n",
       "      <th></th>\n",
       "      <th>id</th>\n",
       "      <th>name</th>\n",
       "      <th>screen_name</th>\n",
       "      <th>description</th>\n",
       "      <th>statuses_count</th>\n",
       "      <th>friends_count</th>\n",
       "      <th>followers_count</th>\n",
       "      <th>account_age_days</th>\n",
       "      <th>avg_daily_tweets</th>\n",
       "      <th>hashtags</th>\n",
       "      <th>user_mentions</th>\n",
       "      <th>favorite_count</th>\n",
       "      <th>retweet_count</th>\n",
       "      <th>popularity</th>\n",
       "      <th>reach</th>\n",
       "      <th>relevance</th>\n",
       "      <th>ranking</th>\n",
       "    </tr>\n",
       "  </thead>\n",
       "  <tbody>\n",
       "    <tr>\n",
       "      <th>32</th>\n",
       "      <td>2936714848</td>\n",
       "      <td>Muhammadu Buhari</td>\n",
       "      <td>MBuhari</td>\n",
       "      <td>This is the official account of Muhammadu Buha...</td>\n",
       "      <td>4734</td>\n",
       "      <td>26</td>\n",
       "      <td>3268955</td>\n",
       "      <td>2034</td>\n",
       "      <td>2</td>\n",
       "      <td>1</td>\n",
       "      <td>0</td>\n",
       "      <td>69304</td>\n",
       "      <td>14460</td>\n",
       "      <td>83764</td>\n",
       "      <td>3268929</td>\n",
       "      <td>14460</td>\n",
       "      <td>1</td>\n",
       "    </tr>\n",
       "    <tr>\n",
       "      <th>10</th>\n",
       "      <td>37601149</td>\n",
       "      <td>Paul Kagame</td>\n",
       "      <td>PaulKagame</td>\n",
       "      <td>President of the Republic of Rwanda, write to:...</td>\n",
       "      <td>2861</td>\n",
       "      <td>181</td>\n",
       "      <td>1981754</td>\n",
       "      <td>4092</td>\n",
       "      <td>0</td>\n",
       "      <td>0</td>\n",
       "      <td>2</td>\n",
       "      <td>22794</td>\n",
       "      <td>5116</td>\n",
       "      <td>27910</td>\n",
       "      <td>1981573</td>\n",
       "      <td>5118</td>\n",
       "      <td>2</td>\n",
       "    </tr>\n",
       "  </tbody>\n",
       "</table>\n",
       "</div>"
      ],
      "text/plain": [
       "            id              name screen_name  \\\n",
       "32  2936714848  Muhammadu Buhari     MBuhari   \n",
       "10    37601149       Paul Kagame  PaulKagame   \n",
       "\n",
       "                                          description  statuses_count  \\\n",
       "32  This is the official account of Muhammadu Buha...            4734   \n",
       "10  President of the Republic of Rwanda, write to:...            2861   \n",
       "\n",
       "    friends_count  followers_count  account_age_days  avg_daily_tweets  \\\n",
       "32             26          3268955              2034                 2   \n",
       "10            181          1981754              4092                 0   \n",
       "\n",
       "    hashtags  user_mentions  favorite_count  retweet_count  popularity  \\\n",
       "32         1              0           69304          14460       83764   \n",
       "10         0              2           22794           5116       27910   \n",
       "\n",
       "      reach  relevance  ranking  \n",
       "32  3268929      14460        1  \n",
       "10  1981573       5118        2  "
      ]
     },
     "execution_count": 474,
     "metadata": {},
     "output_type": "execute_result"
    }
   ],
   "source": [
    "govtReach.head(2)"
   ]
  },
  {
   "cell_type": "code",
   "execution_count": 475,
   "metadata": {},
   "outputs": [],
   "source": [
    "govtRelevance['ranking'] = [i+1 for i in range(len(govtRelevance.index))]"
   ]
  },
  {
   "cell_type": "code",
   "execution_count": 476,
   "metadata": {},
   "outputs": [
    {
     "data": {
      "text/html": [
       "<div>\n",
       "<style scoped>\n",
       "    .dataframe tbody tr th:only-of-type {\n",
       "        vertical-align: middle;\n",
       "    }\n",
       "\n",
       "    .dataframe tbody tr th {\n",
       "        vertical-align: top;\n",
       "    }\n",
       "\n",
       "    .dataframe thead th {\n",
       "        text-align: right;\n",
       "    }\n",
       "</style>\n",
       "<table border=\"1\" class=\"dataframe\">\n",
       "  <thead>\n",
       "    <tr style=\"text-align: right;\">\n",
       "      <th></th>\n",
       "      <th>id</th>\n",
       "      <th>name</th>\n",
       "      <th>screen_name</th>\n",
       "      <th>description</th>\n",
       "      <th>statuses_count</th>\n",
       "      <th>friends_count</th>\n",
       "      <th>followers_count</th>\n",
       "      <th>account_age_days</th>\n",
       "      <th>avg_daily_tweets</th>\n",
       "      <th>hashtags</th>\n",
       "      <th>user_mentions</th>\n",
       "      <th>favorite_count</th>\n",
       "      <th>retweet_count</th>\n",
       "      <th>popularity</th>\n",
       "      <th>reach</th>\n",
       "      <th>relevance</th>\n",
       "      <th>ranking</th>\n",
       "    </tr>\n",
       "  </thead>\n",
       "  <tbody>\n",
       "    <tr>\n",
       "      <th>17</th>\n",
       "      <td>337183326</td>\n",
       "      <td>Amb. Willy Nyamitwe</td>\n",
       "      <td>willynyamitwe</td>\n",
       "      <td>Ambassador &amp; Senior Advisor to HE @GeneralNeva...</td>\n",
       "      <td>40665</td>\n",
       "      <td>4654</td>\n",
       "      <td>107296</td>\n",
       "      <td>3287</td>\n",
       "      <td>12</td>\n",
       "      <td>135</td>\n",
       "      <td>354</td>\n",
       "      <td>6461</td>\n",
       "      <td>18140</td>\n",
       "      <td>24601</td>\n",
       "      <td>102642</td>\n",
       "      <td>18494</td>\n",
       "      <td>1</td>\n",
       "    </tr>\n",
       "    <tr>\n",
       "      <th>13</th>\n",
       "      <td>1164801318742982656</td>\n",
       "      <td>Abdalla Hamdok</td>\n",
       "      <td>SudanPMHamdok</td>\n",
       "      <td>The official account of the Prime Minister of ...</td>\n",
       "      <td>652</td>\n",
       "      <td>115</td>\n",
       "      <td>369867</td>\n",
       "      <td>329</td>\n",
       "      <td>1</td>\n",
       "      <td>1</td>\n",
       "      <td>7</td>\n",
       "      <td>102936</td>\n",
       "      <td>17078</td>\n",
       "      <td>120014</td>\n",
       "      <td>369752</td>\n",
       "      <td>17085</td>\n",
       "      <td>2</td>\n",
       "    </tr>\n",
       "  </tbody>\n",
       "</table>\n",
       "</div>"
      ],
      "text/plain": [
       "                     id                 name    screen_name  \\\n",
       "17            337183326  Amb. Willy Nyamitwe  willynyamitwe   \n",
       "13  1164801318742982656       Abdalla Hamdok  SudanPMHamdok   \n",
       "\n",
       "                                          description  statuses_count  \\\n",
       "17  Ambassador & Senior Advisor to HE @GeneralNeva...           40665   \n",
       "13  The official account of the Prime Minister of ...             652   \n",
       "\n",
       "    friends_count  followers_count  account_age_days  avg_daily_tweets  \\\n",
       "17           4654           107296              3287                12   \n",
       "13            115           369867               329                 1   \n",
       "\n",
       "    hashtags  user_mentions  favorite_count  retweet_count  popularity  \\\n",
       "17       135            354            6461          18140       24601   \n",
       "13         1              7          102936          17078      120014   \n",
       "\n",
       "     reach  relevance  ranking  \n",
       "17  102642      18494        1  \n",
       "13  369752      17085        2  "
      ]
     },
     "execution_count": 476,
     "metadata": {},
     "output_type": "execute_result"
    }
   ],
   "source": [
    "govtRelevance.head(2)"
   ]
  },
  {
   "cell_type": "markdown",
   "metadata": {},
   "source": [
    "> Let's fimd the correlation coeeficient betweent these measure\n",
    "\n",
    ">> Emphasis would be placed on the correlation between `popularity` & `relevance`\n",
    "\n",
    ">> This is because reach which is measured by followership does not necessariy indicate influence\n",
    "\n",
    ">> This would help us avoid the `million folower fallacy` discussed in the reserach paper link above"
   ]
  },
  {
   "cell_type": "markdown",
   "metadata": {},
   "source": [
    "- correlation between reach and relevance"
   ]
  },
  {
   "cell_type": "code",
   "execution_count": 530,
   "metadata": {},
   "outputs": [],
   "source": [
    "reach_rev_corr = pd.DataFrame(govtReach.reach.values.tolist(), govtRelevance.relevance.values.tolist()).reset_index()"
   ]
  },
  {
   "cell_type": "code",
   "execution_count": 531,
   "metadata": {},
   "outputs": [],
   "source": [
    "reach_rev_corr=reach_rev_corr.rename(columns={'index':'reach', 0: 'relevance'})"
   ]
  },
  {
   "cell_type": "code",
   "execution_count": 532,
   "metadata": {},
   "outputs": [
    {
     "data": {
      "text/html": [
       "<div>\n",
       "<style scoped>\n",
       "    .dataframe tbody tr th:only-of-type {\n",
       "        vertical-align: middle;\n",
       "    }\n",
       "\n",
       "    .dataframe tbody tr th {\n",
       "        vertical-align: top;\n",
       "    }\n",
       "\n",
       "    .dataframe thead th {\n",
       "        text-align: right;\n",
       "    }\n",
       "</style>\n",
       "<table border=\"1\" class=\"dataframe\">\n",
       "  <thead>\n",
       "    <tr style=\"text-align: right;\">\n",
       "      <th></th>\n",
       "      <th>reach</th>\n",
       "      <th>relevance</th>\n",
       "    </tr>\n",
       "  </thead>\n",
       "  <tbody>\n",
       "    <tr>\n",
       "      <th>reach</th>\n",
       "      <td>1.0</td>\n",
       "      <td>1.0</td>\n",
       "    </tr>\n",
       "    <tr>\n",
       "      <th>relevance</th>\n",
       "      <td>1.0</td>\n",
       "      <td>1.0</td>\n",
       "    </tr>\n",
       "  </tbody>\n",
       "</table>\n",
       "</div>"
      ],
      "text/plain": [
       "           reach  relevance\n",
       "reach        1.0        1.0\n",
       "relevance    1.0        1.0"
      ]
     },
     "execution_count": 532,
     "metadata": {},
     "output_type": "execute_result"
    }
   ],
   "source": [
    "reach_rev_corr.corr(method='spearman') "
   ]
  },
  {
   "cell_type": "code",
   "execution_count": 533,
   "metadata": {},
   "outputs": [
    {
     "data": {
      "text/plain": [
       "SpearmanrResult(correlation=1.0, pvalue=0.0)"
      ]
     },
     "execution_count": 533,
     "metadata": {},
     "output_type": "execute_result"
    }
   ],
   "source": [
    "spearmanr(reach_rev_corr)"
   ]
  },
  {
   "cell_type": "code",
   "execution_count": 552,
   "metadata": {},
   "outputs": [
    {
     "data": {
      "image/png": "[encoded data removed]",
      "text/plain": [
       "<Figure size 720x576 with 1 Axes>"
      ]
     },
     "metadata": {
      "needs_background": "light"
     },
     "output_type": "display_data"
    }
   ],
   "source": [
    "plt.subplots(figsize=(10,8))\n",
    "plt.scatter(x=reach_rev_corr.reach, y=reach_rev_corr.relevance, marker='o')\n",
    "plt.title('Correlation between reach & relevance', fontsize=15)\n",
    "plt.xlabel('reach', fontsize=13)\n",
    "plt.ylabel('relevance', fontsize=13)\n",
    "plt.savefig(fname='savedCharts/reach_rel_corr.png', format='png')\n",
    "plt.show()"
   ]
  },
  {
   "cell_type": "markdown",
   "metadata": {},
   "source": [
    "#### Interpretaion:\n",
    "\n",
    "> From the above computed correation coefficent of `1.0` and scatter plot, we can deduce that:\n",
    " >> there is a strongly positive correlation between`reach` and `relevance` also they are strictly increasing"
   ]
  },
  {
   "cell_type": "markdown",
   "metadata": {},
   "source": [
    " "
   ]
  },
  {
   "cell_type": "markdown",
   "metadata": {},
   "source": [
    " "
   ]
  },
  {
   "cell_type": "markdown",
   "metadata": {},
   "source": [
    "- correlation between reach and popularity"
   ]
  },
  {
   "cell_type": "code",
   "execution_count": 567,
   "metadata": {},
   "outputs": [],
   "source": [
    "reach_pop_corr = pd.DataFrame(govtReach.reach.values.tolist(), govtPop.popularity.values.tolist()).reset_index()"
   ]
  },
  {
   "cell_type": "code",
   "execution_count": 568,
   "metadata": {},
   "outputs": [],
   "source": [
    "reach_pop_corr=reach_pop_corr.rename(columns={'index':'reach', 0: 'popularity'})"
   ]
  },
  {
   "cell_type": "code",
   "execution_count": 569,
   "metadata": {},
   "outputs": [
    {
     "data": {
      "text/html": [
       "<div>\n",
       "<style scoped>\n",
       "    .dataframe tbody tr th:only-of-type {\n",
       "        vertical-align: middle;\n",
       "    }\n",
       "\n",
       "    .dataframe tbody tr th {\n",
       "        vertical-align: top;\n",
       "    }\n",
       "\n",
       "    .dataframe thead th {\n",
       "        text-align: right;\n",
       "    }\n",
       "</style>\n",
       "<table border=\"1\" class=\"dataframe\">\n",
       "  <thead>\n",
       "    <tr style=\"text-align: right;\">\n",
       "      <th></th>\n",
       "      <th>reach</th>\n",
       "      <th>popularity</th>\n",
       "    </tr>\n",
       "  </thead>\n",
       "  <tbody>\n",
       "    <tr>\n",
       "      <th>reach</th>\n",
       "      <td>1.0</td>\n",
       "      <td>1.0</td>\n",
       "    </tr>\n",
       "    <tr>\n",
       "      <th>popularity</th>\n",
       "      <td>1.0</td>\n",
       "      <td>1.0</td>\n",
       "    </tr>\n",
       "  </tbody>\n",
       "</table>\n",
       "</div>"
      ],
      "text/plain": [
       "            reach  popularity\n",
       "reach         1.0         1.0\n",
       "popularity    1.0         1.0"
      ]
     },
     "execution_count": 569,
     "metadata": {},
     "output_type": "execute_result"
    }
   ],
   "source": [
    "reach_pop_corr.corr(method='spearman "
   ]
  },
  {
   "cell_type": "code",
   "execution_count": 570,
   "metadata": {},
   "outputs": [
    {
     "data": {
      "text/plain": [
       "SpearmanrResult(correlation=1.0, pvalue=0.0)"
      ]
     },
     "execution_count": 570,
     "metadata": {},
     "output_type": "execute_result"
    }
   ],
   "source": [
    "spearmanr(reach_pop_corr) "
   ]
  },
  {
   "cell_type": "code",
   "execution_count": 571,
   "metadata": {},
   "outputs": [
    {
     "data": {
      "image/png": "[encoded data removed]",
      "text/plain": [
       "<Figure size 720x576 with 1 Axes>"
      ]
     },
     "metadata": {
      "needs_background": "light"
     },
     "output_type": "display_data"
    }
   ],
   "source": [
    "plt.subplots(figsize=(10,8))\n",
    "plt.scatter(x=reach_pop_corr.reach, y=reach_pop_corr.popularity, marker='o')\n",
    "plt.title('Correlation between reach & popularity', fontsize=15)\n",
    "plt.xlabel('reach', fontsize=13)\n",
    "plt.ylabel('popularity', fontsize=13)\n",
    "plt.savefig(fname='savedCharts/reach_pop_corr.png', format='png')\n",
    "plt.show() "
   ]
  },
  {
   "cell_type": "markdown",
   "metadata": {},
   "source": [
    "#### Interpretaion:\n",
    "\n",
    "> From the above computed correation coefficent of `1.0` and scatter plot, we can deduce that:\n",
    " >> there is a strongly positive correlation between`relevance` and `popularity` also they are strictly increasing"
   ]
  },
  {
   "cell_type": "markdown",
   "metadata": {},
   "source": [
    "  "
   ]
  },
  {
   "cell_type": "markdown",
   "metadata": {},
   "source": [
    " "
   ]
  },
  {
   "cell_type": "markdown",
   "metadata": {},
   "source": [
    "- correlation between relevance and popularity"
   ]
  },
  {
   "cell_type": "code",
   "execution_count": 572,
   "metadata": {},
   "outputs": [],
   "source": [
    "rev_pop_corr = pd.DataFrame(govtPop.popularity.values.tolist(), govtRelevance.relevance.values.tolist()).reset_index()"
   ]
  },
  {
   "cell_type": "code",
   "execution_count": 573,
   "metadata": {},
   "outputs": [],
   "source": [
    "rev_pop_corr=rev_pop_corr.rename(columns={'index':'popularity', 0: 'relevance'})"
   ]
  },
  {
   "cell_type": "code",
   "execution_count": 574,
   "metadata": {},
   "outputs": [
    {
     "data": {
      "text/html": [
       "<div>\n",
       "<style scoped>\n",
       "    .dataframe tbody tr th:only-of-type {\n",
       "        vertical-align: middle;\n",
       "    }\n",
       "\n",
       "    .dataframe tbody tr th {\n",
       "        vertical-align: top;\n",
       "    }\n",
       "\n",
       "    .dataframe thead th {\n",
       "        text-align: right;\n",
       "    }\n",
       "</style>\n",
       "<table border=\"1\" class=\"dataframe\">\n",
       "  <thead>\n",
       "    <tr style=\"text-align: right;\">\n",
       "      <th></th>\n",
       "      <th>popularity</th>\n",
       "      <th>relevance</th>\n",
       "    </tr>\n",
       "  </thead>\n",
       "  <tbody>\n",
       "    <tr>\n",
       "      <th>popularity</th>\n",
       "      <td>1.0</td>\n",
       "      <td>1.0</td>\n",
       "    </tr>\n",
       "    <tr>\n",
       "      <th>relevance</th>\n",
       "      <td>1.0</td>\n",
       "      <td>1.0</td>\n",
       "    </tr>\n",
       "  </tbody>\n",
       "</table>\n",
       "</div>"
      ],
      "text/plain": [
       "            popularity  relevance\n",
       "popularity         1.0        1.0\n",
       "relevance          1.0        1.0"
      ]
     },
     "execution_count": 574,
     "metadata": {},
     "output_type": "execute_result"
    }
   ],
   "source": [
    "rev_pop_corr.corr(method='spearman')"
   ]
  },
  {
   "cell_type": "code",
   "execution_count": 575,
   "metadata": {},
   "outputs": [
    {
     "data": {
      "text/plain": [
       "SpearmanrResult(correlation=1.0, pvalue=0.0)"
      ]
     },
     "execution_count": 575,
     "metadata": {},
     "output_type": "execute_result"
    }
   ],
   "source": [
    "spearmanr(reach_rev_corr)"
   ]
  },
  {
   "cell_type": "code",
   "execution_count": 576,
   "metadata": {},
   "outputs": [
    {
     "data": {
      "image/png": "[encoded data removed]",
      "text/plain": [
       "<Figure size 720x576 with 1 Axes>"
      ]
     },
     "metadata": {
      "needs_background": "light"
     },
     "output_type": "display_data"
    }
   ],
   "source": [
    "plt.subplots(figsize=(10,8)) \n",
    "plt.scatter(x=rev_pop_corr.popularity, y=rev_pop_corr.relevance, marker='o')\n",
    "plt.title('Correlation between popularity & relevance', fontsize=15)\n",
    "plt.xlabel('popularity', fontsize=13)  \n",
    "plt.ylabel('relevance', fontsize=13)\n",
    "plt.savefig(fname='savedCharts/pop_rev_corr.png', format='png')\n",
    "plt.show() "
   ]
  },
  {
   "cell_type": "markdown",
   "metadata": {},
   "source": [
    "#### Interpretaion:\n",
    "\n",
    "> From the above computed correation coefficent of `1.0` and scatter plot, we can deduce that:\n",
    " >> there is a strongly positive correlation between`reach` and `relevance` also they are strictly increasing"
   ]
  },
  {
   "cell_type": "markdown",
   "metadata": {},
   "source": [
    " "
   ]
  },
  {
   "cell_type": "markdown",
   "metadata": {},
   "source": [
    "  --------------------------------------------------------------------------------------------------------------"
   ]
  },
  {
   "cell_type": "markdown",
   "metadata": {},
   "source": [
    " "
   ]
  },
  {
   "cell_type": "markdown",
   "metadata": {},
   "source": [
    "### Top 10 Influnetial African Personalities/Brands"
   ]
  },
  {
   "cell_type": "markdown",
   "metadata": {},
   "source": [
    "#### Find Correlation between theses measures of influence among African government"
   ]
  },
  {
   "cell_type": "markdown",
   "metadata": {},
   "source": [
    " "
   ]
  },
  {
   "cell_type": "markdown",
   "metadata": {},
   "source": [
    "##### To perform statistical inferences like correlation, we need a gaussian data,\n",
    "##### however, we can do the ffg in case of a non-gaussain data\n",
    "\n",
    "> Sort govtResponse by:\n",
    "\n",
    ">> Influential govt by popularity\n",
    "\n",
    ">> Influential govt by reach\n",
    "\n",
    ">> Influential govt by relevance\n",
    "\n",
    "> Rank users : \n",
    ">> so that the rank of 1 indicates  the  most  influential  user  and  increasing  rank  indicates a less influential user.\n",
    ">> Users with the same influence value receive the average of the rank amongst the"
   ]
  },
  {
   "cell_type": "markdown",
   "metadata": {},
   "source": [
    "- Sort Values by each measure of Influence"
   ]
  },
  {
   "cell_type": "code",
   "execution_count": 581,
   "metadata": {},
   "outputs": [],
   "source": [
    "afriqInfPop = afriqInfCopy.sort_values(by='popularity', axis=0, ascending=False)"
   ]
  },
  {
   "cell_type": "code",
   "execution_count": 582,
   "metadata": {},
   "outputs": [],
   "source": [
    "afriqInfReach = afriqInfCopy.sort_values(by='reach', axis=0, ascending=False)"
   ]
  },
  {
   "cell_type": "code",
   "execution_count": 583,
   "metadata": {},
   "outputs": [],
   "source": [
    "afriqInfRev = afriqInfCopy.sort_values(by='relevance', axis=0, ascending=False)"
   ]
  },
  {
   "cell_type": "markdown",
   "metadata": {},
   "source": [
    " "
   ]
  },
  {
   "cell_type": "markdown",
   "metadata": {},
   "source": [
    "- Rank users"
   ]
  },
  {
   "cell_type": "markdown",
   "metadata": {},
   "source": [
    ">> Before ranking, let's plot the distribution of each sorted data to observe whther there is a normal distribution (gaussian) or not"
   ]
  },
  {
   "cell_type": "code",
   "execution_count": 584,
   "metadata": {},
   "outputs": [
    {
     "data": {
      "image/png": "[encoded data removed]",
      "text/plain": [
       "<Figure size 576x288 with 1 Axes>"
      ]
     },
     "metadata": {
      "needs_background": "light"
     },
     "output_type": "display_data"
    }
   ],
   "source": [
    "plt.subplots(figsize=(8, 4))\n",
    "plt.hist(afriqInfPop.popularity);\n",
    "plt.title('Popularity');"
   ]
  },
  {
   "cell_type": "code",
   "execution_count": 585,
   "metadata": {},
   "outputs": [
    {
     "data": {
      "image/png": "[encoded data removed]",
      "text/plain": [
       "<Figure size 576x288 with 1 Axes>"
      ]
     },
     "metadata": {
      "needs_background": "light"
     },
     "output_type": "display_data"
    }
   ],
   "source": [
    "plt.subplots(figsize=(8, 4))\n",
    "plt.hist(afriqInfReach.reach);\n",
    "plt.title('Reach');"
   ]
  },
  {
   "cell_type": "code",
   "execution_count": 586,
   "metadata": {},
   "outputs": [
    {
     "data": {
      "image/png": "[encoded data removed]",
      "text/plain": [
       "<Figure size 576x288 with 1 Axes>"
      ]
     },
     "metadata": {
      "needs_background": "light"
     },
     "output_type": "display_data"
    }
   ],
   "source": [
    "plt.subplots(figsize=(8, 4))\n",
    "plt.hist(afriqInfRev.relevance);\n",
    "plt.title('Relevance');"
   ]
  },
  {
   "cell_type": "markdown",
   "metadata": {},
   "source": [
    ">> From the above, there is no normal distribution.. \n",
    "\n",
    ">> hence we cannot just find the if there is a correlation among them (_pearon correlation works for normally ditributed data_), "
   ]
  },
  {
   "cell_type": "markdown",
   "metadata": {},
   "source": [
    "> To calcualte the correlation between these (sorted) data points:, \n",
    "- we have to make them ordinal by assigning rank to them \n",
    "- then use spearman correlation  to find the correlation coefficient between them "
   ]
  },
  {
   "cell_type": "code",
   "execution_count": 587,
   "metadata": {},
   "outputs": [
    {
     "data": {
      "text/html": [
       "<div>\n",
       "<style scoped>\n",
       "    .dataframe tbody tr th:only-of-type {\n",
       "        vertical-align: middle;\n",
       "    }\n",
       "\n",
       "    .dataframe tbody tr th {\n",
       "        vertical-align: top;\n",
       "    }\n",
       "\n",
       "    .dataframe thead th {\n",
       "        text-align: right;\n",
       "    }\n",
       "</style>\n",
       "<table border=\"1\" class=\"dataframe\">\n",
       "  <thead>\n",
       "    <tr style=\"text-align: right;\">\n",
       "      <th></th>\n",
       "      <th>id</th>\n",
       "      <th>name</th>\n",
       "      <th>screen_name</th>\n",
       "      <th>description</th>\n",
       "      <th>statuses_count</th>\n",
       "      <th>friends_count</th>\n",
       "      <th>followers_count</th>\n",
       "      <th>account_age_days</th>\n",
       "      <th>avg_daily_tweets</th>\n",
       "      <th>hashtags</th>\n",
       "      <th>user_mentions</th>\n",
       "      <th>favorite_count</th>\n",
       "      <th>retweet_count</th>\n",
       "      <th>popularity</th>\n",
       "      <th>reach</th>\n",
       "      <th>relevance</th>\n",
       "    </tr>\n",
       "  </thead>\n",
       "  <tbody>\n",
       "    <tr>\n",
       "      <th>16</th>\n",
       "      <td>18753586</td>\n",
       "      <td>Barry Malone</td>\n",
       "      <td>malonebarry</td>\n",
       "      <td>Executive Producer, @AJStream. Previously: Al ...</td>\n",
       "      <td>35230</td>\n",
       "      <td>2988</td>\n",
       "      <td>28426</td>\n",
       "      <td>4208</td>\n",
       "      <td>8</td>\n",
       "      <td>43</td>\n",
       "      <td>767</td>\n",
       "      <td>7317</td>\n",
       "      <td>1627597</td>\n",
       "      <td>1634914</td>\n",
       "      <td>25438</td>\n",
       "      <td>1628364</td>\n",
       "    </tr>\n",
       "    <tr>\n",
       "      <th>55</th>\n",
       "      <td>454904118</td>\n",
       "      <td>Mbuyiseni Ndlozi</td>\n",
       "      <td>MbuyiseniNdlozi</td>\n",
       "      <td>EFF Commissar &amp; Member of Parliament - @EFFSou...</td>\n",
       "      <td>35927</td>\n",
       "      <td>5473</td>\n",
       "      <td>1074551</td>\n",
       "      <td>3116</td>\n",
       "      <td>11</td>\n",
       "      <td>178</td>\n",
       "      <td>861</td>\n",
       "      <td>328509</td>\n",
       "      <td>1183406</td>\n",
       "      <td>1511915</td>\n",
       "      <td>1069078</td>\n",
       "      <td>1184267</td>\n",
       "    </tr>\n",
       "  </tbody>\n",
       "</table>\n",
       "</div>"
      ],
      "text/plain": [
       "           id              name      screen_name  \\\n",
       "16   18753586      Barry Malone      malonebarry   \n",
       "55  454904118  Mbuyiseni Ndlozi  MbuyiseniNdlozi   \n",
       "\n",
       "                                          description  statuses_count  \\\n",
       "16  Executive Producer, @AJStream. Previously: Al ...           35230   \n",
       "55  EFF Commissar & Member of Parliament - @EFFSou...           35927   \n",
       "\n",
       "    friends_count  followers_count  account_age_days  avg_daily_tweets  \\\n",
       "16           2988            28426              4208                 8   \n",
       "55           5473          1074551              3116                11   \n",
       "\n",
       "    hashtags  user_mentions  favorite_count  retweet_count  popularity  \\\n",
       "16        43            767            7317        1627597     1634914   \n",
       "55       178            861          328509        1183406     1511915   \n",
       "\n",
       "      reach  relevance  \n",
       "16    25438    1628364  \n",
       "55  1069078    1184267  "
      ]
     },
     "execution_count": 587,
     "metadata": {},
     "output_type": "execute_result"
    }
   ],
   "source": [
    "afriqInfPop.head(2)"
   ]
  },
  {
   "cell_type": "code",
   "execution_count": 629,
   "metadata": {},
   "outputs": [
    {
     "data": {
      "text/html": [
       "<div>\n",
       "<style scoped>\n",
       "    .dataframe tbody tr th:only-of-type {\n",
       "        vertical-align: middle;\n",
       "    }\n",
       "\n",
       "    .dataframe tbody tr th {\n",
       "        vertical-align: top;\n",
       "    }\n",
       "\n",
       "    .dataframe thead th {\n",
       "        text-align: right;\n",
       "    }\n",
       "</style>\n",
       "<table border=\"1\" class=\"dataframe\">\n",
       "  <thead>\n",
       "    <tr style=\"text-align: right;\">\n",
       "      <th></th>\n",
       "      <th>id</th>\n",
       "      <th>name</th>\n",
       "      <th>screen_name</th>\n",
       "      <th>description</th>\n",
       "      <th>statuses_count</th>\n",
       "      <th>friends_count</th>\n",
       "      <th>followers_count</th>\n",
       "      <th>account_age_days</th>\n",
       "      <th>avg_daily_tweets</th>\n",
       "      <th>hashtags</th>\n",
       "      <th>user_mentions</th>\n",
       "      <th>favorite_count</th>\n",
       "      <th>retweet_count</th>\n",
       "      <th>popularity</th>\n",
       "      <th>reach</th>\n",
       "      <th>relevance</th>\n",
       "      <th>ranking</th>\n",
       "    </tr>\n",
       "  </thead>\n",
       "  <tbody>\n",
       "    <tr>\n",
       "      <th>0</th>\n",
       "      <td>305125998</td>\n",
       "      <td>Jeffrey Gettleman</td>\n",
       "      <td>gettleman</td>\n",
       "      <td>South Asia bureau chief for the New York Times...</td>\n",
       "      <td>3770</td>\n",
       "      <td>37</td>\n",
       "      <td>25700</td>\n",
       "      <td>3340</td>\n",
       "      <td>1</td>\n",
       "      <td>5</td>\n",
       "      <td>38</td>\n",
       "      <td>268</td>\n",
       "      <td>111152</td>\n",
       "      <td>111420</td>\n",
       "      <td>25663</td>\n",
       "      <td>111190</td>\n",
       "      <td>1</td>\n",
       "    </tr>\n",
       "  </tbody>\n",
       "</table>\n",
       "</div>"
      ],
      "text/plain": [
       "          id               name screen_name  \\\n",
       "0  305125998  Jeffrey Gettleman   gettleman   \n",
       "\n",
       "                                         description  statuses_count  \\\n",
       "0  South Asia bureau chief for the New York Times...            3770   \n",
       "\n",
       "   friends_count  followers_count  account_age_days  avg_daily_tweets  \\\n",
       "0             37            25700              3340                 1   \n",
       "\n",
       "   hashtags  user_mentions  favorite_count  retweet_count  popularity  reach  \\\n",
       "0         5             38             268         111152      111420  25663   \n",
       "\n",
       "   relevance  ranking  \n",
       "0     111190        1  "
      ]
     },
     "execution_count": 629,
     "metadata": {},
     "output_type": "execute_result"
    }
   ],
   "source": [
    "afriqInfPop['ranking'] = [i+1 for i in range(len(afriqInfPop.index))]\n",
    "afriqInfCopy.head(1)"
   ]
  },
  {
   "cell_type": "code",
   "execution_count": 630,
   "metadata": {},
   "outputs": [],
   "source": [
    "afriqInfReach['ranking'] = [i+1 for i in range(len(afriqInfReach.index))]"
   ]
  },
  {
   "cell_type": "code",
   "execution_count": 631,
   "metadata": {},
   "outputs": [
    {
     "data": {
      "text/html": [
       "<div>\n",
       "<style scoped>\n",
       "    .dataframe tbody tr th:only-of-type {\n",
       "        vertical-align: middle;\n",
       "    }\n",
       "\n",
       "    .dataframe tbody tr th {\n",
       "        vertical-align: top;\n",
       "    }\n",
       "\n",
       "    .dataframe thead th {\n",
       "        text-align: right;\n",
       "    }\n",
       "</style>\n",
       "<table border=\"1\" class=\"dataframe\">\n",
       "  <thead>\n",
       "    <tr style=\"text-align: right;\">\n",
       "      <th></th>\n",
       "      <th>id</th>\n",
       "      <th>name</th>\n",
       "      <th>screen_name</th>\n",
       "      <th>description</th>\n",
       "      <th>statuses_count</th>\n",
       "      <th>friends_count</th>\n",
       "      <th>followers_count</th>\n",
       "      <th>account_age_days</th>\n",
       "      <th>avg_daily_tweets</th>\n",
       "      <th>hashtags</th>\n",
       "      <th>user_mentions</th>\n",
       "      <th>favorite_count</th>\n",
       "      <th>retweet_count</th>\n",
       "      <th>popularity</th>\n",
       "      <th>reach</th>\n",
       "      <th>relevance</th>\n",
       "      <th>ranking</th>\n",
       "    </tr>\n",
       "  </thead>\n",
       "  <tbody>\n",
       "    <tr>\n",
       "      <th>92</th>\n",
       "      <td>46335511</td>\n",
       "      <td>Trevor Noah</td>\n",
       "      <td>Trevornoah</td>\n",
       "      <td>Comedian from South Africa. I was in the crowd...</td>\n",
       "      <td>11185</td>\n",
       "      <td>325</td>\n",
       "      <td>10803194</td>\n",
       "      <td>4054</td>\n",
       "      <td>2</td>\n",
       "      <td>0</td>\n",
       "      <td>13</td>\n",
       "      <td>136346</td>\n",
       "      <td>592755</td>\n",
       "      <td>729101</td>\n",
       "      <td>10802869</td>\n",
       "      <td>592768</td>\n",
       "      <td>1</td>\n",
       "    </tr>\n",
       "    <tr>\n",
       "      <th>89</th>\n",
       "      <td>14697575</td>\n",
       "      <td>News24</td>\n",
       "      <td>News24</td>\n",
       "      <td>South Africa's premier online news resource. F...</td>\n",
       "      <td>322655</td>\n",
       "      <td>631</td>\n",
       "      <td>3575424</td>\n",
       "      <td>4453</td>\n",
       "      <td>72</td>\n",
       "      <td>227</td>\n",
       "      <td>1022</td>\n",
       "      <td>204918</td>\n",
       "      <td>89815</td>\n",
       "      <td>294733</td>\n",
       "      <td>3574793</td>\n",
       "      <td>90837</td>\n",
       "      <td>2</td>\n",
       "    </tr>\n",
       "  </tbody>\n",
       "</table>\n",
       "</div>"
      ],
      "text/plain": [
       "          id         name screen_name  \\\n",
       "92  46335511  Trevor Noah  Trevornoah   \n",
       "89  14697575       News24      News24   \n",
       "\n",
       "                                          description  statuses_count  \\\n",
       "92  Comedian from South Africa. I was in the crowd...           11185   \n",
       "89  South Africa's premier online news resource. F...          322655   \n",
       "\n",
       "    friends_count  followers_count  account_age_days  avg_daily_tweets  \\\n",
       "92            325         10803194              4054                 2   \n",
       "89            631          3575424              4453                72   \n",
       "\n",
       "    hashtags  user_mentions  favorite_count  retweet_count  popularity  \\\n",
       "92         0             13          136346         592755      729101   \n",
       "89       227           1022          204918          89815      294733   \n",
       "\n",
       "       reach  relevance  ranking  \n",
       "92  10802869     592768        1  \n",
       "89   3574793      90837        2  "
      ]
     },
     "execution_count": 631,
     "metadata": {},
     "output_type": "execute_result"
    }
   ],
   "source": [
    "afriqInfReach.head(2)"
   ]
  },
  {
   "cell_type": "code",
   "execution_count": 632,
   "metadata": {},
   "outputs": [],
   "source": [
    "afriqInfRev['ranking'] = [i+1 for i in range(len(afriqInfRev.index))]"
   ]
  },
  {
   "cell_type": "code",
   "execution_count": 633,
   "metadata": {},
   "outputs": [
    {
     "data": {
      "text/html": [
       "<div>\n",
       "<style scoped>\n",
       "    .dataframe tbody tr th:only-of-type {\n",
       "        vertical-align: middle;\n",
       "    }\n",
       "\n",
       "    .dataframe tbody tr th {\n",
       "        vertical-align: top;\n",
       "    }\n",
       "\n",
       "    .dataframe thead th {\n",
       "        text-align: right;\n",
       "    }\n",
       "</style>\n",
       "<table border=\"1\" class=\"dataframe\">\n",
       "  <thead>\n",
       "    <tr style=\"text-align: right;\">\n",
       "      <th></th>\n",
       "      <th>id</th>\n",
       "      <th>name</th>\n",
       "      <th>screen_name</th>\n",
       "      <th>description</th>\n",
       "      <th>statuses_count</th>\n",
       "      <th>friends_count</th>\n",
       "      <th>followers_count</th>\n",
       "      <th>account_age_days</th>\n",
       "      <th>avg_daily_tweets</th>\n",
       "      <th>hashtags</th>\n",
       "      <th>user_mentions</th>\n",
       "      <th>favorite_count</th>\n",
       "      <th>retweet_count</th>\n",
       "      <th>popularity</th>\n",
       "      <th>reach</th>\n",
       "      <th>relevance</th>\n",
       "      <th>ranking</th>\n",
       "    </tr>\n",
       "  </thead>\n",
       "  <tbody>\n",
       "    <tr>\n",
       "      <th>16</th>\n",
       "      <td>18753586</td>\n",
       "      <td>Barry Malone</td>\n",
       "      <td>malonebarry</td>\n",
       "      <td>Executive Producer, @AJStream. Previously: Al ...</td>\n",
       "      <td>35230</td>\n",
       "      <td>2988</td>\n",
       "      <td>28426</td>\n",
       "      <td>4208</td>\n",
       "      <td>8</td>\n",
       "      <td>43</td>\n",
       "      <td>767</td>\n",
       "      <td>7317</td>\n",
       "      <td>1627597</td>\n",
       "      <td>1634914</td>\n",
       "      <td>25438</td>\n",
       "      <td>1628364</td>\n",
       "      <td>1</td>\n",
       "    </tr>\n",
       "    <tr>\n",
       "      <th>55</th>\n",
       "      <td>454904118</td>\n",
       "      <td>Mbuyiseni Ndlozi</td>\n",
       "      <td>MbuyiseniNdlozi</td>\n",
       "      <td>EFF Commissar &amp; Member of Parliament - @EFFSou...</td>\n",
       "      <td>35927</td>\n",
       "      <td>5473</td>\n",
       "      <td>1074551</td>\n",
       "      <td>3116</td>\n",
       "      <td>11</td>\n",
       "      <td>178</td>\n",
       "      <td>861</td>\n",
       "      <td>328509</td>\n",
       "      <td>1183406</td>\n",
       "      <td>1511915</td>\n",
       "      <td>1069078</td>\n",
       "      <td>1184267</td>\n",
       "      <td>2</td>\n",
       "    </tr>\n",
       "  </tbody>\n",
       "</table>\n",
       "</div>"
      ],
      "text/plain": [
       "           id              name      screen_name  \\\n",
       "16   18753586      Barry Malone      malonebarry   \n",
       "55  454904118  Mbuyiseni Ndlozi  MbuyiseniNdlozi   \n",
       "\n",
       "                                          description  statuses_count  \\\n",
       "16  Executive Producer, @AJStream. Previously: Al ...           35230   \n",
       "55  EFF Commissar & Member of Parliament - @EFFSou...           35927   \n",
       "\n",
       "    friends_count  followers_count  account_age_days  avg_daily_tweets  \\\n",
       "16           2988            28426              4208                 8   \n",
       "55           5473          1074551              3116                11   \n",
       "\n",
       "    hashtags  user_mentions  favorite_count  retweet_count  popularity  \\\n",
       "16        43            767            7317        1627597     1634914   \n",
       "55       178            861          328509        1183406     1511915   \n",
       "\n",
       "      reach  relevance  ranking  \n",
       "16    25438    1628364        1  \n",
       "55  1069078    1184267        2  "
      ]
     },
     "execution_count": 633,
     "metadata": {},
     "output_type": "execute_result"
    }
   ],
   "source": [
    "afriqInfRev.head(2)"
   ]
  },
  {
   "cell_type": "markdown",
   "metadata": {},
   "source": [
    "> Let's fimd the correlation coeeficient betweent these measure\n",
    "\n",
    ">> Emphasis would be placed on the correlation between `popularity` & `relevance`\n",
    "\n",
    ">> This is because reach which is measured by followership does not necessariy indicate influence\n",
    "\n",
    ">> This would help us avoid the `million folower fallacy` discussed in the reserach paper link above"
   ]
  },
  {
   "cell_type": "markdown",
   "metadata": {},
   "source": [
    "- correlation between reach and relevance"
   ]
  },
  {
   "cell_type": "code",
   "execution_count": 634,
   "metadata": {},
   "outputs": [],
   "source": [
    "Infreach_rev_corr = pd.DataFrame(afriqInfReach.reach.values.tolist(), afriqInfRev.relevance.values.tolist()).reset_index()"
   ]
  },
  {
   "cell_type": "code",
   "execution_count": 635,
   "metadata": {},
   "outputs": [],
   "source": [
    "Infreach_rev_corr=Infreach_rev_corr.rename(columns={'index':'reach', 0: 'relevance'})"
   ]
  },
  {
   "cell_type": "code",
   "execution_count": 636,
   "metadata": {},
   "outputs": [
    {
     "data": {
      "text/html": [
       "<div>\n",
       "<style scoped>\n",
       "    .dataframe tbody tr th:only-of-type {\n",
       "        vertical-align: middle;\n",
       "    }\n",
       "\n",
       "    .dataframe tbody tr th {\n",
       "        vertical-align: top;\n",
       "    }\n",
       "\n",
       "    .dataframe thead th {\n",
       "        text-align: right;\n",
       "    }\n",
       "</style>\n",
       "<table border=\"1\" class=\"dataframe\">\n",
       "  <thead>\n",
       "    <tr style=\"text-align: right;\">\n",
       "      <th></th>\n",
       "      <th>reach</th>\n",
       "      <th>relevance</th>\n",
       "    </tr>\n",
       "  </thead>\n",
       "  <tbody>\n",
       "    <tr>\n",
       "      <th>reach</th>\n",
       "      <td>1.000000</td>\n",
       "      <td>0.999992</td>\n",
       "    </tr>\n",
       "    <tr>\n",
       "      <th>relevance</th>\n",
       "      <td>0.999992</td>\n",
       "      <td>1.000000</td>\n",
       "    </tr>\n",
       "  </tbody>\n",
       "</table>\n",
       "</div>"
      ],
      "text/plain": [
       "              reach  relevance\n",
       "reach      1.000000   0.999992\n",
       "relevance  0.999992   1.000000"
      ]
     },
     "execution_count": 636,
     "metadata": {},
     "output_type": "execute_result"
    }
   ],
   "source": [
    "Infreach_rev_corr.corr(method='spearman') "
   ]
  },
  {
   "cell_type": "code",
   "execution_count": 637,
   "metadata": {},
   "outputs": [
    {
     "data": {
      "text/plain": [
       "SpearmanrResult(correlation=0.9999917684972155, pvalue=2.849648624460546e-212)"
      ]
     },
     "execution_count": 637,
     "metadata": {},
     "output_type": "execute_result"
    }
   ],
   "source": [
    "spearmanr(Infreach_rev_corr)"
   ]
  },
  {
   "cell_type": "code",
   "execution_count": 638,
   "metadata": {},
   "outputs": [
    {
     "data": {
      "image/png": "[encoded data removed]",
      "text/plain": [
       "<Figure size 720x576 with 1 Axes>"
      ]
     },
     "metadata": {
      "needs_background": "light"
     },
     "output_type": "display_data"
    }
   ],
   "source": [
    "plt.subplots(figsize=(10,8))\n",
    "plt.scatter(x=Infreach_rev_corr.reach, y=Infreach_rev_corr.relevance, marker='o')\n",
    "plt.title('Correlation between reach & relevance for Africa Influencers', fontsize=15)\n",
    "plt.xlabel('reach', fontsize=13)\n",
    "plt.ylabel('relevance', fontsize=13)\n",
    "plt.savefig(fname='savedCharts/africaInfluencers/Infreach_rel_corr.png', format='png')\n",
    "plt.show()"
   ]
  },
  {
   "cell_type": "markdown",
   "metadata": {},
   "source": [
    "#### Interpretaion:\n",
    "\n",
    "> From the above computed correation coefficent of `0.9` and scatter plot, we can deduce that:\n",
    " >> there is a strongly positive correlation between`reach` and `relevance` but not strictly increasing"
   ]
  },
  {
   "cell_type": "markdown",
   "metadata": {},
   "source": [
    " "
   ]
  },
  {
   "cell_type": "markdown",
   "metadata": {},
   "source": [
    " "
   ]
  },
  {
   "cell_type": "markdown",
   "metadata": {},
   "source": [
    "- correlation between reach and popularity"
   ]
  },
  {
   "cell_type": "code",
   "execution_count": 639,
   "metadata": {},
   "outputs": [],
   "source": [
    "Infreach_pop_corr = pd.DataFrame(afriqInfReach.reach.values.tolist(), afriqInfPop.popularity.values.tolist()).reset_index()"
   ]
  },
  {
   "cell_type": "code",
   "execution_count": 640,
   "metadata": {},
   "outputs": [],
   "source": [
    "Infreach_pop_corr=Infreach_pop_corr.rename(columns={'index':'reach', 0: 'popularity'})"
   ]
  },
  {
   "cell_type": "code",
   "execution_count": 641,
   "metadata": {},
   "outputs": [
    {
     "data": {
      "text/html": [
       "<div>\n",
       "<style scoped>\n",
       "    .dataframe tbody tr th:only-of-type {\n",
       "        vertical-align: middle;\n",
       "    }\n",
       "\n",
       "    .dataframe tbody tr th {\n",
       "        vertical-align: top;\n",
       "    }\n",
       "\n",
       "    .dataframe thead th {\n",
       "        text-align: right;\n",
       "    }\n",
       "</style>\n",
       "<table border=\"1\" class=\"dataframe\">\n",
       "  <thead>\n",
       "    <tr style=\"text-align: right;\">\n",
       "      <th></th>\n",
       "      <th>reach</th>\n",
       "      <th>popularity</th>\n",
       "    </tr>\n",
       "  </thead>\n",
       "  <tbody>\n",
       "    <tr>\n",
       "      <th>reach</th>\n",
       "      <td>1.000000</td>\n",
       "      <td>0.999988</td>\n",
       "    </tr>\n",
       "    <tr>\n",
       "      <th>popularity</th>\n",
       "      <td>0.999988</td>\n",
       "      <td>1.000000</td>\n",
       "    </tr>\n",
       "  </tbody>\n",
       "</table>\n",
       "</div>"
      ],
      "text/plain": [
       "               reach  popularity\n",
       "reach       1.000000    0.999988\n",
       "popularity  0.999988    1.000000"
      ]
     },
     "execution_count": 641,
     "metadata": {},
     "output_type": "execute_result"
    }
   ],
   "source": [
    "Infreach_pop_corr.corr(method='spearman')"
   ]
  },
  {
   "cell_type": "code",
   "execution_count": 642,
   "metadata": {},
   "outputs": [
    {
     "data": {
      "text/plain": [
       "SpearmanrResult(correlation=0.9999876527204139, pvalue=1.5951754558735378e-204)"
      ]
     },
     "execution_count": 642,
     "metadata": {},
     "output_type": "execute_result"
    }
   ],
   "source": [
    "spearmanr(Infreach_pop_corr) "
   ]
  },
  {
   "cell_type": "code",
   "execution_count": 643,
   "metadata": {},
   "outputs": [
    {
     "data": {
      "image/png": "[encoded data removed]",
      "text/plain": [
       "<Figure size 720x576 with 1 Axes>"
      ]
     },
     "metadata": {
      "needs_background": "light"
     },
     "output_type": "display_data"
    }
   ],
   "source": [
    "plt.subplots(figsize=(10,8))\n",
    "plt.scatter(x=Infreach_pop_corr.reach, y=Infreach_pop_corr.popularity, marker='o')\n",
    "plt.title('Correlation between reach & popularity for Africa Influencers', fontsize=15)\n",
    "plt.xlabel('reach', fontsize=13)\n",
    "plt.ylabel('popularity', fontsize=13)\n",
    "plt.savefig(fname='savedCharts/africaInfluencers/Infreach_pop_corr.png', format='png')\n",
    "plt.show() "
   ]
  },
  {
   "cell_type": "markdown",
   "metadata": {},
   "source": [
    "#### Interpretaion:\n",
    "\n",
    "> From the above computed correation coefficent of `0.9` and scatter plot, we can deduce that:\n",
    " >> there is a strongly positive correlation between`reach` and `popularity` but not strictly increasing"
   ]
  },
  {
   "cell_type": "markdown",
   "metadata": {},
   "source": [
    "  "
   ]
  },
  {
   "cell_type": "markdown",
   "metadata": {},
   "source": [
    " "
   ]
  },
  {
   "cell_type": "markdown",
   "metadata": {},
   "source": [
    "- correlation between relevance and popularity"
   ]
  },
  {
   "cell_type": "code",
   "execution_count": 644,
   "metadata": {},
   "outputs": [],
   "source": [
    "Infrev_pop_corr = pd.DataFrame(afriqInfPop.popularity.values.tolist(), afriqInfRev.relevance.values.tolist()).reset_index()"
   ]
  },
  {
   "cell_type": "code",
   "execution_count": 645,
   "metadata": {},
   "outputs": [],
   "source": [
    "Infrev_pop_corr=Infrev_pop_corr.rename(columns={'index':'popularity', 0: 'relevance'})"
   ]
  },
  {
   "cell_type": "code",
   "execution_count": 646,
   "metadata": {},
   "outputs": [
    {
     "data": {
      "text/html": [
       "<div>\n",
       "<style scoped>\n",
       "    .dataframe tbody tr th:only-of-type {\n",
       "        vertical-align: middle;\n",
       "    }\n",
       "\n",
       "    .dataframe tbody tr th {\n",
       "        vertical-align: top;\n",
       "    }\n",
       "\n",
       "    .dataframe thead th {\n",
       "        text-align: right;\n",
       "    }\n",
       "</style>\n",
       "<table border=\"1\" class=\"dataframe\">\n",
       "  <thead>\n",
       "    <tr style=\"text-align: right;\">\n",
       "      <th></th>\n",
       "      <th>popularity</th>\n",
       "      <th>relevance</th>\n",
       "    </tr>\n",
       "  </thead>\n",
       "  <tbody>\n",
       "    <tr>\n",
       "      <th>popularity</th>\n",
       "      <td>1.000000</td>\n",
       "      <td>0.999975</td>\n",
       "    </tr>\n",
       "    <tr>\n",
       "      <th>relevance</th>\n",
       "      <td>0.999975</td>\n",
       "      <td>1.000000</td>\n",
       "    </tr>\n",
       "  </tbody>\n",
       "</table>\n",
       "</div>"
      ],
      "text/plain": [
       "            popularity  relevance\n",
       "popularity    1.000000   0.999975\n",
       "relevance     0.999975   1.000000"
      ]
     },
     "execution_count": 646,
     "metadata": {},
     "output_type": "execute_result"
    }
   ],
   "source": [
    "Infrev_pop_corr.corr(method='spearman')"
   ]
  },
  {
   "cell_type": "code",
   "execution_count": 647,
   "metadata": {},
   "outputs": [
    {
     "data": {
      "text/plain": [
       "SpearmanrResult(correlation=0.9999753050935641, pvalue=2.807270424318346e-191)"
      ]
     },
     "execution_count": 647,
     "metadata": {},
     "output_type": "execute_result"
    }
   ],
   "source": [
    "spearmanr(Infrev_pop_corr)"
   ]
  },
  {
   "cell_type": "code",
   "execution_count": 648,
   "metadata": {},
   "outputs": [
    {
     "data": {
      "image/png": "[encoded data removed]",
      "text/plain": [
       "<Figure size 720x576 with 1 Axes>"
      ]
     },
     "metadata": {
      "needs_background": "light"
     },
     "output_type": "display_data"
    }
   ],
   "source": [
    "plt.subplots(figsize=(10,8)) \n",
    "plt.scatter(x=Infrev_pop_corr.popularity, y=Infrev_pop_corr.relevance, marker='o')\n",
    "plt.title('Correlation between popularity & relevance for Africa Influencers', fontsize=15)\n",
    "plt.xlabel('popularity', fontsize=13)  \n",
    "plt.ylabel('relevance', fontsize=13)\n",
    "plt.savefig(fname='savedCharts/africaInfluencers/Infpop_rev_corr.png', format='png')\n",
    "plt.show() "
   ]
  },
  {
   "cell_type": "markdown",
   "metadata": {},
   "source": [
    "#### Interpretaion:\n",
    "\n",
    "> From the above computed correation coefficent of `0.9` and scatter plot, we can deduce that:\n",
    " >> there is a strongly positive correlation between`popularity` and `relevance` but they are not strictly increasing"
   ]
  },
  {
   "cell_type": "markdown",
   "metadata": {},
   "source": [
    " "
   ]
  },
  {
   "cell_type": "markdown",
   "metadata": {},
   "source": [
    "#### Top ten Influential Governemnt in Africa across board"
   ]
  },
  {
   "cell_type": "markdown",
   "metadata": {},
   "source": [
    "> Popularity"
   ]
  },
  {
   "cell_type": "code",
   "execution_count": 649,
   "metadata": {},
   "outputs": [
    {
     "data": {
      "text/html": [
       "<div>\n",
       "<style scoped>\n",
       "    .dataframe tbody tr th:only-of-type {\n",
       "        vertical-align: middle;\n",
       "    }\n",
       "\n",
       "    .dataframe tbody tr th {\n",
       "        vertical-align: top;\n",
       "    }\n",
       "\n",
       "    .dataframe thead th {\n",
       "        text-align: right;\n",
       "    }\n",
       "</style>\n",
       "<table border=\"1\" class=\"dataframe\">\n",
       "  <thead>\n",
       "    <tr style=\"text-align: right;\">\n",
       "      <th></th>\n",
       "      <th>name</th>\n",
       "      <th>screen_name</th>\n",
       "      <th>popularity</th>\n",
       "      <th>ranking</th>\n",
       "    </tr>\n",
       "  </thead>\n",
       "  <tbody>\n",
       "    <tr>\n",
       "      <th>26</th>\n",
       "      <td>Nana Akufo-Addo</td>\n",
       "      <td>NAkufoAddo</td>\n",
       "      <td>122057</td>\n",
       "      <td>1</td>\n",
       "    </tr>\n",
       "    <tr>\n",
       "      <th>13</th>\n",
       "      <td>Abdalla Hamdok</td>\n",
       "      <td>SudanPMHamdok</td>\n",
       "      <td>120014</td>\n",
       "      <td>2</td>\n",
       "    </tr>\n",
       "    <tr>\n",
       "      <th>32</th>\n",
       "      <td>Muhammadu Buhari</td>\n",
       "      <td>MBuhari</td>\n",
       "      <td>83764</td>\n",
       "      <td>3</td>\n",
       "    </tr>\n",
       "    <tr>\n",
       "      <th>15</th>\n",
       "      <td>Yoweri K Museveni</td>\n",
       "      <td>KagutaMuseveni</td>\n",
       "      <td>64678</td>\n",
       "      <td>4</td>\n",
       "    </tr>\n",
       "    <tr>\n",
       "      <th>33</th>\n",
       "      <td>Macky Sall</td>\n",
       "      <td>Macky_Sall</td>\n",
       "      <td>54732</td>\n",
       "      <td>5</td>\n",
       "    </tr>\n",
       "    <tr>\n",
       "      <th>39</th>\n",
       "      <td>Abiy Ahmed Ali 🇪🇹</td>\n",
       "      <td>AbiyAhmedAli</td>\n",
       "      <td>46599</td>\n",
       "      <td>6</td>\n",
       "    </tr>\n",
       "    <tr>\n",
       "      <th>24</th>\n",
       "      <td>Alassane Ouattara</td>\n",
       "      <td>AOuattara_PRCI</td>\n",
       "      <td>40757</td>\n",
       "      <td>7</td>\n",
       "    </tr>\n",
       "    <tr>\n",
       "      <th>4</th>\n",
       "      <td>Presidency | South Africa 🇿🇦</td>\n",
       "      <td>PresidencyZA</td>\n",
       "      <td>37143</td>\n",
       "      <td>8</td>\n",
       "    </tr>\n",
       "    <tr>\n",
       "      <th>19</th>\n",
       "      <td>Présidence RDC 🇨🇩</td>\n",
       "      <td>Presidence_RDC</td>\n",
       "      <td>31853</td>\n",
       "      <td>9</td>\n",
       "    </tr>\n",
       "    <tr>\n",
       "      <th>6</th>\n",
       "      <td>President of Zimbabwe</td>\n",
       "      <td>edmnangagwa</td>\n",
       "      <td>31427</td>\n",
       "      <td>10</td>\n",
       "    </tr>\n",
       "  </tbody>\n",
       "</table>\n",
       "</div>"
      ],
      "text/plain": [
       "                            name     screen_name  popularity  ranking\n",
       "26               Nana Akufo-Addo      NAkufoAddo      122057        1\n",
       "13                Abdalla Hamdok   SudanPMHamdok      120014        2\n",
       "32              Muhammadu Buhari         MBuhari       83764        3\n",
       "15             Yoweri K Museveni  KagutaMuseveni       64678        4\n",
       "33                    Macky Sall      Macky_Sall       54732        5\n",
       "39             Abiy Ahmed Ali 🇪🇹    AbiyAhmedAli       46599        6\n",
       "24             Alassane Ouattara  AOuattara_PRCI       40757        7\n",
       "4   Presidency | South Africa 🇿🇦    PresidencyZA       37143        8\n",
       "19             Présidence RDC 🇨🇩  Presidence_RDC       31853        9\n",
       "6          President of Zimbabwe     edmnangagwa       31427       10"
      ]
     },
     "execution_count": 649,
     "metadata": {},
     "output_type": "execute_result"
    }
   ],
   "source": [
    "mostPopularGovt = govtPop[['name', 'screen_name', 'popularity', 'ranking']].head(10)\n",
    "mostPopularGovt"
   ]
  },
  {
   "cell_type": "code",
   "execution_count": 689,
   "metadata": {},
   "outputs": [
    {
     "name": "stderr",
     "output_type": "stream",
     "text": [
      "/home/patrick/.local/lib/python3.6/site-packages/matplotlib/backends/backend_agg.py:211: RuntimeWarning: Glyph 127466 missing from current font.\n",
      "  font.set_text(s, 0.0, flags=flags)\n",
      "/home/patrick/.local/lib/python3.6/site-packages/matplotlib/backends/backend_agg.py:211: RuntimeWarning: Glyph 127481 missing from current font.\n",
      "  font.set_text(s, 0.0, flags=flags)\n",
      "/home/patrick/.local/lib/python3.6/site-packages/matplotlib/backends/backend_agg.py:211: RuntimeWarning: Glyph 127487 missing from current font.\n",
      "  font.set_text(s, 0.0, flags=flags)\n",
      "/home/patrick/.local/lib/python3.6/site-packages/matplotlib/backends/backend_agg.py:211: RuntimeWarning: Glyph 127462 missing from current font.\n",
      "  font.set_text(s, 0.0, flags=flags)\n",
      "/home/patrick/.local/lib/python3.6/site-packages/matplotlib/backends/backend_agg.py:211: RuntimeWarning: Glyph 127464 missing from current font.\n",
      "  font.set_text(s, 0.0, flags=flags)\n",
      "/home/patrick/.local/lib/python3.6/site-packages/matplotlib/backends/backend_agg.py:211: RuntimeWarning: Glyph 127465 missing from current font.\n",
      "  font.set_text(s, 0.0, flags=flags)\n",
      "/home/patrick/.local/lib/python3.6/site-packages/matplotlib/backends/backend_agg.py:180: RuntimeWarning: Glyph 127466 missing from current font.\n",
      "  font.set_text(s, 0, flags=flags)\n",
      "/home/patrick/.local/lib/python3.6/site-packages/matplotlib/backends/backend_agg.py:180: RuntimeWarning: Glyph 127481 missing from current font.\n",
      "  font.set_text(s, 0, flags=flags)\n",
      "/home/patrick/.local/lib/python3.6/site-packages/matplotlib/backends/backend_agg.py:180: RuntimeWarning: Glyph 127487 missing from current font.\n",
      "  font.set_text(s, 0, flags=flags)\n",
      "/home/patrick/.local/lib/python3.6/site-packages/matplotlib/backends/backend_agg.py:180: RuntimeWarning: Glyph 127462 missing from current font.\n",
      "  font.set_text(s, 0, flags=flags)\n",
      "/home/patrick/.local/lib/python3.6/site-packages/matplotlib/backends/backend_agg.py:180: RuntimeWarning: Glyph 127464 missing from current font.\n",
      "  font.set_text(s, 0, flags=flags)\n",
      "/home/patrick/.local/lib/python3.6/site-packages/matplotlib/backends/backend_agg.py:180: RuntimeWarning: Glyph 127465 missing from current font.\n",
      "  font.set_text(s, 0, flags=flags)\n"
     ]
    },
    {
     "data": {
      "image/png": "[encoded data removed]",
      "text/plain": [
       "<Figure size 864x576 with 1 Axes>"
      ]
     },
     "metadata": {
      "needs_background": "light"
     },
     "output_type": "display_data"
    }
   ],
   "source": [
    "plt.subplots(figsize=(12,8))\n",
    "sns.barplot(x='name', y='popularity', data=mostPopularGovt, hue='screen_name')\n",
    "plt.xticks(rotation=15)\n",
    "plt.title('Top ten popular governemnt official in Africa', fontsize=18)\n",
    "plt.xlabel('name', fontsize=14)\n",
    "plt.ylabel('popularity', fontsize=14)\n",
    "plt.savefig(fname='savedCharts/africaGovt/mostPopularGovt.png', format='png')\n",
    "plt.show() "
   ]
  },
  {
   "cell_type": "markdown",
   "metadata": {},
   "source": [
    "> Reach"
   ]
  },
  {
   "cell_type": "code",
   "execution_count": 650,
   "metadata": {},
   "outputs": [
    {
     "data": {
      "text/html": [
       "<div>\n",
       "<style scoped>\n",
       "    .dataframe tbody tr th:only-of-type {\n",
       "        vertical-align: middle;\n",
       "    }\n",
       "\n",
       "    .dataframe tbody tr th {\n",
       "        vertical-align: top;\n",
       "    }\n",
       "\n",
       "    .dataframe thead th {\n",
       "        text-align: right;\n",
       "    }\n",
       "</style>\n",
       "<table border=\"1\" class=\"dataframe\">\n",
       "  <thead>\n",
       "    <tr style=\"text-align: right;\">\n",
       "      <th></th>\n",
       "      <th>name</th>\n",
       "      <th>screen_name</th>\n",
       "      <th>reach</th>\n",
       "      <th>ranking</th>\n",
       "    </tr>\n",
       "  </thead>\n",
       "  <tbody>\n",
       "    <tr>\n",
       "      <th>32</th>\n",
       "      <td>Muhammadu Buhari</td>\n",
       "      <td>MBuhari</td>\n",
       "      <td>3268929</td>\n",
       "      <td>1</td>\n",
       "    </tr>\n",
       "    <tr>\n",
       "      <th>10</th>\n",
       "      <td>Paul Kagame</td>\n",
       "      <td>PaulKagame</td>\n",
       "      <td>1981573</td>\n",
       "      <td>2</td>\n",
       "    </tr>\n",
       "    <tr>\n",
       "      <th>15</th>\n",
       "      <td>Yoweri K Museveni</td>\n",
       "      <td>KagutaMuseveni</td>\n",
       "      <td>1810509</td>\n",
       "      <td>3</td>\n",
       "    </tr>\n",
       "    <tr>\n",
       "      <th>4</th>\n",
       "      <td>Presidency | South Africa 🇿🇦</td>\n",
       "      <td>PresidencyZA</td>\n",
       "      <td>1597646</td>\n",
       "      <td>4</td>\n",
       "    </tr>\n",
       "    <tr>\n",
       "      <th>26</th>\n",
       "      <td>Nana Akufo-Addo</td>\n",
       "      <td>NAkufoAddo</td>\n",
       "      <td>1504978</td>\n",
       "      <td>5</td>\n",
       "    </tr>\n",
       "    <tr>\n",
       "      <th>33</th>\n",
       "      <td>Macky Sall</td>\n",
       "      <td>Macky_Sall</td>\n",
       "      <td>1373434</td>\n",
       "      <td>6</td>\n",
       "    </tr>\n",
       "    <tr>\n",
       "      <th>9</th>\n",
       "      <td>State House Kenya</td>\n",
       "      <td>StateHouseKenya</td>\n",
       "      <td>1102458</td>\n",
       "      <td>7</td>\n",
       "    </tr>\n",
       "    <tr>\n",
       "      <th>24</th>\n",
       "      <td>Alassane Ouattara</td>\n",
       "      <td>AOuattara_PRCI</td>\n",
       "      <td>830659</td>\n",
       "      <td>8</td>\n",
       "    </tr>\n",
       "    <tr>\n",
       "      <th>40</th>\n",
       "      <td>President Paul BIYA</td>\n",
       "      <td>PR_Paul_BIYA</td>\n",
       "      <td>673920</td>\n",
       "      <td>9</td>\n",
       "    </tr>\n",
       "    <tr>\n",
       "      <th>6</th>\n",
       "      <td>President of Zimbabwe</td>\n",
       "      <td>edmnangagwa</td>\n",
       "      <td>545460</td>\n",
       "      <td>10</td>\n",
       "    </tr>\n",
       "  </tbody>\n",
       "</table>\n",
       "</div>"
      ],
      "text/plain": [
       "                            name      screen_name    reach  ranking\n",
       "32              Muhammadu Buhari          MBuhari  3268929        1\n",
       "10                   Paul Kagame       PaulKagame  1981573        2\n",
       "15             Yoweri K Museveni   KagutaMuseveni  1810509        3\n",
       "4   Presidency | South Africa 🇿🇦     PresidencyZA  1597646        4\n",
       "26               Nana Akufo-Addo       NAkufoAddo  1504978        5\n",
       "33                    Macky Sall       Macky_Sall  1373434        6\n",
       "9              State House Kenya  StateHouseKenya  1102458        7\n",
       "24             Alassane Ouattara   AOuattara_PRCI   830659        8\n",
       "40           President Paul BIYA     PR_Paul_BIYA   673920        9\n",
       "6          President of Zimbabwe      edmnangagwa   545460       10"
      ]
     },
     "execution_count": 650,
     "metadata": {},
     "output_type": "execute_result"
    }
   ],
   "source": [
    "mostReachedGovt = govtReach[['name', 'screen_name', 'reach', 'ranking']].head(10)\n",
    "mostReachedGovt"
   ]
  },
  {
   "cell_type": "code",
   "execution_count": 688,
   "metadata": {},
   "outputs": [
    {
     "name": "stderr",
     "output_type": "stream",
     "text": [
      "/home/patrick/.local/lib/python3.6/site-packages/matplotlib/backends/backend_agg.py:211: RuntimeWarning: Glyph 127487 missing from current font.\n",
      "  font.set_text(s, 0.0, flags=flags)\n",
      "/home/patrick/.local/lib/python3.6/site-packages/matplotlib/backends/backend_agg.py:211: RuntimeWarning: Glyph 127462 missing from current font.\n",
      "  font.set_text(s, 0.0, flags=flags)\n",
      "/home/patrick/.local/lib/python3.6/site-packages/matplotlib/backends/backend_agg.py:180: RuntimeWarning: Glyph 127487 missing from current font.\n",
      "  font.set_text(s, 0, flags=flags)\n",
      "/home/patrick/.local/lib/python3.6/site-packages/matplotlib/backends/backend_agg.py:180: RuntimeWarning: Glyph 127462 missing from current font.\n",
      "  font.set_text(s, 0, flags=flags)\n"
     ]
    },
    {
     "data": {
      "image/png": "[encoded data removed]",
      "text/plain": [
       "<Figure size 864x576 with 1 Axes>"
      ]
     },
     "metadata": {
      "needs_background": "light"
     },
     "output_type": "display_data"
    }
   ],
   "source": [
    "plt.subplots(figsize=(12,8))\n",
    "sns.barplot(x='name', y='reach', data=mostReachedGovt, hue='screen_name')\n",
    "plt.xticks(rotation=15)\n",
    "plt.title('Top ten Africa Governemnt official by Twitter Audience ', fontsize=18)\n",
    "plt.xlabel('name', fontsize=14)\n",
    "plt.ylabel('audiense size', fontsize=14)\n",
    "plt.savefig(fname='savedCharts/africaGovt/mostReachedGovt.png', format='png')\n",
    "plt.show() "
   ]
  },
  {
   "cell_type": "markdown",
   "metadata": {},
   "source": [
    "> Relevance"
   ]
  },
  {
   "cell_type": "code",
   "execution_count": 651,
   "metadata": {},
   "outputs": [
    {
     "data": {
      "text/html": [
       "<div>\n",
       "<style scoped>\n",
       "    .dataframe tbody tr th:only-of-type {\n",
       "        vertical-align: middle;\n",
       "    }\n",
       "\n",
       "    .dataframe tbody tr th {\n",
       "        vertical-align: top;\n",
       "    }\n",
       "\n",
       "    .dataframe thead th {\n",
       "        text-align: right;\n",
       "    }\n",
       "</style>\n",
       "<table border=\"1\" class=\"dataframe\">\n",
       "  <thead>\n",
       "    <tr style=\"text-align: right;\">\n",
       "      <th></th>\n",
       "      <th>name</th>\n",
       "      <th>screen_name</th>\n",
       "      <th>relevance</th>\n",
       "      <th>ranking</th>\n",
       "    </tr>\n",
       "  </thead>\n",
       "  <tbody>\n",
       "    <tr>\n",
       "      <th>17</th>\n",
       "      <td>Amb. Willy Nyamitwe</td>\n",
       "      <td>willynyamitwe</td>\n",
       "      <td>18494</td>\n",
       "      <td>1</td>\n",
       "    </tr>\n",
       "    <tr>\n",
       "      <th>13</th>\n",
       "      <td>Abdalla Hamdok</td>\n",
       "      <td>SudanPMHamdok</td>\n",
       "      <td>17085</td>\n",
       "      <td>2</td>\n",
       "    </tr>\n",
       "    <tr>\n",
       "      <th>26</th>\n",
       "      <td>Nana Akufo-Addo</td>\n",
       "      <td>NAkufoAddo</td>\n",
       "      <td>15926</td>\n",
       "      <td>3</td>\n",
       "    </tr>\n",
       "    <tr>\n",
       "      <th>32</th>\n",
       "      <td>Muhammadu Buhari</td>\n",
       "      <td>MBuhari</td>\n",
       "      <td>14460</td>\n",
       "      <td>4</td>\n",
       "    </tr>\n",
       "    <tr>\n",
       "      <th>4</th>\n",
       "      <td>Presidency | South Africa 🇿🇦</td>\n",
       "      <td>PresidencyZA</td>\n",
       "      <td>12113</td>\n",
       "      <td>5</td>\n",
       "    </tr>\n",
       "    <tr>\n",
       "      <th>14</th>\n",
       "      <td>TanzaniaSpokesperson</td>\n",
       "      <td>TZSpokesperson</td>\n",
       "      <td>9493</td>\n",
       "      <td>6</td>\n",
       "    </tr>\n",
       "    <tr>\n",
       "      <th>15</th>\n",
       "      <td>Yoweri K Museveni</td>\n",
       "      <td>KagutaMuseveni</td>\n",
       "      <td>7894</td>\n",
       "      <td>7</td>\n",
       "    </tr>\n",
       "    <tr>\n",
       "      <th>33</th>\n",
       "      <td>Macky Sall</td>\n",
       "      <td>Macky_Sall</td>\n",
       "      <td>7883</td>\n",
       "      <td>8</td>\n",
       "    </tr>\n",
       "    <tr>\n",
       "      <th>6</th>\n",
       "      <td>President of Zimbabwe</td>\n",
       "      <td>edmnangagwa</td>\n",
       "      <td>6099</td>\n",
       "      <td>9</td>\n",
       "    </tr>\n",
       "    <tr>\n",
       "      <th>9</th>\n",
       "      <td>State House Kenya</td>\n",
       "      <td>StateHouseKenya</td>\n",
       "      <td>5961</td>\n",
       "      <td>10</td>\n",
       "    </tr>\n",
       "  </tbody>\n",
       "</table>\n",
       "</div>"
      ],
      "text/plain": [
       "                            name      screen_name  relevance  ranking\n",
       "17           Amb. Willy Nyamitwe    willynyamitwe      18494        1\n",
       "13                Abdalla Hamdok    SudanPMHamdok      17085        2\n",
       "26               Nana Akufo-Addo       NAkufoAddo      15926        3\n",
       "32              Muhammadu Buhari          MBuhari      14460        4\n",
       "4   Presidency | South Africa 🇿🇦     PresidencyZA      12113        5\n",
       "14          TanzaniaSpokesperson   TZSpokesperson       9493        6\n",
       "15             Yoweri K Museveni   KagutaMuseveni       7894        7\n",
       "33                    Macky Sall       Macky_Sall       7883        8\n",
       "6          President of Zimbabwe      edmnangagwa       6099        9\n",
       "9              State House Kenya  StateHouseKenya       5961       10"
      ]
     },
     "execution_count": 651,
     "metadata": {},
     "output_type": "execute_result"
    }
   ],
   "source": [
    "mostRelevantGovt = govtRelevance[['name', 'screen_name', 'relevance', 'ranking']].head(10)\n",
    "mostRelevantGovt"
   ]
  },
  {
   "cell_type": "code",
   "execution_count": 687,
   "metadata": {},
   "outputs": [
    {
     "name": "stderr",
     "output_type": "stream",
     "text": [
      "/home/patrick/.local/lib/python3.6/site-packages/matplotlib/backends/backend_agg.py:211: RuntimeWarning: Glyph 127487 missing from current font.\n",
      "  font.set_text(s, 0.0, flags=flags)\n",
      "/home/patrick/.local/lib/python3.6/site-packages/matplotlib/backends/backend_agg.py:211: RuntimeWarning: Glyph 127462 missing from current font.\n",
      "  font.set_text(s, 0.0, flags=flags)\n",
      "/home/patrick/.local/lib/python3.6/site-packages/matplotlib/backends/backend_agg.py:180: RuntimeWarning: Glyph 127487 missing from current font.\n",
      "  font.set_text(s, 0, flags=flags)\n",
      "/home/patrick/.local/lib/python3.6/site-packages/matplotlib/backends/backend_agg.py:180: RuntimeWarning: Glyph 127462 missing from current font.\n",
      "  font.set_text(s, 0, flags=flags)\n"
     ]
    },
    {
     "data": {
      "image/png": "[encoded data removed]",
      "text/plain": [
       "<Figure size 864x576 with 1 Axes>"
      ]
     },
     "metadata": {
      "needs_background": "light"
     },
     "output_type": "display_data"
    }
   ],
   "source": [
    "plt.subplots(figsize=(12,8))\n",
    "sns.barplot(x='name', y='relevance', data=mostRelevantGovt, hue='screen_name')\n",
    "plt.xticks(rotation=50)\n",
    "plt.title('Top ten Africa Governemnt Official with most Relevant Content', fontsize=18)\n",
    "plt.xlabel('name', fontsize=14)\n",
    "plt.ylabel('retweets / mentions', fontsize=14)\n",
    "plt.savefig(fname='savedCharts/africaGovt/mostRelevantGovt.png', format='png')\n",
    "plt.show() "
   ]
  },
  {
   "cell_type": "code",
   "execution_count": null,
   "metadata": {},
   "outputs": [],
   "source": []
  },
  {
   "cell_type": "code",
   "execution_count": null,
   "metadata": {},
   "outputs": [],
   "source": []
  },
  {
   "cell_type": "markdown",
   "metadata": {},
   "source": [
    "#### Top ten Influencers in Africa across board"
   ]
  },
  {
   "cell_type": "markdown",
   "metadata": {},
   "source": [
    "> Popularity"
   ]
  },
  {
   "cell_type": "code",
   "execution_count": 652,
   "metadata": {},
   "outputs": [
    {
     "data": {
      "text/html": [
       "<div>\n",
       "<style scoped>\n",
       "    .dataframe tbody tr th:only-of-type {\n",
       "        vertical-align: middle;\n",
       "    }\n",
       "\n",
       "    .dataframe tbody tr th {\n",
       "        vertical-align: top;\n",
       "    }\n",
       "\n",
       "    .dataframe thead th {\n",
       "        text-align: right;\n",
       "    }\n",
       "</style>\n",
       "<table border=\"1\" class=\"dataframe\">\n",
       "  <thead>\n",
       "    <tr style=\"text-align: right;\">\n",
       "      <th></th>\n",
       "      <th>name</th>\n",
       "      <th>screen_name</th>\n",
       "      <th>popularity</th>\n",
       "      <th>ranking</th>\n",
       "    </tr>\n",
       "  </thead>\n",
       "  <tbody>\n",
       "    <tr>\n",
       "      <th>16</th>\n",
       "      <td>Barry Malone</td>\n",
       "      <td>malonebarry</td>\n",
       "      <td>1634914</td>\n",
       "      <td>1</td>\n",
       "    </tr>\n",
       "    <tr>\n",
       "      <th>55</th>\n",
       "      <td>Mbuyiseni Ndlozi</td>\n",
       "      <td>MbuyiseniNdlozi</td>\n",
       "      <td>1511915</td>\n",
       "      <td>2</td>\n",
       "    </tr>\n",
       "    <tr>\n",
       "      <th>92</th>\n",
       "      <td>Trevor Noah</td>\n",
       "      <td>Trevornoah</td>\n",
       "      <td>729101</td>\n",
       "      <td>3</td>\n",
       "    </tr>\n",
       "    <tr>\n",
       "      <th>84</th>\n",
       "      <td>Loyiso Gola</td>\n",
       "      <td>loyisogola</td>\n",
       "      <td>566351</td>\n",
       "      <td>4</td>\n",
       "    </tr>\n",
       "    <tr>\n",
       "      <th>64</th>\n",
       "      <td>Jendayi E Frazer</td>\n",
       "      <td>JendayiFrazer</td>\n",
       "      <td>557712</td>\n",
       "      <td>5</td>\n",
       "    </tr>\n",
       "    <tr>\n",
       "      <th>30</th>\n",
       "      <td>Rebecca Enonchong</td>\n",
       "      <td>africatechie</td>\n",
       "      <td>471808</td>\n",
       "      <td>6</td>\n",
       "    </tr>\n",
       "    <tr>\n",
       "      <th>88</th>\n",
       "      <td>Julius Sello Malema</td>\n",
       "      <td>Julius_S_Malema</td>\n",
       "      <td>464563</td>\n",
       "      <td>7</td>\n",
       "    </tr>\n",
       "    <tr>\n",
       "      <th>59</th>\n",
       "      <td>Geoffrey York</td>\n",
       "      <td>geoffreyyork</td>\n",
       "      <td>440079</td>\n",
       "      <td>8</td>\n",
       "    </tr>\n",
       "    <tr>\n",
       "      <th>2</th>\n",
       "      <td>Scapegoat</td>\n",
       "      <td>AndiMakinana</td>\n",
       "      <td>417561</td>\n",
       "      <td>9</td>\n",
       "    </tr>\n",
       "    <tr>\n",
       "      <th>89</th>\n",
       "      <td>News24</td>\n",
       "      <td>News24</td>\n",
       "      <td>294733</td>\n",
       "      <td>10</td>\n",
       "    </tr>\n",
       "  </tbody>\n",
       "</table>\n",
       "</div>"
      ],
      "text/plain": [
       "                   name      screen_name  popularity  ranking\n",
       "16         Barry Malone      malonebarry     1634914        1\n",
       "55     Mbuyiseni Ndlozi  MbuyiseniNdlozi     1511915        2\n",
       "92          Trevor Noah       Trevornoah      729101        3\n",
       "84          Loyiso Gola       loyisogola      566351        4\n",
       "64     Jendayi E Frazer    JendayiFrazer      557712        5\n",
       "30    Rebecca Enonchong     africatechie      471808        6\n",
       "88  Julius Sello Malema  Julius_S_Malema      464563        7\n",
       "59        Geoffrey York     geoffreyyork      440079        8\n",
       "2             Scapegoat     AndiMakinana      417561        9\n",
       "89               News24           News24      294733       10"
      ]
     },
     "execution_count": 652,
     "metadata": {},
     "output_type": "execute_result"
    }
   ],
   "source": [
    "mostPopularInf = afriqInfPop[['name', 'screen_name', 'popularity', 'ranking']].head(10)\n",
    "mostPopularInf"
   ]
  },
  {
   "cell_type": "code",
   "execution_count": 670,
   "metadata": {},
   "outputs": [
    {
     "data": {
      "image/png": "[encoded data removed]",
      "text/plain": [
       "<Figure size 864x576 with 1 Axes>"
      ]
     },
     "metadata": {
      "needs_background": "light"
     },
     "output_type": "display_data"
    }
   ],
   "source": [
    "plt.subplots(figsize=(12,8))\n",
    "sns.barplot(x='name', y='popularity', data=mostPopularInf, hue='screen_name')\n",
    "plt.xticks(rotation=30)\n",
    "plt.title('Top Ten Popular Influencers in Africa', fontsize=18)\n",
    "plt.xlabel('name', fontsize=14)\n",
    "plt.ylabel('popularity', fontsize=14)\n",
    "plt.savefig(fname='savedCharts/africaInfluencers/mostPopular.png', format='png')\n",
    "plt.show()"
   ]
  },
  {
   "cell_type": "markdown",
   "metadata": {},
   "source": [
    "> Reach"
   ]
  },
  {
   "cell_type": "code",
   "execution_count": 653,
   "metadata": {},
   "outputs": [
    {
     "data": {
      "text/html": [
       "<div>\n",
       "<style scoped>\n",
       "    .dataframe tbody tr th:only-of-type {\n",
       "        vertical-align: middle;\n",
       "    }\n",
       "\n",
       "    .dataframe tbody tr th {\n",
       "        vertical-align: top;\n",
       "    }\n",
       "\n",
       "    .dataframe thead th {\n",
       "        text-align: right;\n",
       "    }\n",
       "</style>\n",
       "<table border=\"1\" class=\"dataframe\">\n",
       "  <thead>\n",
       "    <tr style=\"text-align: right;\">\n",
       "      <th></th>\n",
       "      <th>name</th>\n",
       "      <th>screen_name</th>\n",
       "      <th>reach</th>\n",
       "      <th>ranking</th>\n",
       "    </tr>\n",
       "  </thead>\n",
       "  <tbody>\n",
       "    <tr>\n",
       "      <th>92</th>\n",
       "      <td>Trevor Noah</td>\n",
       "      <td>Trevornoah</td>\n",
       "      <td>10802869</td>\n",
       "      <td>1</td>\n",
       "    </tr>\n",
       "    <tr>\n",
       "      <th>89</th>\n",
       "      <td>News24</td>\n",
       "      <td>News24</td>\n",
       "      <td>3574793</td>\n",
       "      <td>2</td>\n",
       "    </tr>\n",
       "    <tr>\n",
       "      <th>88</th>\n",
       "      <td>Julius Sello Malema</td>\n",
       "      <td>Julius_S_Malema</td>\n",
       "      <td>3125594</td>\n",
       "      <td>3</td>\n",
       "    </tr>\n",
       "    <tr>\n",
       "      <th>91</th>\n",
       "      <td>Gareth Cliff</td>\n",
       "      <td>GarethCliff</td>\n",
       "      <td>1974120</td>\n",
       "      <td>4</td>\n",
       "    </tr>\n",
       "    <tr>\n",
       "      <th>79</th>\n",
       "      <td>Euphonik™♛</td>\n",
       "      <td>euphonik</td>\n",
       "      <td>1754206</td>\n",
       "      <td>5</td>\n",
       "    </tr>\n",
       "    <tr>\n",
       "      <th>87</th>\n",
       "      <td>Helen Zille</td>\n",
       "      <td>helenzille</td>\n",
       "      <td>1440916</td>\n",
       "      <td>6</td>\n",
       "    </tr>\n",
       "    <tr>\n",
       "      <th>82</th>\n",
       "      <td>MTV Base Africa</td>\n",
       "      <td>MTVBaseAfrica</td>\n",
       "      <td>1415474</td>\n",
       "      <td>7</td>\n",
       "    </tr>\n",
       "    <tr>\n",
       "      <th>85</th>\n",
       "      <td>5FM</td>\n",
       "      <td>5FM</td>\n",
       "      <td>1163787</td>\n",
       "      <td>8</td>\n",
       "    </tr>\n",
       "    <tr>\n",
       "      <th>81</th>\n",
       "      <td>Cricket South Africa</td>\n",
       "      <td>OfficialCSA</td>\n",
       "      <td>1157686</td>\n",
       "      <td>9</td>\n",
       "    </tr>\n",
       "    <tr>\n",
       "      <th>84</th>\n",
       "      <td>Loyiso Gola</td>\n",
       "      <td>loyisogola</td>\n",
       "      <td>1081210</td>\n",
       "      <td>10</td>\n",
       "    </tr>\n",
       "  </tbody>\n",
       "</table>\n",
       "</div>"
      ],
      "text/plain": [
       "                    name      screen_name     reach  ranking\n",
       "92           Trevor Noah       Trevornoah  10802869        1\n",
       "89                News24           News24   3574793        2\n",
       "88   Julius Sello Malema  Julius_S_Malema   3125594        3\n",
       "91          Gareth Cliff      GarethCliff   1974120        4\n",
       "79            Euphonik™♛         euphonik   1754206        5\n",
       "87           Helen Zille       helenzille   1440916        6\n",
       "82       MTV Base Africa    MTVBaseAfrica   1415474        7\n",
       "85                   5FM              5FM   1163787        8\n",
       "81  Cricket South Africa      OfficialCSA   1157686        9\n",
       "84           Loyiso Gola       loyisogola   1081210       10"
      ]
     },
     "execution_count": 653,
     "metadata": {},
     "output_type": "execute_result"
    }
   ],
   "source": [
    "mostReachedInf = afriqInfReach[['name', 'screen_name', 'reach', 'ranking']].head(10)\n",
    "mostReachedInf"
   ]
  },
  {
   "cell_type": "code",
   "execution_count": 674,
   "metadata": {},
   "outputs": [
    {
     "data": {
      "image/png": "[encoded data removed]",
      "text/plain": [
       "<Figure size 864x576 with 1 Axes>"
      ]
     },
     "metadata": {
      "needs_background": "light"
     },
     "output_type": "display_data"
    }
   ],
   "source": [
    "plt.subplots(figsize=(12,8))\n",
    "sns.barplot(x='name', y='reach', data=mostReachedInf, hue='screen_name')\n",
    "plt.xticks(rotation=15)\n",
    "plt.title('Top ten most followed Influencers in Africa', fontsize=18)\n",
    "plt.xlabel('name', fontsize=14)\n",
    "plt.ylabel('audience size (millions)', fontsize=14)\n",
    "plt.savefig(fname='savedCharts/africaInfluencers/mostFollowed.png', format='png')\n",
    "plt.show() "
   ]
  },
  {
   "cell_type": "markdown",
   "metadata": {},
   "source": [
    "> Relevance"
   ]
  },
  {
   "cell_type": "code",
   "execution_count": 654,
   "metadata": {},
   "outputs": [
    {
     "data": {
      "text/html": [
       "<div>\n",
       "<style scoped>\n",
       "    .dataframe tbody tr th:only-of-type {\n",
       "        vertical-align: middle;\n",
       "    }\n",
       "\n",
       "    .dataframe tbody tr th {\n",
       "        vertical-align: top;\n",
       "    }\n",
       "\n",
       "    .dataframe thead th {\n",
       "        text-align: right;\n",
       "    }\n",
       "</style>\n",
       "<table border=\"1\" class=\"dataframe\">\n",
       "  <thead>\n",
       "    <tr style=\"text-align: right;\">\n",
       "      <th></th>\n",
       "      <th>name</th>\n",
       "      <th>screen_name</th>\n",
       "      <th>relevance</th>\n",
       "      <th>ranking</th>\n",
       "    </tr>\n",
       "  </thead>\n",
       "  <tbody>\n",
       "    <tr>\n",
       "      <th>16</th>\n",
       "      <td>Barry Malone</td>\n",
       "      <td>malonebarry</td>\n",
       "      <td>1628364</td>\n",
       "      <td>1</td>\n",
       "    </tr>\n",
       "    <tr>\n",
       "      <th>55</th>\n",
       "      <td>Mbuyiseni Ndlozi</td>\n",
       "      <td>MbuyiseniNdlozi</td>\n",
       "      <td>1184267</td>\n",
       "      <td>2</td>\n",
       "    </tr>\n",
       "    <tr>\n",
       "      <th>92</th>\n",
       "      <td>Trevor Noah</td>\n",
       "      <td>Trevornoah</td>\n",
       "      <td>592768</td>\n",
       "      <td>3</td>\n",
       "    </tr>\n",
       "    <tr>\n",
       "      <th>84</th>\n",
       "      <td>Loyiso Gola</td>\n",
       "      <td>loyisogola</td>\n",
       "      <td>560281</td>\n",
       "      <td>4</td>\n",
       "    </tr>\n",
       "    <tr>\n",
       "      <th>64</th>\n",
       "      <td>Jendayi E Frazer</td>\n",
       "      <td>JendayiFrazer</td>\n",
       "      <td>557720</td>\n",
       "      <td>5</td>\n",
       "    </tr>\n",
       "    <tr>\n",
       "      <th>30</th>\n",
       "      <td>Rebecca Enonchong</td>\n",
       "      <td>africatechie</td>\n",
       "      <td>465908</td>\n",
       "      <td>6</td>\n",
       "    </tr>\n",
       "    <tr>\n",
       "      <th>59</th>\n",
       "      <td>Geoffrey York</td>\n",
       "      <td>geoffreyyork</td>\n",
       "      <td>433433</td>\n",
       "      <td>7</td>\n",
       "    </tr>\n",
       "    <tr>\n",
       "      <th>2</th>\n",
       "      <td>Scapegoat</td>\n",
       "      <td>AndiMakinana</td>\n",
       "      <td>398721</td>\n",
       "      <td>8</td>\n",
       "    </tr>\n",
       "    <tr>\n",
       "      <th>88</th>\n",
       "      <td>Julius Sello Malema</td>\n",
       "      <td>Julius_S_Malema</td>\n",
       "      <td>287231</td>\n",
       "      <td>9</td>\n",
       "    </tr>\n",
       "    <tr>\n",
       "      <th>24</th>\n",
       "      <td>Kate Forbes</td>\n",
       "      <td>forbeesta</td>\n",
       "      <td>179298</td>\n",
       "      <td>10</td>\n",
       "    </tr>\n",
       "  </tbody>\n",
       "</table>\n",
       "</div>"
      ],
      "text/plain": [
       "                   name      screen_name  relevance  ranking\n",
       "16         Barry Malone      malonebarry    1628364        1\n",
       "55     Mbuyiseni Ndlozi  MbuyiseniNdlozi    1184267        2\n",
       "92          Trevor Noah       Trevornoah     592768        3\n",
       "84          Loyiso Gola       loyisogola     560281        4\n",
       "64     Jendayi E Frazer    JendayiFrazer     557720        5\n",
       "30    Rebecca Enonchong     africatechie     465908        6\n",
       "59        Geoffrey York     geoffreyyork     433433        7\n",
       "2             Scapegoat     AndiMakinana     398721        8\n",
       "88  Julius Sello Malema  Julius_S_Malema     287231        9\n",
       "24          Kate Forbes        forbeesta     179298       10"
      ]
     },
     "execution_count": 654,
     "metadata": {},
     "output_type": "execute_result"
    }
   ],
   "source": [
    "mostRelevantInf = afriqInfRev[['name', 'screen_name', 'relevance', 'ranking']].head(10)\n",
    "mostRelevantInf"
   ]
  },
  {
   "cell_type": "code",
   "execution_count": 675,
   "metadata": {},
   "outputs": [
    {
     "data": {
      "image/png": "[encoded data removed]",
      "text/plain": [
       "<Figure size 864x576 with 1 Axes>"
      ]
     },
     "metadata": {
      "needs_background": "light"
     },
     "output_type": "display_data"
    }
   ],
   "source": [
    "plt.subplots(figsize=(12,8))\n",
    "sns.barplot(x='name', y='relevance', data=mostRelevantInf, hue='screen_name')\n",
    "plt.xticks(rotation=15)\n",
    "plt.title('Top ten Influencers with most relevant content in Africa', fontsize=18)\n",
    "plt.xlabel('name', fontsize=14)\n",
    "plt.ylabel('relevance', fontsize=14)\n",
    "plt.savefig(fname='savedCharts/africaInfluencers/mostRelevant.png', format='png')\n",
    "plt.show() "
   ]
  },
  {
   "cell_type": "code",
   "execution_count": null,
   "metadata": {},
   "outputs": [],
   "source": []
  },
  {
   "cell_type": "code",
   "execution_count": null,
   "metadata": {},
   "outputs": [],
   "source": []
  },
  {
   "cell_type": "code",
   "execution_count": null,
   "metadata": {},
   "outputs": [],
   "source": []
  },
  {
   "cell_type": "code",
   "execution_count": null,
   "metadata": {},
   "outputs": [],
   "source": []
  },
  {
   "cell_type": "code",
   "execution_count": null,
   "metadata": {},
   "outputs": [],
   "source": []
  },
  {
   "cell_type": "markdown",
   "metadata": {},
   "source": [
    "<a id=\"r2\"></a>\n",
    "\n",
    "#### Research Question 2: \n",
    "\n",
    "> '''"
   ]
  },
  {
   "cell_type": "code",
   "execution_count": null,
   "metadata": {},
   "outputs": [],
   "source": []
  },
  {
   "cell_type": "code",
   "execution_count": null,
   "metadata": {},
   "outputs": [],
   "source": []
  },
  {
   "cell_type": "code",
   "execution_count": null,
   "metadata": {},
   "outputs": [],
   "source": []
  },
  {
   "cell_type": "markdown",
   "metadata": {},
   "source": [
    "<a id=\"r3\"></a>\n",
    "\n",
    "\n",
    "#### Research Question 3: \n",
    "> '''"
   ]
  },
  {
   "cell_type": "code",
   "execution_count": null,
   "metadata": {},
   "outputs": [],
   "source": []
  },
  {
   "cell_type": "code",
   "execution_count": null,
   "metadata": {},
   "outputs": [],
   "source": []
  },
  {
   "cell_type": "code",
   "execution_count": null,
   "metadata": {},
   "outputs": [],
   "source": []
  },
  {
   "cell_type": "markdown",
   "metadata": {},
   "source": [
    "<a id=\"gi\"><gi/>\n",
    "\n",
    "### General Insights"
   ]
  },
  {
   "cell_type": "code",
   "execution_count": null,
   "metadata": {},
   "outputs": [],
   "source": []
  },
  {
   "cell_type": "code",
   "execution_count": null,
   "metadata": {},
   "outputs": [],
   "source": []
  },
  {
   "cell_type": "code",
   "execution_count": null,
   "metadata": {},
   "outputs": [],
   "source": []
  },
  {
   "cell_type": "markdown",
   "metadata": {},
   "source": [
    " "
   ]
  },
  {
   "cell_type": "markdown",
   "metadata": {},
   "source": [
    "<a id=\"rc\"><rc/>\n",
    "\n",
    "### Recommendations & Conclusions"
   ]
  },
  {
   "cell_type": "code",
   "execution_count": null,
   "metadata": {},
   "outputs": [],
   "source": []
  },
  {
   "cell_type": "code",
   "execution_count": null,
   "metadata": {},
   "outputs": [],
   "source": []
  },
  {
   "cell_type": "code",
   "execution_count": null,
   "metadata": {},
   "outputs": [],
   "source": []
  },
  {
   "cell_type": "markdown",
   "metadata": {},
   "source": [
    " "
   ]
  },
  {
   "cell_type": "markdown",
   "metadata": {},
   "source": [
    "<a id=\"lim\"><lim/>\n",
    "\n",
    "### Limitations\n"
   ]
  },
  {
   "cell_type": "code",
   "execution_count": null,
   "metadata": {},
   "outputs": [],
   "source": []
  },
  {
   "cell_type": "code",
   "execution_count": null,
   "metadata": {},
   "outputs": [],
   "source": []
  },
  {
   "cell_type": "markdown",
   "metadata": {},
   "source": [
    " "
   ]
  },
  {
   "cell_type": "code",
   "execution_count": null,
   "metadata": {},
   "outputs": [],
   "source": []
  },
  {
   "cell_type": "code",
   "execution_count": null,
   "metadata": {},
   "outputs": [],
   "source": []
  },
  {
   "cell_type": "code",
   "execution_count": null,
   "metadata": {},
   "outputs": [],
   "source": []
  },
  {
   "cell_type": "markdown",
   "metadata": {},
   "source": [
    "<a id=\"ref\"><ref/>\n",
    "### References \n"
   ]
  },
  {
   "cell_type": "markdown",
   "metadata": {},
   "source": [
    "- Spearman Rank Correlation Coefficient\n",
    "\n",
    "https://towardsdatascience.com/discover-the-strength-of-monotonic-relation-850d11f72046\n",
    "\n",
    "https://machinelearningmastery.com/how-to-calculate-nonparametric-rank-correlation-in-python/ "
   ]
  },
  {
   "cell_type": "markdown",
   "metadata": {},
   "source": [
    " "
   ]
  },
  {
   "cell_type": "markdown",
   "metadata": {},
   "source": [
    "<a href=\"#top\">Back to top</a>"
   ]
  },
  {
   "cell_type": "code",
   "execution_count": null,
   "metadata": {},
   "outputs": [],
   "source": [
    "status = tweet if 'extended_tweet' in status._json: status_json = status._json['extended_tweet']['full_text'] elif 'retweeted_status' in status._json and 'extended_tweet' in status._json['retweeted_status']: status_json = status._json['retweeted_status']['extended_tweet']['full_text'] elif 'retweeted_status' in status._json: status_json = status._json['retweeted_status']['full_text'] else: status_json = status._json['full_text'] print(status_json)'"
   ]
  }
 ],
 "metadata": {
  "kernelspec": {
   "display_name": "Python 3",
   "language": "python",
   "name": "python3"
  },
  "language_info": {
   "codemirror_mode": {
    "name": "ipython",
    "version": 3
   },
   "file_extension": ".py",
   "mimetype": "text/x-python",
   "name": "python",
   "nbconvert_exporter": "python",
   "pygments_lexer": "ipython3",
   "version": "3.6.9"
  }
 },
 "nbformat": 4,
 "nbformat_minor": 4
}
