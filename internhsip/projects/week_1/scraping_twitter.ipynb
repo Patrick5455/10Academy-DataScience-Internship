{
 "cells": [
  {
   "cell_type": "markdown",
   "metadata": {},
   "source": [
    "#### Using scraped data from scrapping_starter notebook to get twitter data"
   ]
  },
  {
   "cell_type": "markdown",
   "metadata": {},
   "source": [
    "> Import Libraries"
   ]
  },
  {
   "cell_type": "code",
   "execution_count": 103,
   "metadata": {},
   "outputs": [],
   "source": [
    "import pandas as pd\n",
    "import tweepy\n",
    "from tweepy import OAuthHandler\n",
    "from tweepy import API\n",
    "from tweepy import Cursor\n",
    "from datetime import datetime, date, time, timedelta\n",
    "from collections import Counter\n",
    "import os, sys\n",
    "import csv"
   ]
  },
  {
   "cell_type": "markdown",
   "metadata": {},
   "source": [
    "> Load dotenv to expose api keys to the application"
   ]
  },
  {
   "cell_type": "code",
   "execution_count": 104,
   "metadata": {},
   "outputs": [
    {
     "data": {
      "text/plain": [
       "True"
      ]
     },
     "execution_count": 104,
     "metadata": {},
     "output_type": "execute_result"
    }
   ],
   "source": [
    "from dotenv import load_dotenv\n",
    "load_dotenv()"
   ]
  },
  {
   "cell_type": "code",
   "execution_count": 105,
   "metadata": {},
   "outputs": [
    {
     "name": "stdout",
     "output_type": "stream",
     "text": [
      "API_key API_secret_key Access_token Access_token_secret\n"
     ]
    }
   ],
   "source": [
    "API_key=\"API_key\"\n",
    "API_secret_key=\"API_secret_key\"\n",
    "Access_token=\"Access_token\"\n",
    "Access_token_secret=\"Access_token_secret\"\n",
    "print(API_key, API_secret_key, Access_token, Access_token_secret)"
   ]
  },
  {
   "cell_type": "code",
   "execution_count": 106,
   "metadata": {},
   "outputs": [],
   "source": [
    "API_key = os.environ.get(API_key)\n",
    "API_secret_key = os.environ.get(API_secret_key)\n",
    "Access_token = os.environ.get(Access_token)\n",
    "Access_token_secret=os.environ.get(Access_token_secret)"
   ]
  },
  {
   "cell_type": "code",
   "execution_count": 107,
   "metadata": {},
   "outputs": [],
   "source": [
    "auth = OAuthHandler(API_key, API_secret_key)\n",
    "auth.set_access_token(Access_token, Access_token_secret)\n",
    "api = tweepy.API(auth, wait_on_rate_limit=True)\n",
    "auth_api = API(auth)"
   ]
  },
  {
   "cell_type": "markdown",
   "metadata": {},
   "source": [
    "> Testing Api"
   ]
  },
  {
   "cell_type": "code",
   "execution_count": 108,
   "metadata": {},
   "outputs": [
    {
     "name": "stdout",
     "output_type": "stream",
     "text": [
      "RT @AlaskaWx: Alaska #wildfires mostly burn in the boreal forest between the Alaska &amp; Brooks Ranges, but also tundra in western/northern ar…\n",
      "RT @HydroNewcomer: 📣Call for #AGU2020 #GlobalChange abstracts!\n",
      "\n",
      "🔥What impact do #wildfires have on #water and #biodiversity? Fire Impacts o…\n"
     ]
    }
   ],
   "source": [
    "search_words = \"#wildfires\"\n",
    "date_since= \"2018-11-16\"\n",
    "# Collect tweets\n",
    "tweets = tweepy.Cursor(api.search,\n",
    "              q=search_words,\n",
    "              lang=\"en\",\n",
    "              since=date_since).items(2)\n",
    "# Iterate and print tweets\n",
    "for tweet in tweets:\n",
    "    print(tweet.text) "
   ]
  },
  {
   "cell_type": "markdown",
   "metadata": {},
   "source": [
    ">> Define function to get tweet data"
   ]
  },
  {
   "cell_type": "code",
   "execution_count": 109,
   "metadata": {},
   "outputs": [],
   "source": [
    "def get_tweets(handles):\n",
    "    \n",
    "    cols = ['id', 'name', 'screen_name', 'description', \n",
    "            'statuses_count', 'friends_count', 'followers_count', \n",
    "            'account_age_days', 'avg_daily_tweets', 'hashtags',\n",
    "            'user_mentions','favorite_count', 'retweet_count',]\n",
    "    \n",
    "    # dataframe that would be returned at the end\n",
    "    df = pd.DataFrame(columns=cols)\n",
    "    #print(df)\n",
    "    handle_data = []\n",
    "    off_users = []\n",
    "            \n",
    "    if len(handles) > 0: \n",
    "        for handle in handles:\n",
    "            value_list = []\n",
    "            print(\"Getting data for \" + handle)\n",
    "            # this helps avoid Tweepy errors like suspended users or user not ound errors\n",
    "            try:\n",
    "                item = auth_api.get_user(handle)\n",
    "            except tweepy.TweepError as e:\n",
    "                continue\n",
    "            value_list+= item.id_str, item.name, item.screen_name,\\\n",
    "            item.description, item.statuses_count, item.friends_count, item.followers_count\n",
    "            \n",
    "            #get average daily tweets\n",
    "            \n",
    "            no_tweets = item.statuses_count\n",
    "            account_created_date = item.created_at\n",
    "            delta = datetime.utcnow() - account_created_date\n",
    "            account_age_days = delta.days\n",
    "            value_list.append(str(account_age_days))\n",
    "            #print(str(account_age_days))\n",
    "            if account_age_days > 0:\n",
    "                   value_list.append(int(float(no_tweets)/float(account_age_days)))\n",
    "                    \n",
    "                    \n",
    "                    \n",
    "            hashtags = []\n",
    "            mentions = []\n",
    "            favorite_count =[]\n",
    "            retweet_count=[]\n",
    "            tweet_count = 0\n",
    "            end_date = datetime.utcnow() - timedelta(days=30)\n",
    "            \n",
    "\n",
    "            for status in Cursor(auth_api.user_timeline, id=handle).items():\n",
    "                tweet_count+= 1\n",
    "                if hasattr(status, \"entities\"):\n",
    "                    entities = status.entities\n",
    "\n",
    "                # get hashtags\n",
    "                if \"hashtags\" in entities:\n",
    "                    for ent in entities[\"hashtags\"]:\n",
    "                        if ent is not None:\n",
    "                            if \"text\" in ent:\n",
    "                                hashtag = ent[\"text\"]\n",
    "                                if hashtag is not None:\n",
    "                                    hashtags.append(hashtag)\n",
    "                # get usermentions\n",
    "                if \"user_mentions\" in entities:\n",
    "                    for ent in entities[\"user_mentions\"]:\n",
    "                        if ent is not None:\n",
    "                            if \"screen_name\" in ent:\n",
    "                                name = ent[\"screen_name\"]\n",
    "                                if name is not None:\n",
    "                                    mentions.append(name)\n",
    "\n",
    "                # get retweets    \n",
    "                if hasattr(status, \"retweet_count\"):\n",
    "                    retweets = status.retweet_count\n",
    "                    if retweets is not None:\n",
    "                        retweet_count.append(retweets)\n",
    "                        \n",
    "                # favorite count     \n",
    "                if hasattr(status, \"favorite_count\"):\n",
    "                    likes = status.favorite_count \n",
    "                    if likes is not None:\n",
    "                        favorite_count.append(likes)\n",
    "                if status.created_at < end_date:\n",
    "                    break\n",
    "                    \n",
    "            \n",
    "            value_list.append(len(hashtags))\n",
    "            value_list.append(len(mentions))\n",
    "            value_list.append(sum(favorite_count))\n",
    "            value_list.append(sum(retweet_count))\n",
    "            handle_data.append(value_list)\n",
    "            #print(handle_data)\n",
    "            #break\n",
    "    #ls = {}\n",
    "            #df_1 = pd.DataFrame([handle_data], columns=cols)\n",
    "            #print(handle_data)\n",
    "            #complete_df = pd.concat(df, df_1)\n",
    "            df = df.append(pd.DataFrame([value_list], columns=cols))\n",
    "            #print(df)\n",
    "    return df"
   ]
  },
  {
   "cell_type": "code",
   "execution_count": null,
   "metadata": {},
   "outputs": [],
   "source": []
  },
  {
   "cell_type": "markdown",
   "metadata": {},
   "source": [
    ">> Load scraped handles into pandas "
   ]
  },
  {
   "cell_type": "code",
   "execution_count": 110,
   "metadata": {},
   "outputs": [],
   "source": [
    "afriq_users_handle = pd.read_csv('scraped_handles/top_100_influencers.csv')\n",
    "afriq_users_handle = afriq_users_handle.handles.tolist()"
   ]
  },
  {
   "cell_type": "code",
   "execution_count": 111,
   "metadata": {},
   "outputs": [
    {
     "data": {
      "text/plain": [
       "['@gettleman', '@a24media', '@andiMakinana', '@AfricaCheck']"
      ]
     },
     "execution_count": 111,
     "metadata": {},
     "output_type": "execute_result"
    }
   ],
   "source": [
    "afriq_users_handle[:4]"
   ]
  },
  {
   "cell_type": "code",
   "execution_count": 112,
   "metadata": {},
   "outputs": [
    {
     "data": {
      "text/plain": [
       "['@EswatiniGovern1', '@MalawiGovt', '@hagegeingob', '@FinanceSC']"
      ]
     },
     "execution_count": 112,
     "metadata": {},
     "output_type": "execute_result"
    }
   ],
   "source": [
    "afriq_govt_handle = pd.read_csv('scraped_handles/africa_govt_covid_resp.csv')\n",
    "afriq_govt_handle = afriq_govt_handle.handles.to_list()\n",
    "afriq_govt_handle[:4]"
   ]
  },
  {
   "cell_type": "markdown",
   "metadata": {},
   "source": [
    "> Gather Twitter Data for Influencers"
   ]
  },
  {
   "cell_type": "code",
   "execution_count": 52,
   "metadata": {},
   "outputs": [
    {
     "name": "stdout",
     "output_type": "stream",
     "text": [
      "Getting data for @gettleman\n",
      "Getting data for @a24media\n",
      "Getting data for @andiMakinana\n",
      "Getting data for @AfricaCheck\n",
      "Getting data for @JamesCopnall\n",
      "Getting data for @oafrica\n",
      "Getting data for @PatrickNgowi\n",
      "Getting data for @StateAfrica\n",
      "Getting data for @Moadow\n",
      "Getting data for @BrendanSAfrica\n",
      "Getting data for @CityTshwane\n",
      "Getting data for @VISI_Mag\n",
      "Getting data for @beyondsafari\n",
      "Getting data for @ThisIsAfricaTIA\n",
      "Getting data for @sarzss\n",
      "Getting data for @TheEIU_Africa\n",
      "Getting data for @InvestInAfrica\n",
      "Getting data for @malonebarry\n",
      "Getting data for @artsouthafrica\n",
      "Getting data for @KahnMorbee\n",
      "Getting data for @JamalMOsman\n",
      "Getting data for @iamsuede\n",
      "Getting data for @mikestopforth\n",
      "Getting data for @equal_education\n",
      "Getting data for @t_mcconnell\n",
      "Getting data for @forbeesta\n",
      "Getting data for @hurricanevaness\n",
      "Getting data for @BBCKarenAllen\n",
      "Getting data for @jaxpanik\n",
      "Getting data for @thisisafrica\n",
      "Getting data for @audisouthafrica\n",
      "Getting data for @ONEinAfrica\n",
      "Getting data for @Hamza_Africa\n",
      "Getting data for @drewfhinshaw\n",
      "Getting data for @africatechie\n",
      "Getting data for @cx73\n",
      "Getting data for @ayittey\n",
      "Getting data for @MercedesBenz_SA\n",
      "Getting data for @africagathering\n",
      "Getting data for @okayafrica\n",
      "Getting data for @mary_harper\n",
      "Getting data for @savetherhino\n",
      "Getting data for @africamedia_CPJ\n",
      "Getting data for @TechCentral\n",
      "Getting data for @GautengProvince\n",
      "Getting data for @Aynte\n",
      "Getting data for @daniel_howden\n",
      "Getting data for @rangerdiaries\n",
      "Getting data for @TheStar_news\n",
      "Getting data for @schneiderhome\n",
      "Getting data for @Afrinnovator\n",
      "Getting data for @theafricareport\n",
      "Getting data for @CityofJoburgZA\n",
      "Getting data for @ThinkAfricaFeed\n",
      "Getting data for @AfricaGoodNews\n",
      "Getting data for @willintune\n",
      "Getting data for @cnbcafrica\n",
      "Getting data for @MadeItInAfrica\n",
      "Getting data for @AfricaResearch\n",
      "Getting data for @FoodBlogCT\n",
      "Getting data for @MbuyiseniNdlozi\n",
      "Getting data for @africaprogress\n",
      "Getting data for @IFCAfrica\n",
      "Getting data for @HenleyAfrica\n",
      "Getting data for @The_New_Age\n",
      "Getting data for @geoffreyyork\n",
      "Getting data for @Entrepreneur_SA\n",
      "Getting data for @forbesafrica\n",
      "Getting data for @IECSouthAfrica\n",
      "Getting data for @art2gee\n",
      "Getting data for @JendayiFrazer\n",
      "Getting data for @PeterGreste\n",
      "Getting data for @NDOCKenya\n",
      "Getting data for @Mo_IbrahimFdn\n",
      "Getting data for @ParliamentofRSA\n",
      "Getting data for @SandtonCity\n",
      "Getting data for @_AfricanUnion\n",
      "Getting data for @gertjohan\n",
      "Getting data for @SmithInAfrica\n",
      "Getting data for @hartleyr\n",
      "Getting data for @liveamp\n",
      "Getting data for @SamsungSA\n",
      "Getting data for @BobSkinstad\n",
      "Getting data for @Camfed\n",
      "Getting data for @BBCAndrewH\n",
      "Getting data for @euphonik\n",
      "Getting data for @UlrichJvV\n",
      "Getting data for @702JohnRobbie\n",
      "Getting data for @OfficialCSA\n",
      "Getting data for @MTVbaseAfrica\n",
      "Getting data for @Computicket\n",
      "Getting data for @loyisogola\n",
      "Getting data for @5FM\n",
      "Getting data for @mailandguardian\n",
      "Getting data for @helenzille\n",
      "Getting data for @Julius_S_Malema\n",
      "Getting data for @News24\n",
      "Getting data for @SAPresident\n",
      "Getting data for @GarethCliff\n",
      "Getting data for @Trevornoah\n"
     ]
    }
   ],
   "source": [
    "df_inf = get_tweets(afriq_users_handle)"
   ]
  },
  {
   "cell_type": "code",
   "execution_count": 54,
   "metadata": {},
   "outputs": [
    {
     "data": {
      "text/html": [
       "<div>\n",
       "<style scoped>\n",
       "    .dataframe tbody tr th:only-of-type {\n",
       "        vertical-align: middle;\n",
       "    }\n",
       "\n",
       "    .dataframe tbody tr th {\n",
       "        vertical-align: top;\n",
       "    }\n",
       "\n",
       "    .dataframe thead th {\n",
       "        text-align: right;\n",
       "    }\n",
       "</style>\n",
       "<table border=\"1\" class=\"dataframe\">\n",
       "  <thead>\n",
       "    <tr style=\"text-align: right;\">\n",
       "      <th></th>\n",
       "      <th>id</th>\n",
       "      <th>name</th>\n",
       "      <th>screen_name</th>\n",
       "      <th>description</th>\n",
       "      <th>statuses_count</th>\n",
       "      <th>friends_count</th>\n",
       "      <th>followers_count</th>\n",
       "      <th>account_age_days</th>\n",
       "      <th>avg_daily_tweets</th>\n",
       "      <th>hashtags</th>\n",
       "      <th>user_mentions</th>\n",
       "      <th>favorite_count</th>\n",
       "      <th>retweet_count</th>\n",
       "    </tr>\n",
       "  </thead>\n",
       "  <tbody>\n",
       "    <tr>\n",
       "      <th>0</th>\n",
       "      <td>305125998</td>\n",
       "      <td>Jeffrey Gettleman</td>\n",
       "      <td>gettleman</td>\n",
       "      <td>South Asia bureau chief for the New York Times...</td>\n",
       "      <td>3770</td>\n",
       "      <td>37</td>\n",
       "      <td>25700</td>\n",
       "      <td>3340</td>\n",
       "      <td>1</td>\n",
       "      <td>5</td>\n",
       "      <td>38</td>\n",
       "      <td>268</td>\n",
       "      <td>111152</td>\n",
       "    </tr>\n",
       "    <tr>\n",
       "      <th>0</th>\n",
       "      <td>26475943</td>\n",
       "      <td>A24 Media</td>\n",
       "      <td>a24media</td>\n",
       "      <td>Africa 24 produces compelling content that mak...</td>\n",
       "      <td>16869</td>\n",
       "      <td>3059</td>\n",
       "      <td>31285</td>\n",
       "      <td>4132</td>\n",
       "      <td>4</td>\n",
       "      <td>32</td>\n",
       "      <td>52</td>\n",
       "      <td>96</td>\n",
       "      <td>190</td>\n",
       "    </tr>\n",
       "    <tr>\n",
       "      <th>0</th>\n",
       "      <td>72013267</td>\n",
       "      <td>Scapegoat</td>\n",
       "      <td>AndiMakinana</td>\n",
       "      <td>In pursuit of scoops. I do not write headlines...</td>\n",
       "      <td>142223</td>\n",
       "      <td>2839</td>\n",
       "      <td>101246</td>\n",
       "      <td>3967</td>\n",
       "      <td>35</td>\n",
       "      <td>39</td>\n",
       "      <td>626</td>\n",
       "      <td>19466</td>\n",
       "      <td>398095</td>\n",
       "    </tr>\n",
       "    <tr>\n",
       "      <th>0</th>\n",
       "      <td>625489039</td>\n",
       "      <td>Africa Check</td>\n",
       "      <td>AfricaCheck</td>\n",
       "      <td>Africa's first independent fact-checking websi...</td>\n",
       "      <td>27317</td>\n",
       "      <td>4590</td>\n",
       "      <td>68061</td>\n",
       "      <td>2936</td>\n",
       "      <td>9</td>\n",
       "      <td>156</td>\n",
       "      <td>205</td>\n",
       "      <td>1353</td>\n",
       "      <td>1398</td>\n",
       "    </tr>\n",
       "    <tr>\n",
       "      <th>0</th>\n",
       "      <td>401520924</td>\n",
       "      <td>James Copnall</td>\n",
       "      <td>JamesCopnall</td>\n",
       "      <td>BBC reporter + presenter. Author A Poisonous T...</td>\n",
       "      <td>19434</td>\n",
       "      <td>5046</td>\n",
       "      <td>21958</td>\n",
       "      <td>3182</td>\n",
       "      <td>6</td>\n",
       "      <td>19</td>\n",
       "      <td>82</td>\n",
       "      <td>139</td>\n",
       "      <td>47608</td>\n",
       "    </tr>\n",
       "    <tr>\n",
       "      <th>...</th>\n",
       "      <td>...</td>\n",
       "      <td>...</td>\n",
       "      <td>...</td>\n",
       "      <td>...</td>\n",
       "      <td>...</td>\n",
       "      <td>...</td>\n",
       "      <td>...</td>\n",
       "      <td>...</td>\n",
       "      <td>...</td>\n",
       "      <td>...</td>\n",
       "      <td>...</td>\n",
       "      <td>...</td>\n",
       "      <td>...</td>\n",
       "    </tr>\n",
       "    <tr>\n",
       "      <th>0</th>\n",
       "      <td>117102398</td>\n",
       "      <td>Julius Sello Malema</td>\n",
       "      <td>Julius_S_Malema</td>\n",
       "      <td>Commander in Chief of Economic Freedom Fighter...</td>\n",
       "      <td>37192</td>\n",
       "      <td>652</td>\n",
       "      <td>3126246</td>\n",
       "      <td>3795</td>\n",
       "      <td>9</td>\n",
       "      <td>64</td>\n",
       "      <td>524</td>\n",
       "      <td>177856</td>\n",
       "      <td>286707</td>\n",
       "    </tr>\n",
       "    <tr>\n",
       "      <th>0</th>\n",
       "      <td>14697575</td>\n",
       "      <td>News24</td>\n",
       "      <td>News24</td>\n",
       "      <td>South Africa's premier online news resource. F...</td>\n",
       "      <td>322655</td>\n",
       "      <td>631</td>\n",
       "      <td>3575424</td>\n",
       "      <td>4453</td>\n",
       "      <td>72</td>\n",
       "      <td>227</td>\n",
       "      <td>1022</td>\n",
       "      <td>204918</td>\n",
       "      <td>89815</td>\n",
       "    </tr>\n",
       "    <tr>\n",
       "      <th>0</th>\n",
       "      <td>1102508781781557248</td>\n",
       "      <td>jdwtweet</td>\n",
       "      <td>SAPresident</td>\n",
       "      <td></td>\n",
       "      <td>19</td>\n",
       "      <td>14</td>\n",
       "      <td>18</td>\n",
       "      <td>501</td>\n",
       "      <td>0</td>\n",
       "      <td>0</td>\n",
       "      <td>1</td>\n",
       "      <td>0</td>\n",
       "      <td>38</td>\n",
       "    </tr>\n",
       "    <tr>\n",
       "      <th>0</th>\n",
       "      <td>17962204</td>\n",
       "      <td>Gareth Cliff</td>\n",
       "      <td>GarethCliff</td>\n",
       "      <td>President of https://t.co/scMZ7lsVKF ⚜. Enquir...</td>\n",
       "      <td>31624</td>\n",
       "      <td>357</td>\n",
       "      <td>1974477</td>\n",
       "      <td>4239</td>\n",
       "      <td>7</td>\n",
       "      <td>40</td>\n",
       "      <td>161</td>\n",
       "      <td>3325</td>\n",
       "      <td>2253</td>\n",
       "    </tr>\n",
       "    <tr>\n",
       "      <th>0</th>\n",
       "      <td>46335511</td>\n",
       "      <td>Trevor Noah</td>\n",
       "      <td>Trevornoah</td>\n",
       "      <td>Comedian from South Africa. I was in the crowd...</td>\n",
       "      <td>11185</td>\n",
       "      <td>325</td>\n",
       "      <td>10803194</td>\n",
       "      <td>4054</td>\n",
       "      <td>2</td>\n",
       "      <td>0</td>\n",
       "      <td>13</td>\n",
       "      <td>136346</td>\n",
       "      <td>592755</td>\n",
       "    </tr>\n",
       "  </tbody>\n",
       "</table>\n",
       "<p>93 rows × 13 columns</p>\n",
       "</div>"
      ],
      "text/plain": [
       "                     id                 name      screen_name  \\\n",
       "0             305125998    Jeffrey Gettleman        gettleman   \n",
       "0              26475943            A24 Media         a24media   \n",
       "0              72013267            Scapegoat     AndiMakinana   \n",
       "0             625489039         Africa Check      AfricaCheck   \n",
       "0             401520924        James Copnall     JamesCopnall   \n",
       "..                  ...                  ...              ...   \n",
       "0             117102398  Julius Sello Malema  Julius_S_Malema   \n",
       "0              14697575               News24           News24   \n",
       "0   1102508781781557248             jdwtweet      SAPresident   \n",
       "0              17962204         Gareth Cliff      GarethCliff   \n",
       "0              46335511          Trevor Noah       Trevornoah   \n",
       "\n",
       "                                          description statuses_count  \\\n",
       "0   South Asia bureau chief for the New York Times...           3770   \n",
       "0   Africa 24 produces compelling content that mak...          16869   \n",
       "0   In pursuit of scoops. I do not write headlines...         142223   \n",
       "0   Africa's first independent fact-checking websi...          27317   \n",
       "0   BBC reporter + presenter. Author A Poisonous T...          19434   \n",
       "..                                                ...            ...   \n",
       "0   Commander in Chief of Economic Freedom Fighter...          37192   \n",
       "0   South Africa's premier online news resource. F...         322655   \n",
       "0                                                                 19   \n",
       "0   President of https://t.co/scMZ7lsVKF ⚜. Enquir...          31624   \n",
       "0   Comedian from South Africa. I was in the crowd...          11185   \n",
       "\n",
       "   friends_count followers_count account_age_days avg_daily_tweets hashtags  \\\n",
       "0             37           25700             3340                1        5   \n",
       "0           3059           31285             4132                4       32   \n",
       "0           2839          101246             3967               35       39   \n",
       "0           4590           68061             2936                9      156   \n",
       "0           5046           21958             3182                6       19   \n",
       "..           ...             ...              ...              ...      ...   \n",
       "0            652         3126246             3795                9       64   \n",
       "0            631         3575424             4453               72      227   \n",
       "0             14              18              501                0        0   \n",
       "0            357         1974477             4239                7       40   \n",
       "0            325        10803194             4054                2        0   \n",
       "\n",
       "   user_mentions favorite_count retweet_count  \n",
       "0             38            268        111152  \n",
       "0             52             96           190  \n",
       "0            626          19466        398095  \n",
       "0            205           1353          1398  \n",
       "0             82            139         47608  \n",
       "..           ...            ...           ...  \n",
       "0            524         177856        286707  \n",
       "0           1022         204918         89815  \n",
       "0              1              0            38  \n",
       "0            161           3325          2253  \n",
       "0             13         136346        592755  \n",
       "\n",
       "[93 rows x 13 columns]"
      ]
     },
     "execution_count": 54,
     "metadata": {},
     "output_type": "execute_result"
    }
   ],
   "source": [
    "df_inf"
   ]
  },
  {
   "cell_type": "markdown",
   "metadata": {},
   "source": [
    "> Save Gathered Twitter Data of Top African Influencers to csv file"
   ]
  },
  {
   "cell_type": "code",
   "execution_count": 57,
   "metadata": {},
   "outputs": [],
   "source": [
    "df_inf.to_csv('twitter_datasets/acct_info/afriqTopInfluencers.csv', sep=',')"
   ]
  },
  {
   "cell_type": "markdown",
   "metadata": {},
   "source": [
    "> Gather Twitter Data for Governement Covid19 Responders"
   ]
  },
  {
   "cell_type": "code",
   "execution_count": 64,
   "metadata": {},
   "outputs": [
    {
     "name": "stdout",
     "output_type": "stream",
     "text": [
      "Getting data for @EswatiniGovern1\n",
      "Getting data for @MalawiGovt\n",
      "Getting data for @hagegeingob\n",
      "Getting data for @FinanceSC\n",
      "Getting data for @PresidencyZA\n",
      "Getting data for @mohzambia\n",
      "Getting data for @edmnangagwa\n",
      "Getting data for @MinSantedj\n",
      "Getting data for @hawelti\n",
      "Getting data for @StateHouseKenya\n",
      "Getting data for @PaulKagame\n",
      "Getting data for @M_Farmaajo\n",
      "Getting data for @SouthSudanGov\n",
      "Getting data for @SudanPMHamdok\n",
      "Getting data for @TZSpokesperson\n",
      "Getting data for @KagutaMuseveni\n",
      "Getting data for @angola_Mirex\n",
      "Getting data for @willynyamitwe\n",
      "Getting data for @Cherif_MZ\n",
      "Getting data for @Presidence_RDC\n",
      "Getting data for @PresidentABO\n",
      "Getting data for @PresidenceBenin\n",
      "Getting data for @rochkaborepf\n",
      "Getting data for @PresidenciaCV\n",
      "Getting data for @AOuattara_PRCI\n",
      "Getting data for @Presidency_GMB\n",
      "Getting data for @NAkufoAddo\n",
      "Getting data for @President_GN\n",
      "Getting data for @USEmbalo\n",
      "Getting data for @PresidenceMali\n",
      "Getting data for @CheikhGhazouani\n",
      "Getting data for @IssoufouMhm\n",
      "Getting data for @MBuhari\n",
      "Getting data for @Macky_Sall\n",
      "Getting data for @PresidentBio\n",
      "Getting data for @MSPS_Togo\n",
      "Getting data for @TsholetsaDomi\n",
      "Getting data for @Azali_officiel\n",
      "Getting data for @SE_Rajoelina\n",
      "Getting data for @PKJugnauth\n",
      "Getting data for @AbiyAhmedAli\n",
      "Getting data for @PR_Paul_BIYA\n",
      "Getting data for @MinistereComCG\n"
     ]
    }
   ],
   "source": [
    "df_gov = get_tweets(afriq_govt_handle)"
   ]
  },
  {
   "cell_type": "markdown",
   "metadata": {},
   "source": [
    "> Save gathered data to csv"
   ]
  },
  {
   "cell_type": "code",
   "execution_count": 66,
   "metadata": {},
   "outputs": [],
   "source": [
    "df_gov.to_csv('twitter_datasets/acct_info/afriqGovCovid19Resp.csv', sep=',')"
   ]
  },
  {
   "cell_type": "markdown",
   "metadata": {},
   "source": [
    "> Define function to gather hashtags of handles"
   ]
  },
  {
   "cell_type": "code",
   "execution_count": 77,
   "metadata": {},
   "outputs": [],
   "source": [
    "def get_hashtags(handles):\n",
    "#    import timeit as t\n",
    "\n",
    "    \n",
    "    cols = ['id', 'name', 'screen_name', 'hashtags']#'hashtag_counts']\n",
    "    \n",
    "    # dataframe that would be returned at the end\n",
    "    df = pd.DataFrame(columns=cols)\n",
    "    #print(df)\n",
    "    handle_data = []\n",
    "            \n",
    "    if len(handles) > 0: \n",
    "        for handle in handles:\n",
    "            value_list = {}\n",
    "            print(\"Getting hashtags for \" + handle)\n",
    "            # this helps avoid Tweepy errors like suspended users or user not ound errors\n",
    "            try:\n",
    "                item = auth_api.get_user(handle)\n",
    "            except tweepy.TweepError as e:\n",
    "                continue\n",
    "            #value_list+= item.id_str, item.name, item.screen_name,\n",
    "            value_list['id'] = item.id_str\n",
    "            value_list['name'] = item.name\n",
    "            value_list['screen_name'] = item.screen_name\n",
    "            #value_list['hashtags'] = []\n",
    "            #print(value_list, \"hell\")\n",
    "            \n",
    "            #get average daily tweets\n",
    "            no_tweets = item.statuses_count\n",
    "            account_created_date = item.created_at\n",
    "            delta = datetime.utcnow() - account_created_date\n",
    "            account_age_days = delta.days\n",
    "           \n",
    "            hashtags = set()\n",
    "            hash_dic = {}\n",
    "            tweet_count = 0\n",
    "            end_date = datetime.utcnow() - timedelta(days=30)\n",
    "            \n",
    "\n",
    "            for status in Cursor(auth_api.user_timeline, id=handle).items():\n",
    "            #    tweet_count+= 1\n",
    "                if hasattr(status, \"entities\"):\n",
    "                    entities = status.entities\n",
    "\n",
    "                # get hashtags\n",
    "                if \"hashtags\" in entities:\n",
    "                    for ent in entities[\"hashtags\"]:\n",
    "                        if ent is not None:\n",
    "                            if \"text\" in ent:\n",
    "                                hashtag = ent[\"text\"]\n",
    "                                if hashtag is not None:\n",
    "                                    if hashtag in hashtags:\n",
    "                                        hash_dic[hashtag]+=1\n",
    "                                    else:\n",
    "                                        hashtags.add(hashtag)\n",
    "                                        hash_dic[hashtag] = 1\n",
    "                value_list['hashtags'] = hash_dic\n",
    "            df = df.append(pd.DataFrame(value_list))\n",
    "    return df.reset_index().rename(columns={'hashtags':'hashtags_count','index':'hashtags'})"
   ]
  },
  {
   "cell_type": "markdown",
   "metadata": {},
   "source": [
    "> Gather hashtags of govt covid19 responders"
   ]
  },
  {
   "cell_type": "code",
   "execution_count": 96,
   "metadata": {},
   "outputs": [
    {
     "name": "stdout",
     "output_type": "stream",
     "text": [
      "Getting hashtags for @EswatiniGovern1\n",
      "Getting hashtags for @MalawiGovt\n",
      "Getting hashtags for @hagegeingob\n",
      "Getting hashtags for @FinanceSC\n",
      "Getting hashtags for @PresidencyZA\n",
      "Getting hashtags for @mohzambia\n",
      "Getting hashtags for @edmnangagwa\n",
      "Getting hashtags for @MinSantedj\n",
      "Getting hashtags for @hawelti\n",
      "Getting hashtags for @StateHouseKenya\n",
      "Getting hashtags for @PaulKagame\n",
      "Getting hashtags for @M_Farmaajo\n",
      "Getting hashtags for @SouthSudanGov\n",
      "Getting hashtags for @SudanPMHamdok\n",
      "Getting hashtags for @TZSpokesperson\n",
      "Getting hashtags for @KagutaMuseveni\n",
      "Getting hashtags for @angola_Mirex\n",
      "Getting hashtags for @willynyamitwe\n",
      "Getting hashtags for @Cherif_MZ\n",
      "Getting hashtags for @Presidence_RDC\n",
      "Getting hashtags for @PresidentABO\n",
      "Getting hashtags for @PresidenceBenin\n",
      "Getting hashtags for @rochkaborepf\n",
      "Getting hashtags for @PresidenciaCV\n",
      "Getting hashtags for @AOuattara_PRCI\n",
      "Getting hashtags for @Presidency_GMB\n",
      "Getting hashtags for @NAkufoAddo\n",
      "Getting hashtags for @President_GN\n",
      "Getting hashtags for @USEmbalo\n",
      "Getting hashtags for @PresidenceMali\n",
      "Getting hashtags for @CheikhGhazouani\n",
      "Getting hashtags for @IssoufouMhm\n",
      "Getting hashtags for @MBuhari\n",
      "Getting hashtags for @Macky_Sall\n",
      "Getting hashtags for @PresidentBio\n",
      "Getting hashtags for @MSPS_Togo\n",
      "Getting hashtags for @TsholetsaDomi\n",
      "Getting hashtags for @Azali_officiel\n",
      "Getting hashtags for @SE_Rajoelina\n",
      "Getting hashtags for @PKJugnauth\n",
      "Getting hashtags for @AbiyAhmedAli\n",
      "Getting hashtags for @PR_Paul_BIYA\n",
      "Getting hashtags for @MinistereComCG\n"
     ]
    }
   ],
   "source": [
    "df_gov_hashtags = get_hashtags(afriq_govt_handle)"
   ]
  },
  {
   "cell_type": "code",
   "execution_count": 98,
   "metadata": {},
   "outputs": [],
   "source": [
    "df"
   ]
  },
  {
   "cell_type": "code",
   "execution_count": 100,
   "metadata": {},
   "outputs": [],
   "source": [
    "df_gov_hashtags.to_csv('twitter_datasets/acct_hashtags/govtTweets.csv')"
   ]
  },
  {
   "cell_type": "code",
   "execution_count": null,
   "metadata": {},
   "outputs": [
    {
     "name": "stdout",
     "output_type": "stream",
     "text": [
      "Getting hashtags for @gettleman\n",
      "Getting hashtags for @a24media\n",
      "Getting hashtags for @andiMakinana\n",
      "Getting hashtags for @AfricaCheck\n",
      "Getting hashtags for @JamesCopnall\n"
     ]
    }
   ],
   "source": [
    "df_inf_hashtags = get_hashtags(afriq_users_handle)"
   ]
  },
  {
   "cell_type": "code",
   "execution_count": null,
   "metadata": {},
   "outputs": [],
   "source": []
  }
 ],
 "metadata": {
  "kernelspec": {
   "display_name": "Python 3",
   "language": "python",
   "name": "python3"
  },
  "language_info": {
   "codemirror_mode": {
    "name": "ipython",
    "version": 3
   },
   "file_extension": ".py",
   "mimetype": "text/x-python",
   "name": "python",
   "nbconvert_exporter": "python",
   "pygments_lexer": "ipython3",
   "version": "3.6.9"
  }
 },
 "nbformat": 4,
 "nbformat_minor": 4
}
