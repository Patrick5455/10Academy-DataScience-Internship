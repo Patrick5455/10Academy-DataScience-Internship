{
 "cells": [
  {
   "cell_type": "markdown",
   "metadata": {},
   "source": [
    "## Querying Twitter Database using Tweepy"
   ]
  },
  {
   "cell_type": "markdown",
   "metadata": {},
   "source": [
    "> Import Libraries"
   ]
  },
  {
   "cell_type": "code",
   "execution_count": 132,
   "metadata": {},
   "outputs": [],
   "source": [
    "import pandas as pd\n",
    "import tweepy\n",
    "from tweepy import OAuthHandler\n",
    "from tweepy import API  \n",
    "from tweepy import Cursor\n",
    "from datetime import datetime, date, time, timedelta\n",
    "from collections import Counter\n",
    "import os, sys\n",
    "import csv"
   ]
  },
  {
   "cell_type": "markdown",
   "metadata": {},
   "source": [
    "> Load dotenv to expose api keys to the application"
   ]
  },
  {
   "cell_type": "code",
   "execution_count": 133,
   "metadata": {},
   "outputs": [
    {
     "data": {
      "text/plain": [
       "True"
      ]
     },
     "execution_count": 133,
     "metadata": {},
     "output_type": "execute_result"
    }
   ],
   "source": [
    "from dotenv import load_dotenv\n",
    "load_dotenv()"
   ]
  },
  {
   "cell_type": "code",
   "execution_count": 134,
   "metadata": {},
   "outputs": [
    {
     "name": "stdout",
     "output_type": "stream",
     "text": [
      "API_key API_secret_key Access_token Access_token_secret\n"
     ]
    }
   ],
   "source": [
    "API_key=\"API_key\"\n",
    "API_secret_key=\"API_secret_key\"\n",
    "Access_token=\"Access_token\"\n",
    "Access_token_secret=\"Access_token_secret\"\n",
    "print(API_key, API_secret_key, Access_token, Access_token_secret)"
   ]
  },
  {
   "cell_type": "code",
   "execution_count": 135,
   "metadata": {},
   "outputs": [],
   "source": [
    "API_key = os.environ.get(API_key)\n",
    "API_secret_key = os.environ.get(API_secret_key)\n",
    "Access_token = os.environ.get(Access_token)\n",
    "Access_token_secret=os.environ.get(Access_token_secret)"
   ]
  },
  {
   "cell_type": "code",
   "execution_count": 136,
   "metadata": {},
   "outputs": [],
   "source": [
    "auth = OAuthHandler(API_key, API_secret_key)\n",
    "auth.set_access_token(Access_token, Access_token_secret)\n",
    "api = tweepy.API(auth, wait_on_rate_limit=True)\n",
    "auth_api = API(auth)"
   ]
  },
  {
   "cell_type": "markdown",
   "metadata": {},
   "source": [
    "> Testing Api"
   ]
  },
  {
   "cell_type": "code",
   "execution_count": 142,
   "metadata": {},
   "outputs": [
    {
     "name": "stdout",
     "output_type": "stream",
     "text": [
      "RT @Dragofix: Air pollution from wildfires linked to higher death rates in patients with kidney failure https://t.co/IaHWDFtJAi #environmen…\n",
      "RT @theGEF: First the Amazon, then California, then Australia – #wildfires were catastrophic in 2019. 🔥🔥🔥 But a recent discovery suggests #…\n"
     ]
    }
   ],
   "source": [
    "search_words = \"#wildfires\"\n",
    "date_since= \"2018-11-16\"  \n",
    "# Collect tweets\n",
    "tweets = tweepy.Cursor(api.search,\n",
    "              q=search_words,\n",
    "              lang=\"en\", \n",
    "              since=date_since).items(2)\n",
    "# Iterate and print tweets\n",
    "for tweet in tweets:\n",
    "    print(tweet.text)"
   ]
  },
  {
   "cell_type": "markdown",
   "metadata": {},
   "source": [
    ">> Define function to get tweet data"
   ]
  },
  {
   "cell_type": "code",
   "execution_count": 152,
   "metadata": {},
   "outputs": [],
   "source": [
    "def get_tweets(handles):\n",
    "    \n",
    "    cols = ['id', 'name', 'screen_name', 'description', \n",
    "            'statuses_count', 'friends_count', 'followers_count', \n",
    "            'account_age_days', 'avg_daily_tweets', 'hashtags',\n",
    "            'user_mentions','favorite_count', 'retweet_count',]\n",
    "    \n",
    "    # dataframe that would be returned at the end\n",
    "    df = pd.DataFrame(columns=cols)\n",
    "    #print(df)\n",
    "    handle_data = []\n",
    "    off_users = []\n",
    "            \n",
    "    if len(handles) > 0: \n",
    "        for handle in handles:\n",
    "            value_list = []\n",
    "            print(\"Getting data for \" + handle)\n",
    "            # this helps avoid Tweepy errors like suspended users or user not ound errors\n",
    "            try:\n",
    "                item = auth_api.get_user(handle)\n",
    "            except tweepy.TweepError as e:\n",
    "                continue\n",
    "            value_list+= item.id_str, item.name, item.screen_name,\\\n",
    "            item.description, item.statuses_count, item.friends_count, item.followers_count\n",
    "            \n",
    "            #get average daily tweets\n",
    "            \n",
    "            no_tweets = item.statuses_count\n",
    "            account_created_date = item.created_at\n",
    "            delta = datetime.utcnow() - account_created_date\n",
    "            account_age_days = delta.days\n",
    "            value_list.append(str(account_age_days))\n",
    "            #print(str(account_age_days))\n",
    "            if account_age_days > 0:\n",
    "                   value_list.append(int(float(no_tweets)/float(account_age_days)))\n",
    "                    \n",
    "                    \n",
    "                    \n",
    "            hashtags = []\n",
    "            mentions = []\n",
    "            favorite_count =[]\n",
    "            retweet_count=[]\n",
    "            tweets = [] \n",
    "            tweet_count = 0\n",
    "            end_date = datetime.utcnow() - timedelta(days=30)\n",
    "            \n",
    "\n",
    "            for status in Cursor(auth_api.user_timeline, id=handle).items():\n",
    "                \n",
    "#                 tweets_list = [tweet.text for tweet in status] \n",
    "#                 for j in tweets_for_csv: \n",
    "#                     # Appending tweets to the empty array tmp \n",
    "#                     tweets.append(j)  \n",
    "                \n",
    "                tweets.append(status['text'])\n",
    "                tweet_count+= 1\n",
    "                if hasattr(status, \"entities\"):\n",
    "                    entities = status.entities\n",
    "\n",
    "                # get hashtags\n",
    "                if \"hashtags\" in entities:\n",
    "                    for ent in entities[\"hashtags\"]:\n",
    "                        if ent is not None:\n",
    "                            if \"text\" in ent:\n",
    "                                hashtag = ent[\"text\"]\n",
    "                                if hashtag is not None:\n",
    "                                    hashtags.append(hashtag)\n",
    "                # get usermentions\n",
    "                if \"user_mentions\" in entities:\n",
    "                    for ent in entities[\"user_mentions\"]:\n",
    "                        if ent is not None:\n",
    "                            if \"screen_name\" in ent:\n",
    "                                name = ent[\"screen_name\"]\n",
    "                                if name is not None:\n",
    "                                    mentions.append(name)\n",
    "\n",
    "                # get retweets    \n",
    "                if hasattr(status, \"retweet_count\"):\n",
    "                    retweets = status.retweet_count\n",
    "                    if retweets is not None:\n",
    "                        retweet_count.append(retweets)\n",
    "                        \n",
    "                # favorite count     \n",
    "                if hasattr(status, \"favorite_count\"):\n",
    "                    likes = status.favorite_count \n",
    "                    if likes is not None:\n",
    "                        favorite_count.append(likes)\n",
    "                if status.created_at < end_date:\n",
    "                    break\n",
    "                    \n",
    "            \n",
    "            value_list.append(len(hashtags))\n",
    "            value_list.append(len(mentions))\n",
    "            value_list.append(sum(favorite_count))\n",
    "            value_list.append(sum(retweet_count))\n",
    "            handle_data.append(value_list)\n",
    "            #print(handle_data)\n",
    "            #break\n",
    "    #ls = {}\n",
    "            #df_1 = pd.DataFrame([handle_data], columns=cols)\n",
    "            #print(handle_data)\n",
    "            #complete_df = pd.concat(df, df_1)\n",
    "            tweet_series = pd.Series(tweets)\n",
    "            df = df.append(pd.DataFrame([value_list], columns=cols))\n",
    "            df=pd.concat([df, pd.DataFrame(tweet_series)], axis=1)\n",
    "            #print(df)\n",
    "    return df"
   ]
  },
  {
   "cell_type": "code",
   "execution_count": null,
   "metadata": {},
   "outputs": [],
   "source": []
  },
  {
   "cell_type": "markdown",
   "metadata": {},
   "source": [
    ">> Load scraped handles into pandas "
   ]
  },
  {
   "cell_type": "code",
   "execution_count": 144,
   "metadata": {},
   "outputs": [],
   "source": [
    "afriq_users_handle = pd.read_csv('scraped_handles/top_100_influencers.csv')\n",
    "afriq_users_handle = afriq_users_handle.handles.tolist()"
   ]
  },
  {
   "cell_type": "code",
   "execution_count": 145,
   "metadata": {},
   "outputs": [
    {
     "data": {
      "text/plain": [
       "['@gettleman', '@a24media', '@andiMakinana', '@AfricaCheck']"
      ]
     },
     "execution_count": 145,
     "metadata": {},
     "output_type": "execute_result"
    }
   ],
   "source": [
    "afriq_users_handle[:4]"
   ]
  },
  {
   "cell_type": "code",
   "execution_count": 146,
   "metadata": {},
   "outputs": [
    {
     "data": {
      "text/plain": [
       "['@EswatiniGovern1', '@MalawiGovt', '@hagegeingob', '@FinanceSC']"
      ]
     },
     "execution_count": 146,
     "metadata": {},
     "output_type": "execute_result"
    }
   ],
   "source": [
    "afriq_govt_handle = pd.read_csv('scraped_handles/africa_govt_covid_resp.csv')\n",
    "afriq_govt_handle = afriq_govt_handle.handles.to_list()\n",
    "afriq_govt_handle[:4]"
   ]
  },
  {
   "cell_type": "markdown",
   "metadata": {},
   "source": [
    "> Gather Twitter Data for Influencers"
   ]
  },
  {
   "cell_type": "code",
   "execution_count": 148,
   "metadata": {},
   "outputs": [],
   "source": [
    "# df_inf = get_tweets(afriq_users_handle)"
   ]
  },
  {
   "cell_type": "code",
   "execution_count": 54,
   "metadata": {},
   "outputs": [
    {
     "data": {
      "text/html": [
       "<div>\n",
       "<style scoped>\n",
       "    .dataframe tbody tr th:only-of-type {\n",
       "        vertical-align: middle;\n",
       "    }\n",
       "\n",
       "    .dataframe tbody tr th {\n",
       "        vertical-align: top;\n",
       "    }\n",
       "\n",
       "    .dataframe thead th {\n",
       "        text-align: right;\n",
       "    }\n",
       "</style>\n",
       "<table border=\"1\" class=\"dataframe\">\n",
       "  <thead>\n",
       "    <tr style=\"text-align: right;\">\n",
       "      <th></th>\n",
       "      <th>id</th>\n",
       "      <th>name</th>\n",
       "      <th>screen_name</th>\n",
       "      <th>description</th>\n",
       "      <th>statuses_count</th>\n",
       "      <th>friends_count</th>\n",
       "      <th>followers_count</th>\n",
       "      <th>account_age_days</th>\n",
       "      <th>avg_daily_tweets</th>\n",
       "      <th>hashtags</th>\n",
       "      <th>user_mentions</th>\n",
       "      <th>favorite_count</th>\n",
       "      <th>retweet_count</th>\n",
       "    </tr>\n",
       "  </thead>\n",
       "  <tbody>\n",
       "    <tr>\n",
       "      <th>0</th>\n",
       "      <td>305125998</td>\n",
       "      <td>Jeffrey Gettleman</td>\n",
       "      <td>gettleman</td>\n",
       "      <td>South Asia bureau chief for the New York Times...</td>\n",
       "      <td>3770</td>\n",
       "      <td>37</td>\n",
       "      <td>25700</td>\n",
       "      <td>3340</td>\n",
       "      <td>1</td>\n",
       "      <td>5</td>\n",
       "      <td>38</td>\n",
       "      <td>268</td>\n",
       "      <td>111152</td>\n",
       "    </tr>\n",
       "    <tr>\n",
       "      <th>0</th>\n",
       "      <td>26475943</td>\n",
       "      <td>A24 Media</td>\n",
       "      <td>a24media</td>\n",
       "      <td>Africa 24 produces compelling content that mak...</td>\n",
       "      <td>16869</td>\n",
       "      <td>3059</td>\n",
       "      <td>31285</td>\n",
       "      <td>4132</td>\n",
       "      <td>4</td>\n",
       "      <td>32</td>\n",
       "      <td>52</td>\n",
       "      <td>96</td>\n",
       "      <td>190</td>\n",
       "    </tr>\n",
       "    <tr>\n",
       "      <th>0</th>\n",
       "      <td>72013267</td>\n",
       "      <td>Scapegoat</td>\n",
       "      <td>AndiMakinana</td>\n",
       "      <td>In pursuit of scoops. I do not write headlines...</td>\n",
       "      <td>142223</td>\n",
       "      <td>2839</td>\n",
       "      <td>101246</td>\n",
       "      <td>3967</td>\n",
       "      <td>35</td>\n",
       "      <td>39</td>\n",
       "      <td>626</td>\n",
       "      <td>19466</td>\n",
       "      <td>398095</td>\n",
       "    </tr>\n",
       "    <tr>\n",
       "      <th>0</th>\n",
       "      <td>625489039</td>\n",
       "      <td>Africa Check</td>\n",
       "      <td>AfricaCheck</td>\n",
       "      <td>Africa's first independent fact-checking websi...</td>\n",
       "      <td>27317</td>\n",
       "      <td>4590</td>\n",
       "      <td>68061</td>\n",
       "      <td>2936</td>\n",
       "      <td>9</td>\n",
       "      <td>156</td>\n",
       "      <td>205</td>\n",
       "      <td>1353</td>\n",
       "      <td>1398</td>\n",
       "    </tr>\n",
       "    <tr>\n",
       "      <th>0</th>\n",
       "      <td>401520924</td>\n",
       "      <td>James Copnall</td>\n",
       "      <td>JamesCopnall</td>\n",
       "      <td>BBC reporter + presenter. Author A Poisonous T...</td>\n",
       "      <td>19434</td>\n",
       "      <td>5046</td>\n",
       "      <td>21958</td>\n",
       "      <td>3182</td>\n",
       "      <td>6</td>\n",
       "      <td>19</td>\n",
       "      <td>82</td>\n",
       "      <td>139</td>\n",
       "      <td>47608</td>\n",
       "    </tr>\n",
       "    <tr>\n",
       "      <th>...</th>\n",
       "      <td>...</td>\n",
       "      <td>...</td>\n",
       "      <td>...</td>\n",
       "      <td>...</td>\n",
       "      <td>...</td>\n",
       "      <td>...</td>\n",
       "      <td>...</td>\n",
       "      <td>...</td>\n",
       "      <td>...</td>\n",
       "      <td>...</td>\n",
       "      <td>...</td>\n",
       "      <td>...</td>\n",
       "      <td>...</td>\n",
       "    </tr>\n",
       "    <tr>\n",
       "      <th>0</th>\n",
       "      <td>117102398</td>\n",
       "      <td>Julius Sello Malema</td>\n",
       "      <td>Julius_S_Malema</td>\n",
       "      <td>Commander in Chief of Economic Freedom Fighter...</td>\n",
       "      <td>37192</td>\n",
       "      <td>652</td>\n",
       "      <td>3126246</td>\n",
       "      <td>3795</td>\n",
       "      <td>9</td>\n",
       "      <td>64</td>\n",
       "      <td>524</td>\n",
       "      <td>177856</td>\n",
       "      <td>286707</td>\n",
       "    </tr>\n",
       "    <tr>\n",
       "      <th>0</th>\n",
       "      <td>14697575</td>\n",
       "      <td>News24</td>\n",
       "      <td>News24</td>\n",
       "      <td>South Africa's premier online news resource. F...</td>\n",
       "      <td>322655</td>\n",
       "      <td>631</td>\n",
       "      <td>3575424</td>\n",
       "      <td>4453</td>\n",
       "      <td>72</td>\n",
       "      <td>227</td>\n",
       "      <td>1022</td>\n",
       "      <td>204918</td>\n",
       "      <td>89815</td>\n",
       "    </tr>\n",
       "    <tr>\n",
       "      <th>0</th>\n",
       "      <td>1102508781781557248</td>\n",
       "      <td>jdwtweet</td>\n",
       "      <td>SAPresident</td>\n",
       "      <td></td>\n",
       "      <td>19</td>\n",
       "      <td>14</td>\n",
       "      <td>18</td>\n",
       "      <td>501</td>\n",
       "      <td>0</td>\n",
       "      <td>0</td>\n",
       "      <td>1</td>\n",
       "      <td>0</td>\n",
       "      <td>38</td>\n",
       "    </tr>\n",
       "    <tr>\n",
       "      <th>0</th>\n",
       "      <td>17962204</td>\n",
       "      <td>Gareth Cliff</td>\n",
       "      <td>GarethCliff</td>\n",
       "      <td>President of https://t.co/scMZ7lsVKF ⚜. Enquir...</td>\n",
       "      <td>31624</td>\n",
       "      <td>357</td>\n",
       "      <td>1974477</td>\n",
       "      <td>4239</td>\n",
       "      <td>7</td>\n",
       "      <td>40</td>\n",
       "      <td>161</td>\n",
       "      <td>3325</td>\n",
       "      <td>2253</td>\n",
       "    </tr>\n",
       "    <tr>\n",
       "      <th>0</th>\n",
       "      <td>46335511</td>\n",
       "      <td>Trevor Noah</td>\n",
       "      <td>Trevornoah</td>\n",
       "      <td>Comedian from South Africa. I was in the crowd...</td>\n",
       "      <td>11185</td>\n",
       "      <td>325</td>\n",
       "      <td>10803194</td>\n",
       "      <td>4054</td>\n",
       "      <td>2</td>\n",
       "      <td>0</td>\n",
       "      <td>13</td>\n",
       "      <td>136346</td>\n",
       "      <td>592755</td>\n",
       "    </tr>\n",
       "  </tbody>\n",
       "</table>\n",
       "<p>93 rows × 13 columns</p>\n",
       "</div>"
      ],
      "text/plain": [
       "                     id                 name      screen_name  \\\n",
       "0             305125998    Jeffrey Gettleman        gettleman   \n",
       "0              26475943            A24 Media         a24media   \n",
       "0              72013267            Scapegoat     AndiMakinana   \n",
       "0             625489039         Africa Check      AfricaCheck   \n",
       "0             401520924        James Copnall     JamesCopnall   \n",
       "..                  ...                  ...              ...   \n",
       "0             117102398  Julius Sello Malema  Julius_S_Malema   \n",
       "0              14697575               News24           News24   \n",
       "0   1102508781781557248             jdwtweet      SAPresident   \n",
       "0              17962204         Gareth Cliff      GarethCliff   \n",
       "0              46335511          Trevor Noah       Trevornoah   \n",
       "\n",
       "                                          description statuses_count  \\\n",
       "0   South Asia bureau chief for the New York Times...           3770   \n",
       "0   Africa 24 produces compelling content that mak...          16869   \n",
       "0   In pursuit of scoops. I do not write headlines...         142223   \n",
       "0   Africa's first independent fact-checking websi...          27317   \n",
       "0   BBC reporter + presenter. Author A Poisonous T...          19434   \n",
       "..                                                ...            ...   \n",
       "0   Commander in Chief of Economic Freedom Fighter...          37192   \n",
       "0   South Africa's premier online news resource. F...         322655   \n",
       "0                                                                 19   \n",
       "0   President of https://t.co/scMZ7lsVKF ⚜. Enquir...          31624   \n",
       "0   Comedian from South Africa. I was in the crowd...          11185   \n",
       "\n",
       "   friends_count followers_count account_age_days avg_daily_tweets hashtags  \\\n",
       "0             37           25700             3340                1        5   \n",
       "0           3059           31285             4132                4       32   \n",
       "0           2839          101246             3967               35       39   \n",
       "0           4590           68061             2936                9      156   \n",
       "0           5046           21958             3182                6       19   \n",
       "..           ...             ...              ...              ...      ...   \n",
       "0            652         3126246             3795                9       64   \n",
       "0            631         3575424             4453               72      227   \n",
       "0             14              18              501                0        0   \n",
       "0            357         1974477             4239                7       40   \n",
       "0            325        10803194             4054                2        0   \n",
       "\n",
       "   user_mentions favorite_count retweet_count  \n",
       "0             38            268        111152  \n",
       "0             52             96           190  \n",
       "0            626          19466        398095  \n",
       "0            205           1353          1398  \n",
       "0             82            139         47608  \n",
       "..           ...            ...           ...  \n",
       "0            524         177856        286707  \n",
       "0           1022         204918         89815  \n",
       "0              1              0            38  \n",
       "0            161           3325          2253  \n",
       "0             13         136346        592755  \n",
       "\n",
       "[93 rows x 13 columns]"
      ]
     },
     "execution_count": 54,
     "metadata": {},
     "output_type": "execute_result"
    }
   ],
   "source": [
    "df_inf"
   ]
  },
  {
   "cell_type": "markdown",
   "metadata": {},
   "source": [
    "> Save Gathered Twitter Data of Top African Influencers to csv file"
   ]
  },
  {
   "cell_type": "code",
   "execution_count": null,
   "metadata": {},
   "outputs": [],
   "source": [
    "# df_inf.to_csv('twitter_datasets/acct_info/afriqTopInfluencers.csv', sep=',')"
   ]
  },
  {
   "cell_type": "markdown",
   "metadata": {},
   "source": [
    "> Gather Twitter Data for Governement Covid19 Responders"
   ]
  },
  {
   "cell_type": "code",
   "execution_count": 64,
   "metadata": {},
   "outputs": [
    {
     "name": "stdout",
     "output_type": "stream",
     "text": [
      "Getting data for @EswatiniGovern1\n",
      "Getting data for @MalawiGovt\n",
      "Getting data for @hagegeingob\n",
      "Getting data for @FinanceSC\n",
      "Getting data for @PresidencyZA\n",
      "Getting data for @mohzambia\n",
      "Getting data for @edmnangagwa\n",
      "Getting data for @MinSantedj\n",
      "Getting data for @hawelti\n",
      "Getting data for @StateHouseKenya\n",
      "Getting data for @PaulKagame\n",
      "Getting data for @M_Farmaajo\n",
      "Getting data for @SouthSudanGov\n",
      "Getting data for @SudanPMHamdok\n",
      "Getting data for @TZSpokesperson\n",
      "Getting data for @KagutaMuseveni\n",
      "Getting data for @angola_Mirex\n",
      "Getting data for @willynyamitwe\n",
      "Getting data for @Cherif_MZ\n",
      "Getting data for @Presidence_RDC\n",
      "Getting data for @PresidentABO\n",
      "Getting data for @PresidenceBenin\n",
      "Getting data for @rochkaborepf\n",
      "Getting data for @PresidenciaCV\n",
      "Getting data for @AOuattara_PRCI\n",
      "Getting data for @Presidency_GMB\n",
      "Getting data for @NAkufoAddo\n",
      "Getting data for @President_GN\n",
      "Getting data for @USEmbalo\n",
      "Getting data for @PresidenceMali\n",
      "Getting data for @CheikhGhazouani\n",
      "Getting data for @IssoufouMhm\n",
      "Getting data for @MBuhari\n",
      "Getting data for @Macky_Sall\n",
      "Getting data for @PresidentBio\n",
      "Getting data for @MSPS_Togo\n",
      "Getting data for @TsholetsaDomi\n",
      "Getting data for @Azali_officiel\n",
      "Getting data for @SE_Rajoelina\n",
      "Getting data for @PKJugnauth\n",
      "Getting data for @AbiyAhmedAli\n",
      "Getting data for @PR_Paul_BIYA\n",
      "Getting data for @MinistereComCG\n"
     ]
    }
   ],
   "source": [
    "df_gov = get_tweets(afriq_govt_handle)"
   ]
  },
  {
   "cell_type": "markdown",
   "metadata": {},
   "source": [
    "> Save gathered data to csv"
   ]
  },
  {
   "cell_type": "code",
   "execution_count": 66,
   "metadata": {},
   "outputs": [],
   "source": [
    "df_gov.to_csv('twitter_datasets/acct_info/afriqGovCovid19Resp.csv', sep=',')"
   ]
  },
  {
   "cell_type": "markdown",
   "metadata": {},
   "source": [
    "> Define function to gather hashtags of handles"
   ]
  },
  {
   "cell_type": "code",
   "execution_count": 157,
   "metadata": {},
   "outputs": [],
   "source": [
    "def get_hashtags(handles):\n",
    "#    import timeit as t\n",
    "\n",
    "    \n",
    "    cols = ['id', 'name', 'screen_name', 'hashtags']#'hashtag_counts']\n",
    "    \n",
    "    # dataframe that would be returned at the end\n",
    "    df = pd.DataFrame(columns=cols)\n",
    "    #print(df)\n",
    "    handle_data = []\n",
    "            \n",
    "    if len(handles) > 0: \n",
    "        for handle in handles:\n",
    "            value_list = {}\n",
    "            print(\"Getting hashtags for \" + handle)\n",
    "            # this helps avoid Tweepy errors like suspended users or user not ound errors\n",
    "            try:\n",
    "                item = auth_api.get_user(handle)\n",
    "            except tweepy.TweepError as e:\n",
    "                continue\n",
    "            #value_list+= item.id_str, item.name, item.screen_name,\n",
    "            value_list['id'] = item.id_str\n",
    "            value_list['name'] = item.name\n",
    "            value_list['screen_name'] = item.screen_name\n",
    "            #value_list['hashtags'] = []\n",
    "            #print(value_list, \"hell\")\n",
    "            \n",
    "            #get average daily tweets\n",
    "            no_tweets = item.statuses_count\n",
    "            account_created_date = item.created_at\n",
    "            delta = datetime.utcnow() - account_created_date\n",
    "            account_age_days = delta.days\n",
    "           \n",
    "            hashtags = set()\n",
    "            hash_dic = {}\n",
    "            tweet_count = 0\n",
    "            end_date = datetime.utcnow() - timedelta(days=30)\n",
    "            \n",
    "\n",
    "            for status in Cursor(auth_api.user_timeline, id=handle).items():\n",
    "            #    tweet_count+= 1\n",
    "                if hasattr(status, \"entities\"):\n",
    "                    entities = status.entities\n",
    "\n",
    "                # get hashtags\n",
    "                if \"hashtags\" in entities:\n",
    "                    for ent in entities[\"hashtags\"]:\n",
    "                        if ent is not None:\n",
    "                            if \"text\" in ent:\n",
    "                                hashtag = ent[\"text\"]\n",
    "                                if hashtag is not None:\n",
    "                                    print(hashtag)\n",
    "                                    if hashtag in hashtags:\n",
    "                                        hash_dic[hashtag]+=1\n",
    "                                    else:\n",
    "                                        hashtags.add(hashtag)\n",
    "                                        hash_dic[hashtag] = 1\n",
    "                value_list['hashtags'] = hash_dic\n",
    "            df = df.append(pd.DataFrame([value_list]))\n",
    "            # the code snippet below before the return is used to save to file due to constant connections loss\n",
    "            new_df = df.reset_index().rename(columns={'hashtags':'hashtags_count','index':'hashtags'})\n",
    "            new_df.to_csv('twitter_datasets/acct_hashtags/afriqInfHashtags.csv')\n",
    "    return df.reset_index().rename(columns={'hashtags':'hashtags_count','index':'hashtags'})"
   ]
  },
  {
   "cell_type": "markdown",
   "metadata": {},
   "source": [
    "> Gather hashtags of govt covid19 responders"
   ]
  },
  {
   "cell_type": "code",
   "execution_count": 89,
   "metadata": {},
   "outputs": [],
   "source": [
    "# df_gov_hashtags = get_hashtags(afriq_govt_handle)"
   ]
  },
  {
   "cell_type": "code",
   "execution_count": 90,
   "metadata": {},
   "outputs": [],
   "source": [
    "# df_gov_hashtags"
   ]
  },
  {
   "cell_type": "code",
   "execution_count": 91,
   "metadata": {},
   "outputs": [],
   "source": [
    "# df_gov_hashtags.to_csv('twitter_datasets/acct_hashtags/govtHashtags.csv')"
   ]
  },
  {
   "cell_type": "code",
   "execution_count": 153,
   "metadata": {},
   "outputs": [],
   "source": [
    "# afriq_users_handle"
   ]
  },
  {
   "cell_type": "code",
   "execution_count": 159,
   "metadata": {},
   "outputs": [],
   "source": [
    "# test = ['@thisisafrica', '@gettleman']\n",
    "# text = get_hashtags(test)"
   ]
  },
  {
   "cell_type": "markdown",
   "metadata": {},
   "source": [
    "> Gather hashtags of Africa Influencers"
   ]
  },
  {
   "cell_type": "code",
   "execution_count": 150,
   "metadata": {},
   "outputs": [
    {
     "name": "stdout",
     "output_type": "stream",
     "text": [
      "Getting hashtags for @gettleman\n",
      "Getting hashtags for @a24media\n",
      "Getting hashtags for @andiMakinana\n",
      "Getting hashtags for @AfricaCheck\n",
      "Getting hashtags for @JamesCopnall\n",
      "Getting hashtags for @oafrica\n",
      "Getting hashtags for @PatrickNgowi\n",
      "Getting hashtags for @StateAfrica\n",
      "Getting hashtags for @Moadow\n",
      "Getting hashtags for @BrendanSAfrica\n",
      "Getting hashtags for @CityTshwane\n",
      "Getting hashtags for @VISI_Mag\n",
      "Getting hashtags for @beyondsafari\n",
      "Getting hashtags for @ThisIsAfricaTIA\n",
      "Getting hashtags for @sarzss\n",
      "Getting hashtags for @TheEIU_Africa\n",
      "Getting hashtags for @InvestInAfrica\n",
      "Getting hashtags for @malonebarry\n",
      "Getting hashtags for @artsouthafrica\n",
      "Getting hashtags for @KahnMorbee\n",
      "Getting hashtags for @JamalMOsman\n",
      "Getting hashtags for @iamsuede\n",
      "Getting hashtags for @mikestopforth\n",
      "Getting hashtags for @equal_education\n",
      "Getting hashtags for @t_mcconnell\n",
      "Getting hashtags for @forbeesta\n",
      "Getting hashtags for @hurricanevaness\n",
      "Getting hashtags for @BBCKarenAllen\n",
      "Getting hashtags for @jaxpanik\n",
      "Getting hashtags for @thisisafrica\n"
     ]
    },
    {
     "ename": "ValueError",
     "evalue": "If using all scalar values, you must pass an index",
     "output_type": "error",
     "traceback": [
      "\u001b[0;31m---------------------------------------------------------------------------\u001b[0m",
      "\u001b[0;31mValueError\u001b[0m                                Traceback (most recent call last)",
      "\u001b[0;32m<ipython-input-150-f890ff36abdb>\u001b[0m in \u001b[0;36m<module>\u001b[0;34m\u001b[0m\n\u001b[0;32m----> 1\u001b[0;31m \u001b[0mdf_inf_hashtags\u001b[0m \u001b[0;34m=\u001b[0m \u001b[0mget_hashtags\u001b[0m\u001b[0;34m(\u001b[0m\u001b[0mafriq_users_handle\u001b[0m\u001b[0;34m)\u001b[0m\u001b[0;34m\u001b[0m\u001b[0;34m\u001b[0m\u001b[0m\n\u001b[0m",
      "\u001b[0;32m<ipython-input-149-b265b9ae9829>\u001b[0m in \u001b[0;36mget_hashtags\u001b[0;34m(handles)\u001b[0m\n\u001b[1;32m     56\u001b[0m                                         \u001b[0mhash_dic\u001b[0m\u001b[0;34m[\u001b[0m\u001b[0mhashtag\u001b[0m\u001b[0;34m]\u001b[0m \u001b[0;34m=\u001b[0m \u001b[0;36m1\u001b[0m\u001b[0;34m\u001b[0m\u001b[0;34m\u001b[0m\u001b[0m\n\u001b[1;32m     57\u001b[0m                 \u001b[0mvalue_list\u001b[0m\u001b[0;34m[\u001b[0m\u001b[0;34m'hashtags'\u001b[0m\u001b[0;34m]\u001b[0m \u001b[0;34m=\u001b[0m \u001b[0mhash_dic\u001b[0m\u001b[0;34m\u001b[0m\u001b[0;34m\u001b[0m\u001b[0m\n\u001b[0;32m---> 58\u001b[0;31m             \u001b[0mdf\u001b[0m \u001b[0;34m=\u001b[0m \u001b[0mdf\u001b[0m\u001b[0;34m.\u001b[0m\u001b[0mappend\u001b[0m\u001b[0;34m(\u001b[0m\u001b[0mpd\u001b[0m\u001b[0;34m.\u001b[0m\u001b[0mDataFrame\u001b[0m\u001b[0;34m(\u001b[0m\u001b[0mvalue_list\u001b[0m\u001b[0;34m)\u001b[0m\u001b[0;34m)\u001b[0m\u001b[0;34m\u001b[0m\u001b[0;34m\u001b[0m\u001b[0m\n\u001b[0m\u001b[1;32m     59\u001b[0m             \u001b[0;31m# the code snippet below before the return is used to save to file due to constant connections loss\u001b[0m\u001b[0;34m\u001b[0m\u001b[0;34m\u001b[0m\u001b[0;34m\u001b[0m\u001b[0m\n\u001b[1;32m     60\u001b[0m             \u001b[0mnew_df\u001b[0m \u001b[0;34m=\u001b[0m \u001b[0mdf\u001b[0m\u001b[0;34m.\u001b[0m\u001b[0mreset_index\u001b[0m\u001b[0;34m(\u001b[0m\u001b[0;34m)\u001b[0m\u001b[0;34m.\u001b[0m\u001b[0mrename\u001b[0m\u001b[0;34m(\u001b[0m\u001b[0mcolumns\u001b[0m\u001b[0;34m=\u001b[0m\u001b[0;34m{\u001b[0m\u001b[0;34m'hashtags'\u001b[0m\u001b[0;34m:\u001b[0m\u001b[0;34m'hashtags_count'\u001b[0m\u001b[0;34m,\u001b[0m\u001b[0;34m'index'\u001b[0m\u001b[0;34m:\u001b[0m\u001b[0;34m'hashtags'\u001b[0m\u001b[0;34m}\u001b[0m\u001b[0;34m)\u001b[0m\u001b[0;34m\u001b[0m\u001b[0;34m\u001b[0m\u001b[0m\n",
      "\u001b[0;32m~/.local/lib/python3.6/site-packages/pandas/core/frame.py\u001b[0m in \u001b[0;36m__init__\u001b[0;34m(self, data, index, columns, dtype, copy)\u001b[0m\n\u001b[1;32m    433\u001b[0m             )\n\u001b[1;32m    434\u001b[0m         \u001b[0;32melif\u001b[0m \u001b[0misinstance\u001b[0m\u001b[0;34m(\u001b[0m\u001b[0mdata\u001b[0m\u001b[0;34m,\u001b[0m \u001b[0mdict\u001b[0m\u001b[0;34m)\u001b[0m\u001b[0;34m:\u001b[0m\u001b[0;34m\u001b[0m\u001b[0;34m\u001b[0m\u001b[0m\n\u001b[0;32m--> 435\u001b[0;31m             \u001b[0mmgr\u001b[0m \u001b[0;34m=\u001b[0m \u001b[0minit_dict\u001b[0m\u001b[0;34m(\u001b[0m\u001b[0mdata\u001b[0m\u001b[0;34m,\u001b[0m \u001b[0mindex\u001b[0m\u001b[0;34m,\u001b[0m \u001b[0mcolumns\u001b[0m\u001b[0;34m,\u001b[0m \u001b[0mdtype\u001b[0m\u001b[0;34m=\u001b[0m\u001b[0mdtype\u001b[0m\u001b[0;34m)\u001b[0m\u001b[0;34m\u001b[0m\u001b[0;34m\u001b[0m\u001b[0m\n\u001b[0m\u001b[1;32m    436\u001b[0m         \u001b[0;32melif\u001b[0m \u001b[0misinstance\u001b[0m\u001b[0;34m(\u001b[0m\u001b[0mdata\u001b[0m\u001b[0;34m,\u001b[0m \u001b[0mma\u001b[0m\u001b[0;34m.\u001b[0m\u001b[0mMaskedArray\u001b[0m\u001b[0;34m)\u001b[0m\u001b[0;34m:\u001b[0m\u001b[0;34m\u001b[0m\u001b[0;34m\u001b[0m\u001b[0m\n\u001b[1;32m    437\u001b[0m             \u001b[0;32mimport\u001b[0m \u001b[0mnumpy\u001b[0m\u001b[0;34m.\u001b[0m\u001b[0mma\u001b[0m\u001b[0;34m.\u001b[0m\u001b[0mmrecords\u001b[0m \u001b[0;32mas\u001b[0m \u001b[0mmrecords\u001b[0m\u001b[0;34m\u001b[0m\u001b[0;34m\u001b[0m\u001b[0m\n",
      "\u001b[0;32m~/.local/lib/python3.6/site-packages/pandas/core/internals/construction.py\u001b[0m in \u001b[0;36minit_dict\u001b[0;34m(data, index, columns, dtype)\u001b[0m\n\u001b[1;32m    252\u001b[0m             \u001b[0marr\u001b[0m \u001b[0;32mif\u001b[0m \u001b[0;32mnot\u001b[0m \u001b[0mis_datetime64tz_dtype\u001b[0m\u001b[0;34m(\u001b[0m\u001b[0marr\u001b[0m\u001b[0;34m)\u001b[0m \u001b[0;32melse\u001b[0m \u001b[0marr\u001b[0m\u001b[0;34m.\u001b[0m\u001b[0mcopy\u001b[0m\u001b[0;34m(\u001b[0m\u001b[0;34m)\u001b[0m \u001b[0;32mfor\u001b[0m \u001b[0marr\u001b[0m \u001b[0;32min\u001b[0m \u001b[0marrays\u001b[0m\u001b[0;34m\u001b[0m\u001b[0;34m\u001b[0m\u001b[0m\n\u001b[1;32m    253\u001b[0m         ]\n\u001b[0;32m--> 254\u001b[0;31m     \u001b[0;32mreturn\u001b[0m \u001b[0marrays_to_mgr\u001b[0m\u001b[0;34m(\u001b[0m\u001b[0marrays\u001b[0m\u001b[0;34m,\u001b[0m \u001b[0mdata_names\u001b[0m\u001b[0;34m,\u001b[0m \u001b[0mindex\u001b[0m\u001b[0;34m,\u001b[0m \u001b[0mcolumns\u001b[0m\u001b[0;34m,\u001b[0m \u001b[0mdtype\u001b[0m\u001b[0;34m=\u001b[0m\u001b[0mdtype\u001b[0m\u001b[0;34m)\u001b[0m\u001b[0;34m\u001b[0m\u001b[0;34m\u001b[0m\u001b[0m\n\u001b[0m\u001b[1;32m    255\u001b[0m \u001b[0;34m\u001b[0m\u001b[0m\n\u001b[1;32m    256\u001b[0m \u001b[0;34m\u001b[0m\u001b[0m\n",
      "\u001b[0;32m~/.local/lib/python3.6/site-packages/pandas/core/internals/construction.py\u001b[0m in \u001b[0;36marrays_to_mgr\u001b[0;34m(arrays, arr_names, index, columns, dtype)\u001b[0m\n\u001b[1;32m     62\u001b[0m     \u001b[0;31m# figure out the index, if necessary\u001b[0m\u001b[0;34m\u001b[0m\u001b[0;34m\u001b[0m\u001b[0;34m\u001b[0m\u001b[0m\n\u001b[1;32m     63\u001b[0m     \u001b[0;32mif\u001b[0m \u001b[0mindex\u001b[0m \u001b[0;32mis\u001b[0m \u001b[0;32mNone\u001b[0m\u001b[0;34m:\u001b[0m\u001b[0;34m\u001b[0m\u001b[0;34m\u001b[0m\u001b[0m\n\u001b[0;32m---> 64\u001b[0;31m         \u001b[0mindex\u001b[0m \u001b[0;34m=\u001b[0m \u001b[0mextract_index\u001b[0m\u001b[0;34m(\u001b[0m\u001b[0marrays\u001b[0m\u001b[0;34m)\u001b[0m\u001b[0;34m\u001b[0m\u001b[0;34m\u001b[0m\u001b[0m\n\u001b[0m\u001b[1;32m     65\u001b[0m     \u001b[0;32melse\u001b[0m\u001b[0;34m:\u001b[0m\u001b[0;34m\u001b[0m\u001b[0;34m\u001b[0m\u001b[0m\n\u001b[1;32m     66\u001b[0m         \u001b[0mindex\u001b[0m \u001b[0;34m=\u001b[0m \u001b[0mensure_index\u001b[0m\u001b[0;34m(\u001b[0m\u001b[0mindex\u001b[0m\u001b[0;34m)\u001b[0m\u001b[0;34m\u001b[0m\u001b[0;34m\u001b[0m\u001b[0m\n",
      "\u001b[0;32m~/.local/lib/python3.6/site-packages/pandas/core/internals/construction.py\u001b[0m in \u001b[0;36mextract_index\u001b[0;34m(data)\u001b[0m\n\u001b[1;32m    353\u001b[0m \u001b[0;34m\u001b[0m\u001b[0m\n\u001b[1;32m    354\u001b[0m         \u001b[0;32mif\u001b[0m \u001b[0;32mnot\u001b[0m \u001b[0mindexes\u001b[0m \u001b[0;32mand\u001b[0m \u001b[0;32mnot\u001b[0m \u001b[0mraw_lengths\u001b[0m\u001b[0;34m:\u001b[0m\u001b[0;34m\u001b[0m\u001b[0;34m\u001b[0m\u001b[0m\n\u001b[0;32m--> 355\u001b[0;31m             \u001b[0;32mraise\u001b[0m \u001b[0mValueError\u001b[0m\u001b[0;34m(\u001b[0m\u001b[0;34m\"If using all scalar values, you must pass an index\"\u001b[0m\u001b[0;34m)\u001b[0m\u001b[0;34m\u001b[0m\u001b[0;34m\u001b[0m\u001b[0m\n\u001b[0m\u001b[1;32m    356\u001b[0m \u001b[0;34m\u001b[0m\u001b[0m\n\u001b[1;32m    357\u001b[0m         \u001b[0;32mif\u001b[0m \u001b[0mhave_series\u001b[0m\u001b[0;34m:\u001b[0m\u001b[0;34m\u001b[0m\u001b[0;34m\u001b[0m\u001b[0m\n",
      "\u001b[0;31mValueError\u001b[0m: If using all scalar values, you must pass an index"
     ]
    }
   ],
   "source": [
    "df_inf_hashtags = get_hashtags(afriq_users_handle)"
   ]
  },
  {
   "cell_type": "code",
   "execution_count": null,
   "metadata": {},
   "outputs": [],
   "source": [
    "# df_inf_hashtags"
   ]
  },
  {
   "cell_type": "code",
   "execution_count": 94,
   "metadata": {},
   "outputs": [
    {
     "data": {
      "text/html": [
       "<div>\n",
       "<style scoped>\n",
       "    .dataframe tbody tr th:only-of-type {\n",
       "        vertical-align: middle;\n",
       "    }\n",
       "\n",
       "    .dataframe tbody tr th {\n",
       "        vertical-align: top;\n",
       "    }\n",
       "\n",
       "    .dataframe thead th {\n",
       "        text-align: right;\n",
       "    }\n",
       "</style>\n",
       "<table border=\"1\" class=\"dataframe\">\n",
       "  <thead>\n",
       "    <tr style=\"text-align: right;\">\n",
       "      <th></th>\n",
       "      <th>hashtags</th>\n",
       "      <th>id</th>\n",
       "      <th>name</th>\n",
       "      <th>screen_name</th>\n",
       "      <th>hashtags_count</th>\n",
       "    </tr>\n",
       "  </thead>\n",
       "  <tbody>\n",
       "  </tbody>\n",
       "</table>\n",
       "</div>"
      ],
      "text/plain": [
       "Empty DataFrame\n",
       "Columns: [hashtags, id, name, screen_name, hashtags_count]\n",
       "Index: []"
      ]
     },
     "execution_count": 94,
     "metadata": {},
     "output_type": "execute_result"
    }
   ],
   "source": [
    "df_inf_hashtags"
   ]
  },
  {
   "cell_type": "code",
   "execution_count": null,
   "metadata": {},
   "outputs": [],
   "source": []
  },
  {
   "cell_type": "markdown",
   "metadata": {},
   "source": [
    "### Gathering Data for users' all Tweets Reply count "
   ]
  },
  {
   "cell_type": "code",
   "execution_count": null,
   "metadata": {},
   "outputs": [],
   "source": [
    "['g','h']"
   ]
  },
  {
   "cell_type": "code",
   "execution_count": null,
   "metadata": {},
   "outputs": [],
   "source": [
    "pd.Series()"
   ]
  }
 ],
 "metadata": {
  "kernelspec": {
   "display_name": "Python 3",
   "language": "python",
   "name": "python3"
  },
  "language_info": {
   "codemirror_mode": {
    "name": "ipython",
    "version": 3
   },
   "file_extension": ".py",
   "mimetype": "text/x-python",
   "name": "python",
   "nbconvert_exporter": "python",
   "pygments_lexer": "ipython3",
   "version": "3.6.9"
  }
 },
 "nbformat": 4,
 "nbformat_minor": 4
}
