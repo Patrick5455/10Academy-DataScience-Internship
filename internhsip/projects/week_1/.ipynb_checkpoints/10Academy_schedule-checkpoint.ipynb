{
 "cells": [
  {
   "cell_type": "markdown",
   "metadata": {},
   "source": [
    "#### Schedukes"
   ]
  },
  {
   "cell_type": "code",
   "execution_count": 28,
   "metadata": {},
   "outputs": [],
   "source": [
    "import numpy as np\n",
    "import pandas as pd\n",
    "import os\n",
    "import csv"
   ]
  },
  {
   "cell_type": "code",
   "execution_count": 42,
   "metadata": {},
   "outputs": [],
   "source": [
    "def weekly_schedule(names, speaker_no, days=5):\n",
    "    save_here = os.getcwd()\n",
    "    schedule = {}\n",
    "    try:\n",
    "        assert speaker_no <= len(names)\n",
    "    except AssertionError:\n",
    "            print(\"No of speakers  greater than avaialable people!\")\n",
    "    if isinstance(names, list):\n",
    "        names = pd.DataFrame({'names':names})\n",
    "        for day in range(days):\n",
    "            try:\n",
    "                today = names.sample(speaker_no)\n",
    "                names = names.drop(today.index, axis=0)\n",
    "                print(today.values)\n",
    "                schedule[f'Day {day}'] = today.values\n",
    "                print('Day {} speakers : {}'.format(day+1, today.values))\n",
    "            except ValueError:\n",
    "                        print(\"No of speakers  greater than avaialable people!\")\n",
    "                        break\n",
    "    schedule= pd.DataFrame(schedule.items(), columns=['Day', 'Names'])\n",
    "    #print(schedule)\n",
    "    download = schedule.to_csv('week_schedule', save_here,sep=str(','),encoding='utf-8')\n",
    "    return download "
   ]
  },
  {
   "cell_type": "markdown",
   "metadata": {},
   "source": [
    "> Test"
   ]
  },
  {
   "cell_type": "code",
   "execution_count": 43,
   "metadata": {},
   "outputs": [],
   "source": [
    "names = ['adakibet@gmail.com', 'gkkarobia@gmail.com', 'ogunfoworalawal@gmail.com', \n",
    " 'wamuyu.wanjohi@aiesec.net', 'okiomagerald@gmail.com', 'omadeyemo@gmail.com', 'ilekuraidowu@gmail.com', \n",
    " 'gloryodeyemi.nike@gmail.com', 'jayesegun03@gmail.com', 'amureridwan002@gmail.com']"
   ]
  },
  {
   "cell_type": "code",
   "execution_count": 44,
   "metadata": {},
   "outputs": [
    {
     "name": "stdout",
     "output_type": "stream",
     "text": [
      "Day 1 speakers : [['ogunfoworalawal@gmail.com']\n",
      " ['ilekuraidowu@gmail.com']\n",
      " ['omadeyemo@gmail.com']\n",
      " ['okiomagerald@gmail.com']\n",
      " ['gkkarobia@gmail.com']]\n",
      "Day 2 speakers : [['gloryodeyemi.nike@gmail.com']\n",
      " ['adakibet@gmail.com']\n",
      " ['amureridwan002@gmail.com']\n",
      " ['jayesegun03@gmail.com']\n",
      " ['wamuyu.wanjohi@aiesec.net']]\n",
      "No of speakers  greater than avaialable people!\n",
      "     Day                                              Names\n",
      "0  Day 0  [[ogunfoworalawal@gmail.com], [ilekuraidowu@gm...\n",
      "1  Day 1  [[gloryodeyemi.nike@gmail.com], [adakibet@gmai...\n"
     ]
    },
    {
     "ename": "TypeError",
     "evalue": "to_csv() got multiple values for argument 'sep'",
     "output_type": "error",
     "traceback": [
      "\u001b[0;31m---------------------------------------------------------------------------\u001b[0m",
      "\u001b[0;31mTypeError\u001b[0m                                 Traceback (most recent call last)",
      "\u001b[0;32m<ipython-input-44-322b54946d2f>\u001b[0m in \u001b[0;36m<module>\u001b[0;34m\u001b[0m\n\u001b[0;32m----> 1\u001b[0;31m \u001b[0mweekly_schedule\u001b[0m\u001b[0;34m(\u001b[0m\u001b[0mnames\u001b[0m\u001b[0;34m,\u001b[0m \u001b[0;36m5\u001b[0m\u001b[0;34m)\u001b[0m\u001b[0;34m\u001b[0m\u001b[0;34m\u001b[0m\u001b[0m\n\u001b[0m",
      "\u001b[0;32m<ipython-input-42-a9aa23a5f17f>\u001b[0m in \u001b[0;36mweekly_schedule\u001b[0;34m(names, speaker_no, days)\u001b[0m\n\u001b[1;32m     19\u001b[0m     \u001b[0mschedule\u001b[0m\u001b[0;34m=\u001b[0m \u001b[0mpd\u001b[0m\u001b[0;34m.\u001b[0m\u001b[0mDataFrame\u001b[0m\u001b[0;34m(\u001b[0m\u001b[0mschedule\u001b[0m\u001b[0;34m.\u001b[0m\u001b[0mitems\u001b[0m\u001b[0;34m(\u001b[0m\u001b[0;34m)\u001b[0m\u001b[0;34m,\u001b[0m \u001b[0mcolumns\u001b[0m\u001b[0;34m=\u001b[0m\u001b[0;34m[\u001b[0m\u001b[0;34m'Day'\u001b[0m\u001b[0;34m,\u001b[0m \u001b[0;34m'Names'\u001b[0m\u001b[0;34m]\u001b[0m\u001b[0;34m)\u001b[0m\u001b[0;34m\u001b[0m\u001b[0;34m\u001b[0m\u001b[0m\n\u001b[1;32m     20\u001b[0m     \u001b[0mprint\u001b[0m\u001b[0;34m(\u001b[0m\u001b[0mschedule\u001b[0m\u001b[0;34m)\u001b[0m\u001b[0;34m\u001b[0m\u001b[0;34m\u001b[0m\u001b[0m\n\u001b[0;32m---> 21\u001b[0;31m     \u001b[0mdownload\u001b[0m \u001b[0;34m=\u001b[0m \u001b[0mschedule\u001b[0m\u001b[0;34m.\u001b[0m\u001b[0mto_csv\u001b[0m\u001b[0;34m(\u001b[0m\u001b[0;34m'week_schedule'\u001b[0m\u001b[0;34m,\u001b[0m \u001b[0msave_here\u001b[0m\u001b[0;34m,\u001b[0m\u001b[0msep\u001b[0m\u001b[0;34m=\u001b[0m\u001b[0mstr\u001b[0m\u001b[0;34m(\u001b[0m\u001b[0;34m','\u001b[0m\u001b[0;34m)\u001b[0m\u001b[0;34m,\u001b[0m\u001b[0mencoding\u001b[0m\u001b[0;34m=\u001b[0m\u001b[0;34m'utf-8'\u001b[0m\u001b[0;34m)\u001b[0m\u001b[0;34m\u001b[0m\u001b[0;34m\u001b[0m\u001b[0m\n\u001b[0m\u001b[1;32m     22\u001b[0m     \u001b[0;32mreturn\u001b[0m \u001b[0mdownload\u001b[0m\u001b[0;34m\u001b[0m\u001b[0;34m\u001b[0m\u001b[0m\n",
      "\u001b[0;31mTypeError\u001b[0m: to_csv() got multiple values for argument 'sep'"
     ]
    }
   ],
   "source": [
    "weekly_schedule(names, 5)"
   ]
  },
  {
   "cell_type": "code",
   "execution_count": null,
   "metadata": {},
   "outputs": [],
   "source": []
  },
  {
   "cell_type": "code",
   "execution_count": null,
   "metadata": {},
   "outputs": [],
   "source": []
  }
 ],
 "metadata": {
  "kernelspec": {
   "display_name": "Python 3",
   "language": "python",
   "name": "python3"
  },
  "language_info": {
   "codemirror_mode": {
    "name": "ipython",
    "version": 3
   },
   "file_extension": ".py",
   "mimetype": "text/x-python",
   "name": "python",
   "nbconvert_exporter": "python",
   "pygments_lexer": "ipython3",
   "version": "3.6.9"
  }
 },
 "nbformat": 4,
 "nbformat_minor": 4
}
