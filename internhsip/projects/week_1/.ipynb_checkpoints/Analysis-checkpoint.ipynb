{
 "cells": [
  {
   "cell_type": "markdown",
   "metadata": {},
   "source": [
    "## Exploratory Data Analysis of African Influencers\n",
    "<!--  for Nike Inc Proposed Social Media Marketing Campaign-->\n",
    "- #### Twitter users segmentation"
   ]
  },
  {
   "cell_type": "markdown",
   "metadata": {},
   "source": [
    "   "
   ]
  },
  {
   "cell_type": "markdown",
   "metadata": {},
   "source": [
    "#### Table of Content"
   ]
  },
  {
   "cell_type": "markdown",
   "metadata": {},
   "source": [
    "<html>\n",
    "    \n",
    "<ul> \n",
    " <li> <a href=\"#abs\">Abstract</a></li>\n",
    " <li> <a href= \"#obj\">Objective</a> </li>\n",
    " <li> <a href =\"#rq\">Research Questions </a> </li>\n",
    " <li> <a href=\"#dw\">Data Wrangling</a> </li>\n",
    " <li> <a href=\"#ana\">Analysis</a></li>\n",
    "    <ol>\n",
    "        <li><a href = \"#r1\">Research Question 1</a></li>\n",
    "        <li><a href = \"#r2\">Research Question 2</a></li>\n",
    "        <li><a href = \"#r3\">Research Question 3</a></li>\n",
    "    </ol>\n",
    " <li> <a href = \"#gi\">General Insights</a></li>   \n",
    " <li> <a href = \"#rc\">Recommendations & Conclusion</a></li>\n",
    " <li> <a href = \"#lim\">Limitations</a></li>\n",
    " <li> <a href= \"#ref\">References</a> </li>\n",
    "</ul>\n",
    "    <a id=\"top\"></a>\n",
    "</html>"
   ]
  },
  {
   "cell_type": "markdown",
   "metadata": {},
   "source": [
    " "
   ]
  },
  {
   "cell_type": "markdown",
   "metadata": {},
   "source": [
    "<a id=\"abs\"></a>\n",
    "\n",
    "### Abstract"
   ]
  },
  {
   "cell_type": "code",
   "execution_count": null,
   "metadata": {},
   "outputs": [],
   "source": []
  },
  {
   "cell_type": "code",
   "execution_count": null,
   "metadata": {},
   "outputs": [],
   "source": []
  },
  {
   "cell_type": "markdown",
   "metadata": {},
   "source": [
    "<a id=\"obj\"></a>\n",
    "### Objective"
   ]
  },
  {
   "cell_type": "code",
   "execution_count": null,
   "metadata": {},
   "outputs": [],
   "source": []
  },
  {
   "cell_type": "markdown",
   "metadata": {},
   "source": [
    " "
   ]
  },
  {
   "cell_type": "markdown",
   "metadata": {},
   "source": [
    "<a id=\"rq\"></a>\n",
    "### Research Questions"
   ]
  },
  {
   "cell_type": "markdown",
   "metadata": {},
   "source": [
    "#### The Reserach Question are formed in reference to the objective of this Analytic effort: \n",
    "####  `Nike Expanding to Africa` "
   ]
  },
  {
   "cell_type": "markdown",
   "metadata": {},
   "source": [
    "- Reserch Question 1:\n",
    "        \n",
    "    >  Who are the Top Influencers & what are thier  Attributes:\n",
    "    \n",
    "     > a. Who are the top 10 non-governmental Influencers ?\n",
    "        \n",
    "     > b. What african government have more influence (top 10) ? \n",
    "     \n",
    "     > c. Among the top influencers, is there a corellation between:\n",
    "     \n",
    "  -         retweets and mentions \n",
    "  -         indegree and retweets\n",
    "  -         indegree and mentions\n",
    "     \n",
    "    \n",
    "- Research Question 2:\n",
    "\n",
    "    > Popular narratives among theses influencers (governmental & non-governmental) :\n",
    "    \n",
    "    > a. What are the top 10 retweets of these influecers ?\n",
    "    \n",
    "    > b. What are the top 5 (most popular) hahstags used in these retweets ?\n",
    "     \n",
    "    \n",
    "- Research Question 3:\n",
    "\n",
    "    > Spatial & Temporal setting of influencers:\n",
    "    \n",
    "    > a. What profession/domain is most popular among the non-government influencers\n",
    "    \n",
    "    > b. What is the average age of these influencers account? \n",
    "    \n",
    "    > c. Is there a corellation between account age and popularity score, reach score amd relevance score\n",
    "    \n",
    " \n",
    " "
   ]
  },
  {
   "cell_type": "markdown",
   "metadata": {},
   "source": [
    " "
   ]
  },
  {
   "cell_type": "markdown",
   "metadata": {},
   "source": [
    "<a id=\"dw\"></a>\n",
    "### Data Wrangling"
   ]
  },
  {
   "cell_type": "markdown",
   "metadata": {},
   "source": [
    "> Import Libraries"
   ]
  },
  {
   "cell_type": "code",
   "execution_count": 45,
   "metadata": {},
   "outputs": [],
   "source": [
    "import pandas as pd\n",
    "import numpy as np\n",
    "import seaborn as sns\n",
    "import matplotlib.pyplot as plt"
   ]
  },
  {
   "cell_type": "markdown",
   "metadata": {},
   "source": [
    "#### Gather Data\n",
    "> Load Datasets"
   ]
  },
  {
   "cell_type": "markdown",
   "metadata": {},
   "source": [
    ">> Tweet Info"
   ]
  },
  {
   "cell_type": "markdown",
   "metadata": {},
   "source": [
    ">>> Africa Govt. Covid19 Response Tweet Info"
   ]
  },
  {
   "cell_type": "code",
   "execution_count": 46,
   "metadata": {},
   "outputs": [],
   "source": [
    "govtRes = pd.read_csv('twitter_datasets/acct_info/afriqGovCovid19Resp.csv')"
   ]
  },
  {
   "cell_type": "markdown",
   "metadata": {},
   "source": [
    ">>> Africa Influencers Tweet Info"
   ]
  },
  {
   "cell_type": "code",
   "execution_count": 47,
   "metadata": {},
   "outputs": [],
   "source": [
    "afriqInf = pd.read_csv('twitter_datasets/acct_info/afriqTopInfluencers.csv')"
   ]
  },
  {
   "cell_type": "markdown",
   "metadata": {},
   "source": [
    ">> Hashtags Info"
   ]
  },
  {
   "cell_type": "markdown",
   "metadata": {},
   "source": [
    ">>> Africa Govt. Covid19 Response Hashtags"
   ]
  },
  {
   "cell_type": "code",
   "execution_count": 48,
   "metadata": {},
   "outputs": [],
   "source": [
    "govtResHash = pd.read_csv('twitter_datasets/acct_hashtags/govtHashtags.csv')"
   ]
  },
  {
   "cell_type": "markdown",
   "metadata": {},
   "source": [
    ">>> Africa Influencers Hashtags"
   ]
  },
  {
   "cell_type": "code",
   "execution_count": 49,
   "metadata": {},
   "outputs": [],
   "source": [
    "afriqInfHash = pd.read_csv('twitter_datasets/acct_hashtags/afriqInfHashtags.csv')"
   ]
  },
  {
   "cell_type": "markdown",
   "metadata": {},
   "source": [
    " "
   ]
  },
  {
   "cell_type": "markdown",
   "metadata": {},
   "source": [
    "#### Assessment & Cleaning"
   ]
  },
  {
   "cell_type": "markdown",
   "metadata": {},
   "source": [
    "> Assess data for quality and structural issues"
   ]
  },
  {
   "cell_type": "markdown",
   "metadata": {},
   "source": [
    ">> Tweet Info datasets"
   ]
  },
  {
   "cell_type": "code",
   "execution_count": 50,
   "metadata": {},
   "outputs": [],
   "source": [
    "govtResCopy = govtRes.copy()"
   ]
  },
  {
   "cell_type": "code",
   "execution_count": 51,
   "metadata": {},
   "outputs": [
    {
     "data": {
      "text/html": [
       "<div>\n",
       "<style scoped>\n",
       "    .dataframe tbody tr th:only-of-type {\n",
       "        vertical-align: middle;\n",
       "    }\n",
       "\n",
       "    .dataframe tbody tr th {\n",
       "        vertical-align: top;\n",
       "    }\n",
       "\n",
       "    .dataframe thead th {\n",
       "        text-align: right;\n",
       "    }\n",
       "</style>\n",
       "<table border=\"1\" class=\"dataframe\">\n",
       "  <thead>\n",
       "    <tr style=\"text-align: right;\">\n",
       "      <th></th>\n",
       "      <th>Unnamed: 0</th>\n",
       "      <th>id</th>\n",
       "      <th>name</th>\n",
       "      <th>screen_name</th>\n",
       "      <th>description</th>\n",
       "      <th>statuses_count</th>\n",
       "      <th>friends_count</th>\n",
       "      <th>followers_count</th>\n",
       "      <th>account_age_days</th>\n",
       "      <th>avg_daily_tweets</th>\n",
       "      <th>hashtags</th>\n",
       "      <th>user_mentions</th>\n",
       "      <th>favorite_count</th>\n",
       "      <th>retweet_count</th>\n",
       "    </tr>\n",
       "  </thead>\n",
       "  <tbody>\n",
       "    <tr>\n",
       "      <th>0</th>\n",
       "      <td>0</td>\n",
       "      <td>1181832897508065280</td>\n",
       "      <td>Eswatini Government</td>\n",
       "      <td>EswatiniGovern1</td>\n",
       "      <td>This is the official twitter account of the Go...</td>\n",
       "      <td>1672</td>\n",
       "      <td>82</td>\n",
       "      <td>11284</td>\n",
       "      <td>282</td>\n",
       "      <td>5</td>\n",
       "      <td>78</td>\n",
       "      <td>13</td>\n",
       "      <td>5600</td>\n",
       "      <td>1655</td>\n",
       "    </tr>\n",
       "    <tr>\n",
       "      <th>1</th>\n",
       "      <td>0</td>\n",
       "      <td>2189970192</td>\n",
       "      <td>Malawi Government</td>\n",
       "      <td>MalawiGovt</td>\n",
       "      <td>#Malawi Government Twitter Feed | https://t.co...</td>\n",
       "      <td>4030</td>\n",
       "      <td>26</td>\n",
       "      <td>39182</td>\n",
       "      <td>2439</td>\n",
       "      <td>1</td>\n",
       "      <td>85</td>\n",
       "      <td>49</td>\n",
       "      <td>8404</td>\n",
       "      <td>4503</td>\n",
       "    </tr>\n",
       "    <tr>\n",
       "      <th>2</th>\n",
       "      <td>0</td>\n",
       "      <td>2515899612</td>\n",
       "      <td>Hage G. Geingob</td>\n",
       "      <td>hagegeingob</td>\n",
       "      <td>President of the Republic of Namibia</td>\n",
       "      <td>1085</td>\n",
       "      <td>55</td>\n",
       "      <td>192187</td>\n",
       "      <td>2247</td>\n",
       "      <td>0</td>\n",
       "      <td>3</td>\n",
       "      <td>1</td>\n",
       "      <td>13081</td>\n",
       "      <td>1641</td>\n",
       "    </tr>\n",
       "    <tr>\n",
       "      <th>3</th>\n",
       "      <td>0</td>\n",
       "      <td>1239872615248015361</td>\n",
       "      <td>Seychelles Ministry of Finance</td>\n",
       "      <td>FinanceSC</td>\n",
       "      <td>Ministry of Finance, Trade, Investment and Eco...</td>\n",
       "      <td>124</td>\n",
       "      <td>224</td>\n",
       "      <td>126</td>\n",
       "      <td>122</td>\n",
       "      <td>1</td>\n",
       "      <td>0</td>\n",
       "      <td>0</td>\n",
       "      <td>10</td>\n",
       "      <td>1</td>\n",
       "    </tr>\n",
       "    <tr>\n",
       "      <th>4</th>\n",
       "      <td>0</td>\n",
       "      <td>40839292</td>\n",
       "      <td>Presidency | South Africa 🇿🇦</td>\n",
       "      <td>PresidencyZA</td>\n",
       "      <td>This is the official Twitter page of The Presi...</td>\n",
       "      <td>18848</td>\n",
       "      <td>14</td>\n",
       "      <td>1597660</td>\n",
       "      <td>4078</td>\n",
       "      <td>4</td>\n",
       "      <td>73</td>\n",
       "      <td>123</td>\n",
       "      <td>25153</td>\n",
       "      <td>11990</td>\n",
       "    </tr>\n",
       "  </tbody>\n",
       "</table>\n",
       "</div>"
      ],
      "text/plain": [
       "   Unnamed: 0                   id                            name  \\\n",
       "0           0  1181832897508065280             Eswatini Government   \n",
       "1           0           2189970192               Malawi Government   \n",
       "2           0           2515899612                 Hage G. Geingob   \n",
       "3           0  1239872615248015361  Seychelles Ministry of Finance   \n",
       "4           0             40839292    Presidency | South Africa 🇿🇦   \n",
       "\n",
       "       screen_name                                        description  \\\n",
       "0  EswatiniGovern1  This is the official twitter account of the Go...   \n",
       "1       MalawiGovt  #Malawi Government Twitter Feed | https://t.co...   \n",
       "2      hagegeingob               President of the Republic of Namibia   \n",
       "3        FinanceSC  Ministry of Finance, Trade, Investment and Eco...   \n",
       "4     PresidencyZA  This is the official Twitter page of The Presi...   \n",
       "\n",
       "   statuses_count  friends_count  followers_count  account_age_days  \\\n",
       "0            1672             82            11284               282   \n",
       "1            4030             26            39182              2439   \n",
       "2            1085             55           192187              2247   \n",
       "3             124            224              126               122   \n",
       "4           18848             14          1597660              4078   \n",
       "\n",
       "   avg_daily_tweets  hashtags  user_mentions  favorite_count  retweet_count  \n",
       "0                 5        78             13            5600           1655  \n",
       "1                 1        85             49            8404           4503  \n",
       "2                 0         3              1           13081           1641  \n",
       "3                 1         0              0              10              1  \n",
       "4                 4        73            123           25153          11990  "
      ]
     },
     "execution_count": 51,
     "metadata": {},
     "output_type": "execute_result"
    }
   ],
   "source": [
    "govtResCopy.head()"
   ]
  },
  {
   "cell_type": "code",
   "execution_count": 52,
   "metadata": {},
   "outputs": [
    {
     "name": "stdout",
     "output_type": "stream",
     "text": [
      "<class 'pandas.core.frame.DataFrame'>\n",
      "RangeIndex: 42 entries, 0 to 41\n",
      "Data columns (total 14 columns):\n",
      " #   Column            Non-Null Count  Dtype \n",
      "---  ------            --------------  ----- \n",
      " 0   Unnamed: 0        42 non-null     int64 \n",
      " 1   id                42 non-null     int64 \n",
      " 2   name              42 non-null     object\n",
      " 3   screen_name       42 non-null     object\n",
      " 4   description       40 non-null     object\n",
      " 5   statuses_count    42 non-null     int64 \n",
      " 6   friends_count     42 non-null     int64 \n",
      " 7   followers_count   42 non-null     int64 \n",
      " 8   account_age_days  42 non-null     int64 \n",
      " 9   avg_daily_tweets  42 non-null     int64 \n",
      " 10  hashtags          42 non-null     int64 \n",
      " 11  user_mentions     42 non-null     int64 \n",
      " 12  favorite_count    42 non-null     int64 \n",
      " 13  retweet_count     42 non-null     int64 \n",
      "dtypes: int64(11), object(3)\n",
      "memory usage: 4.7+ KB\n"
     ]
    }
   ],
   "source": [
    "govtResCopy.info()"
   ]
  },
  {
   "cell_type": "markdown",
   "metadata": {},
   "source": [
    ">> Drop column `unnamed`"
   ]
  },
  {
   "cell_type": "code",
   "execution_count": 53,
   "metadata": {},
   "outputs": [],
   "source": [
    "govtResCopy.drop(columns='Unnamed: 0', axis=1, inplace=True)"
   ]
  },
  {
   "cell_type": "code",
   "execution_count": 54,
   "metadata": {},
   "outputs": [
    {
     "data": {
      "text/html": [
       "<div>\n",
       "<style scoped>\n",
       "    .dataframe tbody tr th:only-of-type {\n",
       "        vertical-align: middle;\n",
       "    }\n",
       "\n",
       "    .dataframe tbody tr th {\n",
       "        vertical-align: top;\n",
       "    }\n",
       "\n",
       "    .dataframe thead th {\n",
       "        text-align: right;\n",
       "    }\n",
       "</style>\n",
       "<table border=\"1\" class=\"dataframe\">\n",
       "  <thead>\n",
       "    <tr style=\"text-align: right;\">\n",
       "      <th></th>\n",
       "      <th>id</th>\n",
       "      <th>name</th>\n",
       "      <th>screen_name</th>\n",
       "      <th>description</th>\n",
       "      <th>statuses_count</th>\n",
       "      <th>friends_count</th>\n",
       "      <th>followers_count</th>\n",
       "      <th>account_age_days</th>\n",
       "      <th>avg_daily_tweets</th>\n",
       "      <th>hashtags</th>\n",
       "      <th>user_mentions</th>\n",
       "      <th>favorite_count</th>\n",
       "      <th>retweet_count</th>\n",
       "    </tr>\n",
       "  </thead>\n",
       "  <tbody>\n",
       "    <tr>\n",
       "      <th>0</th>\n",
       "      <td>1181832897508065280</td>\n",
       "      <td>Eswatini Government</td>\n",
       "      <td>EswatiniGovern1</td>\n",
       "      <td>This is the official twitter account of the Go...</td>\n",
       "      <td>1672</td>\n",
       "      <td>82</td>\n",
       "      <td>11284</td>\n",
       "      <td>282</td>\n",
       "      <td>5</td>\n",
       "      <td>78</td>\n",
       "      <td>13</td>\n",
       "      <td>5600</td>\n",
       "      <td>1655</td>\n",
       "    </tr>\n",
       "    <tr>\n",
       "      <th>1</th>\n",
       "      <td>2189970192</td>\n",
       "      <td>Malawi Government</td>\n",
       "      <td>MalawiGovt</td>\n",
       "      <td>#Malawi Government Twitter Feed | https://t.co...</td>\n",
       "      <td>4030</td>\n",
       "      <td>26</td>\n",
       "      <td>39182</td>\n",
       "      <td>2439</td>\n",
       "      <td>1</td>\n",
       "      <td>85</td>\n",
       "      <td>49</td>\n",
       "      <td>8404</td>\n",
       "      <td>4503</td>\n",
       "    </tr>\n",
       "    <tr>\n",
       "      <th>2</th>\n",
       "      <td>2515899612</td>\n",
       "      <td>Hage G. Geingob</td>\n",
       "      <td>hagegeingob</td>\n",
       "      <td>President of the Republic of Namibia</td>\n",
       "      <td>1085</td>\n",
       "      <td>55</td>\n",
       "      <td>192187</td>\n",
       "      <td>2247</td>\n",
       "      <td>0</td>\n",
       "      <td>3</td>\n",
       "      <td>1</td>\n",
       "      <td>13081</td>\n",
       "      <td>1641</td>\n",
       "    </tr>\n",
       "    <tr>\n",
       "      <th>3</th>\n",
       "      <td>1239872615248015361</td>\n",
       "      <td>Seychelles Ministry of Finance</td>\n",
       "      <td>FinanceSC</td>\n",
       "      <td>Ministry of Finance, Trade, Investment and Eco...</td>\n",
       "      <td>124</td>\n",
       "      <td>224</td>\n",
       "      <td>126</td>\n",
       "      <td>122</td>\n",
       "      <td>1</td>\n",
       "      <td>0</td>\n",
       "      <td>0</td>\n",
       "      <td>10</td>\n",
       "      <td>1</td>\n",
       "    </tr>\n",
       "    <tr>\n",
       "      <th>4</th>\n",
       "      <td>40839292</td>\n",
       "      <td>Presidency | South Africa 🇿🇦</td>\n",
       "      <td>PresidencyZA</td>\n",
       "      <td>This is the official Twitter page of The Presi...</td>\n",
       "      <td>18848</td>\n",
       "      <td>14</td>\n",
       "      <td>1597660</td>\n",
       "      <td>4078</td>\n",
       "      <td>4</td>\n",
       "      <td>73</td>\n",
       "      <td>123</td>\n",
       "      <td>25153</td>\n",
       "      <td>11990</td>\n",
       "    </tr>\n",
       "  </tbody>\n",
       "</table>\n",
       "</div>"
      ],
      "text/plain": [
       "                    id                            name      screen_name  \\\n",
       "0  1181832897508065280             Eswatini Government  EswatiniGovern1   \n",
       "1           2189970192               Malawi Government       MalawiGovt   \n",
       "2           2515899612                 Hage G. Geingob      hagegeingob   \n",
       "3  1239872615248015361  Seychelles Ministry of Finance        FinanceSC   \n",
       "4             40839292    Presidency | South Africa 🇿🇦     PresidencyZA   \n",
       "\n",
       "                                         description  statuses_count  \\\n",
       "0  This is the official twitter account of the Go...            1672   \n",
       "1  #Malawi Government Twitter Feed | https://t.co...            4030   \n",
       "2               President of the Republic of Namibia            1085   \n",
       "3  Ministry of Finance, Trade, Investment and Eco...             124   \n",
       "4  This is the official Twitter page of The Presi...           18848   \n",
       "\n",
       "   friends_count  followers_count  account_age_days  avg_daily_tweets  \\\n",
       "0             82            11284               282                 5   \n",
       "1             26            39182              2439                 1   \n",
       "2             55           192187              2247                 0   \n",
       "3            224              126               122                 1   \n",
       "4             14          1597660              4078                 4   \n",
       "\n",
       "   hashtags  user_mentions  favorite_count  retweet_count  \n",
       "0        78             13            5600           1655  \n",
       "1        85             49            8404           4503  \n",
       "2         3              1           13081           1641  \n",
       "3         0              0              10              1  \n",
       "4        73            123           25153          11990  "
      ]
     },
     "execution_count": 54,
     "metadata": {},
     "output_type": "execute_result"
    }
   ],
   "source": [
    "govtResCopy.head()"
   ]
  },
  {
   "cell_type": "markdown",
   "metadata": {},
   "source": [
    "> Check for duplicates"
   ]
  },
  {
   "cell_type": "code",
   "execution_count": 55,
   "metadata": {},
   "outputs": [
    {
     "data": {
      "text/plain": [
       "False"
      ]
     },
     "execution_count": 55,
     "metadata": {},
     "output_type": "execute_result"
    }
   ],
   "source": [
    "govtResCopy.duplicated().any()"
   ]
  },
  {
   "cell_type": "markdown",
   "metadata": {},
   "source": [
    "> There are no duplicate rows"
   ]
  },
  {
   "cell_type": "markdown",
   "metadata": {},
   "source": [
    "> THe data is clean and fit for analysis"
   ]
  },
  {
   "cell_type": "code",
   "execution_count": 56,
   "metadata": {},
   "outputs": [],
   "source": [
    "afriqInfCopy = afriqInf.copy()"
   ]
  },
  {
   "cell_type": "code",
   "execution_count": 57,
   "metadata": {},
   "outputs": [
    {
     "data": {
      "text/html": [
       "<div>\n",
       "<style scoped>\n",
       "    .dataframe tbody tr th:only-of-type {\n",
       "        vertical-align: middle;\n",
       "    }\n",
       "\n",
       "    .dataframe tbody tr th {\n",
       "        vertical-align: top;\n",
       "    }\n",
       "\n",
       "    .dataframe thead th {\n",
       "        text-align: right;\n",
       "    }\n",
       "</style>\n",
       "<table border=\"1\" class=\"dataframe\">\n",
       "  <thead>\n",
       "    <tr style=\"text-align: right;\">\n",
       "      <th></th>\n",
       "      <th>Unnamed: 0</th>\n",
       "      <th>id</th>\n",
       "      <th>name</th>\n",
       "      <th>screen_name</th>\n",
       "      <th>description</th>\n",
       "      <th>statuses_count</th>\n",
       "      <th>friends_count</th>\n",
       "      <th>followers_count</th>\n",
       "      <th>account_age_days</th>\n",
       "      <th>avg_daily_tweets</th>\n",
       "      <th>hashtags</th>\n",
       "      <th>user_mentions</th>\n",
       "      <th>favorite_count</th>\n",
       "      <th>retweet_count</th>\n",
       "    </tr>\n",
       "  </thead>\n",
       "  <tbody>\n",
       "    <tr>\n",
       "      <th>0</th>\n",
       "      <td>0</td>\n",
       "      <td>305125998</td>\n",
       "      <td>Jeffrey Gettleman</td>\n",
       "      <td>gettleman</td>\n",
       "      <td>South Asia bureau chief for the New York Times...</td>\n",
       "      <td>3770</td>\n",
       "      <td>37</td>\n",
       "      <td>25700</td>\n",
       "      <td>3340</td>\n",
       "      <td>1</td>\n",
       "      <td>5</td>\n",
       "      <td>38</td>\n",
       "      <td>268</td>\n",
       "      <td>111152</td>\n",
       "    </tr>\n",
       "    <tr>\n",
       "      <th>1</th>\n",
       "      <td>0</td>\n",
       "      <td>26475943</td>\n",
       "      <td>A24 Media</td>\n",
       "      <td>a24media</td>\n",
       "      <td>Africa 24 produces compelling content that mak...</td>\n",
       "      <td>16869</td>\n",
       "      <td>3059</td>\n",
       "      <td>31285</td>\n",
       "      <td>4132</td>\n",
       "      <td>4</td>\n",
       "      <td>32</td>\n",
       "      <td>52</td>\n",
       "      <td>96</td>\n",
       "      <td>190</td>\n",
       "    </tr>\n",
       "    <tr>\n",
       "      <th>2</th>\n",
       "      <td>0</td>\n",
       "      <td>72013267</td>\n",
       "      <td>Scapegoat</td>\n",
       "      <td>AndiMakinana</td>\n",
       "      <td>In pursuit of scoops. I do not write headlines...</td>\n",
       "      <td>142223</td>\n",
       "      <td>2839</td>\n",
       "      <td>101246</td>\n",
       "      <td>3967</td>\n",
       "      <td>35</td>\n",
       "      <td>39</td>\n",
       "      <td>626</td>\n",
       "      <td>19466</td>\n",
       "      <td>398095</td>\n",
       "    </tr>\n",
       "    <tr>\n",
       "      <th>3</th>\n",
       "      <td>0</td>\n",
       "      <td>625489039</td>\n",
       "      <td>Africa Check</td>\n",
       "      <td>AfricaCheck</td>\n",
       "      <td>Africa's first independent fact-checking websi...</td>\n",
       "      <td>27317</td>\n",
       "      <td>4590</td>\n",
       "      <td>68061</td>\n",
       "      <td>2936</td>\n",
       "      <td>9</td>\n",
       "      <td>156</td>\n",
       "      <td>205</td>\n",
       "      <td>1353</td>\n",
       "      <td>1398</td>\n",
       "    </tr>\n",
       "    <tr>\n",
       "      <th>4</th>\n",
       "      <td>0</td>\n",
       "      <td>401520924</td>\n",
       "      <td>James Copnall</td>\n",
       "      <td>JamesCopnall</td>\n",
       "      <td>BBC reporter + presenter. Author A Poisonous T...</td>\n",
       "      <td>19434</td>\n",
       "      <td>5046</td>\n",
       "      <td>21958</td>\n",
       "      <td>3182</td>\n",
       "      <td>6</td>\n",
       "      <td>19</td>\n",
       "      <td>82</td>\n",
       "      <td>139</td>\n",
       "      <td>47608</td>\n",
       "    </tr>\n",
       "  </tbody>\n",
       "</table>\n",
       "</div>"
      ],
      "text/plain": [
       "   Unnamed: 0         id               name   screen_name  \\\n",
       "0           0  305125998  Jeffrey Gettleman     gettleman   \n",
       "1           0   26475943          A24 Media      a24media   \n",
       "2           0   72013267          Scapegoat  AndiMakinana   \n",
       "3           0  625489039       Africa Check   AfricaCheck   \n",
       "4           0  401520924      James Copnall  JamesCopnall   \n",
       "\n",
       "                                         description  statuses_count  \\\n",
       "0  South Asia bureau chief for the New York Times...            3770   \n",
       "1  Africa 24 produces compelling content that mak...           16869   \n",
       "2  In pursuit of scoops. I do not write headlines...          142223   \n",
       "3  Africa's first independent fact-checking websi...           27317   \n",
       "4  BBC reporter + presenter. Author A Poisonous T...           19434   \n",
       "\n",
       "   friends_count  followers_count  account_age_days  avg_daily_tweets  \\\n",
       "0             37            25700              3340                 1   \n",
       "1           3059            31285              4132                 4   \n",
       "2           2839           101246              3967                35   \n",
       "3           4590            68061              2936                 9   \n",
       "4           5046            21958              3182                 6   \n",
       "\n",
       "   hashtags  user_mentions  favorite_count  retweet_count  \n",
       "0         5             38             268         111152  \n",
       "1        32             52              96            190  \n",
       "2        39            626           19466         398095  \n",
       "3       156            205            1353           1398  \n",
       "4        19             82             139          47608  "
      ]
     },
     "execution_count": 57,
     "metadata": {},
     "output_type": "execute_result"
    }
   ],
   "source": [
    "afriqInfCopy.head()"
   ]
  },
  {
   "cell_type": "code",
   "execution_count": 58,
   "metadata": {},
   "outputs": [
    {
     "name": "stdout",
     "output_type": "stream",
     "text": [
      "<class 'pandas.core.frame.DataFrame'>\n",
      "RangeIndex: 93 entries, 0 to 92\n",
      "Data columns (total 14 columns):\n",
      " #   Column            Non-Null Count  Dtype \n",
      "---  ------            --------------  ----- \n",
      " 0   Unnamed: 0        93 non-null     int64 \n",
      " 1   id                93 non-null     int64 \n",
      " 2   name              93 non-null     object\n",
      " 3   screen_name       93 non-null     object\n",
      " 4   description       89 non-null     object\n",
      " 5   statuses_count    93 non-null     int64 \n",
      " 6   friends_count     93 non-null     int64 \n",
      " 7   followers_count   93 non-null     int64 \n",
      " 8   account_age_days  93 non-null     int64 \n",
      " 9   avg_daily_tweets  93 non-null     int64 \n",
      " 10  hashtags          93 non-null     int64 \n",
      " 11  user_mentions     93 non-null     int64 \n",
      " 12  favorite_count    93 non-null     int64 \n",
      " 13  retweet_count     93 non-null     int64 \n",
      "dtypes: int64(11), object(3)\n",
      "memory usage: 10.3+ KB\n"
     ]
    }
   ],
   "source": [
    "afriqInfCopy.info()"
   ]
  },
  {
   "cell_type": "markdown",
   "metadata": {},
   "source": [
    "> drop column `Unnamed: 0`"
   ]
  },
  {
   "cell_type": "code",
   "execution_count": 59,
   "metadata": {},
   "outputs": [],
   "source": [
    "afriqInfCopy.drop(columns='Unnamed: 0', axis=1, inplace=True)"
   ]
  },
  {
   "cell_type": "code",
   "execution_count": 60,
   "metadata": {},
   "outputs": [
    {
     "data": {
      "text/html": [
       "<div>\n",
       "<style scoped>\n",
       "    .dataframe tbody tr th:only-of-type {\n",
       "        vertical-align: middle;\n",
       "    }\n",
       "\n",
       "    .dataframe tbody tr th {\n",
       "        vertical-align: top;\n",
       "    }\n",
       "\n",
       "    .dataframe thead th {\n",
       "        text-align: right;\n",
       "    }\n",
       "</style>\n",
       "<table border=\"1\" class=\"dataframe\">\n",
       "  <thead>\n",
       "    <tr style=\"text-align: right;\">\n",
       "      <th></th>\n",
       "      <th>id</th>\n",
       "      <th>name</th>\n",
       "      <th>screen_name</th>\n",
       "      <th>description</th>\n",
       "      <th>statuses_count</th>\n",
       "      <th>friends_count</th>\n",
       "      <th>followers_count</th>\n",
       "      <th>account_age_days</th>\n",
       "      <th>avg_daily_tweets</th>\n",
       "      <th>hashtags</th>\n",
       "      <th>user_mentions</th>\n",
       "      <th>favorite_count</th>\n",
       "      <th>retweet_count</th>\n",
       "    </tr>\n",
       "  </thead>\n",
       "  <tbody>\n",
       "    <tr>\n",
       "      <th>0</th>\n",
       "      <td>305125998</td>\n",
       "      <td>Jeffrey Gettleman</td>\n",
       "      <td>gettleman</td>\n",
       "      <td>South Asia bureau chief for the New York Times...</td>\n",
       "      <td>3770</td>\n",
       "      <td>37</td>\n",
       "      <td>25700</td>\n",
       "      <td>3340</td>\n",
       "      <td>1</td>\n",
       "      <td>5</td>\n",
       "      <td>38</td>\n",
       "      <td>268</td>\n",
       "      <td>111152</td>\n",
       "    </tr>\n",
       "    <tr>\n",
       "      <th>1</th>\n",
       "      <td>26475943</td>\n",
       "      <td>A24 Media</td>\n",
       "      <td>a24media</td>\n",
       "      <td>Africa 24 produces compelling content that mak...</td>\n",
       "      <td>16869</td>\n",
       "      <td>3059</td>\n",
       "      <td>31285</td>\n",
       "      <td>4132</td>\n",
       "      <td>4</td>\n",
       "      <td>32</td>\n",
       "      <td>52</td>\n",
       "      <td>96</td>\n",
       "      <td>190</td>\n",
       "    </tr>\n",
       "    <tr>\n",
       "      <th>2</th>\n",
       "      <td>72013267</td>\n",
       "      <td>Scapegoat</td>\n",
       "      <td>AndiMakinana</td>\n",
       "      <td>In pursuit of scoops. I do not write headlines...</td>\n",
       "      <td>142223</td>\n",
       "      <td>2839</td>\n",
       "      <td>101246</td>\n",
       "      <td>3967</td>\n",
       "      <td>35</td>\n",
       "      <td>39</td>\n",
       "      <td>626</td>\n",
       "      <td>19466</td>\n",
       "      <td>398095</td>\n",
       "    </tr>\n",
       "    <tr>\n",
       "      <th>3</th>\n",
       "      <td>625489039</td>\n",
       "      <td>Africa Check</td>\n",
       "      <td>AfricaCheck</td>\n",
       "      <td>Africa's first independent fact-checking websi...</td>\n",
       "      <td>27317</td>\n",
       "      <td>4590</td>\n",
       "      <td>68061</td>\n",
       "      <td>2936</td>\n",
       "      <td>9</td>\n",
       "      <td>156</td>\n",
       "      <td>205</td>\n",
       "      <td>1353</td>\n",
       "      <td>1398</td>\n",
       "    </tr>\n",
       "    <tr>\n",
       "      <th>4</th>\n",
       "      <td>401520924</td>\n",
       "      <td>James Copnall</td>\n",
       "      <td>JamesCopnall</td>\n",
       "      <td>BBC reporter + presenter. Author A Poisonous T...</td>\n",
       "      <td>19434</td>\n",
       "      <td>5046</td>\n",
       "      <td>21958</td>\n",
       "      <td>3182</td>\n",
       "      <td>6</td>\n",
       "      <td>19</td>\n",
       "      <td>82</td>\n",
       "      <td>139</td>\n",
       "      <td>47608</td>\n",
       "    </tr>\n",
       "  </tbody>\n",
       "</table>\n",
       "</div>"
      ],
      "text/plain": [
       "          id               name   screen_name  \\\n",
       "0  305125998  Jeffrey Gettleman     gettleman   \n",
       "1   26475943          A24 Media      a24media   \n",
       "2   72013267          Scapegoat  AndiMakinana   \n",
       "3  625489039       Africa Check   AfricaCheck   \n",
       "4  401520924      James Copnall  JamesCopnall   \n",
       "\n",
       "                                         description  statuses_count  \\\n",
       "0  South Asia bureau chief for the New York Times...            3770   \n",
       "1  Africa 24 produces compelling content that mak...           16869   \n",
       "2  In pursuit of scoops. I do not write headlines...          142223   \n",
       "3  Africa's first independent fact-checking websi...           27317   \n",
       "4  BBC reporter + presenter. Author A Poisonous T...           19434   \n",
       "\n",
       "   friends_count  followers_count  account_age_days  avg_daily_tweets  \\\n",
       "0             37            25700              3340                 1   \n",
       "1           3059            31285              4132                 4   \n",
       "2           2839           101246              3967                35   \n",
       "3           4590            68061              2936                 9   \n",
       "4           5046            21958              3182                 6   \n",
       "\n",
       "   hashtags  user_mentions  favorite_count  retweet_count  \n",
       "0         5             38             268         111152  \n",
       "1        32             52              96            190  \n",
       "2        39            626           19466         398095  \n",
       "3       156            205            1353           1398  \n",
       "4        19             82             139          47608  "
      ]
     },
     "execution_count": 60,
     "metadata": {},
     "output_type": "execute_result"
    }
   ],
   "source": [
    "afriqInfCopy.head()"
   ]
  },
  {
   "cell_type": "code",
   "execution_count": 61,
   "metadata": {},
   "outputs": [
    {
     "data": {
      "text/plain": [
       "False"
      ]
     },
     "execution_count": 61,
     "metadata": {},
     "output_type": "execute_result"
    }
   ],
   "source": [
    "afriqInfCopy.duplicated().any()"
   ]
  },
  {
   "cell_type": "markdown",
   "metadata": {},
   "source": [
    "> There are no duplicates"
   ]
  },
  {
   "cell_type": "markdown",
   "metadata": {},
   "source": [
    "> The data is clean and fir for analysis"
   ]
  },
  {
   "cell_type": "markdown",
   "metadata": {},
   "source": [
    "#### Load Hahstag Info Datasets"
   ]
  },
  {
   "cell_type": "code",
   "execution_count": 62,
   "metadata": {},
   "outputs": [],
   "source": [
    "govtResHashCopy = govtResHash.copy()"
   ]
  },
  {
   "cell_type": "code",
   "execution_count": 63,
   "metadata": {},
   "outputs": [
    {
     "data": {
      "text/html": [
       "<div>\n",
       "<style scoped>\n",
       "    .dataframe tbody tr th:only-of-type {\n",
       "        vertical-align: middle;\n",
       "    }\n",
       "\n",
       "    .dataframe tbody tr th {\n",
       "        vertical-align: top;\n",
       "    }\n",
       "\n",
       "    .dataframe thead th {\n",
       "        text-align: right;\n",
       "    }\n",
       "</style>\n",
       "<table border=\"1\" class=\"dataframe\">\n",
       "  <thead>\n",
       "    <tr style=\"text-align: right;\">\n",
       "      <th></th>\n",
       "      <th>Unnamed: 0</th>\n",
       "      <th>hashtags</th>\n",
       "      <th>id</th>\n",
       "      <th>name</th>\n",
       "      <th>screen_name</th>\n",
       "      <th>hashtags_count</th>\n",
       "    </tr>\n",
       "  </thead>\n",
       "  <tbody>\n",
       "    <tr>\n",
       "      <th>0</th>\n",
       "      <td>0</td>\n",
       "      <td>52YearsOfFriendship</td>\n",
       "      <td>1181832897508065280</td>\n",
       "      <td>Eswatini Government</td>\n",
       "      <td>EswatiniGovern1</td>\n",
       "      <td>3</td>\n",
       "    </tr>\n",
       "    <tr>\n",
       "      <th>1</th>\n",
       "      <td>1</td>\n",
       "      <td>AdventureTime</td>\n",
       "      <td>1181832897508065280</td>\n",
       "      <td>Eswatini Government</td>\n",
       "      <td>EswatiniGovern1</td>\n",
       "      <td>1</td>\n",
       "    </tr>\n",
       "    <tr>\n",
       "      <th>2</th>\n",
       "      <td>2</td>\n",
       "      <td>AfricaDay</td>\n",
       "      <td>1181832897508065280</td>\n",
       "      <td>Eswatini Government</td>\n",
       "      <td>EswatiniGovern1</td>\n",
       "      <td>1</td>\n",
       "    </tr>\n",
       "    <tr>\n",
       "      <th>3</th>\n",
       "      <td>3</td>\n",
       "      <td>AllHandsOnDeck</td>\n",
       "      <td>1181832897508065280</td>\n",
       "      <td>Eswatini Government</td>\n",
       "      <td>EswatiniGovern1</td>\n",
       "      <td>1</td>\n",
       "    </tr>\n",
       "    <tr>\n",
       "      <th>4</th>\n",
       "      <td>4</td>\n",
       "      <td>BottomLineSABC</td>\n",
       "      <td>1181832897508065280</td>\n",
       "      <td>Eswatini Government</td>\n",
       "      <td>EswatiniGovern1</td>\n",
       "      <td>1</td>\n",
       "    </tr>\n",
       "  </tbody>\n",
       "</table>\n",
       "</div>"
      ],
      "text/plain": [
       "   Unnamed: 0             hashtags                   id                 name  \\\n",
       "0           0  52YearsOfFriendship  1181832897508065280  Eswatini Government   \n",
       "1           1        AdventureTime  1181832897508065280  Eswatini Government   \n",
       "2           2            AfricaDay  1181832897508065280  Eswatini Government   \n",
       "3           3       AllHandsOnDeck  1181832897508065280  Eswatini Government   \n",
       "4           4       BottomLineSABC  1181832897508065280  Eswatini Government   \n",
       "\n",
       "       screen_name  hashtags_count  \n",
       "0  EswatiniGovern1               3  \n",
       "1  EswatiniGovern1               1  \n",
       "2  EswatiniGovern1               1  \n",
       "3  EswatiniGovern1               1  \n",
       "4  EswatiniGovern1               1  "
      ]
     },
     "execution_count": 63,
     "metadata": {},
     "output_type": "execute_result"
    }
   ],
   "source": [
    "govtResHashCopy.head()"
   ]
  },
  {
   "cell_type": "code",
   "execution_count": 64,
   "metadata": {},
   "outputs": [
    {
     "name": "stdout",
     "output_type": "stream",
     "text": [
      "<class 'pandas.core.frame.DataFrame'>\n",
      "RangeIndex: 8092 entries, 0 to 8091\n",
      "Data columns (total 6 columns):\n",
      " #   Column          Non-Null Count  Dtype \n",
      "---  ------          --------------  ----- \n",
      " 0   Unnamed: 0      8092 non-null   int64 \n",
      " 1   hashtags        8092 non-null   object\n",
      " 2   id              8092 non-null   int64 \n",
      " 3   name            8092 non-null   object\n",
      " 4   screen_name     8092 non-null   object\n",
      " 5   hashtags_count  8092 non-null   int64 \n",
      "dtypes: int64(3), object(3)\n",
      "memory usage: 379.4+ KB\n"
     ]
    }
   ],
   "source": [
    "govtResHashCopy.info()"
   ]
  },
  {
   "cell_type": "markdown",
   "metadata": {},
   "source": [
    "> Drop `Unnamed: 0` column"
   ]
  },
  {
   "cell_type": "code",
   "execution_count": 65,
   "metadata": {},
   "outputs": [],
   "source": [
    "govtResHashCopy.drop(columns='Unnamed: 0', axis=1, inplace=True)"
   ]
  },
  {
   "cell_type": "code",
   "execution_count": 66,
   "metadata": {},
   "outputs": [
    {
     "data": {
      "text/html": [
       "<div>\n",
       "<style scoped>\n",
       "    .dataframe tbody tr th:only-of-type {\n",
       "        vertical-align: middle;\n",
       "    }\n",
       "\n",
       "    .dataframe tbody tr th {\n",
       "        vertical-align: top;\n",
       "    }\n",
       "\n",
       "    .dataframe thead th {\n",
       "        text-align: right;\n",
       "    }\n",
       "</style>\n",
       "<table border=\"1\" class=\"dataframe\">\n",
       "  <thead>\n",
       "    <tr style=\"text-align: right;\">\n",
       "      <th></th>\n",
       "      <th>hashtags</th>\n",
       "      <th>id</th>\n",
       "      <th>name</th>\n",
       "      <th>screen_name</th>\n",
       "      <th>hashtags_count</th>\n",
       "    </tr>\n",
       "  </thead>\n",
       "  <tbody>\n",
       "    <tr>\n",
       "      <th>0</th>\n",
       "      <td>52YearsOfFriendship</td>\n",
       "      <td>1181832897508065280</td>\n",
       "      <td>Eswatini Government</td>\n",
       "      <td>EswatiniGovern1</td>\n",
       "      <td>3</td>\n",
       "    </tr>\n",
       "    <tr>\n",
       "      <th>1</th>\n",
       "      <td>AdventureTime</td>\n",
       "      <td>1181832897508065280</td>\n",
       "      <td>Eswatini Government</td>\n",
       "      <td>EswatiniGovern1</td>\n",
       "      <td>1</td>\n",
       "    </tr>\n",
       "    <tr>\n",
       "      <th>2</th>\n",
       "      <td>AfricaDay</td>\n",
       "      <td>1181832897508065280</td>\n",
       "      <td>Eswatini Government</td>\n",
       "      <td>EswatiniGovern1</td>\n",
       "      <td>1</td>\n",
       "    </tr>\n",
       "    <tr>\n",
       "      <th>3</th>\n",
       "      <td>AllHandsOnDeck</td>\n",
       "      <td>1181832897508065280</td>\n",
       "      <td>Eswatini Government</td>\n",
       "      <td>EswatiniGovern1</td>\n",
       "      <td>1</td>\n",
       "    </tr>\n",
       "    <tr>\n",
       "      <th>4</th>\n",
       "      <td>BottomLineSABC</td>\n",
       "      <td>1181832897508065280</td>\n",
       "      <td>Eswatini Government</td>\n",
       "      <td>EswatiniGovern1</td>\n",
       "      <td>1</td>\n",
       "    </tr>\n",
       "    <tr>\n",
       "      <th>...</th>\n",
       "      <td>...</td>\n",
       "      <td>...</td>\n",
       "      <td>...</td>\n",
       "      <td>...</td>\n",
       "      <td>...</td>\n",
       "    </tr>\n",
       "    <tr>\n",
       "      <th>8087</th>\n",
       "      <td>nomination</td>\n",
       "      <td>1095703543045083136</td>\n",
       "      <td>Ministère de la Communication &amp; Médias - CG🇨🇬</td>\n",
       "      <td>MinistereComCG</td>\n",
       "      <td>1</td>\n",
       "    </tr>\n",
       "    <tr>\n",
       "      <th>8088</th>\n",
       "      <td>parlement</td>\n",
       "      <td>1095703543045083136</td>\n",
       "      <td>Ministère de la Communication &amp; Médias - CG🇨🇬</td>\n",
       "      <td>MinistereComCG</td>\n",
       "      <td>1</td>\n",
       "    </tr>\n",
       "    <tr>\n",
       "      <th>8089</th>\n",
       "      <td>sacrifice</td>\n",
       "      <td>1095703543045083136</td>\n",
       "      <td>Ministère de la Communication &amp; Médias - CG🇨🇬</td>\n",
       "      <td>MinistereComCG</td>\n",
       "      <td>1</td>\n",
       "    </tr>\n",
       "    <tr>\n",
       "      <th>8090</th>\n",
       "      <td>vœux</td>\n",
       "      <td>1095703543045083136</td>\n",
       "      <td>Ministère de la Communication &amp; Médias - CG🇨🇬</td>\n",
       "      <td>MinistereComCG</td>\n",
       "      <td>1</td>\n",
       "    </tr>\n",
       "    <tr>\n",
       "      <th>8091</th>\n",
       "      <td>écologie</td>\n",
       "      <td>1095703543045083136</td>\n",
       "      <td>Ministère de la Communication &amp; Médias - CG🇨🇬</td>\n",
       "      <td>MinistereComCG</td>\n",
       "      <td>1</td>\n",
       "    </tr>\n",
       "  </tbody>\n",
       "</table>\n",
       "<p>8092 rows × 5 columns</p>\n",
       "</div>"
      ],
      "text/plain": [
       "                 hashtags                   id  \\\n",
       "0     52YearsOfFriendship  1181832897508065280   \n",
       "1           AdventureTime  1181832897508065280   \n",
       "2               AfricaDay  1181832897508065280   \n",
       "3          AllHandsOnDeck  1181832897508065280   \n",
       "4          BottomLineSABC  1181832897508065280   \n",
       "...                   ...                  ...   \n",
       "8087           nomination  1095703543045083136   \n",
       "8088            parlement  1095703543045083136   \n",
       "8089            sacrifice  1095703543045083136   \n",
       "8090                 vœux  1095703543045083136   \n",
       "8091             écologie  1095703543045083136   \n",
       "\n",
       "                                               name      screen_name  \\\n",
       "0                               Eswatini Government  EswatiniGovern1   \n",
       "1                               Eswatini Government  EswatiniGovern1   \n",
       "2                               Eswatini Government  EswatiniGovern1   \n",
       "3                               Eswatini Government  EswatiniGovern1   \n",
       "4                               Eswatini Government  EswatiniGovern1   \n",
       "...                                             ...              ...   \n",
       "8087  Ministère de la Communication & Médias - CG🇨🇬   MinistereComCG   \n",
       "8088  Ministère de la Communication & Médias - CG🇨🇬   MinistereComCG   \n",
       "8089  Ministère de la Communication & Médias - CG🇨🇬   MinistereComCG   \n",
       "8090  Ministère de la Communication & Médias - CG🇨🇬   MinistereComCG   \n",
       "8091  Ministère de la Communication & Médias - CG🇨🇬   MinistereComCG   \n",
       "\n",
       "      hashtags_count  \n",
       "0                  3  \n",
       "1                  1  \n",
       "2                  1  \n",
       "3                  1  \n",
       "4                  1  \n",
       "...              ...  \n",
       "8087               1  \n",
       "8088               1  \n",
       "8089               1  \n",
       "8090               1  \n",
       "8091               1  \n",
       "\n",
       "[8092 rows x 5 columns]"
      ]
     },
     "execution_count": 66,
     "metadata": {},
     "output_type": "execute_result"
    }
   ],
   "source": [
    "govtResHashCopy"
   ]
  },
  {
   "cell_type": "code",
   "execution_count": 67,
   "metadata": {},
   "outputs": [
    {
     "data": {
      "text/plain": [
       "False"
      ]
     },
     "execution_count": 67,
     "metadata": {},
     "output_type": "execute_result"
    }
   ],
   "source": [
    "govtResHashCopy.duplicated().any()"
   ]
  },
  {
   "cell_type": "markdown",
   "metadata": {},
   "source": [
    "> There are no duplicates"
   ]
  },
  {
   "cell_type": "markdown",
   "metadata": {},
   "source": [
    "<!-- > To make the tables more normalised, we need to join the info tables to thier respective hashtag tables -->"
   ]
  },
  {
   "cell_type": "code",
   "execution_count": 68,
   "metadata": {},
   "outputs": [],
   "source": [
    "afriqInfHashCopy = afriqInfHash.copy()"
   ]
  },
  {
   "cell_type": "code",
   "execution_count": 69,
   "metadata": {},
   "outputs": [
    {
     "data": {
      "text/html": [
       "<div>\n",
       "<style scoped>\n",
       "    .dataframe tbody tr th:only-of-type {\n",
       "        vertical-align: middle;\n",
       "    }\n",
       "\n",
       "    .dataframe tbody tr th {\n",
       "        vertical-align: top;\n",
       "    }\n",
       "\n",
       "    .dataframe thead th {\n",
       "        text-align: right;\n",
       "    }\n",
       "</style>\n",
       "<table border=\"1\" class=\"dataframe\">\n",
       "  <thead>\n",
       "    <tr style=\"text-align: right;\">\n",
       "      <th></th>\n",
       "      <th>Unnamed: 0</th>\n",
       "      <th>hashtags</th>\n",
       "      <th>id</th>\n",
       "      <th>name</th>\n",
       "      <th>screen_name</th>\n",
       "      <th>hashtags_count</th>\n",
       "    </tr>\n",
       "  </thead>\n",
       "  <tbody>\n",
       "    <tr>\n",
       "      <th>0</th>\n",
       "      <td>0</td>\n",
       "      <td>2015NepalBlockade</td>\n",
       "      <td>305125998</td>\n",
       "      <td>Jeffrey Gettleman</td>\n",
       "      <td>gettleman</td>\n",
       "      <td>1</td>\n",
       "    </tr>\n",
       "    <tr>\n",
       "      <th>1</th>\n",
       "      <td>1</td>\n",
       "      <td>6PM</td>\n",
       "      <td>305125998</td>\n",
       "      <td>Jeffrey Gettleman</td>\n",
       "      <td>gettleman</td>\n",
       "      <td>1</td>\n",
       "    </tr>\n",
       "    <tr>\n",
       "      <th>2</th>\n",
       "      <td>2</td>\n",
       "      <td>ARYNews</td>\n",
       "      <td>305125998</td>\n",
       "      <td>Jeffrey Gettleman</td>\n",
       "      <td>gettleman</td>\n",
       "      <td>1</td>\n",
       "    </tr>\n",
       "    <tr>\n",
       "      <th>3</th>\n",
       "      <td>3</td>\n",
       "      <td>Abhinandan</td>\n",
       "      <td>305125998</td>\n",
       "      <td>Jeffrey Gettleman</td>\n",
       "      <td>gettleman</td>\n",
       "      <td>1</td>\n",
       "    </tr>\n",
       "    <tr>\n",
       "      <th>4</th>\n",
       "      <td>4</td>\n",
       "      <td>Adani</td>\n",
       "      <td>305125998</td>\n",
       "      <td>Jeffrey Gettleman</td>\n",
       "      <td>gettleman</td>\n",
       "      <td>1</td>\n",
       "    </tr>\n",
       "  </tbody>\n",
       "</table>\n",
       "</div>"
      ],
      "text/plain": [
       "   Unnamed: 0           hashtags         id               name screen_name  \\\n",
       "0           0  2015NepalBlockade  305125998  Jeffrey Gettleman   gettleman   \n",
       "1           1                6PM  305125998  Jeffrey Gettleman   gettleman   \n",
       "2           2            ARYNews  305125998  Jeffrey Gettleman   gettleman   \n",
       "3           3         Abhinandan  305125998  Jeffrey Gettleman   gettleman   \n",
       "4           4              Adani  305125998  Jeffrey Gettleman   gettleman   \n",
       "\n",
       "   hashtags_count  \n",
       "0               1  \n",
       "1               1  \n",
       "2               1  \n",
       "3               1  \n",
       "4               1  "
      ]
     },
     "execution_count": 69,
     "metadata": {},
     "output_type": "execute_result"
    }
   ],
   "source": [
    "afriqInfHashCopy.head()"
   ]
  },
  {
   "cell_type": "code",
   "execution_count": 70,
   "metadata": {},
   "outputs": [
    {
     "name": "stdout",
     "output_type": "stream",
     "text": [
      "<class 'pandas.core.frame.DataFrame'>\n",
      "RangeIndex: 17532 entries, 0 to 17531\n",
      "Data columns (total 6 columns):\n",
      " #   Column          Non-Null Count  Dtype \n",
      "---  ------          --------------  ----- \n",
      " 0   Unnamed: 0      17532 non-null  int64 \n",
      " 1   hashtags        17532 non-null  object\n",
      " 2   id              17532 non-null  int64 \n",
      " 3   name            17532 non-null  object\n",
      " 4   screen_name     17532 non-null  object\n",
      " 5   hashtags_count  17532 non-null  int64 \n",
      "dtypes: int64(3), object(3)\n",
      "memory usage: 821.9+ KB\n"
     ]
    }
   ],
   "source": [
    "afriqInfHashCopy.info()"
   ]
  },
  {
   "cell_type": "markdown",
   "metadata": {},
   "source": [
    "> drop column `Unnamed: 0`"
   ]
  },
  {
   "cell_type": "code",
   "execution_count": 71,
   "metadata": {},
   "outputs": [],
   "source": [
    "afriqInfHashCopy.drop(columns='Unnamed: 0', axis=1, inplace=True)"
   ]
  },
  {
   "cell_type": "code",
   "execution_count": 72,
   "metadata": {},
   "outputs": [
    {
     "data": {
      "text/html": [
       "<div>\n",
       "<style scoped>\n",
       "    .dataframe tbody tr th:only-of-type {\n",
       "        vertical-align: middle;\n",
       "    }\n",
       "\n",
       "    .dataframe tbody tr th {\n",
       "        vertical-align: top;\n",
       "    }\n",
       "\n",
       "    .dataframe thead th {\n",
       "        text-align: right;\n",
       "    }\n",
       "</style>\n",
       "<table border=\"1\" class=\"dataframe\">\n",
       "  <thead>\n",
       "    <tr style=\"text-align: right;\">\n",
       "      <th></th>\n",
       "      <th>hashtags</th>\n",
       "      <th>id</th>\n",
       "      <th>name</th>\n",
       "      <th>screen_name</th>\n",
       "      <th>hashtags_count</th>\n",
       "    </tr>\n",
       "  </thead>\n",
       "  <tbody>\n",
       "    <tr>\n",
       "      <th>0</th>\n",
       "      <td>2015NepalBlockade</td>\n",
       "      <td>305125998</td>\n",
       "      <td>Jeffrey Gettleman</td>\n",
       "      <td>gettleman</td>\n",
       "      <td>1</td>\n",
       "    </tr>\n",
       "    <tr>\n",
       "      <th>1</th>\n",
       "      <td>6PM</td>\n",
       "      <td>305125998</td>\n",
       "      <td>Jeffrey Gettleman</td>\n",
       "      <td>gettleman</td>\n",
       "      <td>1</td>\n",
       "    </tr>\n",
       "    <tr>\n",
       "      <th>2</th>\n",
       "      <td>ARYNews</td>\n",
       "      <td>305125998</td>\n",
       "      <td>Jeffrey Gettleman</td>\n",
       "      <td>gettleman</td>\n",
       "      <td>1</td>\n",
       "    </tr>\n",
       "    <tr>\n",
       "      <th>3</th>\n",
       "      <td>Abhinandan</td>\n",
       "      <td>305125998</td>\n",
       "      <td>Jeffrey Gettleman</td>\n",
       "      <td>gettleman</td>\n",
       "      <td>1</td>\n",
       "    </tr>\n",
       "    <tr>\n",
       "      <th>4</th>\n",
       "      <td>Adani</td>\n",
       "      <td>305125998</td>\n",
       "      <td>Jeffrey Gettleman</td>\n",
       "      <td>gettleman</td>\n",
       "      <td>1</td>\n",
       "    </tr>\n",
       "  </tbody>\n",
       "</table>\n",
       "</div>"
      ],
      "text/plain": [
       "            hashtags         id               name screen_name  hashtags_count\n",
       "0  2015NepalBlockade  305125998  Jeffrey Gettleman   gettleman               1\n",
       "1                6PM  305125998  Jeffrey Gettleman   gettleman               1\n",
       "2            ARYNews  305125998  Jeffrey Gettleman   gettleman               1\n",
       "3         Abhinandan  305125998  Jeffrey Gettleman   gettleman               1\n",
       "4              Adani  305125998  Jeffrey Gettleman   gettleman               1"
      ]
     },
     "execution_count": 72,
     "metadata": {},
     "output_type": "execute_result"
    }
   ],
   "source": [
    "afriqInfHashCopy.head()"
   ]
  },
  {
   "cell_type": "code",
   "execution_count": 73,
   "metadata": {},
   "outputs": [
    {
     "data": {
      "text/plain": [
       "False"
      ]
     },
     "execution_count": 73,
     "metadata": {},
     "output_type": "execute_result"
    }
   ],
   "source": [
    "afriqInfHashCopy.duplicated().any()"
   ]
  },
  {
   "cell_type": "markdown",
   "metadata": {},
   "source": [
    "<a id=\"ana\"></a>\n",
    "\n",
    "### Analysis"
   ]
  },
  {
   "cell_type": "code",
   "execution_count": null,
   "metadata": {},
   "outputs": [],
   "source": []
  },
  {
   "cell_type": "markdown",
   "metadata": {},
   "source": [
    "<a id=\"r1\"></a>\n",
    "\n",
    "#### Research Question 1: \n",
    "\n",
    "\n",
    "\n",
    "> Who are the Top Influencers & what are thier  Attributes:\n",
    "\n",
    ">   a. Who are the top 10 non-governmental Influencers ?\n",
    "\n",
    ">    b. What african government have more influence (top 10) ?\n",
    "\n",
    ">    c. Among the top influencers, is there a corellation between:\n",
    "\n",
    " -         retweets and mentions \n",
    " -         indegree and retweets\n",
    " -         indegree and mentions\n",
    "     "
   ]
  },
  {
   "cell_type": "markdown",
   "metadata": {},
   "source": [
    "  "
   ]
  },
  {
   "cell_type": "markdown",
   "metadata": {},
   "source": [
    "- In determing influence across board, these metrics have to be calcuated:\n",
    "\n",
    "1. Popularity = likes + retweets\n",
    "\n",
    "2. Reach = followers - foollowing\n",
    "\n",
    "3. Relevance = number of mentions"
   ]
  },
  {
   "cell_type": "markdown",
   "metadata": {},
   "source": [
    "`NB:` We would give more emphasis to Popularity and Relevance metric to avoid the million follower fallacy\n",
    "    \n",
    "<a href=\"http://twitter.mpi-sws.org/icwsm2010_fallacy.pdf\">million follower fallacy<a/>"
   ]
  },
  {
   "cell_type": "markdown",
   "metadata": {},
   "source": [
    "> First we need to drop inactive accounts, with tweets less than 5\n",
    "\n",
    ">> tweet count in our dataset is statuses_count"
   ]
  },
  {
   "cell_type": "markdown",
   "metadata": {},
   "source": [
    "> Govt Accunt data"
   ]
  },
  {
   "cell_type": "code",
   "execution_count": 74,
   "metadata": {},
   "outputs": [
    {
     "data": {
      "text/html": [
       "<div>\n",
       "<style scoped>\n",
       "    .dataframe tbody tr th:only-of-type {\n",
       "        vertical-align: middle;\n",
       "    }\n",
       "\n",
       "    .dataframe tbody tr th {\n",
       "        vertical-align: top;\n",
       "    }\n",
       "\n",
       "    .dataframe thead th {\n",
       "        text-align: right;\n",
       "    }\n",
       "</style>\n",
       "<table border=\"1\" class=\"dataframe\">\n",
       "  <thead>\n",
       "    <tr style=\"text-align: right;\">\n",
       "      <th></th>\n",
       "      <th>id</th>\n",
       "      <th>name</th>\n",
       "      <th>screen_name</th>\n",
       "      <th>description</th>\n",
       "      <th>statuses_count</th>\n",
       "      <th>friends_count</th>\n",
       "      <th>followers_count</th>\n",
       "      <th>account_age_days</th>\n",
       "      <th>avg_daily_tweets</th>\n",
       "      <th>hashtags</th>\n",
       "      <th>user_mentions</th>\n",
       "      <th>favorite_count</th>\n",
       "      <th>retweet_count</th>\n",
       "    </tr>\n",
       "  </thead>\n",
       "  <tbody>\n",
       "  </tbody>\n",
       "</table>\n",
       "</div>"
      ],
      "text/plain": [
       "Empty DataFrame\n",
       "Columns: [id, name, screen_name, description, statuses_count, friends_count, followers_count, account_age_days, avg_daily_tweets, hashtags, user_mentions, favorite_count, retweet_count]\n",
       "Index: []"
      ]
     },
     "execution_count": 74,
     "metadata": {},
     "output_type": "execute_result"
    }
   ],
   "source": [
    "govtResCopy.query('statuses_count < 5')"
   ]
  },
  {
   "cell_type": "markdown",
   "metadata": {},
   "source": [
    "> The datasets for African government has no inactive users"
   ]
  },
  {
   "cell_type": "markdown",
   "metadata": {},
   "source": [
    "> Influencers Account data"
   ]
  },
  {
   "cell_type": "code",
   "execution_count": 75,
   "metadata": {},
   "outputs": [
    {
     "data": {
      "text/html": [
       "<div>\n",
       "<style scoped>\n",
       "    .dataframe tbody tr th:only-of-type {\n",
       "        vertical-align: middle;\n",
       "    }\n",
       "\n",
       "    .dataframe tbody tr th {\n",
       "        vertical-align: top;\n",
       "    }\n",
       "\n",
       "    .dataframe thead th {\n",
       "        text-align: right;\n",
       "    }\n",
       "</style>\n",
       "<table border=\"1\" class=\"dataframe\">\n",
       "  <thead>\n",
       "    <tr style=\"text-align: right;\">\n",
       "      <th></th>\n",
       "      <th>id</th>\n",
       "      <th>name</th>\n",
       "      <th>screen_name</th>\n",
       "      <th>description</th>\n",
       "      <th>statuses_count</th>\n",
       "      <th>friends_count</th>\n",
       "      <th>followers_count</th>\n",
       "      <th>account_age_days</th>\n",
       "      <th>avg_daily_tweets</th>\n",
       "      <th>hashtags</th>\n",
       "      <th>user_mentions</th>\n",
       "      <th>favorite_count</th>\n",
       "      <th>retweet_count</th>\n",
       "    </tr>\n",
       "  </thead>\n",
       "  <tbody>\n",
       "    <tr>\n",
       "      <th>7</th>\n",
       "      <td>874203101108023296</td>\n",
       "      <td>SEO Expert Vancouver</td>\n",
       "      <td>stateafrica</td>\n",
       "      <td>NaN</td>\n",
       "      <td>1</td>\n",
       "      <td>0</td>\n",
       "      <td>8</td>\n",
       "      <td>1131</td>\n",
       "      <td>0</td>\n",
       "      <td>0</td>\n",
       "      <td>0</td>\n",
       "      <td>1</td>\n",
       "      <td>0</td>\n",
       "    </tr>\n",
       "    <tr>\n",
       "      <th>26</th>\n",
       "      <td>1124706854628671490</td>\n",
       "      <td>T.I.A</td>\n",
       "      <td>ThisisAfrica</td>\n",
       "      <td>T.I.A</td>\n",
       "      <td>0</td>\n",
       "      <td>0</td>\n",
       "      <td>6</td>\n",
       "      <td>439</td>\n",
       "      <td>0</td>\n",
       "      <td>0</td>\n",
       "      <td>0</td>\n",
       "      <td>0</td>\n",
       "      <td>0</td>\n",
       "    </tr>\n",
       "    <tr>\n",
       "      <th>72</th>\n",
       "      <td>3997935917</td>\n",
       "      <td>SmithInAfrica</td>\n",
       "      <td>SmithInAfrica</td>\n",
       "      <td>NaN</td>\n",
       "      <td>1</td>\n",
       "      <td>0</td>\n",
       "      <td>69</td>\n",
       "      <td>1732</td>\n",
       "      <td>0</td>\n",
       "      <td>0</td>\n",
       "      <td>2</td>\n",
       "      <td>0</td>\n",
       "      <td>1</td>\n",
       "    </tr>\n",
       "  </tbody>\n",
       "</table>\n",
       "</div>"
      ],
      "text/plain": [
       "                     id                  name    screen_name description  \\\n",
       "7    874203101108023296  SEO Expert Vancouver    stateafrica         NaN   \n",
       "26  1124706854628671490                 T.I.A   ThisisAfrica       T.I.A   \n",
       "72           3997935917         SmithInAfrica  SmithInAfrica         NaN   \n",
       "\n",
       "    statuses_count  friends_count  followers_count  account_age_days  \\\n",
       "7                1              0                8              1131   \n",
       "26               0              0                6               439   \n",
       "72               1              0               69              1732   \n",
       "\n",
       "    avg_daily_tweets  hashtags  user_mentions  favorite_count  retweet_count  \n",
       "7                  0         0              0               1              0  \n",
       "26                 0         0              0               0              0  \n",
       "72                 0         0              2               0              1  "
      ]
     },
     "execution_count": 75,
     "metadata": {},
     "output_type": "execute_result"
    }
   ],
   "source": [
    "afriqInfCopy.query('statuses_count < 5')"
   ]
  },
  {
   "cell_type": "markdown",
   "metadata": {},
   "source": [
    "> In our influencers dataset, we have some accounts with tweets less than 5.\n",
    "> Hence they would be dropped"
   ]
  },
  {
   "cell_type": "code",
   "execution_count": 76,
   "metadata": {},
   "outputs": [],
   "source": [
    "inactiveInf = afriqInfCopy.query('statuses_count < 5')"
   ]
  },
  {
   "cell_type": "code",
   "execution_count": 77,
   "metadata": {},
   "outputs": [],
   "source": [
    "afriqInfCopy.drop(inactiveInf.index, axis=0, inplace=True)"
   ]
  },
  {
   "cell_type": "markdown",
   "metadata": {},
   "source": [
    "> Let's confirm they were  dropped"
   ]
  },
  {
   "cell_type": "code",
   "execution_count": 78,
   "metadata": {},
   "outputs": [
    {
     "data": {
      "text/html": [
       "<div>\n",
       "<style scoped>\n",
       "    .dataframe tbody tr th:only-of-type {\n",
       "        vertical-align: middle;\n",
       "    }\n",
       "\n",
       "    .dataframe tbody tr th {\n",
       "        vertical-align: top;\n",
       "    }\n",
       "\n",
       "    .dataframe thead th {\n",
       "        text-align: right;\n",
       "    }\n",
       "</style>\n",
       "<table border=\"1\" class=\"dataframe\">\n",
       "  <thead>\n",
       "    <tr style=\"text-align: right;\">\n",
       "      <th></th>\n",
       "      <th>id</th>\n",
       "      <th>name</th>\n",
       "      <th>screen_name</th>\n",
       "      <th>description</th>\n",
       "      <th>statuses_count</th>\n",
       "      <th>friends_count</th>\n",
       "      <th>followers_count</th>\n",
       "      <th>account_age_days</th>\n",
       "      <th>avg_daily_tweets</th>\n",
       "      <th>hashtags</th>\n",
       "      <th>user_mentions</th>\n",
       "      <th>favorite_count</th>\n",
       "      <th>retweet_count</th>\n",
       "    </tr>\n",
       "  </thead>\n",
       "  <tbody>\n",
       "  </tbody>\n",
       "</table>\n",
       "</div>"
      ],
      "text/plain": [
       "Empty DataFrame\n",
       "Columns: [id, name, screen_name, description, statuses_count, friends_count, followers_count, account_age_days, avg_daily_tweets, hashtags, user_mentions, favorite_count, retweet_count]\n",
       "Index: []"
      ]
     },
     "execution_count": 78,
     "metadata": {},
     "output_type": "execute_result"
    }
   ],
   "source": [
    "afriqInfCopy.query('statuses_count < 5')"
   ]
  },
  {
   "cell_type": "markdown",
   "metadata": {},
   "source": [
    "> THey were dropped"
   ]
  },
  {
   "cell_type": "markdown",
   "metadata": {},
   "source": [
    "> We also have to drop these users in our influencers hashtag table"
   ]
  },
  {
   "cell_type": "code",
   "execution_count": 79,
   "metadata": {},
   "outputs": [
    {
     "data": {
      "text/plain": [
       "['SEO Expert Vancouver', 'T.I.A', 'SmithInAfrica']"
      ]
     },
     "execution_count": 79,
     "metadata": {},
     "output_type": "execute_result"
    }
   ],
   "source": [
    "users_to_drop = inactiveInf.name.to_list()\n",
    "users_to_drop"
   ]
  },
  {
   "cell_type": "code",
   "execution_count": 80,
   "metadata": {},
   "outputs": [
    {
     "data": {
      "text/html": [
       "<div>\n",
       "<style scoped>\n",
       "    .dataframe tbody tr th:only-of-type {\n",
       "        vertical-align: middle;\n",
       "    }\n",
       "\n",
       "    .dataframe tbody tr th {\n",
       "        vertical-align: top;\n",
       "    }\n",
       "\n",
       "    .dataframe thead th {\n",
       "        text-align: right;\n",
       "    }\n",
       "</style>\n",
       "<table border=\"1\" class=\"dataframe\">\n",
       "  <thead>\n",
       "    <tr style=\"text-align: right;\">\n",
       "      <th></th>\n",
       "      <th>hashtags</th>\n",
       "      <th>id</th>\n",
       "      <th>name</th>\n",
       "      <th>screen_name</th>\n",
       "      <th>hashtags_count</th>\n",
       "    </tr>\n",
       "  </thead>\n",
       "  <tbody>\n",
       "  </tbody>\n",
       "</table>\n",
       "</div>"
      ],
      "text/plain": [
       "Empty DataFrame\n",
       "Columns: [hashtags, id, name, screen_name, hashtags_count]\n",
       "Index: []"
      ]
     },
     "execution_count": 80,
     "metadata": {},
     "output_type": "execute_result"
    }
   ],
   "source": [
    "afriqInfHashCopy[afriqInfHashCopy.name.str.contains('SEO Expert Vancouver | T.I.A | SmithInAfrica')]"
   ]
  },
  {
   "cell_type": "code",
   "execution_count": 81,
   "metadata": {},
   "outputs": [],
   "source": [
    "users_to_drop=afriqInfHashCopy[afriqInfHashCopy.name.str.contains('SEO Expert Vancouver | T.I.A | SmithInAfrica')].index"
   ]
  },
  {
   "cell_type": "code",
   "execution_count": 82,
   "metadata": {},
   "outputs": [],
   "source": [
    "afriqInfHashCopy.drop(users_to_drop, axis=0, inplace=True)"
   ]
  },
  {
   "cell_type": "code",
   "execution_count": 83,
   "metadata": {},
   "outputs": [
    {
     "data": {
      "text/html": [
       "<div>\n",
       "<style scoped>\n",
       "    .dataframe tbody tr th:only-of-type {\n",
       "        vertical-align: middle;\n",
       "    }\n",
       "\n",
       "    .dataframe tbody tr th {\n",
       "        vertical-align: top;\n",
       "    }\n",
       "\n",
       "    .dataframe thead th {\n",
       "        text-align: right;\n",
       "    }\n",
       "</style>\n",
       "<table border=\"1\" class=\"dataframe\">\n",
       "  <thead>\n",
       "    <tr style=\"text-align: right;\">\n",
       "      <th></th>\n",
       "      <th>hashtags</th>\n",
       "      <th>id</th>\n",
       "      <th>name</th>\n",
       "      <th>screen_name</th>\n",
       "      <th>hashtags_count</th>\n",
       "    </tr>\n",
       "  </thead>\n",
       "  <tbody>\n",
       "    <tr>\n",
       "      <th>0</th>\n",
       "      <td>2015NepalBlockade</td>\n",
       "      <td>305125998</td>\n",
       "      <td>Jeffrey Gettleman</td>\n",
       "      <td>gettleman</td>\n",
       "      <td>1</td>\n",
       "    </tr>\n",
       "    <tr>\n",
       "      <th>1</th>\n",
       "      <td>6PM</td>\n",
       "      <td>305125998</td>\n",
       "      <td>Jeffrey Gettleman</td>\n",
       "      <td>gettleman</td>\n",
       "      <td>1</td>\n",
       "    </tr>\n",
       "    <tr>\n",
       "      <th>2</th>\n",
       "      <td>ARYNews</td>\n",
       "      <td>305125998</td>\n",
       "      <td>Jeffrey Gettleman</td>\n",
       "      <td>gettleman</td>\n",
       "      <td>1</td>\n",
       "    </tr>\n",
       "    <tr>\n",
       "      <th>3</th>\n",
       "      <td>Abhinandan</td>\n",
       "      <td>305125998</td>\n",
       "      <td>Jeffrey Gettleman</td>\n",
       "      <td>gettleman</td>\n",
       "      <td>1</td>\n",
       "    </tr>\n",
       "    <tr>\n",
       "      <th>4</th>\n",
       "      <td>Adani</td>\n",
       "      <td>305125998</td>\n",
       "      <td>Jeffrey Gettleman</td>\n",
       "      <td>gettleman</td>\n",
       "      <td>1</td>\n",
       "    </tr>\n",
       "    <tr>\n",
       "      <th>...</th>\n",
       "      <td>...</td>\n",
       "      <td>...</td>\n",
       "      <td>...</td>\n",
       "      <td>...</td>\n",
       "      <td>...</td>\n",
       "    </tr>\n",
       "    <tr>\n",
       "      <th>17527</th>\n",
       "      <td>lockdown</td>\n",
       "      <td>267074671</td>\n",
       "      <td>The Star</td>\n",
       "      <td>TheStar_news</td>\n",
       "      <td>9</td>\n",
       "    </tr>\n",
       "    <tr>\n",
       "      <th>17528</th>\n",
       "      <td>makeyourmask</td>\n",
       "      <td>267074671</td>\n",
       "      <td>The Star</td>\n",
       "      <td>TheStar_news</td>\n",
       "      <td>67</td>\n",
       "    </tr>\n",
       "    <tr>\n",
       "      <th>17529</th>\n",
       "      <td>schoolreopening</td>\n",
       "      <td>267074671</td>\n",
       "      <td>The Star</td>\n",
       "      <td>TheStar_news</td>\n",
       "      <td>2</td>\n",
       "    </tr>\n",
       "    <tr>\n",
       "      <th>17530</th>\n",
       "      <td>southafricanlockdown</td>\n",
       "      <td>267074671</td>\n",
       "      <td>The Star</td>\n",
       "      <td>TheStar_news</td>\n",
       "      <td>2</td>\n",
       "    </tr>\n",
       "    <tr>\n",
       "      <th>17531</th>\n",
       "      <td>sponsored</td>\n",
       "      <td>267074671</td>\n",
       "      <td>The Star</td>\n",
       "      <td>TheStar_news</td>\n",
       "      <td>1</td>\n",
       "    </tr>\n",
       "  </tbody>\n",
       "</table>\n",
       "<p>17532 rows × 5 columns</p>\n",
       "</div>"
      ],
      "text/plain": [
       "                   hashtags         id               name   screen_name  \\\n",
       "0         2015NepalBlockade  305125998  Jeffrey Gettleman     gettleman   \n",
       "1                       6PM  305125998  Jeffrey Gettleman     gettleman   \n",
       "2                   ARYNews  305125998  Jeffrey Gettleman     gettleman   \n",
       "3                Abhinandan  305125998  Jeffrey Gettleman     gettleman   \n",
       "4                     Adani  305125998  Jeffrey Gettleman     gettleman   \n",
       "...                     ...        ...                ...           ...   \n",
       "17527              lockdown  267074671           The Star  TheStar_news   \n",
       "17528          makeyourmask  267074671           The Star  TheStar_news   \n",
       "17529       schoolreopening  267074671           The Star  TheStar_news   \n",
       "17530  southafricanlockdown  267074671           The Star  TheStar_news   \n",
       "17531             sponsored  267074671           The Star  TheStar_news   \n",
       "\n",
       "       hashtags_count  \n",
       "0                   1  \n",
       "1                   1  \n",
       "2                   1  \n",
       "3                   1  \n",
       "4                   1  \n",
       "...               ...  \n",
       "17527               9  \n",
       "17528              67  \n",
       "17529               2  \n",
       "17530               2  \n",
       "17531               1  \n",
       "\n",
       "[17532 rows x 5 columns]"
      ]
     },
     "execution_count": 83,
     "metadata": {},
     "output_type": "execute_result"
    }
   ],
   "source": [
    "afriqInfHashCopy"
   ]
  },
  {
   "cell_type": "markdown",
   "metadata": {},
   "source": [
    "#### Measuring Influence across african government handles"
   ]
  },
  {
   "cell_type": "code",
   "execution_count": 84,
   "metadata": {},
   "outputs": [
    {
     "data": {
      "text/html": [
       "<div>\n",
       "<style scoped>\n",
       "    .dataframe tbody tr th:only-of-type {\n",
       "        vertical-align: middle;\n",
       "    }\n",
       "\n",
       "    .dataframe tbody tr th {\n",
       "        vertical-align: top;\n",
       "    }\n",
       "\n",
       "    .dataframe thead th {\n",
       "        text-align: right;\n",
       "    }\n",
       "</style>\n",
       "<table border=\"1\" class=\"dataframe\">\n",
       "  <thead>\n",
       "    <tr style=\"text-align: right;\">\n",
       "      <th></th>\n",
       "      <th>id</th>\n",
       "      <th>name</th>\n",
       "      <th>screen_name</th>\n",
       "      <th>description</th>\n",
       "      <th>statuses_count</th>\n",
       "      <th>friends_count</th>\n",
       "      <th>followers_count</th>\n",
       "      <th>account_age_days</th>\n",
       "      <th>avg_daily_tweets</th>\n",
       "      <th>hashtags</th>\n",
       "      <th>user_mentions</th>\n",
       "      <th>favorite_count</th>\n",
       "      <th>retweet_count</th>\n",
       "    </tr>\n",
       "  </thead>\n",
       "  <tbody>\n",
       "    <tr>\n",
       "      <th>0</th>\n",
       "      <td>1181832897508065280</td>\n",
       "      <td>Eswatini Government</td>\n",
       "      <td>EswatiniGovern1</td>\n",
       "      <td>This is the official twitter account of the Go...</td>\n",
       "      <td>1672</td>\n",
       "      <td>82</td>\n",
       "      <td>11284</td>\n",
       "      <td>282</td>\n",
       "      <td>5</td>\n",
       "      <td>78</td>\n",
       "      <td>13</td>\n",
       "      <td>5600</td>\n",
       "      <td>1655</td>\n",
       "    </tr>\n",
       "    <tr>\n",
       "      <th>1</th>\n",
       "      <td>2189970192</td>\n",
       "      <td>Malawi Government</td>\n",
       "      <td>MalawiGovt</td>\n",
       "      <td>#Malawi Government Twitter Feed | https://t.co...</td>\n",
       "      <td>4030</td>\n",
       "      <td>26</td>\n",
       "      <td>39182</td>\n",
       "      <td>2439</td>\n",
       "      <td>1</td>\n",
       "      <td>85</td>\n",
       "      <td>49</td>\n",
       "      <td>8404</td>\n",
       "      <td>4503</td>\n",
       "    </tr>\n",
       "  </tbody>\n",
       "</table>\n",
       "</div>"
      ],
      "text/plain": [
       "                    id                 name      screen_name  \\\n",
       "0  1181832897508065280  Eswatini Government  EswatiniGovern1   \n",
       "1           2189970192    Malawi Government       MalawiGovt   \n",
       "\n",
       "                                         description  statuses_count  \\\n",
       "0  This is the official twitter account of the Go...            1672   \n",
       "1  #Malawi Government Twitter Feed | https://t.co...            4030   \n",
       "\n",
       "   friends_count  followers_count  account_age_days  avg_daily_tweets  \\\n",
       "0             82            11284               282                 5   \n",
       "1             26            39182              2439                 1   \n",
       "\n",
       "   hashtags  user_mentions  favorite_count  retweet_count  \n",
       "0        78             13            5600           1655  \n",
       "1        85             49            8404           4503  "
      ]
     },
     "execution_count": 84,
     "metadata": {},
     "output_type": "execute_result"
    }
   ],
   "source": [
    "govtResCopy.head(2)"
   ]
  },
  {
   "cell_type": "markdown",
   "metadata": {},
   "source": [
    "#### Popularity Score"
   ]
  },
  {
   "cell_type": "markdown",
   "metadata": {},
   "source": [
    "> To get populairty score, we have to do #retweets + #likes(favorites)"
   ]
  },
  {
   "cell_type": "code",
   "execution_count": 85,
   "metadata": {},
   "outputs": [],
   "source": [
    "govtResCopy['popularity'] = govtResCopy.favorite_count + govtResCopy.retweet_count "
   ]
  },
  {
   "cell_type": "markdown",
   "metadata": {},
   "source": [
    "#### Reach Score"
   ]
  },
  {
   "cell_type": "markdown",
   "metadata": {},
   "source": [
    "> To get reach score, we have to do #followers - #following"
   ]
  },
  {
   "cell_type": "code",
   "execution_count": 86,
   "metadata": {},
   "outputs": [],
   "source": [
    "govtResCopy['reach'] = govtResCopy.followers_count - govtResCopy.friends_count"
   ]
  },
  {
   "cell_type": "markdown",
   "metadata": {},
   "source": [
    "#### Relevance Score "
   ]
  },
  {
   "cell_type": "markdown",
   "metadata": {},
   "source": [
    "> To get relevance score, we have to do #comments (reply counts) + #mentions\n",
    "\n",
    "- `NB:` getting reply counts is limited to premium accounts. \n",
    "\n",
    "- Hence we would be using retweet_count `as proxy`. It suits best for the purpose"
   ]
  },
  {
   "cell_type": "code",
   "execution_count": 87,
   "metadata": {},
   "outputs": [],
   "source": [
    "govtResCopy['relevance'] = govtResCopy.user_mentions + govtResCopy.retweet_count"
   ]
  },
  {
   "cell_type": "markdown",
   "metadata": {},
   "source": [
    "> View the dataset"
   ]
  },
  {
   "cell_type": "code",
   "execution_count": 88,
   "metadata": {},
   "outputs": [
    {
     "data": {
      "text/html": [
       "<div>\n",
       "<style scoped>\n",
       "    .dataframe tbody tr th:only-of-type {\n",
       "        vertical-align: middle;\n",
       "    }\n",
       "\n",
       "    .dataframe tbody tr th {\n",
       "        vertical-align: top;\n",
       "    }\n",
       "\n",
       "    .dataframe thead th {\n",
       "        text-align: right;\n",
       "    }\n",
       "</style>\n",
       "<table border=\"1\" class=\"dataframe\">\n",
       "  <thead>\n",
       "    <tr style=\"text-align: right;\">\n",
       "      <th></th>\n",
       "      <th>id</th>\n",
       "      <th>name</th>\n",
       "      <th>screen_name</th>\n",
       "      <th>description</th>\n",
       "      <th>statuses_count</th>\n",
       "      <th>friends_count</th>\n",
       "      <th>followers_count</th>\n",
       "      <th>account_age_days</th>\n",
       "      <th>avg_daily_tweets</th>\n",
       "      <th>hashtags</th>\n",
       "      <th>user_mentions</th>\n",
       "      <th>favorite_count</th>\n",
       "      <th>retweet_count</th>\n",
       "      <th>popularity</th>\n",
       "      <th>reach</th>\n",
       "      <th>relevance</th>\n",
       "    </tr>\n",
       "  </thead>\n",
       "  <tbody>\n",
       "    <tr>\n",
       "      <th>0</th>\n",
       "      <td>1181832897508065280</td>\n",
       "      <td>Eswatini Government</td>\n",
       "      <td>EswatiniGovern1</td>\n",
       "      <td>This is the official twitter account of the Go...</td>\n",
       "      <td>1672</td>\n",
       "      <td>82</td>\n",
       "      <td>11284</td>\n",
       "      <td>282</td>\n",
       "      <td>5</td>\n",
       "      <td>78</td>\n",
       "      <td>13</td>\n",
       "      <td>5600</td>\n",
       "      <td>1655</td>\n",
       "      <td>7255</td>\n",
       "      <td>11202</td>\n",
       "      <td>1668</td>\n",
       "    </tr>\n",
       "    <tr>\n",
       "      <th>1</th>\n",
       "      <td>2189970192</td>\n",
       "      <td>Malawi Government</td>\n",
       "      <td>MalawiGovt</td>\n",
       "      <td>#Malawi Government Twitter Feed | https://t.co...</td>\n",
       "      <td>4030</td>\n",
       "      <td>26</td>\n",
       "      <td>39182</td>\n",
       "      <td>2439</td>\n",
       "      <td>1</td>\n",
       "      <td>85</td>\n",
       "      <td>49</td>\n",
       "      <td>8404</td>\n",
       "      <td>4503</td>\n",
       "      <td>12907</td>\n",
       "      <td>39156</td>\n",
       "      <td>4552</td>\n",
       "    </tr>\n",
       "  </tbody>\n",
       "</table>\n",
       "</div>"
      ],
      "text/plain": [
       "                    id                 name      screen_name  \\\n",
       "0  1181832897508065280  Eswatini Government  EswatiniGovern1   \n",
       "1           2189970192    Malawi Government       MalawiGovt   \n",
       "\n",
       "                                         description  statuses_count  \\\n",
       "0  This is the official twitter account of the Go...            1672   \n",
       "1  #Malawi Government Twitter Feed | https://t.co...            4030   \n",
       "\n",
       "   friends_count  followers_count  account_age_days  avg_daily_tweets  \\\n",
       "0             82            11284               282                 5   \n",
       "1             26            39182              2439                 1   \n",
       "\n",
       "   hashtags  user_mentions  favorite_count  retweet_count  popularity  reach  \\\n",
       "0        78             13            5600           1655        7255  11202   \n",
       "1        85             49            8404           4503       12907  39156   \n",
       "\n",
       "   relevance  \n",
       "0       1668  \n",
       "1       4552  "
      ]
     },
     "execution_count": 88,
     "metadata": {},
     "output_type": "execute_result"
    }
   ],
   "source": [
    "govtResCopy.head(2)"
   ]
  },
  {
   "cell_type": "markdown",
   "metadata": {},
   "source": [
    " "
   ]
  },
  {
   "cell_type": "markdown",
   "metadata": {},
   "source": [
    "#### Measuring Influence across african influencers handles"
   ]
  },
  {
   "cell_type": "code",
   "execution_count": 89,
   "metadata": {},
   "outputs": [
    {
     "data": {
      "text/html": [
       "<div>\n",
       "<style scoped>\n",
       "    .dataframe tbody tr th:only-of-type {\n",
       "        vertical-align: middle;\n",
       "    }\n",
       "\n",
       "    .dataframe tbody tr th {\n",
       "        vertical-align: top;\n",
       "    }\n",
       "\n",
       "    .dataframe thead th {\n",
       "        text-align: right;\n",
       "    }\n",
       "</style>\n",
       "<table border=\"1\" class=\"dataframe\">\n",
       "  <thead>\n",
       "    <tr style=\"text-align: right;\">\n",
       "      <th></th>\n",
       "      <th>id</th>\n",
       "      <th>name</th>\n",
       "      <th>screen_name</th>\n",
       "      <th>description</th>\n",
       "      <th>statuses_count</th>\n",
       "      <th>friends_count</th>\n",
       "      <th>followers_count</th>\n",
       "      <th>account_age_days</th>\n",
       "      <th>avg_daily_tweets</th>\n",
       "      <th>hashtags</th>\n",
       "      <th>user_mentions</th>\n",
       "      <th>favorite_count</th>\n",
       "      <th>retweet_count</th>\n",
       "    </tr>\n",
       "  </thead>\n",
       "  <tbody>\n",
       "    <tr>\n",
       "      <th>0</th>\n",
       "      <td>305125998</td>\n",
       "      <td>Jeffrey Gettleman</td>\n",
       "      <td>gettleman</td>\n",
       "      <td>South Asia bureau chief for the New York Times...</td>\n",
       "      <td>3770</td>\n",
       "      <td>37</td>\n",
       "      <td>25700</td>\n",
       "      <td>3340</td>\n",
       "      <td>1</td>\n",
       "      <td>5</td>\n",
       "      <td>38</td>\n",
       "      <td>268</td>\n",
       "      <td>111152</td>\n",
       "    </tr>\n",
       "    <tr>\n",
       "      <th>1</th>\n",
       "      <td>26475943</td>\n",
       "      <td>A24 Media</td>\n",
       "      <td>a24media</td>\n",
       "      <td>Africa 24 produces compelling content that mak...</td>\n",
       "      <td>16869</td>\n",
       "      <td>3059</td>\n",
       "      <td>31285</td>\n",
       "      <td>4132</td>\n",
       "      <td>4</td>\n",
       "      <td>32</td>\n",
       "      <td>52</td>\n",
       "      <td>96</td>\n",
       "      <td>190</td>\n",
       "    </tr>\n",
       "  </tbody>\n",
       "</table>\n",
       "</div>"
      ],
      "text/plain": [
       "          id               name screen_name  \\\n",
       "0  305125998  Jeffrey Gettleman   gettleman   \n",
       "1   26475943          A24 Media    a24media   \n",
       "\n",
       "                                         description  statuses_count  \\\n",
       "0  South Asia bureau chief for the New York Times...            3770   \n",
       "1  Africa 24 produces compelling content that mak...           16869   \n",
       "\n",
       "   friends_count  followers_count  account_age_days  avg_daily_tweets  \\\n",
       "0             37            25700              3340                 1   \n",
       "1           3059            31285              4132                 4   \n",
       "\n",
       "   hashtags  user_mentions  favorite_count  retweet_count  \n",
       "0         5             38             268         111152  \n",
       "1        32             52              96            190  "
      ]
     },
     "execution_count": 89,
     "metadata": {},
     "output_type": "execute_result"
    }
   ],
   "source": [
    "afriqInfCopy.head(2)"
   ]
  },
  {
   "cell_type": "markdown",
   "metadata": {},
   "source": [
    "#### Popularity Score "
   ]
  },
  {
   "cell_type": "code",
   "execution_count": 90,
   "metadata": {},
   "outputs": [],
   "source": [
    "afriqInfCopy['popularity'] = afriqInfCopy.favorite_count + afriqInfCopy.retweet_count"
   ]
  },
  {
   "cell_type": "markdown",
   "metadata": {},
   "source": [
    "#### Reach Score "
   ]
  },
  {
   "cell_type": "code",
   "execution_count": 91,
   "metadata": {},
   "outputs": [],
   "source": [
    "afriqInfCopy['reach'] = afriqInfCopy.followers_count - afriqInfCopy.friends_count"
   ]
  },
  {
   "cell_type": "markdown",
   "metadata": {},
   "source": [
    "#### Relevance Score\n",
    "\n",
    "- `NB:` getting reply counts is limited to premium accounts. \n",
    "\n",
    "- Hence we would be using retweet_count `as proxy`. It suits best for the purpose"
   ]
  },
  {
   "cell_type": "code",
   "execution_count": 92,
   "metadata": {},
   "outputs": [],
   "source": [
    "afriqInfCopy['relevance'] = afriqInfCopy.user_mentions + afriqInfCopy.retweet_count"
   ]
  },
  {
   "cell_type": "markdown",
   "metadata": {},
   "source": [
    "> View the dataset"
   ]
  },
  {
   "cell_type": "code",
   "execution_count": 93,
   "metadata": {},
   "outputs": [
    {
     "data": {
      "text/html": [
       "<div>\n",
       "<style scoped>\n",
       "    .dataframe tbody tr th:only-of-type {\n",
       "        vertical-align: middle;\n",
       "    }\n",
       "\n",
       "    .dataframe tbody tr th {\n",
       "        vertical-align: top;\n",
       "    }\n",
       "\n",
       "    .dataframe thead th {\n",
       "        text-align: right;\n",
       "    }\n",
       "</style>\n",
       "<table border=\"1\" class=\"dataframe\">\n",
       "  <thead>\n",
       "    <tr style=\"text-align: right;\">\n",
       "      <th></th>\n",
       "      <th>id</th>\n",
       "      <th>name</th>\n",
       "      <th>screen_name</th>\n",
       "      <th>description</th>\n",
       "      <th>statuses_count</th>\n",
       "      <th>friends_count</th>\n",
       "      <th>followers_count</th>\n",
       "      <th>account_age_days</th>\n",
       "      <th>avg_daily_tweets</th>\n",
       "      <th>hashtags</th>\n",
       "      <th>user_mentions</th>\n",
       "      <th>favorite_count</th>\n",
       "      <th>retweet_count</th>\n",
       "      <th>popularity</th>\n",
       "      <th>reach</th>\n",
       "      <th>relevance</th>\n",
       "    </tr>\n",
       "  </thead>\n",
       "  <tbody>\n",
       "    <tr>\n",
       "      <th>0</th>\n",
       "      <td>305125998</td>\n",
       "      <td>Jeffrey Gettleman</td>\n",
       "      <td>gettleman</td>\n",
       "      <td>South Asia bureau chief for the New York Times...</td>\n",
       "      <td>3770</td>\n",
       "      <td>37</td>\n",
       "      <td>25700</td>\n",
       "      <td>3340</td>\n",
       "      <td>1</td>\n",
       "      <td>5</td>\n",
       "      <td>38</td>\n",
       "      <td>268</td>\n",
       "      <td>111152</td>\n",
       "      <td>111420</td>\n",
       "      <td>25663</td>\n",
       "      <td>111190</td>\n",
       "    </tr>\n",
       "    <tr>\n",
       "      <th>1</th>\n",
       "      <td>26475943</td>\n",
       "      <td>A24 Media</td>\n",
       "      <td>a24media</td>\n",
       "      <td>Africa 24 produces compelling content that mak...</td>\n",
       "      <td>16869</td>\n",
       "      <td>3059</td>\n",
       "      <td>31285</td>\n",
       "      <td>4132</td>\n",
       "      <td>4</td>\n",
       "      <td>32</td>\n",
       "      <td>52</td>\n",
       "      <td>96</td>\n",
       "      <td>190</td>\n",
       "      <td>286</td>\n",
       "      <td>28226</td>\n",
       "      <td>242</td>\n",
       "    </tr>\n",
       "    <tr>\n",
       "      <th>2</th>\n",
       "      <td>72013267</td>\n",
       "      <td>Scapegoat</td>\n",
       "      <td>AndiMakinana</td>\n",
       "      <td>In pursuit of scoops. I do not write headlines...</td>\n",
       "      <td>142223</td>\n",
       "      <td>2839</td>\n",
       "      <td>101246</td>\n",
       "      <td>3967</td>\n",
       "      <td>35</td>\n",
       "      <td>39</td>\n",
       "      <td>626</td>\n",
       "      <td>19466</td>\n",
       "      <td>398095</td>\n",
       "      <td>417561</td>\n",
       "      <td>98407</td>\n",
       "      <td>398721</td>\n",
       "    </tr>\n",
       "  </tbody>\n",
       "</table>\n",
       "</div>"
      ],
      "text/plain": [
       "          id               name   screen_name  \\\n",
       "0  305125998  Jeffrey Gettleman     gettleman   \n",
       "1   26475943          A24 Media      a24media   \n",
       "2   72013267          Scapegoat  AndiMakinana   \n",
       "\n",
       "                                         description  statuses_count  \\\n",
       "0  South Asia bureau chief for the New York Times...            3770   \n",
       "1  Africa 24 produces compelling content that mak...           16869   \n",
       "2  In pursuit of scoops. I do not write headlines...          142223   \n",
       "\n",
       "   friends_count  followers_count  account_age_days  avg_daily_tweets  \\\n",
       "0             37            25700              3340                 1   \n",
       "1           3059            31285              4132                 4   \n",
       "2           2839           101246              3967                35   \n",
       "\n",
       "   hashtags  user_mentions  favorite_count  retweet_count  popularity  reach  \\\n",
       "0         5             38             268         111152      111420  25663   \n",
       "1        32             52              96            190         286  28226   \n",
       "2        39            626           19466         398095      417561  98407   \n",
       "\n",
       "   relevance  \n",
       "0     111190  \n",
       "1        242  \n",
       "2     398721  "
      ]
     },
     "execution_count": 93,
     "metadata": {},
     "output_type": "execute_result"
    }
   ],
   "source": [
    "afriqInfCopy.head(3)"
   ]
  },
  {
   "cell_type": "markdown",
   "metadata": {},
   "source": [
    "> Top Influential African Government \n",
    "\n",
    "> Sort govtResponse by:\n",
    "\n",
    ">> Influential govt by popularity\n",
    "\n",
    ">> Influential govt by reach\n",
    "\n",
    ">> Influential govt by relevance\n",
    "\n",
    "> Rank users : \n",
    ">> so that the rank of 1 in-dicates  the  most  influential  user  and  increasing  rank  indi-cates a less influential user.\n",
    ">> Users with the same influencevalue receive the average of the rank amongst the"
   ]
  },
  {
   "cell_type": "markdown",
   "metadata": {},
   "source": [
    "- Sort Values by each measure of Influence"
   ]
  },
  {
   "cell_type": "code",
   "execution_count": 100,
   "metadata": {},
   "outputs": [],
   "source": [
    "govtPop = govtResCopy.sort_values(by='popularity', axis=0, ascending=False)"
   ]
  },
  {
   "cell_type": "code",
   "execution_count": 103,
   "metadata": {},
   "outputs": [],
   "source": [
    "govtReach = govtResCopy.sort_values(by='reach', axis=0, ascending=False)"
   ]
  },
  {
   "cell_type": "code",
   "execution_count": 104,
   "metadata": {},
   "outputs": [],
   "source": [
    "govtRelevance = govtResCopy.sort_values(by='relevance', axis=0, ascending=False)"
   ]
  },
  {
   "cell_type": "markdown",
   "metadata": {},
   "source": [
    " "
   ]
  },
  {
   "cell_type": "markdown",
   "metadata": {},
   "source": [
    "- Rank users"
   ]
  },
  {
   "cell_type": "markdown",
   "metadata": {},
   "source": [
    ">> Before ranking, let's plot the distribution of each sorted data"
   ]
  },
  {
   "cell_type": "code",
   "execution_count": null,
   "metadata": {},
   "outputs": [],
   "source": []
  },
  {
   "cell_type": "markdown",
   "metadata": {},
   "source": [
    "> Top 10 Influnetial African Personalities/Brands"
   ]
  },
  {
   "cell_type": "code",
   "execution_count": null,
   "metadata": {},
   "outputs": [],
   "source": []
  },
  {
   "cell_type": "code",
   "execution_count": null,
   "metadata": {},
   "outputs": [],
   "source": []
  },
  {
   "cell_type": "code",
   "execution_count": null,
   "metadata": {},
   "outputs": [],
   "source": []
  },
  {
   "cell_type": "markdown",
   "metadata": {},
   "source": [
    "<a id=\"r2\"></a>\n",
    "\n",
    "#### Research Question 2: \n",
    "\n",
    "> '''"
   ]
  },
  {
   "cell_type": "code",
   "execution_count": null,
   "metadata": {},
   "outputs": [],
   "source": []
  },
  {
   "cell_type": "code",
   "execution_count": null,
   "metadata": {},
   "outputs": [],
   "source": []
  },
  {
   "cell_type": "code",
   "execution_count": null,
   "metadata": {},
   "outputs": [],
   "source": []
  },
  {
   "cell_type": "markdown",
   "metadata": {},
   "source": [
    "<a id=\"r3\"></a>\n",
    "\n",
    "\n",
    "#### Research Question 3: \n",
    "> '''"
   ]
  },
  {
   "cell_type": "code",
   "execution_count": null,
   "metadata": {},
   "outputs": [],
   "source": []
  },
  {
   "cell_type": "code",
   "execution_count": null,
   "metadata": {},
   "outputs": [],
   "source": []
  },
  {
   "cell_type": "code",
   "execution_count": null,
   "metadata": {},
   "outputs": [],
   "source": []
  },
  {
   "cell_type": "markdown",
   "metadata": {},
   "source": [
    "<a id=\"gi\"><gi/>\n",
    "\n",
    "### General Insights"
   ]
  },
  {
   "cell_type": "code",
   "execution_count": null,
   "metadata": {},
   "outputs": [],
   "source": []
  },
  {
   "cell_type": "code",
   "execution_count": null,
   "metadata": {},
   "outputs": [],
   "source": []
  },
  {
   "cell_type": "code",
   "execution_count": null,
   "metadata": {},
   "outputs": [],
   "source": []
  },
  {
   "cell_type": "markdown",
   "metadata": {},
   "source": [
    " "
   ]
  },
  {
   "cell_type": "markdown",
   "metadata": {},
   "source": [
    "<a id=\"rc\"><rc/>\n",
    "\n",
    "### Recommendations & Conclusions"
   ]
  },
  {
   "cell_type": "code",
   "execution_count": null,
   "metadata": {},
   "outputs": [],
   "source": []
  },
  {
   "cell_type": "code",
   "execution_count": null,
   "metadata": {},
   "outputs": [],
   "source": []
  },
  {
   "cell_type": "code",
   "execution_count": null,
   "metadata": {},
   "outputs": [],
   "source": []
  },
  {
   "cell_type": "markdown",
   "metadata": {},
   "source": [
    " "
   ]
  },
  {
   "cell_type": "markdown",
   "metadata": {},
   "source": [
    "<a id=\"lim\"><lim/>\n",
    "\n",
    "### Limitations\n"
   ]
  },
  {
   "cell_type": "code",
   "execution_count": null,
   "metadata": {},
   "outputs": [],
   "source": []
  },
  {
   "cell_type": "code",
   "execution_count": null,
   "metadata": {},
   "outputs": [],
   "source": []
  },
  {
   "cell_type": "markdown",
   "metadata": {},
   "source": [
    " "
   ]
  },
  {
   "cell_type": "code",
   "execution_count": null,
   "metadata": {},
   "outputs": [],
   "source": []
  },
  {
   "cell_type": "code",
   "execution_count": null,
   "metadata": {},
   "outputs": [],
   "source": []
  },
  {
   "cell_type": "code",
   "execution_count": null,
   "metadata": {},
   "outputs": [],
   "source": []
  },
  {
   "cell_type": "markdown",
   "metadata": {},
   "source": [
    "<a id=\"ref\"><ref/>\n",
    "### References \n"
   ]
  },
  {
   "cell_type": "code",
   "execution_count": null,
   "metadata": {},
   "outputs": [],
   "source": []
  },
  {
   "cell_type": "markdown",
   "metadata": {},
   "source": [
    "<a href=\"#top\">Back to top</a>"
   ]
  },
  {
   "cell_type": "code",
   "execution_count": null,
   "metadata": {},
   "outputs": [],
   "source": [
    "status = tweet if 'extended_tweet' in status._json: status_json = status._json['extended_tweet']['full_text'] elif 'retweeted_status' in status._json and 'extended_tweet' in status._json['retweeted_status']: status_json = status._json['retweeted_status']['extended_tweet']['full_text'] elif 'retweeted_status' in status._json: status_json = status._json['retweeted_status']['full_text'] else: status_json = status._json['full_text'] print(status_json)'"
   ]
  }
 ],
 "metadata": {
  "kernelspec": {
   "display_name": "Python 3",
   "language": "python",
   "name": "python3"
  },
  "language_info": {
   "codemirror_mode": {
    "name": "ipython",
    "version": 3
   },
   "file_extension": ".py",
   "mimetype": "text/x-python",
   "name": "python",
   "nbconvert_exporter": "python",
   "pygments_lexer": "ipython3",
   "version": "3.6.9"
  }
 },
 "nbformat": 4,
 "nbformat_minor": 4
}
