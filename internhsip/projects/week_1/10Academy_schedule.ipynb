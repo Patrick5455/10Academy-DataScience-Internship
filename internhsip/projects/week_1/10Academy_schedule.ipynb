{
 "cells": [
  {
   "cell_type": "markdown",
   "metadata": {},
   "source": [
    "#### Schedukes"
   ]
  },
  {
   "cell_type": "code",
   "execution_count": 28,
   "metadata": {},
   "outputs": [],
   "source": [
    "import numpy as np\n",
    "import pandas as pd\n",
    "import os\n",
    "import csv"
   ]
  },
  {
   "cell_type": "code",
   "execution_count": 63,
   "metadata": {},
   "outputs": [],
   "source": [
    "def weekly_schedule(names, speaker_no, days=5):\n",
    "    save_here = os.getcwd()\n",
    "    schedule = {}\n",
    "    try:\n",
    "        assert speaker_no <= len(names)\n",
    "    except AssertionError:\n",
    "            print(\"No of speakers  greater than avaialable people!\")\n",
    "    if isinstance(names, list):\n",
    "        names = pd.DataFrame({'names':names})\n",
    "        for day in range(days):\n",
    "            try:\n",
    "                today = names.sample(speaker_no)\n",
    "                names = names.drop(today.index, axis=0)\n",
    "                schedule[f'Day {day}'] = today.values\n",
    "                print('Day {} speakers : {}'.format(day+1, today.values))\n",
    "            except ValueError:\n",
    "                        print(\"No of speakers  greater than avaialable people!\")\n",
    "                        break\n",
    "    schedule= pd.DataFrame(schedule.items(), columns=['day', 'names'])\n",
    "    schedule = schedule.explode('names')\n",
    "    print(schedule)\n",
    "    #download = schedule.to_csv('week_schedule', save_here, encoding='utf-8')\n",
    "    return schedule "
   ]
  },
  {
   "cell_type": "markdown",
   "metadata": {},
   "source": [
    "> Test"
   ]
  },
  {
   "cell_type": "code",
   "execution_count": 64,
   "metadata": {},
   "outputs": [],
   "source": [
    "names = ['adakibet@gmail.com', 'gkkarobia@gmail.com', 'ogunfoworalawal@gmail.com', \n",
    " 'wamuyu.wanjohi@aiesec.net', 'okiomagerald@gmail.com', 'omadeyemo@gmail.com', 'ilekuraidowu@gmail.com', \n",
    " 'gloryodeyemi.nike@gmail.com', 'jayesegun03@gmail.com', 'amureridwan002@gmail.com']"
   ]
  },
  {
   "cell_type": "code",
   "execution_count": 67,
   "metadata": {},
   "outputs": [
    {
     "name": "stdout",
     "output_type": "stream",
     "text": [
      "Day 1 speakers : [['wamuyu.wanjohi@aiesec.net']\n",
      " ['ogunfoworalawal@gmail.com']\n",
      " ['gloryodeyemi.nike@gmail.com']\n",
      " ['adakibet@gmail.com']\n",
      " ['ilekuraidowu@gmail.com']]\n",
      "Day 2 speakers : [['okiomagerald@gmail.com']\n",
      " ['omadeyemo@gmail.com']\n",
      " ['gkkarobia@gmail.com']\n",
      " ['amureridwan002@gmail.com']\n",
      " ['jayesegun03@gmail.com']]\n",
      "No of speakers  greater than avaialable people!\n",
      "     day                          names\n",
      "0  Day 0    [wamuyu.wanjohi@aiesec.net]\n",
      "0  Day 0    [ogunfoworalawal@gmail.com]\n",
      "0  Day 0  [gloryodeyemi.nike@gmail.com]\n",
      "0  Day 0           [adakibet@gmail.com]\n",
      "0  Day 0       [ilekuraidowu@gmail.com]\n",
      "1  Day 1       [okiomagerald@gmail.com]\n",
      "1  Day 1          [omadeyemo@gmail.com]\n",
      "1  Day 1          [gkkarobia@gmail.com]\n",
      "1  Day 1     [amureridwan002@gmail.com]\n",
      "1  Day 1        [jayesegun03@gmail.com]\n"
     ]
    },
    {
     "data": {
      "text/html": [
       "<div>\n",
       "<style scoped>\n",
       "    .dataframe tbody tr th:only-of-type {\n",
       "        vertical-align: middle;\n",
       "    }\n",
       "\n",
       "    .dataframe tbody tr th {\n",
       "        vertical-align: top;\n",
       "    }\n",
       "\n",
       "    .dataframe thead th {\n",
       "        text-align: right;\n",
       "    }\n",
       "</style>\n",
       "<table border=\"1\" class=\"dataframe\">\n",
       "  <thead>\n",
       "    <tr style=\"text-align: right;\">\n",
       "      <th></th>\n",
       "      <th>day</th>\n",
       "      <th>names</th>\n",
       "    </tr>\n",
       "  </thead>\n",
       "  <tbody>\n",
       "    <tr>\n",
       "      <th>0</th>\n",
       "      <td>Day 0</td>\n",
       "      <td>[wamuyu.wanjohi@aiesec.net]</td>\n",
       "    </tr>\n",
       "    <tr>\n",
       "      <th>0</th>\n",
       "      <td>Day 0</td>\n",
       "      <td>[ogunfoworalawal@gmail.com]</td>\n",
       "    </tr>\n",
       "    <tr>\n",
       "      <th>0</th>\n",
       "      <td>Day 0</td>\n",
       "      <td>[gloryodeyemi.nike@gmail.com]</td>\n",
       "    </tr>\n",
       "    <tr>\n",
       "      <th>0</th>\n",
       "      <td>Day 0</td>\n",
       "      <td>[adakibet@gmail.com]</td>\n",
       "    </tr>\n",
       "    <tr>\n",
       "      <th>0</th>\n",
       "      <td>Day 0</td>\n",
       "      <td>[ilekuraidowu@gmail.com]</td>\n",
       "    </tr>\n",
       "    <tr>\n",
       "      <th>1</th>\n",
       "      <td>Day 1</td>\n",
       "      <td>[okiomagerald@gmail.com]</td>\n",
       "    </tr>\n",
       "    <tr>\n",
       "      <th>1</th>\n",
       "      <td>Day 1</td>\n",
       "      <td>[omadeyemo@gmail.com]</td>\n",
       "    </tr>\n",
       "    <tr>\n",
       "      <th>1</th>\n",
       "      <td>Day 1</td>\n",
       "      <td>[gkkarobia@gmail.com]</td>\n",
       "    </tr>\n",
       "    <tr>\n",
       "      <th>1</th>\n",
       "      <td>Day 1</td>\n",
       "      <td>[amureridwan002@gmail.com]</td>\n",
       "    </tr>\n",
       "    <tr>\n",
       "      <th>1</th>\n",
       "      <td>Day 1</td>\n",
       "      <td>[jayesegun03@gmail.com]</td>\n",
       "    </tr>\n",
       "  </tbody>\n",
       "</table>\n",
       "</div>"
      ],
      "text/plain": [
       "     day                          names\n",
       "0  Day 0    [wamuyu.wanjohi@aiesec.net]\n",
       "0  Day 0    [ogunfoworalawal@gmail.com]\n",
       "0  Day 0  [gloryodeyemi.nike@gmail.com]\n",
       "0  Day 0           [adakibet@gmail.com]\n",
       "0  Day 0       [ilekuraidowu@gmail.com]\n",
       "1  Day 1       [okiomagerald@gmail.com]\n",
       "1  Day 1          [omadeyemo@gmail.com]\n",
       "1  Day 1          [gkkarobia@gmail.com]\n",
       "1  Day 1     [amureridwan002@gmail.com]\n",
       "1  Day 1        [jayesegun03@gmail.com]"
      ]
     },
     "execution_count": 67,
     "metadata": {},
     "output_type": "execute_result"
    }
   ],
   "source": [
    "weekly_schedule(names, 5)"
   ]
  },
  {
   "cell_type": "code",
   "execution_count": null,
   "metadata": {},
   "outputs": [],
   "source": []
  },
  {
   "cell_type": "code",
   "execution_count": null,
   "metadata": {},
   "outputs": [],
   "source": []
  }
 ],
 "metadata": {
  "kernelspec": {
   "display_name": "Python 3",
   "language": "python",
   "name": "python3"
  },
  "language_info": {
   "codemirror_mode": {
    "name": "ipython",
    "version": 3
   },
   "file_extension": ".py",
   "mimetype": "text/x-python",
   "name": "python",
   "nbconvert_exporter": "python",
   "pygments_lexer": "ipython3",
   "version": "3.6.9"
  }
 },
 "nbformat": 4,
 "nbformat_minor": 4
}
