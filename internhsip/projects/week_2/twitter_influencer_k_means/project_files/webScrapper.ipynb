{
 "cells": [
  {
   "cell_type": "markdown",
   "metadata": {},
   "source": [
    "##### import libraries"
   ]
  },
  {
   "cell_type": "code",
   "execution_count": 1,
   "metadata": {},
   "outputs": [],
   "source": [
    "from bs4 import BeautifulSoup\n",
    "import pandas as pd\n",
    "from requests import get\n",
    "import csv"
   ]
  },
  {
   "cell_type": "markdown",
   "metadata": {},
   "source": [
    "##### functions for search with with bs4"
   ]
  },
  {
   "cell_type": "code",
   "execution_count": 2,
   "metadata": {},
   "outputs": [],
   "source": [
    "#%%writefile ../pyscrap_url.py\n",
    "\n",
    "def simple_get(url):\n",
    "    \"\"\"\n",
    "    Attempts to get the content at `url` by making an HTTP GET request.\n",
    "    If the content-type of response is some kind of HTML/XML, return the\n",
    "    text content, otherwise return None.\n",
    "    \"\"\"\n",
    "    try:\n",
    "        with closing(get(url, stream=True)) as resp:\n",
    "            if is_good_response(resp):\n",
    "                return resp.content  #.encode(BeautifulSoup.original_encoding)\n",
    "            else:\n",
    "                return None\n",
    "\n",
    "    except RequestException as e:\n",
    "        log_error('Error during requests to {0} : {1}'.format(url, str(e)))\n",
    "        return None\n",
    "\n",
    "\n",
    "def is_good_response(resp):\n",
    "    \"\"\"\n",
    "    Returns True if the response seems to be HTML, False otherwise.\n",
    "    \"\"\"\n",
    "    content_type = resp.headers['Content-Type'].lower()\n",
    "    return (resp.status_code == 200 \n",
    "            and content_type is not None \n",
    "            and content_type.find('html') > -1)\n",
    "\n",
    "\n",
    "def log_error(e):\n",
    "    \"\"\"\n",
    "    It is always a good idea to log errors. \n",
    "    This function just prints them, but you can\n",
    "    make it do anything.\n",
    "    \"\"\"\n",
    "    print(e)\n",
    "    \n",
    "def get_elements(url, tag='',search={}, fname=None):\n",
    "    \"\"\"\n",
    "    Downloads a page specified by the url parameter\n",
    "    and returns a list of strings, one per tag element\n",
    "    \"\"\"\n",
    "    \n",
    "    if isinstance(url,str):\n",
    "        response = simple_get(url)\n",
    "    else:\n",
    "        #if already it is a loaded html page\n",
    "        response = url\n",
    "\n",
    "    if response is not None:\n",
    "        html = BeautifulSoup(response, 'html.parser')\n",
    "        \n",
    "        res = []\n",
    "        if tag:    \n",
    "            for li in html.select(tag):\n",
    "                for name in li.text.split('\\n'):\n",
    "                    if len(name) > 0:\n",
    "                        res.append(name.strip())\n",
    "                       \n",
    "                \n",
    "        if search:\n",
    "            soup = html            \n",
    "            \n",
    "            \n",
    "            r = ''\n",
    "            if 'find' in search.keys():\n",
    "                print('finding',search['find'])\n",
    "                soup = soup.find(**search['find'])\n",
    "                r = soup\n",
    "\n",
    "                \n",
    "            if 'find_all' in search.keys():\n",
    "                print('findaing all of',search['find_all'])\n",
    "                r = soup.find_all(**search['find_all'])\n",
    "   \n",
    "            if r:\n",
    "                for x in list(r):\n",
    "                    if len(x) > 0:\n",
    "                        res.extend(x)\n",
    "            \n",
    "        return res\n",
    "\n",
    "    # Raise an exception if we failed to get any data from the url\n",
    "    raise Exception('Error retrieving contents at {}'.format(url))    \n",
    "    \n",
    "    \n",
    "# if get_ipython().__class__.__name__ == '__main__':\n",
    "#     fire(get_tag_elements)"
   ]
  },
  {
   "cell_type": "markdown",
   "metadata": {},
   "source": [
    "##### function for search with  block for scrapy"
   ]
  },
  {
   "cell_type": "code",
   "execution_count": 7,
   "metadata": {},
   "outputs": [],
   "source": [
    "import logging\n",
    "import re\n",
    "import scrapy"
   ]
  },
  {
   "cell_type": "code",
   "execution_count": 8,
   "metadata": {},
   "outputs": [],
   "source": [
    "import scrapy\n",
    "from scrapy.crawler import CrawlerProcess\n",
    "from scrapy.linkextractors.lxmlhtml import LxmlLinkExtractor\n",
    "from googlesearch import search"
   ]
  },
  {
   "cell_type": "code",
   "execution_count": 84,
   "metadata": {},
   "outputs": [],
   "source": [
    "def get_urls(tags, n, language):\n",
    "    urls = []\n",
    "    for tag in tags:\n",
    "        print('searching google... for '+tag)\n",
    "        tag_url = [url for url in \n",
    "               search(tag+' twitter', stop=n, lang=language, country='Nigeria')][:n]\n",
    "        urls.extend(tag_url)\n",
    "    print('done searching', '\\ncollecting tweets only')\n",
    "    for idx, i in enumerate(urls):\n",
    "        if 'hashtag' in i:\n",
    "            urls.pop(idx)\n",
    "    print('done')\n",
    "    return urls"
   ]
  },
  {
   "cell_type": "markdown",
   "metadata": {},
   "source": [
    "##### Gather Tweet Links (using hashtags & popular figures search) across the following doamins\n",
    "\n",
    "- a. Economy\n",
    "\n",
    "- b. Social values (sport, education, human rights, etc.)\n",
    "\n",
    "- c. Cultural (entertainment, fashion, art, etc)\n",
    "\n",
    "- d. Public health"
   ]
  },
  {
   "cell_type": "markdown",
   "metadata": {},
   "source": [
    "#### _______________________________________________________________________________________________________________________________"
   ]
  },
  {
   "cell_type": "markdown",
   "metadata": {},
   "source": [
    "- Economy hashtags/keyowrds\n",
    "\n",
    "     #CBN"
   ]
  },
  {
   "cell_type": "code",
   "execution_count": 85,
   "metadata": {},
   "outputs": [],
   "source": [
    "economic_tags = ['#CBN', '#nigerianbanks', 'money', 'capital']"
   ]
  },
  {
   "cell_type": "code",
   "execution_count": 86,
   "metadata": {},
   "outputs": [
    {
     "name": "stdout",
     "output_type": "stream",
     "text": [
      "searching google... for #CBN\n",
      "searching google... for #nigerianbanks\n",
      "searching google... for money\n",
      "searching google... for capital\n",
      "done searching \n",
      "collecting tweets only\n",
      "done\n"
     ]
    },
    {
     "data": {
      "text/plain": [
       "['https://twitter.com/cenbank?ref_src=twsrc%5Egoogle%7Ctwcamp%5Eserp%7Ctwgr%5Eauthor',\n",
       " 'https://twitter.com/cenbank/status/1285256112938287104?ref_src=twsrc%5Egoogle%7Ctwcamp%5Eserp%7Ctwgr%5Etweet',\n",
       " 'https://twitter.com/cenbank/status/1285241320139829248?ref_src=twsrc%5Egoogle%7Ctwcamp%5Eserp%7Ctwgr%5Etweet',\n",
       " 'https://twitter.com/cenbank/status/1285237002124890112?ref_src=twsrc%5Egoogle%7Ctwcamp%5Eserp%7Ctwgr%5Etweet',\n",
       " 'https://twitter.com/cenbank/status/1177266807276744720?lang=en',\n",
       " 'https://twitter.com/nigerianbank',\n",
       " 'https://twitter.com/nairametrics/status/1179716119126511616',\n",
       " 'https://twitter.com/TrafficChiefNG/status/1091090035175153664',\n",
       " 'https://twitter.com/cenbank/status/1220391725388259329',\n",
       " 'https://optinmonster.com/make-money-on-twitter/',\n",
       " 'https://twitter.com/money?lang=en',\n",
       " 'https://www.lifehack.org/articles/money/7-creative-and-effective-ways-make-money-twitter.html',\n",
       " 'https://www.lifehack.org/articles/money/7-creative-and-effective-ways-make-money-twitter.html#identifying-all-of-your-debts',\n",
       " 'https://www.lifehack.org/articles/money/7-creative-and-effective-ways-make-money-twitter.html#prioritizing-your-debts',\n",
       " 'https://twitter.com/CapitalOfficial?ref_src=twsrc%5Egoogle%7Ctwcamp%5Eserp%7Ctwgr%5Eauthor',\n",
       " 'https://twitter.com/CapitalOfficial/status/1285960428124868608?ref_src=twsrc%5Egoogle%7Ctwcamp%5Eserp%7Ctwgr%5Etweet',\n",
       " 'https://twitter.com/CapitalOfficial/status/1285954784089067520?ref_src=twsrc%5Egoogle%7Ctwcamp%5Eserp%7Ctwgr%5Etweet',\n",
       " 'https://twitter.com/CapitalOfficial/status/1285947811444527105?ref_src=twsrc%5Egoogle%7Ctwcamp%5Eserp%7Ctwgr%5Etweet',\n",
       " 'https://twitter.com/jerrycap?lang=en']"
      ]
     },
     "execution_count": 86,
     "metadata": {},
     "output_type": "execute_result"
    }
   ],
   "source": [
    "economic = get_urls( economic_tags, 5, 'en')\n",
    "economic"
   ]
  },
  {
   "cell_type": "markdown",
   "metadata": {},
   "source": [
    "- Social values (sport, education, human rights, etc.) hashtags\n",
    "\n",
    "        #FAAN, "
   ]
  },
  {
   "cell_type": "code",
   "execution_count": 40,
   "metadata": {},
   "outputs": [],
   "source": [
    "social_tags = ['#FAAN', '#AuditMoneyTrail', ' #NDDCProbe']"
   ]
  },
  {
   "cell_type": "code",
   "execution_count": 41,
   "metadata": {},
   "outputs": [
    {
     "data": {
      "text/plain": [
       "['https://twitter.com/FAAN_Official?ref_src=twsrc%5Egoogle%7Ctwcamp%5Eserp%7Ctwgr%5Eauthor',\n",
       " 'https://twitter.com/FAAN_Official/status/1285903613198569472?ref_src=twsrc%5Egoogle%7Ctwcamp%5Eserp%7Ctwgr%5Etweet',\n",
       " 'https://twitter.com/FAAN_Official/status/1285539167108321280?ref_src=twsrc%5Egoogle%7Ctwcamp%5Eserp%7Ctwgr%5Etweet',\n",
       " 'https://twitter.com/FAAN_Official/status/1285129614252220418?ref_src=twsrc%5Egoogle%7Ctwcamp%5Eserp%7Ctwgr%5Etweet',\n",
       " 'https://twitter.com/faannig?lang=en',\n",
       " 'https://twitter.com/hashtag/auditmoneytrail',\n",
       " 'https://twitter.com/Connected_dev/status/1267505124181762049',\n",
       " 'https://twitter.com/Magarya/statuses/1276042280240119808',\n",
       " 'https://twitter.com/UzoHans',\n",
       " 'https://twitter.com/Magarya/statuses/1285532536945483776',\n",
       " 'https://twitter.com/hashtag/NDDCProbe?src=hashtag_click',\n",
       " 'https://twitter.com/TosinOlugbenga/status/1285242363884052482',\n",
       " 'https://twitter.com/ayemojubar?lang=en',\n",
       " 'https://twitter.com/ARISEtv/status/1285186570790875138',\n",
       " 'https://twitter.com/apcyouthomoodua/status/1285145971064811525/photo/1']"
      ]
     },
     "execution_count": 41,
     "metadata": {},
     "output_type": "execute_result"
    }
   ],
   "source": [
    "social = get_urls(social_tags, 5, 'en')\n",
    "social"
   ]
  },
  {
   "cell_type": "markdown",
   "metadata": {},
   "source": [
    "- Cultural (entertainment, fashion, art, etc) hashtags\n",
    "\n",
    " #bbnajia2020, #MercyEkeBrands"
   ]
  },
  {
   "cell_type": "code",
   "execution_count": 42,
   "metadata": {},
   "outputs": [],
   "source": [
    "cultural_tags = ['#LayconVerified', '#bbnajia2020', '#MercyEkeBrands']"
   ]
  },
  {
   "cell_type": "code",
   "execution_count": 43,
   "metadata": {},
   "outputs": [
    {
     "data": {
      "text/plain": [
       "['https://twitter.com/Itslaycon/status/1285845805698551809?ref_src=twsrc%5Egoogle%7Ctwcamp%5Eserp%7Ctwgr%5Etweet',\n",
       " 'https://twitter.com/Al_ameen_Yabo/status/1285886012527382529?ref_src=twsrc%5Egoogle%7Ctwcamp%5Eserp%7Ctwgr%5Etweet',\n",
       " 'https://twitter.com/adeyefa_peter/status/1285898200046612482?ref_src=twsrc%5Egoogle%7Ctwcamp%5Eserp%7Ctwgr%5Etweet',\n",
       " 'https://twitter.com/search?q=%23LayconVerified+twitter&ref_src=twsrc%5Egoogle%7Ctwcamp%5Eserp%7Ctwgr%5Esearch',\n",
       " 'https://twitter.com/hashtag/LayconVerified?src=hash',\n",
       " 'https://twitter.com/Official_mohnyc/status/1285970534837166080?ref_src=twsrc%5Egoogle%7Ctwcamp%5Eserp%7Ctwgr%5Etweet',\n",
       " 'https://twitter.com/Al_ameen_Yabo/status/1285886012527382529?ref_src=twsrc%5Egoogle%7Ctwcamp%5Eserp%7Ctwgr%5Etweet',\n",
       " 'https://twitter.com/MRtim__1911/status/1285890988372897792?ref_src=twsrc%5Egoogle%7Ctwcamp%5Eserp%7Ctwgr%5Etweet',\n",
       " 'https://twitter.com/search?q=%23bbnajia2020+twitter&ref_src=twsrc%5Egoogle%7Ctwcamp%5Eserp%7Ctwgr%5Esearch',\n",
       " 'https://twitter.com/nengi_royals',\n",
       " 'https://twitter.com/real_mercyeke?lang=en',\n",
       " 'https://twitter.com/hashtag/MercyEkeBrands?src=hash&ref_src=twsrc%5Etfw',\n",
       " 'https://twitter.com/hashtag/MercyEkeBrands?src=hash',\n",
       " 'https://twitter.com/@Teeloly21',\n",
       " 'https://twitter.com/@SiboM31011110']"
      ]
     },
     "execution_count": 43,
     "metadata": {},
     "output_type": "execute_result"
    }
   ],
   "source": [
    "culture = get_urls( cultural_tags, 5, 'en')\n",
    "culture"
   ]
  },
  {
   "cell_type": "markdown",
   "metadata": {},
   "source": [
    " "
   ]
  },
  {
   "cell_type": "markdown",
   "metadata": {},
   "source": [
    "- Public health hashtags"
   ]
  },
  {
   "cell_type": "code",
   "execution_count": 52,
   "metadata": {},
   "outputs": [],
   "source": [
    "publicHealth_tags = ['#covid19 nigeria ', '#corona nigeria ', '#coronavirus nigeria ', '#healthcare nigeria']"
   ]
  },
  {
   "cell_type": "code",
   "execution_count": 53,
   "metadata": {},
   "outputs": [
    {
     "data": {
      "text/plain": [
       "['https://twitter.com/ncdcgov?lang=en',\n",
       " 'https://twitter.com/digicommsng?lang=en',\n",
       " 'https://twitter.com/hashtag/covid19nigeria?lang=en',\n",
       " 'https://twitter.com/epidalert?lang=en',\n",
       " 'https://twitter.com/ncdcgov/media',\n",
       " 'https://twitter.com/ncdcgov?lang=en',\n",
       " 'https://twitter.com/ukinnigeria?lang=en',\n",
       " 'https://twitter.com/ncdcgov/media',\n",
       " 'https://twitter.com/ncdcgov/status/1245788324415049729?lang=en',\n",
       " 'https://twitter.com/whonigeria?lang=en',\n",
       " 'https://twitter.com/ncdcgov?lang=en',\n",
       " 'https://twitter.com/hashtag/coronavirusnigeria?lang=en',\n",
       " 'https://twitter.com/ncdcgov/media',\n",
       " 'https://twitter.com/chikwe_i?lang=en',\n",
       " 'https://twitter.com/hashtag/coronavirusinnigeria?lang=en',\n",
       " 'https://twitter.com/nighealthwatch?lang=en',\n",
       " 'https://twitter.com/fmohnigeria',\n",
       " 'https://twitter.com/nmanigeria?lang=en',\n",
       " 'https://twitter.com/dreoehanire?lang=en',\n",
       " 'https://twitter.com/lsmoh?lang=en']"
      ]
     },
     "execution_count": 53,
     "metadata": {},
     "output_type": "execute_result"
    }
   ],
   "source": [
    "publicHealth = get_urls(publicHealth_tags, 5, 'en')\n",
    "publicHealth"
   ]
  },
  {
   "cell_type": "code",
   "execution_count": 67,
   "metadata": {},
   "outputs": [],
   "source": [
    "# for idx, i in enumerate(publicHealth):\n",
    "#     print(idx, i)"
   ]
  },
  {
   "cell_type": "code",
   "execution_count": null,
   "metadata": {},
   "outputs": [],
   "source": []
  }
 ],
 "metadata": {
  "kernelspec": {
   "display_name": "twitter_influencer_k_means",
   "language": "python",
   "name": "twitter_influencer_k_means"
  },
  "language_info": {
   "codemirror_mode": {
    "name": "ipython",
    "version": 3
   },
   "file_extension": ".py",
   "mimetype": "text/x-python",
   "name": "python",
   "nbconvert_exporter": "python",
   "pygments_lexer": "ipython3",
   "version": "3.6.9"
  }
 },
 "nbformat": 4,
 "nbformat_minor": 4
}
