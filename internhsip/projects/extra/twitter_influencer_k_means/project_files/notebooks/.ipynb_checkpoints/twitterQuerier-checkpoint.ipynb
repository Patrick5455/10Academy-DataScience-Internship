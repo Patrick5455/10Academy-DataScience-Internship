{
 "cells": [
  {
   "cell_type": "markdown",
   "metadata": {},
   "source": [
    "##### import lIbraries"
   ]
  },
  {
   "cell_type": "code",
   "execution_count": 1,
   "metadata": {},
   "outputs": [
    {
     "name": "stderr",
     "output_type": "stream",
     "text": [
      "/home/patrick/Documents/Semicolon/Projects/10Academy/internhsip/projects/week_2/twitter_influencer_k_means/lib/python3.6/site-packages/requests/__init__.py:80: RequestsDependencyWarning: urllib3 (1.25.10) or chardet (3.0.4) doesn't match a supported version!\n",
      "  RequestsDependencyWarning)\n"
     ]
    },
    {
     "name": "stdout",
     "output_type": "stream",
     "text": [
      "The regime of Covid-19 testing will cost more than $1.5 million a month once cameras start rolling at Pinewood Atla… https://t.co/KT7BRh8pss\n",
      "RT @KoehlerMatthew: 10 out of 10 fire ecologists agree that aggressive #wildfire suppression was/is a mistake, is bad for ecosystems and it…\n",
      "RT @WMO: We've put together a summary of the latest information on #Siberian heat, #wildfires and #Arctic sea ice.\n",
      "Image via @m_parrington…\n"
     ]
    }
   ],
   "source": [
    "import os\n",
    "from tweepy import OAuthHandler as OAuth, API, Cursor\n",
    "import pandas as pd\n",
    "\n",
    "from datetime import datetime, timedelta\n",
    "\n",
    "##### load dotenv to expose api keys to app\n",
    "\n",
    "from dotenv import load_dotenv\n",
    "load_dotenv()\n",
    "\n",
    "##### add api keys as specified in environment variable\n",
    "\n",
    "CONSUMER_KEY = 'API_key'\n",
    "CONSUMER_SECRET = 'API_secret_key'\n",
    "ACCESS_TOKEN = 'Access_token'\n",
    "ACCESS_SECRET = 'Access_token_secret'\n",
    "\n",
    "##### get keys from environment\n",
    "\n",
    "CONSUMER_KEY = os.environ.get(CONSUMER_KEY)\n",
    "CONSUMER_SECRET = os.environ.get(CONSUMER_SECRET)\n",
    "ACCESS_TOKEN = os.environ.get(ACCESS_TOKEN)\n",
    "ACCESS_SECRET = os.environ.get(ACCESS_SECRET)\n",
    "\n",
    "##### set consumer keys\n",
    "\n",
    "auth = OAuth(CONSUMER_KEY, CONSUMER_SECRET)\n",
    "\n",
    "##### set access token\n",
    "\n",
    "auth.set_access_token(ACCESS_TOKEN, ACCESS_SECRET)\n",
    "\n",
    "##### connect to twitter API\n",
    "\n",
    "api = API(auth, wait_on_rate_limit=True)\n",
    "\n",
    "##### test connection\n",
    "\n",
    "public_tweets = api.home_timeline()\n",
    "for tweet in public_tweets:\n",
    "    print(tweet.text) \n",
    "    break\n",
    "\n",
    "search_words = \"#wildfires\"\n",
    "date_since= \"2018-11-16\"  \n",
    "# Collect tweets\n",
    "tweets = Cursor(api.search,\n",
    "              q=search_words,\n",
    "              lang=\"en\", \n",
    "              since=date_since).items(2)\n",
    "# Iterate and print tweets\n",
    "for tweet in tweets:\n",
    "    print(tweet.text)"
   ]
  },
  {
   "cell_type": "markdown",
   "metadata": {},
   "source": [
    "#### get user info\n",
    "\n",
    "get user/ttweets info of list of handles"
   ]
  },
  {
   "cell_type": "code",
   "execution_count": 3,
   "metadata": {},
   "outputs": [],
   "source": [
    "def get_user_tweets_info(handles):\n",
    "    \n",
    "    cols = ['id', 'name', 'screen_name', 'description', \n",
    "            'statuses_count', 'friends_count', 'followers_count',\n",
    "            'account_age_days', 'avg_daily_tweets', 'hashtags',\n",
    "            'user_mentions','favorite_count', 'retweet_count',]\n",
    "    \n",
    "    # dataframe that would be returned at the end\n",
    "    df = pd.DataFrame(columns=cols)\n",
    "    #print(df)\n",
    "    handle_data = []\n",
    "    off_users = []\n",
    "            \n",
    "    if len(handles) > 0:  \n",
    "        for handle in handles:\n",
    "            value_list = []\n",
    "            print(\"Getting data for \" + handle)\n",
    "            # this helps avoid Tweepy errors like suspended users or user not ound errors\n",
    "            try:\n",
    "                item = api.get_user(handle)\n",
    "            except tweepy.TweepError as e:\n",
    "                continue\n",
    "            value_list+= item.id_str, item.name, item.screen_name,\\\n",
    "            item.description, item.statuses_count, item.friends_count, item.followers_count\n",
    "            \n",
    "            #get average daily tweets\n",
    "            \n",
    "            no_tweets = item.statuses_count\n",
    "            #value_list.append(no_tweets)\n",
    "            account_created_date = item.created_at\n",
    "            delta = datetime.utcnow() - account_created_date\n",
    "            account_age_days = delta.days\n",
    "            value_list.append(str(account_age_days))\n",
    "            #print(str(account_age_days))\n",
    "            if account_age_days > 0:\n",
    "                   value_list.append(int(float(no_tweets)/float(account_age_days)))\n",
    "                    \n",
    "            hashtags = []\n",
    "            mentions = []\n",
    "            favorite_count =[]\n",
    "            retweet_count=[] \n",
    "            tweets = [] \n",
    "            tweet_count = 0\n",
    "            end_date = datetime.utcnow() - timedelta(days=30)\n",
    "            \n",
    "\n",
    "            for status in Cursor(api.user_timeline, id=handle,\n",
    "                              #  trim_user=True, exclude_replies=True\n",
    "                        ).items(500):\n",
    "#                 tweets.append(status._json['text'])\n",
    "#                 print(tweets)\n",
    "#                 break\n",
    "                \n",
    "                #tweets.append(status['text'])\n",
    "                tweet_count+= 1\n",
    "                if hasattr(status, \"entities\"):\n",
    "                    entities = status.entities\n",
    "\n",
    "                # get hashtags\n",
    "                if \"hashtags\" in entities:\n",
    "                    for ent in entities[\"hashtags\"]:\n",
    "                        if ent is not None:\n",
    "                            if \"text\" in ent:\n",
    "                                hashtag = ent[\"text\"]\n",
    "                                if hashtag is not None:\n",
    "                                    hashtags.append(hashtag)\n",
    "                # get usermentions\n",
    "                if \"user_mentions\" in entities:\n",
    "                    for ent in entities[\"user_mentions\"]:\n",
    "                        if ent is not None:\n",
    "                            if \"screen_name\" in ent:\n",
    "                                name = ent[\"screen_name\"]\n",
    "                                if name is not None:\n",
    "                                    mentions.append(name)\n",
    "\n",
    "                # get retweets    \n",
    "                if hasattr(status, \"retweet_count\"):\n",
    "                    retweets = status.retweet_count\n",
    "                    if retweets is not None:\n",
    "                        retweet_count.append(retweets)\n",
    "                        \n",
    "                # favorite count     \n",
    "                if hasattr(status, \"favorite_count\"):\n",
    "                    likes = status.favorite_count \n",
    "                    if likes is not None:\n",
    "                        favorite_count.append(likes)\n",
    "                if status.created_at < end_date:\n",
    "                    break\n",
    "                    \n",
    "            \n",
    "            value_list.append(len(hashtags))\n",
    "            value_list.append(len(mentions))\n",
    "            value_list.append(sum(favorite_count))\n",
    "            value_list.append(sum(retweet_count))\n",
    "            handle_data.append(value_list)\n",
    "            \n",
    "            tweet_series = pd.Series(tweets) \n",
    "            df = df.append(pd.DataFrame([value_list], columns=cols))\n",
    "            df=pd.concat([df, pd.DataFrame(tweet_series)], axis=1)\n",
    "            df = df.rename(columns={0:'tweet'})\n",
    "            \n",
    "    return df\n"
   ]
  },
  {
   "cell_type": "code",
   "execution_count": 54,
   "metadata": {},
   "outputs": [
    {
     "name": "stdout",
     "output_type": "stream",
     "text": [
      "Getting data for @patrickojunde\n"
     ]
    },
    {
     "name": "stderr",
     "output_type": "stream",
     "text": [
      "/home/patrick/.local/lib/python3.6/site-packages/ipykernel_launcher.py:97: DeprecationWarning: The default dtype for empty Series will be 'object' instead of 'float64' in a future version. Specify a dtype explicitly to silence this warning.\n"
     ]
    }
   ],
   "source": [
    "#  y  = get_user_tweets_info(['@patrickojunde'])"
   ]
  },
  {
   "cell_type": "code",
   "execution_count": 6,
   "metadata": {},
   "outputs": [],
   "source": [
    "handles = pd.read_csv('allHandles.csv', index_col=0)\n",
    "handles = handles.handles.to_list()"
   ]
  },
  {
   "cell_type": "code",
   "execution_count": null,
   "metadata": {},
   "outputs": [],
   "source": [
    "# run function\n",
    "users_info = get_user_tweets_info(handles[:100])"
   ]
  },
  {
   "cell_type": "code",
   "execution_count": null,
   "metadata": {},
   "outputs": [],
   "source": [
    "# save to file\n",
    "path = os.getcwd()\n",
    "users_info.drop_duplicates().to_csv(os.path.join(path, \"users_info.csv\"))"
   ]
  },
  {
   "cell_type": "code",
   "execution_count": null,
   "metadata": {},
   "outputs": [],
   "source": []
  },
  {
   "cell_type": "markdown",
   "metadata": {},
   "source": [
    "#### get tweets of each user"
   ]
  },
  {
   "cell_type": "code",
   "execution_count": 4,
   "metadata": {},
   "outputs": [],
   "source": [
    "def get_tweets(handles):\n",
    "    cols = ['handle', 'tweet_text', 'tweet_date']\n",
    "    data = []\n",
    "    df = pd.DataFrame(columns=cols)\n",
    "    for user in handles: \n",
    "        user_data = {} \n",
    "        for status in Cursor(api.user_timeline,  screen_name=user, tweet_mode=\"extended\").items(500):\n",
    "            user_data['handle'] = user\n",
    "            user_data['tweet_text'] = status._json['full_text']  \n",
    "            user_data['tweet_date'] = status._json['created_at']\n",
    "            data.append(user_data)\n",
    "            df = df.append(pd.DataFrame(data)) \n",
    "    return df#.reset_index().to_json()"
   ]
  },
  {
   "cell_type": "code",
   "execution_count": 5,
   "metadata": {},
   "outputs": [
    {
     "ename": "NameError",
     "evalue": "name 'handles' is not defined",
     "output_type": "error",
     "traceback": [
      "\u001b[0;31m---------------------------------------------------------------------------\u001b[0m",
      "\u001b[0;31mNameError\u001b[0m                                 Traceback (most recent call last)",
      "\u001b[0;32m<ipython-input-5-508d1983f03f>\u001b[0m in \u001b[0;36m<module>\u001b[0;34m\u001b[0m\n\u001b[1;32m      1\u001b[0m \u001b[0;31m#run funtion\u001b[0m\u001b[0;34m\u001b[0m\u001b[0;34m\u001b[0m\u001b[0;34m\u001b[0m\u001b[0m\n\u001b[0;32m----> 2\u001b[0;31m \u001b[0mtweet_data\u001b[0m \u001b[0;34m=\u001b[0m \u001b[0mget_tweets\u001b[0m\u001b[0;34m(\u001b[0m\u001b[0mhandles\u001b[0m\u001b[0;34m[\u001b[0m\u001b[0;34m:\u001b[0m\u001b[0;36m100\u001b[0m\u001b[0;34m]\u001b[0m\u001b[0;34m)\u001b[0m\u001b[0;34m\u001b[0m\u001b[0;34m\u001b[0m\u001b[0m\n\u001b[0m\u001b[1;32m      3\u001b[0m \u001b[0;31m# save as csv\u001b[0m\u001b[0;34m\u001b[0m\u001b[0;34m\u001b[0m\u001b[0;34m\u001b[0m\u001b[0m\n\u001b[1;32m      4\u001b[0m \u001b[0mpath\u001b[0m \u001b[0;34m=\u001b[0m \u001b[0mos\u001b[0m\u001b[0;34m.\u001b[0m\u001b[0mgetcwd\u001b[0m\u001b[0;34m(\u001b[0m\u001b[0;34m)\u001b[0m\u001b[0;34m\u001b[0m\u001b[0;34m\u001b[0m\u001b[0m\n\u001b[1;32m      5\u001b[0m \u001b[0mtweet_data\u001b[0m\u001b[0;34m.\u001b[0m\u001b[0mdrop_duplicates\u001b[0m\u001b[0;34m(\u001b[0m\u001b[0;34m)\u001b[0m\u001b[0;34m.\u001b[0m\u001b[0mto_csv\u001b[0m\u001b[0;34m(\u001b[0m\u001b[0mos\u001b[0m\u001b[0;34m.\u001b[0m\u001b[0mpath\u001b[0m\u001b[0;34m.\u001b[0m\u001b[0mjoin\u001b[0m\u001b[0;34m(\u001b[0m\u001b[0mpath\u001b[0m\u001b[0;34m,\u001b[0m \u001b[0;34m\"tweet_data.csv\"\u001b[0m\u001b[0;34m)\u001b[0m\u001b[0;34m)\u001b[0m\u001b[0;34m\u001b[0m\u001b[0;34m\u001b[0m\u001b[0m\n",
      "\u001b[0;31mNameError\u001b[0m: name 'handles' is not defined"
     ]
    }
   ],
   "source": [
    "#run funtion\n",
    "tweet_data = get_tweets(handles[:100]) \n",
    "# save as csv\n",
    "path = os.getcwd()\n",
    "tweet_data.drop_duplicates().to_csv(os.path.join(path, \"tweet_data.csv\"))"
   ]
  },
  {
   "cell_type": "code",
   "execution_count": null,
   "metadata": {},
   "outputs": [],
   "source": []
  },
  {
   "cell_type": "code",
   "execution_count": null,
   "metadata": {},
   "outputs": [],
   "source": []
  },
  {
   "cell_type": "code",
   "execution_count": null,
   "metadata": {},
   "outputs": [],
   "source": []
  },
  {
   "cell_type": "code",
   "execution_count": null,
   "metadata": {},
   "outputs": [],
   "source": []
  }
 ],
 "metadata": {
  "kernelspec": {
   "display_name": "twitter_influencer_k_means",
   "language": "python",
   "name": "twitter_influencer_k_means"
  },
  "language_info": {
   "codemirror_mode": {
    "name": "ipython",
    "version": 3
   },
   "file_extension": ".py",
   "mimetype": "text/x-python",
   "name": "python",
   "nbconvert_exporter": "python",
   "pygments_lexer": "ipython3",
   "version": "3.6.9"
  }
 },
 "nbformat": 4,
 "nbformat_minor": 4
}
